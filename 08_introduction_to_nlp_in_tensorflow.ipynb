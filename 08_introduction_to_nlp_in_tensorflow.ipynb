{
 "cells": [
  {
   "cell_type": "markdown",
   "id": "d26b9b2d",
   "metadata": {},
   "source": [
    "# Introduction to NLP Fundamentals in TensorFlow\n",
    "\n",
    "NLP has the goal of deriving informaton out of natural language (could be seqeuences text or speech).\n",
    "\n",
    "Another common term for NLP problems is sequence to sequence problems (seq2seq).\n",
    "\n",
    "> 📖 Resource: See all course materials, resources and extra-curriculum for this notebook on GitHub: https://github.com/mrdbourke/tensorflow-deep-learning/"
   ]
  },
  {
   "cell_type": "code",
   "execution_count": null,
   "id": "6c5c1138",
   "metadata": {},
   "outputs": [],
   "source": []
  }
 ],
 "metadata": {
  "kernelspec": {
   "display_name": "Python 3 (ipykernel)",
   "language": "python",
   "name": "python3"
  },
  "language_info": {
   "codemirror_mode": {
    "name": "ipython",
    "version": 3
   },
   "file_extension": ".py",
   "mimetype": "text/x-python",
   "name": "python",
   "nbconvert_exporter": "python",
   "pygments_lexer": "ipython3",
   "version": "3.8.13"
  }
 },
 "nbformat": 4,
 "nbformat_minor": 5
}

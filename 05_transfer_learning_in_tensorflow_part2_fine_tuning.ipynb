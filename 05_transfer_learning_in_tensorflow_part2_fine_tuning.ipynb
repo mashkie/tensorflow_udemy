{
 "cells": [
  {
   "cell_type": "markdown",
   "id": "db34984a",
   "metadata": {},
   "source": [
    "# Transfer Leraning with TensorFlow Part 2: Fine-tuning\n",
    "\n",
    "In the previous notebook, we covered transfer learning feature extraction, now it's time to learn about a new kind of transfer learning: fine tuning."
   ]
  },
  {
   "cell_type": "code",
   "execution_count": 96,
   "id": "8da83d27",
   "metadata": {},
   "outputs": [
    {
     "name": "stdout",
     "output_type": "stream",
     "text": [
      "Mon Jul 18 11:06:38 2022       \r\n",
      "+-----------------------------------------------------------------------------+\r\n",
      "| NVIDIA-SMI 515.48.07    Driver Version: 515.48.07    CUDA Version: 11.7     |\r\n",
      "|-------------------------------+----------------------+----------------------+\r\n",
      "| GPU  Name        Persistence-M| Bus-Id        Disp.A | Volatile Uncorr. ECC |\r\n",
      "| Fan  Temp  Perf  Pwr:Usage/Cap|         Memory-Usage | GPU-Util  Compute M. |\r\n",
      "|                               |                      |               MIG M. |\r\n",
      "|===============================+======================+======================|\r\n",
      "|   0  NVIDIA GeForce ...  Off  | 00000000:01:00.0  On |                  N/A |\r\n",
      "| 29%   57C    P2    44W / 240W |   7819MiB /  8192MiB |     14%      Default |\r\n",
      "|                               |                      |                  N/A |\r\n",
      "+-------------------------------+----------------------+----------------------+\r\n",
      "                                                                               \r\n",
      "+-----------------------------------------------------------------------------+\r\n",
      "| Processes:                                                                  |\r\n",
      "|  GPU   GI   CI        PID   Type   Process name                  GPU Memory |\r\n",
      "|        ID   ID                                                   Usage      |\r\n",
      "|=============================================================================|\r\n",
      "|    0   N/A  N/A      2680      G   /usr/lib/xorg/Xorg                997MiB |\r\n",
      "|    0   N/A  N/A      2810      G   /usr/bin/gnome-shell              156MiB |\r\n",
      "|    0   N/A  N/A      5411      G   ...in,WebAssemblyTrapHandler      608MiB |\r\n",
      "|    0   N/A  N/A      7299      C   ...conda3/envs/tf/bin/python     5941MiB |\r\n",
      "|    0   N/A  N/A      8356      G   ...AAAAAAAAA= --shared-files       22MiB |\r\n",
      "+-----------------------------------------------------------------------------+\r\n"
     ]
    }
   ],
   "source": [
    "# Check if we're using a GPU\n",
    "!nvidia-smi"
   ]
  },
  {
   "cell_type": "markdown",
   "id": "cb6b9d32",
   "metadata": {},
   "source": [
    "## Creating helper functions\n",
    "\n",
    "In previous notebooks, we've created a bunch of helper functions, new we could rewrite them all, however, this is tedious.\n",
    "\n",
    "So, it's a good idea to put functions you'll want to use again in a script you can download and import into your notebooks (or elsewhere).\n",
    "\n",
    "We've done this for some of the functions we've used previously"
   ]
  },
  {
   "cell_type": "code",
   "execution_count": 2,
   "id": "fe2f056f",
   "metadata": {},
   "outputs": [
    {
     "name": "stdout",
     "output_type": "stream",
     "text": [
      "--2022-07-17 08:33:19--  https://raw.githubusercontent.com/mrdbourke/tensorflow-deep-learning/main/extras/helper_functions.py\n",
      "Resolving raw.githubusercontent.com (raw.githubusercontent.com)... 185.199.110.133, 185.199.108.133, 185.199.109.133, ...\n",
      "Connecting to raw.githubusercontent.com (raw.githubusercontent.com)|185.199.110.133|:443... connected.\n",
      "HTTP request sent, awaiting response... 200 OK\n",
      "Length: 10246 (10K) [text/plain]\n",
      "Saving to: ‘helper_functions.py.1’\n",
      "\n",
      "helper_functions.py 100%[===================>]  10.01K  --.-KB/s    in 0s      \n",
      "\n",
      "2022-07-17 08:33:19 (24.6 MB/s) - ‘helper_functions.py.1’ saved [10246/10246]\n",
      "\n"
     ]
    }
   ],
   "source": [
    "!wget https://raw.githubusercontent.com/mrdbourke/tensorflow-deep-learning/main/extras/helper_functions.py"
   ]
  },
  {
   "cell_type": "code",
   "execution_count": 97,
   "id": "cc451ad5",
   "metadata": {},
   "outputs": [],
   "source": [
    "# Import helper funcitons we're going to use in this notebook\n",
    "from helper_functions import create_tensorboard_callback, plot_loss_curves, unzip_data, walk_through_dir"
   ]
  },
  {
   "cell_type": "markdown",
   "id": "0290d6e6",
   "metadata": {},
   "source": [
    "> **Note:** If you're running this notebook in google colab, when it times out Colab will delte `helper_funcitons.py`, so you'll have to redownload it if you want access to your helper functions "
   ]
  },
  {
   "cell_type": "markdown",
   "id": "271b3844",
   "metadata": {},
   "source": [
    "## Let's et some data\n",
    "\n",
    "This time we're going to see how we can use the pretrained models within `tf.keras.applications` and apply them to our own problems (recognizing imagead of food)."
   ]
  },
  {
   "cell_type": "code",
   "execution_count": 98,
   "id": "46a90649",
   "metadata": {},
   "outputs": [],
   "source": [
    "# Get 10% of training data of 10 classes of Food101\n",
    "#!wget https://storage.googleapis.com/ztm_tf_course/food_vision/10_food_classes_10_percent.zip\n",
    "#unzip_data(\"10_food_classes_10_precent.zip\")"
   ]
  },
  {
   "cell_type": "code",
   "execution_count": 99,
   "id": "5ca37ec1",
   "metadata": {},
   "outputs": [
    {
     "name": "stdout",
     "output_type": "stream",
     "text": [
      "There are 2 directories and 0 images in 'data/10_food_classes_10_percent'.\n",
      "There are 10 directories and 0 images in 'data/10_food_classes_10_percent/test'.\n",
      "There are 0 directories and 250 images in 'data/10_food_classes_10_percent/test/hamburger'.\n",
      "There are 0 directories and 250 images in 'data/10_food_classes_10_percent/test/chicken_wings'.\n",
      "There are 0 directories and 250 images in 'data/10_food_classes_10_percent/test/fried_rice'.\n",
      "There are 0 directories and 250 images in 'data/10_food_classes_10_percent/test/sushi'.\n",
      "There are 0 directories and 250 images in 'data/10_food_classes_10_percent/test/grilled_salmon'.\n",
      "There are 0 directories and 250 images in 'data/10_food_classes_10_percent/test/pizza'.\n",
      "There are 0 directories and 250 images in 'data/10_food_classes_10_percent/test/ice_cream'.\n",
      "There are 0 directories and 250 images in 'data/10_food_classes_10_percent/test/steak'.\n",
      "There are 0 directories and 250 images in 'data/10_food_classes_10_percent/test/ramen'.\n",
      "There are 0 directories and 250 images in 'data/10_food_classes_10_percent/test/chicken_curry'.\n",
      "There are 10 directories and 0 images in 'data/10_food_classes_10_percent/train'.\n",
      "There are 0 directories and 75 images in 'data/10_food_classes_10_percent/train/hamburger'.\n",
      "There are 0 directories and 75 images in 'data/10_food_classes_10_percent/train/chicken_wings'.\n",
      "There are 0 directories and 75 images in 'data/10_food_classes_10_percent/train/fried_rice'.\n",
      "There are 0 directories and 75 images in 'data/10_food_classes_10_percent/train/sushi'.\n",
      "There are 0 directories and 75 images in 'data/10_food_classes_10_percent/train/grilled_salmon'.\n",
      "There are 0 directories and 75 images in 'data/10_food_classes_10_percent/train/pizza'.\n",
      "There are 0 directories and 75 images in 'data/10_food_classes_10_percent/train/ice_cream'.\n",
      "There are 0 directories and 75 images in 'data/10_food_classes_10_percent/train/steak'.\n",
      "There are 0 directories and 75 images in 'data/10_food_classes_10_percent/train/ramen'.\n",
      "There are 0 directories and 75 images in 'data/10_food_classes_10_percent/train/chicken_curry'.\n"
     ]
    }
   ],
   "source": [
    "# Check out how many images and subdirectories are in our dataset\n",
    "walk_through_dir(\"data/10_food_classes_10_percent\")"
   ]
  },
  {
   "cell_type": "code",
   "execution_count": 100,
   "id": "d4a1ba4e",
   "metadata": {},
   "outputs": [],
   "source": [
    "# Create training and test directory paths\n",
    "train_dir = \"data/10_food_classes_10_percent/train/\"\n",
    "test_dir = \"data/10_food_classes_10_percent/test\""
   ]
  },
  {
   "cell_type": "code",
   "execution_count": 101,
   "id": "44ae97bd",
   "metadata": {},
   "outputs": [
    {
     "name": "stdout",
     "output_type": "stream",
     "text": [
      "Found 750 files belonging to 10 classes.\n",
      "Found 2500 files belonging to 10 classes.\n"
     ]
    }
   ],
   "source": [
    "import tensorflow as tf\n",
    "IMG_SIZE = (224,224)\n",
    "BATCH_SIZE = 32\n",
    "train_data_10_percent = tf.keras.preprocessing.image_dataset_from_directory(directory=train_dir,\n",
    "                                                                            image_size=IMG_SIZE,\n",
    "                                                                            label_mode=\"categorical\",\n",
    "                                                                            batch_size=BATCH_SIZE)\n",
    "\n",
    "test_data = tf.keras.preprocessing.image_dataset_from_directory(directory=test_dir,\n",
    "                                                                image_size=IMG_SIZE,\n",
    "                                                                label_mode=\"categorical\",\n",
    "                                                                batch_size=BATCH_SIZE)"
   ]
  },
  {
   "cell_type": "code",
   "execution_count": 102,
   "id": "0b9e0571",
   "metadata": {},
   "outputs": [
    {
     "data": {
      "text/plain": [
       "<BatchDataset element_spec=(TensorSpec(shape=(None, 224, 224, 3), dtype=tf.float32, name=None), TensorSpec(shape=(None, 10), dtype=tf.float32, name=None))>"
      ]
     },
     "execution_count": 102,
     "metadata": {},
     "output_type": "execute_result"
    }
   ],
   "source": [
    "train_data_10_percent"
   ]
  },
  {
   "cell_type": "code",
   "execution_count": 103,
   "id": "1aae5f89",
   "metadata": {},
   "outputs": [
    {
     "data": {
      "text/plain": [
       "['chicken_curry',\n",
       " 'chicken_wings',\n",
       " 'fried_rice',\n",
       " 'grilled_salmon',\n",
       " 'hamburger',\n",
       " 'ice_cream',\n",
       " 'pizza',\n",
       " 'ramen',\n",
       " 'steak',\n",
       " 'sushi']"
      ]
     },
     "execution_count": 103,
     "metadata": {},
     "output_type": "execute_result"
    }
   ],
   "source": [
    "# Check out the class names of our dataset\n",
    "train_data_10_percent.class_names"
   ]
  },
  {
   "cell_type": "code",
   "execution_count": 104,
   "id": "c638d332",
   "metadata": {},
   "outputs": [
    {
     "name": "stdout",
     "output_type": "stream",
     "text": [
      "tf.Tensor(\n",
      "[[[[2.38000000e+02 2.41000000e+02 2.46000000e+02]\n",
      "   [2.38000000e+02 2.41000000e+02 2.46000000e+02]\n",
      "   [2.38000000e+02 2.41000000e+02 2.46000000e+02]\n",
      "   ...\n",
      "   [2.33000000e+02 2.36000000e+02 2.41000000e+02]\n",
      "   [2.33000000e+02 2.36000000e+02 2.41000000e+02]\n",
      "   [2.33000000e+02 2.36000000e+02 2.41000000e+02]]\n",
      "\n",
      "  [[2.38000000e+02 2.41000000e+02 2.46000000e+02]\n",
      "   [2.38000000e+02 2.41000000e+02 2.46000000e+02]\n",
      "   [2.38000000e+02 2.41000000e+02 2.46000000e+02]\n",
      "   ...\n",
      "   [2.33000000e+02 2.36000000e+02 2.41000000e+02]\n",
      "   [2.33000000e+02 2.36000000e+02 2.41000000e+02]\n",
      "   [2.33000000e+02 2.36000000e+02 2.41000000e+02]]\n",
      "\n",
      "  [[2.38000000e+02 2.41000000e+02 2.46000000e+02]\n",
      "   [2.38000000e+02 2.41000000e+02 2.46000000e+02]\n",
      "   [2.38000000e+02 2.41000000e+02 2.46000000e+02]\n",
      "   ...\n",
      "   [2.33000000e+02 2.36000000e+02 2.41000000e+02]\n",
      "   [2.33000000e+02 2.36000000e+02 2.41000000e+02]\n",
      "   [2.33000000e+02 2.36000000e+02 2.41000000e+02]]\n",
      "\n",
      "  ...\n",
      "\n",
      "  [[2.30000000e+02 2.33000000e+02 2.38000000e+02]\n",
      "   [2.30000000e+02 2.33000000e+02 2.38000000e+02]\n",
      "   [2.30000000e+02 2.33000000e+02 2.38000000e+02]\n",
      "   ...\n",
      "   [2.34785736e+02 2.34785736e+02 2.36785736e+02]\n",
      "   [2.35000000e+02 2.35000000e+02 2.37000000e+02]\n",
      "   [2.34000000e+02 2.34000000e+02 2.36000000e+02]]\n",
      "\n",
      "  [[2.30000000e+02 2.33000000e+02 2.38000000e+02]\n",
      "   [2.30000000e+02 2.33000000e+02 2.38000000e+02]\n",
      "   [2.30000000e+02 2.33000000e+02 2.38000000e+02]\n",
      "   ...\n",
      "   [2.34785736e+02 2.34785736e+02 2.36785736e+02]\n",
      "   [2.35000000e+02 2.35000000e+02 2.37000000e+02]\n",
      "   [2.34000000e+02 2.34000000e+02 2.36000000e+02]]\n",
      "\n",
      "  [[2.29261139e+02 2.32261139e+02 2.37261139e+02]\n",
      "   [2.29261139e+02 2.32261139e+02 2.37261139e+02]\n",
      "   [2.29261139e+02 2.32261139e+02 2.37261139e+02]\n",
      "   ...\n",
      "   [2.34785736e+02 2.34785736e+02 2.36785736e+02]\n",
      "   [2.35000000e+02 2.35000000e+02 2.37000000e+02]\n",
      "   [2.34000000e+02 2.34000000e+02 2.36000000e+02]]]\n",
      "\n",
      "\n",
      " [[[6.57602005e+01 5.57602005e+01 2.87602043e+01]\n",
      "   [8.52857132e+01 7.82857132e+01 5.02857170e+01]\n",
      "   [8.19132690e+01 7.49132690e+01 4.89132690e+01]\n",
      "   ...\n",
      "   [9.99028397e+01 9.03313675e+01 8.01171036e+01]\n",
      "   [9.37600861e+01 8.37600861e+01 7.37600861e+01]\n",
      "   [1.20475220e+02 1.10475220e+02 1.00475220e+02]]\n",
      "\n",
      "  [[9.13010254e+01 8.13010254e+01 5.63010254e+01]\n",
      "   [6.00561180e+01 5.21938705e+01 2.87806091e+01]\n",
      "   [6.79234619e+01 5.99234657e+01 3.69234657e+01]\n",
      "   ...\n",
      "   [1.05755661e+02 9.61841888e+01 8.59699249e+01]\n",
      "   [1.19637360e+02 1.09637360e+02 9.96373596e+01]\n",
      "   [7.01074982e+01 6.01074982e+01 5.01074982e+01]]\n",
      "\n",
      "  [[7.23673477e+01 6.13673515e+01 3.97959213e+01]\n",
      "   [7.42397995e+01 6.62397995e+01 4.56683693e+01]\n",
      "   [9.26581573e+01 8.46581573e+01 6.40867310e+01]\n",
      "   ...\n",
      "   [8.04127197e+01 7.08412476e+01 5.86269798e+01]\n",
      "   [1.09648300e+02 9.96483002e+01 8.76483002e+01]\n",
      "   [1.29877411e+02 1.19877403e+02 1.07877403e+02]]\n",
      "\n",
      "  ...\n",
      "\n",
      "  [[1.14500389e+02 8.05003891e+01 6.86534348e+01]\n",
      "   [1.05520988e+02 7.25056839e+01 5.60923691e+01]\n",
      "   [1.17097710e+02 8.48834457e+01 6.43119736e+01]\n",
      "   ...\n",
      "   [3.27144165e+01 7.14294434e+00 6.35720825e+00]\n",
      "   [3.82296333e+01 1.34438963e+01 9.87242413e+00]\n",
      "   [3.78622971e+01 1.12858276e+01 8.35717773e+00]]\n",
      "\n",
      "  [[1.10448807e+02 7.44488068e+01 6.03569603e+01]\n",
      "   [1.08556023e+02 7.34897003e+01 5.46223412e+01]\n",
      "   [1.10959106e+02 7.62295303e+01 5.33876534e+01]\n",
      "   ...\n",
      "   [4.05000916e+01 1.31428833e+01 8.92861938e+00]\n",
      "   [4.17856750e+01 1.27856750e+01 8.51011658e+00]\n",
      "   [3.97398720e+01 1.07398729e+01 5.93366861e+00]]\n",
      "\n",
      "  [[1.08428185e+02 7.14281845e+01 5.49689598e+01]\n",
      "   [1.04571075e+02 6.79027405e+01 4.79791794e+01]\n",
      "   [1.01811089e+02 6.58110886e+01 4.08212357e+01]\n",
      "   ...\n",
      "   [4.12856750e+01 1.24999390e+01 6.92846680e+00]\n",
      "   [4.00968361e+01 1.10968370e+01 4.29063320e+00]\n",
      "   [4.18419304e+01 1.18419313e+01 3.84193134e+00]]]\n",
      "\n",
      "\n",
      " [[[7.90000000e+01 3.50000000e+01 1.00000000e+01]\n",
      "   [7.70000000e+01 3.60000000e+01 8.00000000e+00]\n",
      "   [7.70000000e+01 3.60000000e+01 5.01020384e+00]\n",
      "   ...\n",
      "   [5.00000000e+00 0.00000000e+00 0.00000000e+00]\n",
      "   [5.00000000e+00 0.00000000e+00 0.00000000e+00]\n",
      "   [5.00000000e+00 0.00000000e+00 0.00000000e+00]]\n",
      "\n",
      "  [[7.70000000e+01 3.50459175e+01 9.90816307e+00]\n",
      "   [7.70000000e+01 3.60000000e+01 7.86734676e+00]\n",
      "   [7.70714264e+01 3.60867348e+01 4.04081631e+00]\n",
      "   ...\n",
      "   [5.00000000e+00 0.00000000e+00 0.00000000e+00]\n",
      "   [5.00000000e+00 0.00000000e+00 0.00000000e+00]\n",
      "   [5.00000000e+00 0.00000000e+00 0.00000000e+00]]\n",
      "\n",
      "  [[7.62142868e+01 3.67091827e+01 8.15306091e+00]\n",
      "   [7.69438782e+01 3.75153084e+01 6.87244844e+00]\n",
      "   [7.83367386e+01 3.70459175e+01 4.57142830e+00]\n",
      "   ...\n",
      "   [5.00000000e+00 0.00000000e+00 0.00000000e+00]\n",
      "   [5.00000000e+00 0.00000000e+00 0.00000000e+00]\n",
      "   [5.00000000e+00 0.00000000e+00 0.00000000e+00]]\n",
      "\n",
      "  ...\n",
      "\n",
      "  [[2.24000000e+02 1.66000000e+02 6.60000000e+01]\n",
      "   [2.23000000e+02 1.68000000e+02 6.70000000e+01]\n",
      "   [2.25214279e+02 1.70214279e+02 6.92142868e+01]\n",
      "   ...\n",
      "   [2.19739822e+02 1.71382614e+02 7.81683502e+01]\n",
      "   [2.18714264e+02 1.69714264e+02 7.67142639e+01]\n",
      "   [2.17923462e+02 1.66923462e+02 7.49234619e+01]]\n",
      "\n",
      "  [[2.24000000e+02 1.66000000e+02 6.60000000e+01]\n",
      "   [2.23000000e+02 1.68000000e+02 6.70000000e+01]\n",
      "   [2.25214279e+02 1.70214279e+02 6.92142868e+01]\n",
      "   ...\n",
      "   [2.18841843e+02 1.70484634e+02 7.72703705e+01]\n",
      "   [2.17928558e+02 1.68928558e+02 7.59285583e+01]\n",
      "   [2.17045898e+02 1.66045898e+02 7.40459061e+01]]\n",
      "\n",
      "  [[2.24000000e+02 1.66000000e+02 6.60000000e+01]\n",
      "   [2.23000000e+02 1.68000000e+02 6.70000000e+01]\n",
      "   [2.25214279e+02 1.70214279e+02 6.92142868e+01]\n",
      "   ...\n",
      "   [2.18571472e+02 1.70214264e+02 7.70000000e+01]\n",
      "   [2.16928558e+02 1.67928558e+02 7.49285583e+01]\n",
      "   [2.16642822e+02 1.65642822e+02 7.36428223e+01]]]\n",
      "\n",
      "\n",
      " ...\n",
      "\n",
      "\n",
      " [[[2.54000000e+02 2.55000000e+02 2.47000000e+02]\n",
      "   [2.54000000e+02 2.55000000e+02 2.47000000e+02]\n",
      "   [2.54000000e+02 2.55000000e+02 2.47000000e+02]\n",
      "   ...\n",
      "   [1.29994049e+02 1.08565529e+02 1.25351265e+02]\n",
      "   [8.93520279e+01 6.91581650e+01 8.85612335e+01]\n",
      "   [9.18929443e+01 7.40664597e+01 9.34796982e+01]]\n",
      "\n",
      "  [[2.54000000e+02 2.55000000e+02 2.47000000e+02]\n",
      "   [2.54000000e+02 2.55000000e+02 2.47000000e+02]\n",
      "   [2.54000000e+02 2.55000000e+02 2.47000000e+02]\n",
      "   ...\n",
      "   [1.60672684e+02 1.37871643e+02 1.53387009e+02]\n",
      "   [9.97906189e+01 7.70763626e+01 9.69385910e+01]\n",
      "   [9.32197113e+01 7.30258942e+01 9.20973206e+01]]\n",
      "\n",
      "  [[2.54000000e+02 2.55000000e+02 2.47000000e+02]\n",
      "   [2.54000000e+02 2.55000000e+02 2.47000000e+02]\n",
      "   [2.54000000e+02 2.55000000e+02 2.47000000e+02]\n",
      "   ...\n",
      "   [1.96029953e+02 1.71601379e+02 1.85218750e+02]\n",
      "   [1.12632362e+02 8.80915680e+01 1.03861969e+02]\n",
      "   [8.71530762e+01 6.46531448e+01 8.11530380e+01]]\n",
      "\n",
      "  ...\n",
      "\n",
      "  [[2.44775467e+02 2.19066254e+02 1.22137741e+02]\n",
      "   [2.50388031e+02 2.19148285e+02 1.25633026e+02]\n",
      "   [2.38290573e+02 2.04341660e+02 1.11770256e+02]\n",
      "   ...\n",
      "   [2.37122452e+02 1.76974594e+02 1.62928680e+02]\n",
      "   [2.32556107e+02 1.72173492e+02 1.60729660e+02]\n",
      "   [2.39275650e+02 1.80051208e+02 1.68127777e+02]]\n",
      "\n",
      "  [[2.45163239e+02 2.14357086e+02 1.27045929e+02]\n",
      "   [2.40249863e+02 2.13096802e+02 1.24459106e+02]\n",
      "   [2.45724579e+02 2.22653198e+02 1.32653244e+02]\n",
      "   ...\n",
      "   [2.36510117e+02 1.76112213e+02 1.65897949e+02]\n",
      "   [2.37362305e+02 1.79290863e+02 1.68505188e+02]\n",
      "   [2.36545898e+02 1.77877548e+02 1.68882568e+02]]\n",
      "\n",
      "  [[2.35520401e+02 2.01448975e+02 1.23520470e+02]\n",
      "   [2.40474777e+02 2.13163544e+02 1.32974838e+02]\n",
      "   [2.53438858e+02 2.37433884e+02 1.53857422e+02]\n",
      "   ...\n",
      "   [2.40510422e+02 1.80791061e+02 1.72362534e+02]\n",
      "   [2.42091843e+02 1.83091843e+02 1.77091843e+02]\n",
      "   [2.43255157e+02 1.86255157e+02 1.79255157e+02]]]\n",
      "\n",
      "\n",
      " [[[1.26428566e+01 1.36428576e+01 7.64285707e+00]\n",
      "   [1.74795914e+01 1.78367348e+01 1.05510216e+01]\n",
      "   [2.53418388e+01 2.46989803e+01 1.64846954e+01]\n",
      "   ...\n",
      "   [1.57857361e+01 1.57857361e+01 1.57857361e+01]\n",
      "   [1.60000000e+01 1.60000000e+01 1.60000000e+01]\n",
      "   [1.50000000e+01 1.50000000e+01 1.50000000e+01]]\n",
      "\n",
      "  [[2.52857151e+01 2.62142868e+01 2.14285717e+01]\n",
      "   [3.24846916e+01 3.34846916e+01 2.75561237e+01]\n",
      "   [4.30867348e+01 4.31428604e+01 3.48265305e+01]\n",
      "   ...\n",
      "   [1.60000000e+01 1.60000000e+01 1.60000000e+01]\n",
      "   [1.60663261e+01 1.60663261e+01 1.60663261e+01]\n",
      "   [1.56683350e+01 1.56683350e+01 1.56683350e+01]]\n",
      "\n",
      "  [[8.56632805e+00 8.56632805e+00 6.56632805e+00]\n",
      "   [1.68979626e+01 1.71122475e+01 1.44693909e+01]\n",
      "   [2.70663280e+01 2.80204105e+01 2.21173496e+01]\n",
      "   ...\n",
      "   [1.66173630e+01 1.66173630e+01 1.66173630e+01]\n",
      "   [1.69846916e+01 1.69846916e+01 1.69846916e+01]\n",
      "   [1.60000000e+01 1.60000000e+01 1.60000000e+01]]\n",
      "\n",
      "  ...\n",
      "\n",
      "  [[1.23642860e+02 1.23642860e+02 1.23642860e+02]\n",
      "   [1.24928574e+02 1.24928574e+02 1.24928574e+02]\n",
      "   [1.26000000e+02 1.26000000e+02 1.26000000e+02]\n",
      "   ...\n",
      "   [1.01831619e+02 1.01831619e+02 1.01831619e+02]\n",
      "   [1.00714264e+02 1.00714264e+02 1.00714264e+02]\n",
      "   [9.95050659e+01 9.95050659e+01 9.95050659e+01]]\n",
      "\n",
      "  [[1.23045906e+02 1.23045906e+02 1.23045906e+02]\n",
      "   [1.24066307e+02 1.24066307e+02 1.24066307e+02]\n",
      "   [1.25270393e+02 1.25270393e+02 1.25270393e+02]\n",
      "   ...\n",
      "   [1.01015305e+02 1.01015305e+02 1.01015305e+02]\n",
      "   [9.99285583e+01 9.99285583e+01 9.99285583e+01]\n",
      "   [9.86683273e+01 9.86683273e+01 9.86683273e+01]]\n",
      "\n",
      "  [[1.21357147e+02 1.21357147e+02 1.21357147e+02]\n",
      "   [1.22311234e+02 1.22311234e+02 1.22311234e+02]\n",
      "   [1.23571434e+02 1.23571434e+02 1.23571434e+02]\n",
      "   ...\n",
      "   [1.00214264e+02 1.00214264e+02 1.00214264e+02]\n",
      "   [9.89540710e+01 9.89540710e+01 9.89540710e+01]\n",
      "   [9.80000000e+01 9.80000000e+01 9.80000000e+01]]]\n",
      "\n",
      "\n",
      " [[[2.57040825e+01 1.65306151e+00 5.83163261e+00]\n",
      "   [5.64540901e+01 2.32806206e+01 1.01479626e+01]\n",
      "   [1.18698982e+02 7.60714264e+01 2.13571415e+01]\n",
      "   ...\n",
      "   [7.92551270e+01 1.08265991e+01 8.04086304e+00]\n",
      "   [8.74133759e+01 2.24133778e+01 1.84133778e+01]\n",
      "   [1.08219635e+02 4.32196350e+01 3.92196350e+01]]\n",
      "\n",
      "  [[4.35663300e+01 1.24030657e+01 0.00000000e+00]\n",
      "   [1.42280624e+02 1.04709190e+02 5.93673515e+01]\n",
      "   [1.49561218e+02 1.03775513e+02 3.43163261e+01]\n",
      "   ...\n",
      "   [7.32550812e+01 4.82655525e+00 2.04081917e+00]\n",
      "   [7.41275711e+01 6.12757444e+00 3.12757444e+00]\n",
      "   [7.74031296e+01 9.40312958e+00 6.40312958e+00]]\n",
      "\n",
      "  [[1.13938782e+02 7.62091827e+01 1.72653065e+01]\n",
      "   [1.38591843e+02 9.61785736e+01 2.06887741e+01]\n",
      "   [1.45826523e+02 9.43265305e+01 7.75000048e+00]\n",
      "   ...\n",
      "   [7.10459137e+01 1.04591370e+00 0.00000000e+00]\n",
      "   [7.41989899e+01 4.19898939e+00 2.41327524e+00]\n",
      "   [7.46377487e+01 4.71428490e+00 3.14285660e+00]]\n",
      "\n",
      "  ...\n",
      "\n",
      "  [[1.87994843e+02 1.88209106e+02 1.59566315e+02]\n",
      "   [1.96499893e+02 1.97499893e+02 1.66499893e+02]\n",
      "   [1.95688690e+02 1.95923416e+02 1.65137680e+02]\n",
      "   ...\n",
      "   [3.30459099e+01 0.00000000e+00 0.00000000e+00]\n",
      "   [3.60714417e+01 1.64291382e+00 8.57177734e-01]\n",
      "   [3.59234695e+01 1.57147217e+00 7.85736084e-01]]\n",
      "\n",
      "  [[1.83249832e+02 1.86249832e+02 1.57249832e+02]\n",
      "   [1.72428604e+02 1.73428604e+02 1.42428604e+02]\n",
      "   [2.00484634e+02 2.01056061e+02 1.70056061e+02]\n",
      "   ...\n",
      "   [3.25714722e+01 0.00000000e+00 0.00000000e+00]\n",
      "   [3.60714417e+01 2.07144165e+00 1.07144165e+00]\n",
      "   [3.69285583e+01 2.92855835e+00 1.92855835e+00]]\n",
      "\n",
      "  [[1.84898224e+02 1.87898224e+02 1.58898224e+02]\n",
      "   [1.91025482e+02 1.91954056e+02 1.61168335e+02]\n",
      "   [1.96142578e+02 1.96714005e+02 1.64928299e+02]\n",
      "   ...\n",
      "   [3.27857361e+01 2.14263916e-01 0.00000000e+00]\n",
      "   [3.50459251e+01 1.04592431e+00 4.59242836e-02]\n",
      "   [3.42856445e+01 4.13220465e-01 0.00000000e+00]]]], shape=(32, 224, 224, 3), dtype=float32) tf.Tensor(\n",
      "[[0. 0. 0. 0. 1. 0. 0. 0. 0. 0.]\n",
      " [1. 0. 0. 0. 0. 0. 0. 0. 0. 0.]\n",
      " [0. 0. 0. 1. 0. 0. 0. 0. 0. 0.]\n",
      " [1. 0. 0. 0. 0. 0. 0. 0. 0. 0.]\n",
      " [0. 0. 0. 1. 0. 0. 0. 0. 0. 0.]\n",
      " [0. 0. 0. 0. 0. 1. 0. 0. 0. 0.]\n",
      " [0. 0. 0. 0. 0. 0. 0. 0. 0. 1.]\n",
      " [0. 0. 0. 1. 0. 0. 0. 0. 0. 0.]\n",
      " [0. 0. 0. 0. 0. 0. 0. 0. 0. 1.]\n",
      " [0. 0. 0. 0. 0. 0. 1. 0. 0. 0.]\n",
      " [0. 1. 0. 0. 0. 0. 0. 0. 0. 0.]\n",
      " [0. 0. 0. 0. 0. 0. 0. 0. 0. 1.]\n",
      " [0. 0. 0. 0. 0. 0. 0. 0. 0. 1.]\n",
      " [0. 0. 0. 0. 0. 0. 1. 0. 0. 0.]\n",
      " [0. 0. 0. 0. 0. 1. 0. 0. 0. 0.]\n",
      " [0. 0. 0. 0. 1. 0. 0. 0. 0. 0.]\n",
      " [1. 0. 0. 0. 0. 0. 0. 0. 0. 0.]\n",
      " [0. 0. 0. 0. 0. 0. 0. 0. 0. 1.]\n",
      " [0. 0. 0. 0. 0. 0. 1. 0. 0. 0.]\n",
      " [0. 0. 0. 0. 0. 0. 0. 0. 1. 0.]\n",
      " [0. 0. 0. 0. 1. 0. 0. 0. 0. 0.]\n",
      " [0. 0. 0. 1. 0. 0. 0. 0. 0. 0.]\n",
      " [0. 0. 0. 0. 0. 0. 0. 1. 0. 0.]\n",
      " [0. 0. 0. 0. 1. 0. 0. 0. 0. 0.]\n",
      " [0. 0. 0. 0. 0. 0. 0. 0. 1. 0.]\n",
      " [1. 0. 0. 0. 0. 0. 0. 0. 0. 0.]\n",
      " [0. 0. 0. 0. 0. 1. 0. 0. 0. 0.]\n",
      " [0. 0. 0. 1. 0. 0. 0. 0. 0. 0.]\n",
      " [1. 0. 0. 0. 0. 0. 0. 0. 0. 0.]\n",
      " [0. 1. 0. 0. 0. 0. 0. 0. 0. 0.]\n",
      " [0. 0. 0. 0. 0. 0. 0. 0. 1. 0.]\n",
      " [0. 0. 0. 0. 0. 0. 0. 1. 0. 0.]], shape=(32, 10), dtype=float32)\n"
     ]
    }
   ],
   "source": [
    "# See an example of a batch of data\n",
    "for images, labels in train_data_10_percent.take(1):\n",
    "    print(images, labels)"
   ]
  },
  {
   "cell_type": "markdown",
   "id": "2982719c",
   "metadata": {},
   "source": [
    "## Model 0: Building a trainfer learning feature extraction model using the Keras Functinoal API\n",
    "\n",
    "The sequential API is straight-forward, it runs our layers in sequential order.\n",
    "\n",
    "But the functional API gives us more flexibility with our models."
   ]
  },
  {
   "cell_type": "code",
   "execution_count": 105,
   "id": "736487f7",
   "metadata": {},
   "outputs": [
    {
     "name": "stdout",
     "output_type": "stream",
     "text": [
      "Shape after passing inputs through base model: (None, 7, 7, 1280)\n",
      "Shape after GlobalAveragePooling2D: (None, 1280)\n",
      "Saving TensorBoard log files to: transfer_learning/10_percent_feature_extraction/20220718-110654\n",
      "Epoch 1/5\n",
      "24/24 [==============================] - 8s 184ms/step - loss: 1.8651 - accuracy: 0.4653 - val_loss: 1.2951 - val_accuracy: 0.7303\n",
      "Epoch 2/5\n",
      "24/24 [==============================] - 3s 124ms/step - loss: 1.0887 - accuracy: 0.7680 - val_loss: 0.8518 - val_accuracy: 0.8289\n",
      "Epoch 3/5\n",
      "24/24 [==============================] - 3s 122ms/step - loss: 0.7978 - accuracy: 0.8160 - val_loss: 0.6891 - val_accuracy: 0.8668\n",
      "Epoch 4/5\n",
      "24/24 [==============================] - 3s 123ms/step - loss: 0.6420 - accuracy: 0.8613 - val_loss: 0.6116 - val_accuracy: 0.8618\n",
      "Epoch 5/5\n",
      "24/24 [==============================] - 3s 121ms/step - loss: 0.5449 - accuracy: 0.8747 - val_loss: 0.5593 - val_accuracy: 0.8553\n"
     ]
    }
   ],
   "source": [
    "# 1. Create base model with tf.keras.applications\n",
    "base_model = tf.keras.applications.EfficientNetB0(include_top=False)\n",
    "\n",
    "# 2. Freeze the base model (so the underlying pre-trained patterns aren't updated during training)\n",
    "base_model.trainable = False\n",
    "\n",
    "# 3. Create inputs into our model\n",
    "inputs = tf.keras.layers.Input(shape=(224,224,3), name=\"input_layer\")\n",
    "\n",
    "# 4. If using a model like ResNet50V2 you will need to normalize inputs (you don't have to for EfficinetNet)\n",
    "# x = tf.keras.layers.experimental.preprocessing.Rescaling(1./255)(inputs)\n",
    "\n",
    "# 5. Pass the inputs to the base_model\n",
    "x = base_model(inputs)\n",
    "print(f\"Shape after passing inputs through base model: {x.shape}\")\n",
    "\n",
    "# 6. AVerage pool the outputs of the base model (aggregate all the most important information, reduce number of computation)\n",
    "x = tf.keras.layers.GlobalAveragePooling2D(name=\"global_average_pooling_layer\")(x)\n",
    "print(f\"Shape after GlobalAveragePooling2D: {x.shape}\")\n",
    "\n",
    "# 7. Create the output activation layer\n",
    "outputs = tf.keras.layers.Dense(10, activation=\"softmax\", name=\"output_layer\")(x)\n",
    "\n",
    "\n",
    "# 8. Combine the inputs with the outputs into a model\n",
    "model_0 = tf.keras.Model(inputs, outputs)\n",
    "\n",
    "# 9. Compile the model\n",
    "model_0.compile(loss=\"categorical_crossentropy\",\n",
    "               optimizer=tf.keras.optimizers.Adam(),\n",
    "               metrics=[\"accuracy\"])\n",
    "\n",
    "\n",
    "# 10. Fit the model and save its history\n",
    "history_10_percent = model_0.fit(train_data_10_percent,\n",
    "                       steps_per_epoch=len(train_data_10_percent),\n",
    "                       epochs=5,\n",
    "                       validation_data=test_data,\n",
    "                       validation_steps=int(0.25* len(test_data)),\n",
    "                        callbacks=[create_tensorboard_callback(dir_name=\"transfer_learning\",\n",
    "                                                               experiment_name=\"10_percent_feature_extraction\")])\n"
   ]
  },
  {
   "cell_type": "code",
   "execution_count": 106,
   "id": "bef04a48",
   "metadata": {},
   "outputs": [
    {
     "name": "stdout",
     "output_type": "stream",
     "text": [
      "79/79 [==============================] - 5s 66ms/step - loss: 0.5605 - accuracy: 0.8592\n"
     ]
    },
    {
     "data": {
      "text/plain": [
       "[0.5605054497718811, 0.8592000007629395]"
      ]
     },
     "execution_count": 106,
     "metadata": {},
     "output_type": "execute_result"
    }
   ],
   "source": [
    "# Evaluate on the full test dataset\n",
    "model_0.evaluate(test_data)"
   ]
  },
  {
   "cell_type": "code",
   "execution_count": 107,
   "id": "00cca31d",
   "metadata": {},
   "outputs": [
    {
     "name": "stdout",
     "output_type": "stream",
     "text": [
      "0 input_4\n",
      "1 rescaling_3\n",
      "2 normalization_3\n",
      "3 tf.math.truediv_3\n",
      "4 stem_conv_pad\n",
      "5 stem_conv\n",
      "6 stem_bn\n",
      "7 stem_activation\n",
      "8 block1a_dwconv\n",
      "9 block1a_bn\n",
      "10 block1a_activation\n",
      "11 block1a_se_squeeze\n",
      "12 block1a_se_reshape\n",
      "13 block1a_se_reduce\n",
      "14 block1a_se_expand\n",
      "15 block1a_se_excite\n",
      "16 block1a_project_conv\n",
      "17 block1a_project_bn\n",
      "18 block2a_expand_conv\n",
      "19 block2a_expand_bn\n",
      "20 block2a_expand_activation\n",
      "21 block2a_dwconv_pad\n",
      "22 block2a_dwconv\n",
      "23 block2a_bn\n",
      "24 block2a_activation\n",
      "25 block2a_se_squeeze\n",
      "26 block2a_se_reshape\n",
      "27 block2a_se_reduce\n",
      "28 block2a_se_expand\n",
      "29 block2a_se_excite\n",
      "30 block2a_project_conv\n",
      "31 block2a_project_bn\n",
      "32 block2b_expand_conv\n",
      "33 block2b_expand_bn\n",
      "34 block2b_expand_activation\n",
      "35 block2b_dwconv\n",
      "36 block2b_bn\n",
      "37 block2b_activation\n",
      "38 block2b_se_squeeze\n",
      "39 block2b_se_reshape\n",
      "40 block2b_se_reduce\n",
      "41 block2b_se_expand\n",
      "42 block2b_se_excite\n",
      "43 block2b_project_conv\n",
      "44 block2b_project_bn\n",
      "45 block2b_drop\n",
      "46 block2b_add\n",
      "47 block3a_expand_conv\n",
      "48 block3a_expand_bn\n",
      "49 block3a_expand_activation\n",
      "50 block3a_dwconv_pad\n",
      "51 block3a_dwconv\n",
      "52 block3a_bn\n",
      "53 block3a_activation\n",
      "54 block3a_se_squeeze\n",
      "55 block3a_se_reshape\n",
      "56 block3a_se_reduce\n",
      "57 block3a_se_expand\n",
      "58 block3a_se_excite\n",
      "59 block3a_project_conv\n",
      "60 block3a_project_bn\n",
      "61 block3b_expand_conv\n",
      "62 block3b_expand_bn\n",
      "63 block3b_expand_activation\n",
      "64 block3b_dwconv\n",
      "65 block3b_bn\n",
      "66 block3b_activation\n",
      "67 block3b_se_squeeze\n",
      "68 block3b_se_reshape\n",
      "69 block3b_se_reduce\n",
      "70 block3b_se_expand\n",
      "71 block3b_se_excite\n",
      "72 block3b_project_conv\n",
      "73 block3b_project_bn\n",
      "74 block3b_drop\n",
      "75 block3b_add\n",
      "76 block4a_expand_conv\n",
      "77 block4a_expand_bn\n",
      "78 block4a_expand_activation\n",
      "79 block4a_dwconv_pad\n",
      "80 block4a_dwconv\n",
      "81 block4a_bn\n",
      "82 block4a_activation\n",
      "83 block4a_se_squeeze\n",
      "84 block4a_se_reshape\n",
      "85 block4a_se_reduce\n",
      "86 block4a_se_expand\n",
      "87 block4a_se_excite\n",
      "88 block4a_project_conv\n",
      "89 block4a_project_bn\n",
      "90 block4b_expand_conv\n",
      "91 block4b_expand_bn\n",
      "92 block4b_expand_activation\n",
      "93 block4b_dwconv\n",
      "94 block4b_bn\n",
      "95 block4b_activation\n",
      "96 block4b_se_squeeze\n",
      "97 block4b_se_reshape\n",
      "98 block4b_se_reduce\n",
      "99 block4b_se_expand\n",
      "100 block4b_se_excite\n",
      "101 block4b_project_conv\n",
      "102 block4b_project_bn\n",
      "103 block4b_drop\n",
      "104 block4b_add\n",
      "105 block4c_expand_conv\n",
      "106 block4c_expand_bn\n",
      "107 block4c_expand_activation\n",
      "108 block4c_dwconv\n",
      "109 block4c_bn\n",
      "110 block4c_activation\n",
      "111 block4c_se_squeeze\n",
      "112 block4c_se_reshape\n",
      "113 block4c_se_reduce\n",
      "114 block4c_se_expand\n",
      "115 block4c_se_excite\n",
      "116 block4c_project_conv\n",
      "117 block4c_project_bn\n",
      "118 block4c_drop\n",
      "119 block4c_add\n",
      "120 block5a_expand_conv\n",
      "121 block5a_expand_bn\n",
      "122 block5a_expand_activation\n",
      "123 block5a_dwconv\n",
      "124 block5a_bn\n",
      "125 block5a_activation\n",
      "126 block5a_se_squeeze\n",
      "127 block5a_se_reshape\n",
      "128 block5a_se_reduce\n",
      "129 block5a_se_expand\n",
      "130 block5a_se_excite\n",
      "131 block5a_project_conv\n",
      "132 block5a_project_bn\n",
      "133 block5b_expand_conv\n",
      "134 block5b_expand_bn\n",
      "135 block5b_expand_activation\n",
      "136 block5b_dwconv\n",
      "137 block5b_bn\n",
      "138 block5b_activation\n",
      "139 block5b_se_squeeze\n",
      "140 block5b_se_reshape\n",
      "141 block5b_se_reduce\n",
      "142 block5b_se_expand\n",
      "143 block5b_se_excite\n",
      "144 block5b_project_conv\n",
      "145 block5b_project_bn\n",
      "146 block5b_drop\n",
      "147 block5b_add\n",
      "148 block5c_expand_conv\n",
      "149 block5c_expand_bn\n",
      "150 block5c_expand_activation\n",
      "151 block5c_dwconv\n",
      "152 block5c_bn\n",
      "153 block5c_activation\n",
      "154 block5c_se_squeeze\n",
      "155 block5c_se_reshape\n",
      "156 block5c_se_reduce\n",
      "157 block5c_se_expand\n",
      "158 block5c_se_excite\n",
      "159 block5c_project_conv\n",
      "160 block5c_project_bn\n",
      "161 block5c_drop\n",
      "162 block5c_add\n",
      "163 block6a_expand_conv\n",
      "164 block6a_expand_bn\n",
      "165 block6a_expand_activation\n",
      "166 block6a_dwconv_pad\n",
      "167 block6a_dwconv\n",
      "168 block6a_bn\n",
      "169 block6a_activation\n",
      "170 block6a_se_squeeze\n",
      "171 block6a_se_reshape\n",
      "172 block6a_se_reduce\n",
      "173 block6a_se_expand\n",
      "174 block6a_se_excite\n",
      "175 block6a_project_conv\n",
      "176 block6a_project_bn\n",
      "177 block6b_expand_conv\n",
      "178 block6b_expand_bn\n",
      "179 block6b_expand_activation\n",
      "180 block6b_dwconv\n",
      "181 block6b_bn\n",
      "182 block6b_activation\n",
      "183 block6b_se_squeeze\n",
      "184 block6b_se_reshape\n",
      "185 block6b_se_reduce\n",
      "186 block6b_se_expand\n",
      "187 block6b_se_excite\n",
      "188 block6b_project_conv\n",
      "189 block6b_project_bn\n",
      "190 block6b_drop\n",
      "191 block6b_add\n",
      "192 block6c_expand_conv\n",
      "193 block6c_expand_bn\n",
      "194 block6c_expand_activation\n",
      "195 block6c_dwconv\n",
      "196 block6c_bn\n",
      "197 block6c_activation\n",
      "198 block6c_se_squeeze\n",
      "199 block6c_se_reshape\n",
      "200 block6c_se_reduce\n",
      "201 block6c_se_expand\n",
      "202 block6c_se_excite\n",
      "203 block6c_project_conv\n",
      "204 block6c_project_bn\n",
      "205 block6c_drop\n",
      "206 block6c_add\n",
      "207 block6d_expand_conv\n",
      "208 block6d_expand_bn\n",
      "209 block6d_expand_activation\n",
      "210 block6d_dwconv\n",
      "211 block6d_bn\n",
      "212 block6d_activation\n",
      "213 block6d_se_squeeze\n",
      "214 block6d_se_reshape\n",
      "215 block6d_se_reduce\n",
      "216 block6d_se_expand\n",
      "217 block6d_se_excite\n",
      "218 block6d_project_conv\n",
      "219 block6d_project_bn\n",
      "220 block6d_drop\n",
      "221 block6d_add\n",
      "222 block7a_expand_conv\n",
      "223 block7a_expand_bn\n",
      "224 block7a_expand_activation\n",
      "225 block7a_dwconv\n",
      "226 block7a_bn\n",
      "227 block7a_activation\n",
      "228 block7a_se_squeeze\n",
      "229 block7a_se_reshape\n",
      "230 block7a_se_reduce\n",
      "231 block7a_se_expand\n",
      "232 block7a_se_excite\n",
      "233 block7a_project_conv\n",
      "234 block7a_project_bn\n",
      "235 top_conv\n",
      "236 top_bn\n",
      "237 top_activation\n"
     ]
    }
   ],
   "source": [
    "# Check the layers in our base model\n",
    "for layer_number, layer in enumerate(base_model.layers):\n",
    "    print(layer_number, layer.name)"
   ]
  },
  {
   "cell_type": "code",
   "execution_count": 108,
   "id": "47ad86c1",
   "metadata": {},
   "outputs": [
    {
     "name": "stdout",
     "output_type": "stream",
     "text": [
      "Model: \"efficientnetb0\"\n",
      "__________________________________________________________________________________________________\n",
      " Layer (type)                   Output Shape         Param #     Connected to                     \n",
      "==================================================================================================\n",
      " input_4 (InputLayer)           [(None, None, None,  0           []                               \n",
      "                                 3)]                                                              \n",
      "                                                                                                  \n",
      " rescaling_3 (Rescaling)        (None, None, None,   0           ['input_4[0][0]']                \n",
      "                                3)                                                                \n",
      "                                                                                                  \n",
      " normalization_3 (Normalization  (None, None, None,   7          ['rescaling_3[0][0]']            \n",
      " )                              3)                                                                \n",
      "                                                                                                  \n",
      " tf.math.truediv_3 (TFOpLambda)  (None, None, None,   0          ['normalization_3[0][0]']        \n",
      "                                3)                                                                \n",
      "                                                                                                  \n",
      " stem_conv_pad (ZeroPadding2D)  (None, None, None,   0           ['tf.math.truediv_3[0][0]']      \n",
      "                                3)                                                                \n",
      "                                                                                                  \n",
      " stem_conv (Conv2D)             (None, None, None,   864         ['stem_conv_pad[0][0]']          \n",
      "                                32)                                                               \n",
      "                                                                                                  \n",
      " stem_bn (BatchNormalization)   (None, None, None,   128         ['stem_conv[0][0]']              \n",
      "                                32)                                                               \n",
      "                                                                                                  \n",
      " stem_activation (Activation)   (None, None, None,   0           ['stem_bn[0][0]']                \n",
      "                                32)                                                               \n",
      "                                                                                                  \n",
      " block1a_dwconv (DepthwiseConv2  (None, None, None,   288        ['stem_activation[0][0]']        \n",
      " D)                             32)                                                               \n",
      "                                                                                                  \n",
      " block1a_bn (BatchNormalization  (None, None, None,   128        ['block1a_dwconv[0][0]']         \n",
      " )                              32)                                                               \n",
      "                                                                                                  \n",
      " block1a_activation (Activation  (None, None, None,   0          ['block1a_bn[0][0]']             \n",
      " )                              32)                                                               \n",
      "                                                                                                  \n",
      " block1a_se_squeeze (GlobalAver  (None, 32)          0           ['block1a_activation[0][0]']     \n",
      " agePooling2D)                                                                                    \n",
      "                                                                                                  \n",
      " block1a_se_reshape (Reshape)   (None, 1, 1, 32)     0           ['block1a_se_squeeze[0][0]']     \n",
      "                                                                                                  \n",
      " block1a_se_reduce (Conv2D)     (None, 1, 1, 8)      264         ['block1a_se_reshape[0][0]']     \n",
      "                                                                                                  \n",
      " block1a_se_expand (Conv2D)     (None, 1, 1, 32)     288         ['block1a_se_reduce[0][0]']      \n",
      "                                                                                                  \n",
      " block1a_se_excite (Multiply)   (None, None, None,   0           ['block1a_activation[0][0]',     \n",
      "                                32)                               'block1a_se_expand[0][0]']      \n",
      "                                                                                                  \n",
      " block1a_project_conv (Conv2D)  (None, None, None,   512         ['block1a_se_excite[0][0]']      \n",
      "                                16)                                                               \n",
      "                                                                                                  \n",
      " block1a_project_bn (BatchNorma  (None, None, None,   64         ['block1a_project_conv[0][0]']   \n",
      " lization)                      16)                                                               \n",
      "                                                                                                  \n",
      " block2a_expand_conv (Conv2D)   (None, None, None,   1536        ['block1a_project_bn[0][0]']     \n",
      "                                96)                                                               \n",
      "                                                                                                  \n",
      " block2a_expand_bn (BatchNormal  (None, None, None,   384        ['block2a_expand_conv[0][0]']    \n",
      " ization)                       96)                                                               \n",
      "                                                                                                  \n",
      " block2a_expand_activation (Act  (None, None, None,   0          ['block2a_expand_bn[0][0]']      \n",
      " ivation)                       96)                                                               \n",
      "                                                                                                  \n",
      " block2a_dwconv_pad (ZeroPaddin  (None, None, None,   0          ['block2a_expand_activation[0][0]\n",
      " g2D)                           96)                              ']                               \n",
      "                                                                                                  \n",
      " block2a_dwconv (DepthwiseConv2  (None, None, None,   864        ['block2a_dwconv_pad[0][0]']     \n",
      " D)                             96)                                                               \n",
      "                                                                                                  \n",
      " block2a_bn (BatchNormalization  (None, None, None,   384        ['block2a_dwconv[0][0]']         \n",
      " )                              96)                                                               \n",
      "                                                                                                  \n",
      " block2a_activation (Activation  (None, None, None,   0          ['block2a_bn[0][0]']             \n",
      " )                              96)                                                               \n",
      "                                                                                                  \n",
      " block2a_se_squeeze (GlobalAver  (None, 96)          0           ['block2a_activation[0][0]']     \n",
      " agePooling2D)                                                                                    \n",
      "                                                                                                  \n",
      " block2a_se_reshape (Reshape)   (None, 1, 1, 96)     0           ['block2a_se_squeeze[0][0]']     \n",
      "                                                                                                  \n",
      " block2a_se_reduce (Conv2D)     (None, 1, 1, 4)      388         ['block2a_se_reshape[0][0]']     \n",
      "                                                                                                  \n",
      " block2a_se_expand (Conv2D)     (None, 1, 1, 96)     480         ['block2a_se_reduce[0][0]']      \n"
     ]
    },
    {
     "name": "stdout",
     "output_type": "stream",
     "text": [
      "                                                                                                  \n",
      " block2a_se_excite (Multiply)   (None, None, None,   0           ['block2a_activation[0][0]',     \n",
      "                                96)                               'block2a_se_expand[0][0]']      \n",
      "                                                                                                  \n",
      " block2a_project_conv (Conv2D)  (None, None, None,   2304        ['block2a_se_excite[0][0]']      \n",
      "                                24)                                                               \n",
      "                                                                                                  \n",
      " block2a_project_bn (BatchNorma  (None, None, None,   96         ['block2a_project_conv[0][0]']   \n",
      " lization)                      24)                                                               \n",
      "                                                                                                  \n",
      " block2b_expand_conv (Conv2D)   (None, None, None,   3456        ['block2a_project_bn[0][0]']     \n",
      "                                144)                                                              \n",
      "                                                                                                  \n",
      " block2b_expand_bn (BatchNormal  (None, None, None,   576        ['block2b_expand_conv[0][0]']    \n",
      " ization)                       144)                                                              \n",
      "                                                                                                  \n",
      " block2b_expand_activation (Act  (None, None, None,   0          ['block2b_expand_bn[0][0]']      \n",
      " ivation)                       144)                                                              \n",
      "                                                                                                  \n",
      " block2b_dwconv (DepthwiseConv2  (None, None, None,   1296       ['block2b_expand_activation[0][0]\n",
      " D)                             144)                             ']                               \n",
      "                                                                                                  \n",
      " block2b_bn (BatchNormalization  (None, None, None,   576        ['block2b_dwconv[0][0]']         \n",
      " )                              144)                                                              \n",
      "                                                                                                  \n",
      " block2b_activation (Activation  (None, None, None,   0          ['block2b_bn[0][0]']             \n",
      " )                              144)                                                              \n",
      "                                                                                                  \n",
      " block2b_se_squeeze (GlobalAver  (None, 144)         0           ['block2b_activation[0][0]']     \n",
      " agePooling2D)                                                                                    \n",
      "                                                                                                  \n",
      " block2b_se_reshape (Reshape)   (None, 1, 1, 144)    0           ['block2b_se_squeeze[0][0]']     \n",
      "                                                                                                  \n",
      " block2b_se_reduce (Conv2D)     (None, 1, 1, 6)      870         ['block2b_se_reshape[0][0]']     \n",
      "                                                                                                  \n",
      " block2b_se_expand (Conv2D)     (None, 1, 1, 144)    1008        ['block2b_se_reduce[0][0]']      \n",
      "                                                                                                  \n",
      " block2b_se_excite (Multiply)   (None, None, None,   0           ['block2b_activation[0][0]',     \n",
      "                                144)                              'block2b_se_expand[0][0]']      \n",
      "                                                                                                  \n",
      " block2b_project_conv (Conv2D)  (None, None, None,   3456        ['block2b_se_excite[0][0]']      \n",
      "                                24)                                                               \n",
      "                                                                                                  \n",
      " block2b_project_bn (BatchNorma  (None, None, None,   96         ['block2b_project_conv[0][0]']   \n",
      " lization)                      24)                                                               \n",
      "                                                                                                  \n",
      " block2b_drop (Dropout)         (None, None, None,   0           ['block2b_project_bn[0][0]']     \n",
      "                                24)                                                               \n",
      "                                                                                                  \n",
      " block2b_add (Add)              (None, None, None,   0           ['block2b_drop[0][0]',           \n",
      "                                24)                               'block2a_project_bn[0][0]']     \n",
      "                                                                                                  \n",
      " block3a_expand_conv (Conv2D)   (None, None, None,   3456        ['block2b_add[0][0]']            \n",
      "                                144)                                                              \n",
      "                                                                                                  \n",
      " block3a_expand_bn (BatchNormal  (None, None, None,   576        ['block3a_expand_conv[0][0]']    \n",
      " ization)                       144)                                                              \n",
      "                                                                                                  \n",
      " block3a_expand_activation (Act  (None, None, None,   0          ['block3a_expand_bn[0][0]']      \n",
      " ivation)                       144)                                                              \n",
      "                                                                                                  \n",
      " block3a_dwconv_pad (ZeroPaddin  (None, None, None,   0          ['block3a_expand_activation[0][0]\n",
      " g2D)                           144)                             ']                               \n",
      "                                                                                                  \n",
      " block3a_dwconv (DepthwiseConv2  (None, None, None,   3600       ['block3a_dwconv_pad[0][0]']     \n",
      " D)                             144)                                                              \n",
      "                                                                                                  \n",
      " block3a_bn (BatchNormalization  (None, None, None,   576        ['block3a_dwconv[0][0]']         \n",
      " )                              144)                                                              \n",
      "                                                                                                  \n",
      " block3a_activation (Activation  (None, None, None,   0          ['block3a_bn[0][0]']             \n",
      " )                              144)                                                              \n",
      "                                                                                                  \n",
      " block3a_se_squeeze (GlobalAver  (None, 144)         0           ['block3a_activation[0][0]']     \n",
      " agePooling2D)                                                                                    \n",
      "                                                                                                  \n",
      " block3a_se_reshape (Reshape)   (None, 1, 1, 144)    0           ['block3a_se_squeeze[0][0]']     \n",
      "                                                                                                  \n",
      " block3a_se_reduce (Conv2D)     (None, 1, 1, 6)      870         ['block3a_se_reshape[0][0]']     \n",
      "                                                                                                  \n",
      " block3a_se_expand (Conv2D)     (None, 1, 1, 144)    1008        ['block3a_se_reduce[0][0]']      \n",
      "                                                                                                  \n",
      " block3a_se_excite (Multiply)   (None, None, None,   0           ['block3a_activation[0][0]',     \n"
     ]
    },
    {
     "name": "stdout",
     "output_type": "stream",
     "text": [
      "                                144)                              'block3a_se_expand[0][0]']      \n",
      "                                                                                                  \n",
      " block3a_project_conv (Conv2D)  (None, None, None,   5760        ['block3a_se_excite[0][0]']      \n",
      "                                40)                                                               \n",
      "                                                                                                  \n",
      " block3a_project_bn (BatchNorma  (None, None, None,   160        ['block3a_project_conv[0][0]']   \n",
      " lization)                      40)                                                               \n",
      "                                                                                                  \n",
      " block3b_expand_conv (Conv2D)   (None, None, None,   9600        ['block3a_project_bn[0][0]']     \n",
      "                                240)                                                              \n",
      "                                                                                                  \n",
      " block3b_expand_bn (BatchNormal  (None, None, None,   960        ['block3b_expand_conv[0][0]']    \n",
      " ization)                       240)                                                              \n",
      "                                                                                                  \n",
      " block3b_expand_activation (Act  (None, None, None,   0          ['block3b_expand_bn[0][0]']      \n",
      " ivation)                       240)                                                              \n",
      "                                                                                                  \n",
      " block3b_dwconv (DepthwiseConv2  (None, None, None,   6000       ['block3b_expand_activation[0][0]\n",
      " D)                             240)                             ']                               \n",
      "                                                                                                  \n",
      " block3b_bn (BatchNormalization  (None, None, None,   960        ['block3b_dwconv[0][0]']         \n",
      " )                              240)                                                              \n",
      "                                                                                                  \n",
      " block3b_activation (Activation  (None, None, None,   0          ['block3b_bn[0][0]']             \n",
      " )                              240)                                                              \n",
      "                                                                                                  \n",
      " block3b_se_squeeze (GlobalAver  (None, 240)         0           ['block3b_activation[0][0]']     \n",
      " agePooling2D)                                                                                    \n",
      "                                                                                                  \n",
      " block3b_se_reshape (Reshape)   (None, 1, 1, 240)    0           ['block3b_se_squeeze[0][0]']     \n",
      "                                                                                                  \n",
      " block3b_se_reduce (Conv2D)     (None, 1, 1, 10)     2410        ['block3b_se_reshape[0][0]']     \n",
      "                                                                                                  \n",
      " block3b_se_expand (Conv2D)     (None, 1, 1, 240)    2640        ['block3b_se_reduce[0][0]']      \n",
      "                                                                                                  \n",
      " block3b_se_excite (Multiply)   (None, None, None,   0           ['block3b_activation[0][0]',     \n",
      "                                240)                              'block3b_se_expand[0][0]']      \n",
      "                                                                                                  \n",
      " block3b_project_conv (Conv2D)  (None, None, None,   9600        ['block3b_se_excite[0][0]']      \n",
      "                                40)                                                               \n",
      "                                                                                                  \n",
      " block3b_project_bn (BatchNorma  (None, None, None,   160        ['block3b_project_conv[0][0]']   \n",
      " lization)                      40)                                                               \n",
      "                                                                                                  \n",
      " block3b_drop (Dropout)         (None, None, None,   0           ['block3b_project_bn[0][0]']     \n",
      "                                40)                                                               \n",
      "                                                                                                  \n",
      " block3b_add (Add)              (None, None, None,   0           ['block3b_drop[0][0]',           \n",
      "                                40)                               'block3a_project_bn[0][0]']     \n",
      "                                                                                                  \n",
      " block4a_expand_conv (Conv2D)   (None, None, None,   9600        ['block3b_add[0][0]']            \n",
      "                                240)                                                              \n",
      "                                                                                                  \n",
      " block4a_expand_bn (BatchNormal  (None, None, None,   960        ['block4a_expand_conv[0][0]']    \n",
      " ization)                       240)                                                              \n",
      "                                                                                                  \n",
      " block4a_expand_activation (Act  (None, None, None,   0          ['block4a_expand_bn[0][0]']      \n",
      " ivation)                       240)                                                              \n",
      "                                                                                                  \n",
      " block4a_dwconv_pad (ZeroPaddin  (None, None, None,   0          ['block4a_expand_activation[0][0]\n",
      " g2D)                           240)                             ']                               \n",
      "                                                                                                  \n",
      " block4a_dwconv (DepthwiseConv2  (None, None, None,   2160       ['block4a_dwconv_pad[0][0]']     \n",
      " D)                             240)                                                              \n",
      "                                                                                                  \n",
      " block4a_bn (BatchNormalization  (None, None, None,   960        ['block4a_dwconv[0][0]']         \n",
      " )                              240)                                                              \n",
      "                                                                                                  \n",
      " block4a_activation (Activation  (None, None, None,   0          ['block4a_bn[0][0]']             \n",
      " )                              240)                                                              \n",
      "                                                                                                  \n",
      " block4a_se_squeeze (GlobalAver  (None, 240)         0           ['block4a_activation[0][0]']     \n",
      " agePooling2D)                                                                                    \n",
      "                                                                                                  \n",
      " block4a_se_reshape (Reshape)   (None, 1, 1, 240)    0           ['block4a_se_squeeze[0][0]']     \n",
      "                                                                                                  \n",
      " block4a_se_reduce (Conv2D)     (None, 1, 1, 10)     2410        ['block4a_se_reshape[0][0]']     \n",
      "                                                                                                  \n",
      " block4a_se_expand (Conv2D)     (None, 1, 1, 240)    2640        ['block4a_se_reduce[0][0]']      \n",
      "                                                                                                  \n",
      " block4a_se_excite (Multiply)   (None, None, None,   0           ['block4a_activation[0][0]',     \n",
      "                                240)                              'block4a_se_expand[0][0]']      \n",
      "                                                                                                  \n"
     ]
    },
    {
     "name": "stdout",
     "output_type": "stream",
     "text": [
      " block4a_project_conv (Conv2D)  (None, None, None,   19200       ['block4a_se_excite[0][0]']      \n",
      "                                80)                                                               \n",
      "                                                                                                  \n",
      " block4a_project_bn (BatchNorma  (None, None, None,   320        ['block4a_project_conv[0][0]']   \n",
      " lization)                      80)                                                               \n",
      "                                                                                                  \n",
      " block4b_expand_conv (Conv2D)   (None, None, None,   38400       ['block4a_project_bn[0][0]']     \n",
      "                                480)                                                              \n",
      "                                                                                                  \n",
      " block4b_expand_bn (BatchNormal  (None, None, None,   1920       ['block4b_expand_conv[0][0]']    \n",
      " ization)                       480)                                                              \n",
      "                                                                                                  \n",
      " block4b_expand_activation (Act  (None, None, None,   0          ['block4b_expand_bn[0][0]']      \n",
      " ivation)                       480)                                                              \n",
      "                                                                                                  \n",
      " block4b_dwconv (DepthwiseConv2  (None, None, None,   4320       ['block4b_expand_activation[0][0]\n",
      " D)                             480)                             ']                               \n",
      "                                                                                                  \n",
      " block4b_bn (BatchNormalization  (None, None, None,   1920       ['block4b_dwconv[0][0]']         \n",
      " )                              480)                                                              \n",
      "                                                                                                  \n",
      " block4b_activation (Activation  (None, None, None,   0          ['block4b_bn[0][0]']             \n",
      " )                              480)                                                              \n",
      "                                                                                                  \n",
      " block4b_se_squeeze (GlobalAver  (None, 480)         0           ['block4b_activation[0][0]']     \n",
      " agePooling2D)                                                                                    \n",
      "                                                                                                  \n",
      " block4b_se_reshape (Reshape)   (None, 1, 1, 480)    0           ['block4b_se_squeeze[0][0]']     \n",
      "                                                                                                  \n",
      " block4b_se_reduce (Conv2D)     (None, 1, 1, 20)     9620        ['block4b_se_reshape[0][0]']     \n",
      "                                                                                                  \n",
      " block4b_se_expand (Conv2D)     (None, 1, 1, 480)    10080       ['block4b_se_reduce[0][0]']      \n",
      "                                                                                                  \n",
      " block4b_se_excite (Multiply)   (None, None, None,   0           ['block4b_activation[0][0]',     \n",
      "                                480)                              'block4b_se_expand[0][0]']      \n",
      "                                                                                                  \n",
      " block4b_project_conv (Conv2D)  (None, None, None,   38400       ['block4b_se_excite[0][0]']      \n",
      "                                80)                                                               \n",
      "                                                                                                  \n",
      " block4b_project_bn (BatchNorma  (None, None, None,   320        ['block4b_project_conv[0][0]']   \n",
      " lization)                      80)                                                               \n",
      "                                                                                                  \n",
      " block4b_drop (Dropout)         (None, None, None,   0           ['block4b_project_bn[0][0]']     \n",
      "                                80)                                                               \n",
      "                                                                                                  \n",
      " block4b_add (Add)              (None, None, None,   0           ['block4b_drop[0][0]',           \n",
      "                                80)                               'block4a_project_bn[0][0]']     \n",
      "                                                                                                  \n",
      " block4c_expand_conv (Conv2D)   (None, None, None,   38400       ['block4b_add[0][0]']            \n",
      "                                480)                                                              \n",
      "                                                                                                  \n",
      " block4c_expand_bn (BatchNormal  (None, None, None,   1920       ['block4c_expand_conv[0][0]']    \n",
      " ization)                       480)                                                              \n",
      "                                                                                                  \n",
      " block4c_expand_activation (Act  (None, None, None,   0          ['block4c_expand_bn[0][0]']      \n",
      " ivation)                       480)                                                              \n",
      "                                                                                                  \n",
      " block4c_dwconv (DepthwiseConv2  (None, None, None,   4320       ['block4c_expand_activation[0][0]\n",
      " D)                             480)                             ']                               \n",
      "                                                                                                  \n",
      " block4c_bn (BatchNormalization  (None, None, None,   1920       ['block4c_dwconv[0][0]']         \n",
      " )                              480)                                                              \n",
      "                                                                                                  \n",
      " block4c_activation (Activation  (None, None, None,   0          ['block4c_bn[0][0]']             \n",
      " )                              480)                                                              \n",
      "                                                                                                  \n",
      " block4c_se_squeeze (GlobalAver  (None, 480)         0           ['block4c_activation[0][0]']     \n",
      " agePooling2D)                                                                                    \n",
      "                                                                                                  \n",
      " block4c_se_reshape (Reshape)   (None, 1, 1, 480)    0           ['block4c_se_squeeze[0][0]']     \n",
      "                                                                                                  \n",
      " block4c_se_reduce (Conv2D)     (None, 1, 1, 20)     9620        ['block4c_se_reshape[0][0]']     \n",
      "                                                                                                  \n",
      " block4c_se_expand (Conv2D)     (None, 1, 1, 480)    10080       ['block4c_se_reduce[0][0]']      \n",
      "                                                                                                  \n",
      " block4c_se_excite (Multiply)   (None, None, None,   0           ['block4c_activation[0][0]',     \n",
      "                                480)                              'block4c_se_expand[0][0]']      \n",
      "                                                                                                  \n",
      " block4c_project_conv (Conv2D)  (None, None, None,   38400       ['block4c_se_excite[0][0]']      \n",
      "                                80)                                                               \n",
      "                                                                                                  \n",
      " block4c_project_bn (BatchNorma  (None, None, None,   320        ['block4c_project_conv[0][0]']   \n",
      " lization)                      80)                                                               \n"
     ]
    },
    {
     "name": "stdout",
     "output_type": "stream",
     "text": [
      "                                                                                                  \n",
      " block4c_drop (Dropout)         (None, None, None,   0           ['block4c_project_bn[0][0]']     \n",
      "                                80)                                                               \n",
      "                                                                                                  \n",
      " block4c_add (Add)              (None, None, None,   0           ['block4c_drop[0][0]',           \n",
      "                                80)                               'block4b_add[0][0]']            \n",
      "                                                                                                  \n",
      " block5a_expand_conv (Conv2D)   (None, None, None,   38400       ['block4c_add[0][0]']            \n",
      "                                480)                                                              \n",
      "                                                                                                  \n",
      " block5a_expand_bn (BatchNormal  (None, None, None,   1920       ['block5a_expand_conv[0][0]']    \n",
      " ization)                       480)                                                              \n",
      "                                                                                                  \n",
      " block5a_expand_activation (Act  (None, None, None,   0          ['block5a_expand_bn[0][0]']      \n",
      " ivation)                       480)                                                              \n",
      "                                                                                                  \n",
      " block5a_dwconv (DepthwiseConv2  (None, None, None,   12000      ['block5a_expand_activation[0][0]\n",
      " D)                             480)                             ']                               \n",
      "                                                                                                  \n",
      " block5a_bn (BatchNormalization  (None, None, None,   1920       ['block5a_dwconv[0][0]']         \n",
      " )                              480)                                                              \n",
      "                                                                                                  \n",
      " block5a_activation (Activation  (None, None, None,   0          ['block5a_bn[0][0]']             \n",
      " )                              480)                                                              \n",
      "                                                                                                  \n",
      " block5a_se_squeeze (GlobalAver  (None, 480)         0           ['block5a_activation[0][0]']     \n",
      " agePooling2D)                                                                                    \n",
      "                                                                                                  \n",
      " block5a_se_reshape (Reshape)   (None, 1, 1, 480)    0           ['block5a_se_squeeze[0][0]']     \n",
      "                                                                                                  \n",
      " block5a_se_reduce (Conv2D)     (None, 1, 1, 20)     9620        ['block5a_se_reshape[0][0]']     \n",
      "                                                                                                  \n",
      " block5a_se_expand (Conv2D)     (None, 1, 1, 480)    10080       ['block5a_se_reduce[0][0]']      \n",
      "                                                                                                  \n",
      " block5a_se_excite (Multiply)   (None, None, None,   0           ['block5a_activation[0][0]',     \n",
      "                                480)                              'block5a_se_expand[0][0]']      \n",
      "                                                                                                  \n",
      " block5a_project_conv (Conv2D)  (None, None, None,   53760       ['block5a_se_excite[0][0]']      \n",
      "                                112)                                                              \n",
      "                                                                                                  \n",
      " block5a_project_bn (BatchNorma  (None, None, None,   448        ['block5a_project_conv[0][0]']   \n",
      " lization)                      112)                                                              \n",
      "                                                                                                  \n",
      " block5b_expand_conv (Conv2D)   (None, None, None,   75264       ['block5a_project_bn[0][0]']     \n",
      "                                672)                                                              \n",
      "                                                                                                  \n",
      " block5b_expand_bn (BatchNormal  (None, None, None,   2688       ['block5b_expand_conv[0][0]']    \n",
      " ization)                       672)                                                              \n",
      "                                                                                                  \n",
      " block5b_expand_activation (Act  (None, None, None,   0          ['block5b_expand_bn[0][0]']      \n",
      " ivation)                       672)                                                              \n",
      "                                                                                                  \n",
      " block5b_dwconv (DepthwiseConv2  (None, None, None,   16800      ['block5b_expand_activation[0][0]\n",
      " D)                             672)                             ']                               \n",
      "                                                                                                  \n",
      " block5b_bn (BatchNormalization  (None, None, None,   2688       ['block5b_dwconv[0][0]']         \n",
      " )                              672)                                                              \n",
      "                                                                                                  \n",
      " block5b_activation (Activation  (None, None, None,   0          ['block5b_bn[0][0]']             \n",
      " )                              672)                                                              \n",
      "                                                                                                  \n",
      " block5b_se_squeeze (GlobalAver  (None, 672)         0           ['block5b_activation[0][0]']     \n",
      " agePooling2D)                                                                                    \n",
      "                                                                                                  \n",
      " block5b_se_reshape (Reshape)   (None, 1, 1, 672)    0           ['block5b_se_squeeze[0][0]']     \n",
      "                                                                                                  \n",
      " block5b_se_reduce (Conv2D)     (None, 1, 1, 28)     18844       ['block5b_se_reshape[0][0]']     \n",
      "                                                                                                  \n",
      " block5b_se_expand (Conv2D)     (None, 1, 1, 672)    19488       ['block5b_se_reduce[0][0]']      \n",
      "                                                                                                  \n",
      " block5b_se_excite (Multiply)   (None, None, None,   0           ['block5b_activation[0][0]',     \n",
      "                                672)                              'block5b_se_expand[0][0]']      \n",
      "                                                                                                  \n",
      " block5b_project_conv (Conv2D)  (None, None, None,   75264       ['block5b_se_excite[0][0]']      \n",
      "                                112)                                                              \n",
      "                                                                                                  \n",
      " block5b_project_bn (BatchNorma  (None, None, None,   448        ['block5b_project_conv[0][0]']   \n",
      " lization)                      112)                                                              \n",
      "                                                                                                  \n",
      " block5b_drop (Dropout)         (None, None, None,   0           ['block5b_project_bn[0][0]']     \n",
      "                                112)                                                              \n",
      "                                                                                                  \n",
      " block5b_add (Add)              (None, None, None,   0           ['block5b_drop[0][0]',           \n"
     ]
    },
    {
     "name": "stdout",
     "output_type": "stream",
     "text": [
      "                                112)                              'block5a_project_bn[0][0]']     \n",
      "                                                                                                  \n",
      " block5c_expand_conv (Conv2D)   (None, None, None,   75264       ['block5b_add[0][0]']            \n",
      "                                672)                                                              \n",
      "                                                                                                  \n",
      " block5c_expand_bn (BatchNormal  (None, None, None,   2688       ['block5c_expand_conv[0][0]']    \n",
      " ization)                       672)                                                              \n",
      "                                                                                                  \n",
      " block5c_expand_activation (Act  (None, None, None,   0          ['block5c_expand_bn[0][0]']      \n",
      " ivation)                       672)                                                              \n",
      "                                                                                                  \n",
      " block5c_dwconv (DepthwiseConv2  (None, None, None,   16800      ['block5c_expand_activation[0][0]\n",
      " D)                             672)                             ']                               \n",
      "                                                                                                  \n",
      " block5c_bn (BatchNormalization  (None, None, None,   2688       ['block5c_dwconv[0][0]']         \n",
      " )                              672)                                                              \n",
      "                                                                                                  \n",
      " block5c_activation (Activation  (None, None, None,   0          ['block5c_bn[0][0]']             \n",
      " )                              672)                                                              \n",
      "                                                                                                  \n",
      " block5c_se_squeeze (GlobalAver  (None, 672)         0           ['block5c_activation[0][0]']     \n",
      " agePooling2D)                                                                                    \n",
      "                                                                                                  \n",
      " block5c_se_reshape (Reshape)   (None, 1, 1, 672)    0           ['block5c_se_squeeze[0][0]']     \n",
      "                                                                                                  \n",
      " block5c_se_reduce (Conv2D)     (None, 1, 1, 28)     18844       ['block5c_se_reshape[0][0]']     \n",
      "                                                                                                  \n",
      " block5c_se_expand (Conv2D)     (None, 1, 1, 672)    19488       ['block5c_se_reduce[0][0]']      \n",
      "                                                                                                  \n",
      " block5c_se_excite (Multiply)   (None, None, None,   0           ['block5c_activation[0][0]',     \n",
      "                                672)                              'block5c_se_expand[0][0]']      \n",
      "                                                                                                  \n",
      " block5c_project_conv (Conv2D)  (None, None, None,   75264       ['block5c_se_excite[0][0]']      \n",
      "                                112)                                                              \n",
      "                                                                                                  \n",
      " block5c_project_bn (BatchNorma  (None, None, None,   448        ['block5c_project_conv[0][0]']   \n",
      " lization)                      112)                                                              \n",
      "                                                                                                  \n",
      " block5c_drop (Dropout)         (None, None, None,   0           ['block5c_project_bn[0][0]']     \n",
      "                                112)                                                              \n",
      "                                                                                                  \n",
      " block5c_add (Add)              (None, None, None,   0           ['block5c_drop[0][0]',           \n",
      "                                112)                              'block5b_add[0][0]']            \n",
      "                                                                                                  \n",
      " block6a_expand_conv (Conv2D)   (None, None, None,   75264       ['block5c_add[0][0]']            \n",
      "                                672)                                                              \n",
      "                                                                                                  \n",
      " block6a_expand_bn (BatchNormal  (None, None, None,   2688       ['block6a_expand_conv[0][0]']    \n",
      " ization)                       672)                                                              \n",
      "                                                                                                  \n",
      " block6a_expand_activation (Act  (None, None, None,   0          ['block6a_expand_bn[0][0]']      \n",
      " ivation)                       672)                                                              \n",
      "                                                                                                  \n",
      " block6a_dwconv_pad (ZeroPaddin  (None, None, None,   0          ['block6a_expand_activation[0][0]\n",
      " g2D)                           672)                             ']                               \n",
      "                                                                                                  \n",
      " block6a_dwconv (DepthwiseConv2  (None, None, None,   16800      ['block6a_dwconv_pad[0][0]']     \n",
      " D)                             672)                                                              \n",
      "                                                                                                  \n",
      " block6a_bn (BatchNormalization  (None, None, None,   2688       ['block6a_dwconv[0][0]']         \n",
      " )                              672)                                                              \n",
      "                                                                                                  \n",
      " block6a_activation (Activation  (None, None, None,   0          ['block6a_bn[0][0]']             \n",
      " )                              672)                                                              \n",
      "                                                                                                  \n",
      " block6a_se_squeeze (GlobalAver  (None, 672)         0           ['block6a_activation[0][0]']     \n",
      " agePooling2D)                                                                                    \n",
      "                                                                                                  \n",
      " block6a_se_reshape (Reshape)   (None, 1, 1, 672)    0           ['block6a_se_squeeze[0][0]']     \n",
      "                                                                                                  \n",
      " block6a_se_reduce (Conv2D)     (None, 1, 1, 28)     18844       ['block6a_se_reshape[0][0]']     \n",
      "                                                                                                  \n",
      " block6a_se_expand (Conv2D)     (None, 1, 1, 672)    19488       ['block6a_se_reduce[0][0]']      \n",
      "                                                                                                  \n",
      " block6a_se_excite (Multiply)   (None, None, None,   0           ['block6a_activation[0][0]',     \n",
      "                                672)                              'block6a_se_expand[0][0]']      \n",
      "                                                                                                  \n",
      " block6a_project_conv (Conv2D)  (None, None, None,   129024      ['block6a_se_excite[0][0]']      \n",
      "                                192)                                                              \n",
      "                                                                                                  \n",
      " block6a_project_bn (BatchNorma  (None, None, None,   768        ['block6a_project_conv[0][0]']   \n",
      " lization)                      192)                                                              \n",
      "                                                                                                  \n"
     ]
    },
    {
     "name": "stdout",
     "output_type": "stream",
     "text": [
      " block6b_expand_conv (Conv2D)   (None, None, None,   221184      ['block6a_project_bn[0][0]']     \n",
      "                                1152)                                                             \n",
      "                                                                                                  \n",
      " block6b_expand_bn (BatchNormal  (None, None, None,   4608       ['block6b_expand_conv[0][0]']    \n",
      " ization)                       1152)                                                             \n",
      "                                                                                                  \n",
      " block6b_expand_activation (Act  (None, None, None,   0          ['block6b_expand_bn[0][0]']      \n",
      " ivation)                       1152)                                                             \n",
      "                                                                                                  \n",
      " block6b_dwconv (DepthwiseConv2  (None, None, None,   28800      ['block6b_expand_activation[0][0]\n",
      " D)                             1152)                            ']                               \n",
      "                                                                                                  \n",
      " block6b_bn (BatchNormalization  (None, None, None,   4608       ['block6b_dwconv[0][0]']         \n",
      " )                              1152)                                                             \n",
      "                                                                                                  \n",
      " block6b_activation (Activation  (None, None, None,   0          ['block6b_bn[0][0]']             \n",
      " )                              1152)                                                             \n",
      "                                                                                                  \n",
      " block6b_se_squeeze (GlobalAver  (None, 1152)        0           ['block6b_activation[0][0]']     \n",
      " agePooling2D)                                                                                    \n",
      "                                                                                                  \n",
      " block6b_se_reshape (Reshape)   (None, 1, 1, 1152)   0           ['block6b_se_squeeze[0][0]']     \n",
      "                                                                                                  \n",
      " block6b_se_reduce (Conv2D)     (None, 1, 1, 48)     55344       ['block6b_se_reshape[0][0]']     \n",
      "                                                                                                  \n",
      " block6b_se_expand (Conv2D)     (None, 1, 1, 1152)   56448       ['block6b_se_reduce[0][0]']      \n",
      "                                                                                                  \n",
      " block6b_se_excite (Multiply)   (None, None, None,   0           ['block6b_activation[0][0]',     \n",
      "                                1152)                             'block6b_se_expand[0][0]']      \n",
      "                                                                                                  \n",
      " block6b_project_conv (Conv2D)  (None, None, None,   221184      ['block6b_se_excite[0][0]']      \n",
      "                                192)                                                              \n",
      "                                                                                                  \n",
      " block6b_project_bn (BatchNorma  (None, None, None,   768        ['block6b_project_conv[0][0]']   \n",
      " lization)                      192)                                                              \n",
      "                                                                                                  \n",
      " block6b_drop (Dropout)         (None, None, None,   0           ['block6b_project_bn[0][0]']     \n",
      "                                192)                                                              \n",
      "                                                                                                  \n",
      " block6b_add (Add)              (None, None, None,   0           ['block6b_drop[0][0]',           \n",
      "                                192)                              'block6a_project_bn[0][0]']     \n",
      "                                                                                                  \n",
      " block6c_expand_conv (Conv2D)   (None, None, None,   221184      ['block6b_add[0][0]']            \n",
      "                                1152)                                                             \n",
      "                                                                                                  \n",
      " block6c_expand_bn (BatchNormal  (None, None, None,   4608       ['block6c_expand_conv[0][0]']    \n",
      " ization)                       1152)                                                             \n",
      "                                                                                                  \n",
      " block6c_expand_activation (Act  (None, None, None,   0          ['block6c_expand_bn[0][0]']      \n",
      " ivation)                       1152)                                                             \n",
      "                                                                                                  \n",
      " block6c_dwconv (DepthwiseConv2  (None, None, None,   28800      ['block6c_expand_activation[0][0]\n",
      " D)                             1152)                            ']                               \n",
      "                                                                                                  \n",
      " block6c_bn (BatchNormalization  (None, None, None,   4608       ['block6c_dwconv[0][0]']         \n",
      " )                              1152)                                                             \n",
      "                                                                                                  \n",
      " block6c_activation (Activation  (None, None, None,   0          ['block6c_bn[0][0]']             \n",
      " )                              1152)                                                             \n",
      "                                                                                                  \n",
      " block6c_se_squeeze (GlobalAver  (None, 1152)        0           ['block6c_activation[0][0]']     \n",
      " agePooling2D)                                                                                    \n",
      "                                                                                                  \n",
      " block6c_se_reshape (Reshape)   (None, 1, 1, 1152)   0           ['block6c_se_squeeze[0][0]']     \n",
      "                                                                                                  \n",
      " block6c_se_reduce (Conv2D)     (None, 1, 1, 48)     55344       ['block6c_se_reshape[0][0]']     \n",
      "                                                                                                  \n",
      " block6c_se_expand (Conv2D)     (None, 1, 1, 1152)   56448       ['block6c_se_reduce[0][0]']      \n",
      "                                                                                                  \n",
      " block6c_se_excite (Multiply)   (None, None, None,   0           ['block6c_activation[0][0]',     \n",
      "                                1152)                             'block6c_se_expand[0][0]']      \n",
      "                                                                                                  \n",
      " block6c_project_conv (Conv2D)  (None, None, None,   221184      ['block6c_se_excite[0][0]']      \n",
      "                                192)                                                              \n",
      "                                                                                                  \n",
      " block6c_project_bn (BatchNorma  (None, None, None,   768        ['block6c_project_conv[0][0]']   \n",
      " lization)                      192)                                                              \n",
      "                                                                                                  \n",
      " block6c_drop (Dropout)         (None, None, None,   0           ['block6c_project_bn[0][0]']     \n",
      "                                192)                                                              \n",
      "                                                                                                  \n",
      " block6c_add (Add)              (None, None, None,   0           ['block6c_drop[0][0]',           \n",
      "                                192)                              'block6b_add[0][0]']            \n"
     ]
    },
    {
     "name": "stdout",
     "output_type": "stream",
     "text": [
      "                                                                                                  \n",
      " block6d_expand_conv (Conv2D)   (None, None, None,   221184      ['block6c_add[0][0]']            \n",
      "                                1152)                                                             \n",
      "                                                                                                  \n",
      " block6d_expand_bn (BatchNormal  (None, None, None,   4608       ['block6d_expand_conv[0][0]']    \n",
      " ization)                       1152)                                                             \n",
      "                                                                                                  \n",
      " block6d_expand_activation (Act  (None, None, None,   0          ['block6d_expand_bn[0][0]']      \n",
      " ivation)                       1152)                                                             \n",
      "                                                                                                  \n",
      " block6d_dwconv (DepthwiseConv2  (None, None, None,   28800      ['block6d_expand_activation[0][0]\n",
      " D)                             1152)                            ']                               \n",
      "                                                                                                  \n",
      " block6d_bn (BatchNormalization  (None, None, None,   4608       ['block6d_dwconv[0][0]']         \n",
      " )                              1152)                                                             \n",
      "                                                                                                  \n",
      " block6d_activation (Activation  (None, None, None,   0          ['block6d_bn[0][0]']             \n",
      " )                              1152)                                                             \n",
      "                                                                                                  \n",
      " block6d_se_squeeze (GlobalAver  (None, 1152)        0           ['block6d_activation[0][0]']     \n",
      " agePooling2D)                                                                                    \n",
      "                                                                                                  \n",
      " block6d_se_reshape (Reshape)   (None, 1, 1, 1152)   0           ['block6d_se_squeeze[0][0]']     \n",
      "                                                                                                  \n",
      " block6d_se_reduce (Conv2D)     (None, 1, 1, 48)     55344       ['block6d_se_reshape[0][0]']     \n",
      "                                                                                                  \n",
      " block6d_se_expand (Conv2D)     (None, 1, 1, 1152)   56448       ['block6d_se_reduce[0][0]']      \n",
      "                                                                                                  \n",
      " block6d_se_excite (Multiply)   (None, None, None,   0           ['block6d_activation[0][0]',     \n",
      "                                1152)                             'block6d_se_expand[0][0]']      \n",
      "                                                                                                  \n",
      " block6d_project_conv (Conv2D)  (None, None, None,   221184      ['block6d_se_excite[0][0]']      \n",
      "                                192)                                                              \n",
      "                                                                                                  \n",
      " block6d_project_bn (BatchNorma  (None, None, None,   768        ['block6d_project_conv[0][0]']   \n",
      " lization)                      192)                                                              \n",
      "                                                                                                  \n",
      " block6d_drop (Dropout)         (None, None, None,   0           ['block6d_project_bn[0][0]']     \n",
      "                                192)                                                              \n",
      "                                                                                                  \n",
      " block6d_add (Add)              (None, None, None,   0           ['block6d_drop[0][0]',           \n",
      "                                192)                              'block6c_add[0][0]']            \n",
      "                                                                                                  \n",
      " block7a_expand_conv (Conv2D)   (None, None, None,   221184      ['block6d_add[0][0]']            \n",
      "                                1152)                                                             \n",
      "                                                                                                  \n",
      " block7a_expand_bn (BatchNormal  (None, None, None,   4608       ['block7a_expand_conv[0][0]']    \n",
      " ization)                       1152)                                                             \n",
      "                                                                                                  \n",
      " block7a_expand_activation (Act  (None, None, None,   0          ['block7a_expand_bn[0][0]']      \n",
      " ivation)                       1152)                                                             \n",
      "                                                                                                  \n",
      " block7a_dwconv (DepthwiseConv2  (None, None, None,   10368      ['block7a_expand_activation[0][0]\n",
      " D)                             1152)                            ']                               \n",
      "                                                                                                  \n",
      " block7a_bn (BatchNormalization  (None, None, None,   4608       ['block7a_dwconv[0][0]']         \n",
      " )                              1152)                                                             \n",
      "                                                                                                  \n",
      " block7a_activation (Activation  (None, None, None,   0          ['block7a_bn[0][0]']             \n",
      " )                              1152)                                                             \n",
      "                                                                                                  \n",
      " block7a_se_squeeze (GlobalAver  (None, 1152)        0           ['block7a_activation[0][0]']     \n",
      " agePooling2D)                                                                                    \n",
      "                                                                                                  \n",
      " block7a_se_reshape (Reshape)   (None, 1, 1, 1152)   0           ['block7a_se_squeeze[0][0]']     \n",
      "                                                                                                  \n",
      " block7a_se_reduce (Conv2D)     (None, 1, 1, 48)     55344       ['block7a_se_reshape[0][0]']     \n",
      "                                                                                                  \n",
      " block7a_se_expand (Conv2D)     (None, 1, 1, 1152)   56448       ['block7a_se_reduce[0][0]']      \n",
      "                                                                                                  \n",
      " block7a_se_excite (Multiply)   (None, None, None,   0           ['block7a_activation[0][0]',     \n",
      "                                1152)                             'block7a_se_expand[0][0]']      \n",
      "                                                                                                  \n",
      " block7a_project_conv (Conv2D)  (None, None, None,   368640      ['block7a_se_excite[0][0]']      \n",
      "                                320)                                                              \n",
      "                                                                                                  \n",
      " block7a_project_bn (BatchNorma  (None, None, None,   1280       ['block7a_project_conv[0][0]']   \n",
      " lization)                      320)                                                              \n",
      "                                                                                                  \n",
      " top_conv (Conv2D)              (None, None, None,   409600      ['block7a_project_bn[0][0]']     \n",
      "                                1280)                                                             \n",
      "                                                                                                  \n",
      " top_bn (BatchNormalization)    (None, None, None,   5120        ['top_conv[0][0]']               \n"
     ]
    },
    {
     "name": "stdout",
     "output_type": "stream",
     "text": [
      "                                1280)                                                             \n",
      "                                                                                                  \n",
      " top_activation (Activation)    (None, None, None,   0           ['top_bn[0][0]']                 \n",
      "                                1280)                                                             \n",
      "                                                                                                  \n",
      "==================================================================================================\n",
      "Total params: 4,049,571\n",
      "Trainable params: 0\n",
      "Non-trainable params: 4,049,571\n",
      "__________________________________________________________________________________________________\n"
     ]
    }
   ],
   "source": [
    "# How about we get a summary of the base model?\n",
    "\n",
    "base_model.summary()"
   ]
  },
  {
   "cell_type": "code",
   "execution_count": 109,
   "id": "7b4d57d3",
   "metadata": {},
   "outputs": [
    {
     "name": "stdout",
     "output_type": "stream",
     "text": [
      "Model: \"model_3\"\n",
      "_________________________________________________________________\n",
      " Layer (type)                Output Shape              Param #   \n",
      "=================================================================\n",
      " input_layer (InputLayer)    [(None, 224, 224, 3)]     0         \n",
      "                                                                 \n",
      " efficientnetb0 (Functional)  (None, None, None, 1280)  4049571  \n",
      "                                                                 \n",
      " global_average_pooling_laye  (None, 1280)             0         \n",
      " r (GlobalAveragePooling2D)                                      \n",
      "                                                                 \n",
      " output_layer (Dense)        (None, 10)                12810     \n",
      "                                                                 \n",
      "=================================================================\n",
      "Total params: 4,062,381\n",
      "Trainable params: 12,810\n",
      "Non-trainable params: 4,049,571\n",
      "_________________________________________________________________\n"
     ]
    }
   ],
   "source": [
    "# How about a summary of our whole model?\n",
    "model_0.summary()"
   ]
  },
  {
   "cell_type": "code",
   "execution_count": 110,
   "id": "d4606727",
   "metadata": {},
   "outputs": [
    {
     "data": {
      "image/png": "[encoded data removed]",
      "text/plain": [
       "<Figure size 432x288 with 1 Axes>"
      ]
     },
     "metadata": {
      "needs_background": "light"
     },
     "output_type": "display_data"
    },
    {
     "data": {
      "image/png": "[encoded data removed]",
      "text/plain": [
       "<Figure size 432x288 with 1 Axes>"
      ]
     },
     "metadata": {
      "needs_background": "light"
     },
     "output_type": "display_data"
    }
   ],
   "source": [
    "# Check out our model's training curves\n",
    "plot_loss_curves(history_10_percent)"
   ]
  },
  {
   "cell_type": "markdown",
   "id": "d972fa9e",
   "metadata": {},
   "source": [
    "## Getting a feature vector from a trained model\n",
    "\n",
    "Let's demonstrate the Global Average Pooling 2D layer...\n",
    "\n",
    "We have a tensor after our model goes through `base_model` of shape (None, 7, 7, 1280).\n",
    "\n",
    "But then it passes through GlobalAveragePooling2D, it turns into (None, 1280).\n",
    "\n",
    "Let's use a similar shaped tensor of (1,4,4,3) and pass it to GlobalAveragePooling2D."
   ]
  },
  {
   "cell_type": "code",
   "execution_count": 111,
   "id": "a7c9c051",
   "metadata": {},
   "outputs": [
    {
     "name": "stdout",
     "output_type": "stream",
     "text": [
      "Random input tensor: \n",
      "[[[[ 0.3274685  -0.8426258   0.3194337 ]\n",
      "   [-1.4075519  -2.3880599  -1.0392479 ]\n",
      "   [-0.5573232   0.539707    1.6994323 ]\n",
      "   [ 0.28893656 -1.5066116  -0.2645474 ]]\n",
      "\n",
      "  [[-0.59722406 -1.9171132  -0.62044144]\n",
      "   [ 0.8504023  -0.40604794 -3.0258412 ]\n",
      "   [ 0.9058464   0.29855987 -0.22561555]\n",
      "   [-0.7616443  -1.8917141  -0.93847126]]\n",
      "\n",
      "  [[ 0.77852213 -0.47338897  0.97772694]\n",
      "   [ 0.24694404  0.20573747 -0.5256233 ]\n",
      "   [ 0.32410017  0.02545409 -0.10638497]\n",
      "   [-0.6369475   1.1603122   0.2507359 ]]\n",
      "\n",
      "  [[-0.41728503  0.4012578  -1.4145443 ]\n",
      "   [-0.5931857  -1.6617213   0.33567193]\n",
      "   [ 0.10815629  0.23479682 -0.56668764]\n",
      "   [-0.35819843  0.88698614  0.52744764]]]]\n",
      "\n",
      "2D global average pooled random tensor:\n",
      " [[-0.09368646 -0.45840448 -0.2885598 ]]\n",
      "\n",
      "Shape of input tensor: (1, 4, 4, 3)\n",
      "Shape of Global average Pooled 2D tensor: (1, 3)\n"
     ]
    }
   ],
   "source": [
    "# Define the input shape\n",
    "input_shape = (1,4,4,3)\n",
    "\n",
    "# Create a random tensor\n",
    "tf.random.set_seed(42)\n",
    "input_tensor = tf.random.normal(input_shape)\n",
    "print(f\"Random input tensor: \\n{input_tensor}\\n\")\n",
    "\n",
    "# Pass the random tensor through a global average pooling 2D layer\n",
    "global_average_pooled_tensor = tf.keras.layers.GlobalAveragePooling2D()(input_tensor)\n",
    "print(f\"2D global average pooled random tensor:\\n {global_average_pooled_tensor}\\n\")\n",
    "\n",
    "# Check the shape of the fidderent tensors\n",
    "print(f\"Shape of input tensor: {input_tensor.shape}\")\n",
    "print(f\"Shape of Global average Pooled 2D tensor: {global_average_pooled_tensor.shape}\")"
   ]
  },
  {
   "cell_type": "code",
   "execution_count": 112,
   "id": "66fa0764",
   "metadata": {},
   "outputs": [
    {
     "data": {
      "text/plain": [
       "<tf.Tensor: shape=(1, 3), dtype=float32, numpy=array([[-0.09368646, -0.45840448, -0.2885598 ]], dtype=float32)>"
      ]
     },
     "execution_count": 112,
     "metadata": {},
     "output_type": "execute_result"
    }
   ],
   "source": [
    "# Let's replicate the GlobalAveragePool2D layer\n",
    "tf.reduce_mean(input_tensor, axis=[1,2])"
   ]
  },
  {
   "cell_type": "code",
   "execution_count": 113,
   "id": "8b8ea693",
   "metadata": {},
   "outputs": [
    {
     "name": "stdout",
     "output_type": "stream",
     "text": [
      "2D global max pooled random tensor: \n",
      "[[0.9058464 1.1603122 1.6994323]]\n",
      "\n",
      "Shape of global max pooled tensor: \n",
      " (1, 3)\n",
      "\n"
     ]
    }
   ],
   "source": [
    "# GlobalMaxPool2D\n",
    "global_max_pooled_tensor = tf.keras.layers.GlobalMaxPool2D()(input_tensor)\n",
    "print(f\"2D global max pooled random tensor: \\n{global_max_pooled_tensor}\\n\")\n",
    "print(f\"Shape of global max pooled tensor: \\n {global_max_pooled_tensor.shape}\\n\")"
   ]
  },
  {
   "cell_type": "code",
   "execution_count": 114,
   "id": "66e07cc3",
   "metadata": {},
   "outputs": [
    {
     "data": {
      "text/plain": [
       "<tf.Tensor: shape=(1, 3), dtype=float32, numpy=array([[0.9058464, 1.1603122, 1.6994323]], dtype=float32)>"
      ]
     },
     "execution_count": 114,
     "metadata": {},
     "output_type": "execute_result"
    }
   ],
   "source": [
    "tf.reduce_max(input_tensor, axis=[1,2])"
   ]
  },
  {
   "cell_type": "markdown",
   "id": "ce13a1f9",
   "metadata": {},
   "source": [
    "> 🔑 **Note:** One of the reasons feature extraction transfer learning is named how it is is because what often happens is pretrained model outputs a feature vector (a long tensor of numbers which represents the learned representation of the model on a particular sample, in our case, this is the output of the `tf.keras.layers.GlobalAveragePooling2D()` layer) which can then be used to extract patterns out of for our own specifc problem."
   ]
  },
  {
   "cell_type": "markdown",
   "id": "6e7693ec",
   "metadata": {},
   "source": [
    "## Running a series of transfer learning erxperiments\n",
    "\n",
    "We've seen the incredible results transfer learning can get with only 10% of the training data, but how does it go with 1% of the training data... how about we set up a bunch of experiments to find out:\n",
    "\n",
    "1. `model_1` - use feature extraction transfer learning with 1% of the training data with data augmentation\n",
    "2. `model_2` - use feature extraction transfer learning with 10% of the training data with data augmentation\n",
    "3. `model_3` - use fine-tuning transfer learning on 10% of the training data with data augmentation\n",
    "4. `model_4` - use fine-tuning transfer learning on 100% of the training data with data augmentation\n",
    "\n",
    "> 🔑 **Note:** throughout all experiments the same test dataset will be used to evaluate our model... this ensures consistency across evaluation metrics."
   ]
  },
  {
   "cell_type": "markdown",
   "id": "8c924d46",
   "metadata": {},
   "source": [
    "### Getting and preprocessing data for model_1"
   ]
  },
  {
   "cell_type": "code",
   "execution_count": 38,
   "id": "7e91f2e9",
   "metadata": {},
   "outputs": [
    {
     "name": "stdout",
     "output_type": "stream",
     "text": [
      "--2022-07-17 10:44:31--  https://storage.googleapis.com/ztm_tf_course/food_vision/10_food_classes_1_percent.zip\n",
      "Resolving storage.googleapis.com (storage.googleapis.com)... 172.217.16.176, 142.251.36.240, 142.251.36.176, ...\n",
      "Connecting to storage.googleapis.com (storage.googleapis.com)|172.217.16.176|:443... connected.\n",
      "HTTP request sent, awaiting response... 200 OK\n",
      "Length: 133612354 (127M) [application/zip]\n",
      "Saving to: ‘10_food_classes_1_percent.zip’\n",
      "\n",
      "10_food_classes_1_p 100%[===================>] 127.42M  6.25MB/s    in 21s     \n",
      "\n",
      "2022-07-17 10:44:52 (6.15 MB/s) - ‘10_food_classes_1_percent.zip’ saved [133612354/133612354]\n",
      "\n",
      "mv: cannot move '10_food_classes_1_percent.zip' to '/data': Permission denied\n",
      "mv: cannot move '10_food_classes_1_percent' to '/data': Permission denied\n"
     ]
    }
   ],
   "source": [
    "# Download and unzip data - preprocessed from Food101\n",
    "!wget https://storage.googleapis.com/ztm_tf_course/food_vision/10_food_classes_1_percent.zip\n",
    "    \n",
    "unzip_data(\"10_food_classes_1_percent.zip\")"
   ]
  },
  {
   "cell_type": "code",
   "execution_count": 115,
   "id": "826c6754",
   "metadata": {},
   "outputs": [],
   "source": [
    "# Create training and test dirs\n",
    "train_dir_1_percent = \"data/10_food_classes_1_percent/train\"\n",
    "test_dir_1_percent = \"data/10_food_classes_1_percent/test\""
   ]
  },
  {
   "cell_type": "code",
   "execution_count": 116,
   "id": "bc4c5737",
   "metadata": {},
   "outputs": [
    {
     "name": "stdout",
     "output_type": "stream",
     "text": [
      "There are 2 directories and 0 images in 'data/10_food_classes_1_percent'.\n",
      "There are 10 directories and 0 images in 'data/10_food_classes_1_percent/test'.\n",
      "There are 0 directories and 250 images in 'data/10_food_classes_1_percent/test/hamburger'.\n",
      "There are 0 directories and 250 images in 'data/10_food_classes_1_percent/test/chicken_wings'.\n",
      "There are 0 directories and 250 images in 'data/10_food_classes_1_percent/test/fried_rice'.\n",
      "There are 0 directories and 250 images in 'data/10_food_classes_1_percent/test/sushi'.\n",
      "There are 0 directories and 250 images in 'data/10_food_classes_1_percent/test/grilled_salmon'.\n",
      "There are 0 directories and 250 images in 'data/10_food_classes_1_percent/test/pizza'.\n",
      "There are 0 directories and 250 images in 'data/10_food_classes_1_percent/test/ice_cream'.\n",
      "There are 0 directories and 250 images in 'data/10_food_classes_1_percent/test/steak'.\n",
      "There are 0 directories and 250 images in 'data/10_food_classes_1_percent/test/ramen'.\n",
      "There are 0 directories and 250 images in 'data/10_food_classes_1_percent/test/chicken_curry'.\n",
      "There are 10 directories and 0 images in 'data/10_food_classes_1_percent/train'.\n",
      "There are 0 directories and 7 images in 'data/10_food_classes_1_percent/train/hamburger'.\n",
      "There are 0 directories and 7 images in 'data/10_food_classes_1_percent/train/chicken_wings'.\n",
      "There are 0 directories and 7 images in 'data/10_food_classes_1_percent/train/fried_rice'.\n",
      "There are 0 directories and 7 images in 'data/10_food_classes_1_percent/train/sushi'.\n",
      "There are 0 directories and 7 images in 'data/10_food_classes_1_percent/train/grilled_salmon'.\n",
      "There are 0 directories and 7 images in 'data/10_food_classes_1_percent/train/pizza'.\n",
      "There are 0 directories and 7 images in 'data/10_food_classes_1_percent/train/ice_cream'.\n",
      "There are 0 directories and 7 images in 'data/10_food_classes_1_percent/train/steak'.\n",
      "There are 0 directories and 7 images in 'data/10_food_classes_1_percent/train/ramen'.\n",
      "There are 0 directories and 7 images in 'data/10_food_classes_1_percent/train/chicken_curry'.\n"
     ]
    }
   ],
   "source": [
    "# How many images are we working with?\n",
    "walk_through_dir(\"data/10_food_classes_1_percent\")"
   ]
  },
  {
   "cell_type": "code",
   "execution_count": 117,
   "id": "d5060252",
   "metadata": {},
   "outputs": [
    {
     "name": "stdout",
     "output_type": "stream",
     "text": [
      "Found 70 files belonging to 10 classes.\n",
      "Found 2500 files belonging to 10 classes.\n"
     ]
    }
   ],
   "source": [
    "# Set up data loaders\n",
    "IMG_SIZE=(224,224)\n",
    "BATCH_SIZE=32\n",
    "train_data_1_percent = tf.keras.preprocessing.image_dataset_from_directory(train_dir_1_percent,\n",
    "                                                                          label_mode=\"categorical\",\n",
    "                                                                          image_size=IMG_SIZE,\n",
    "                                                                          batch_size=BATCH_SIZE) # default\n",
    "\n",
    "test_data_1_percent = tf.keras.preprocessing.image_dataset_from_directory(test_dir_1_percent,\n",
    "                                                                         label_mode=\"categorical\",\n",
    "                                                                         image_size=IMG_SIZE,\n",
    "                                                                         batch_size=BATCH_SIZE)"
   ]
  },
  {
   "cell_type": "markdown",
   "id": "90857286",
   "metadata": {},
   "source": [
    "## Adding data augmentation right into the model\n",
    "\n",
    "To add data augmentation right into our model, we can use the layers inside:\n",
    "\n",
    "* `tf.keras.layers.experimental.preprocessing()`\n",
    "\n",
    "We can see the benefits of doing this within the TensorFlow DAta augmentation documentation\n",
    "\n",
    "Off the top of our heads, after reading the docs, the benefits of using data augmentation inside the model are:\n",
    "\n",
    "* Preprocessing of images (augmenting them) happens on the GPU (much faster) rather than the CPU\n",
    "* Image data augmentation only happen during trainig, so we can still export our whole model and use it elsewhere."
   ]
  },
  {
   "cell_type": "code",
   "execution_count": 118,
   "id": "7c25ad7e",
   "metadata": {},
   "outputs": [],
   "source": [
    "import tensorflow as tf\n",
    "from tensorflow import keras\n",
    "from tensorflow.keras import layers\n",
    "from tensorflow.keras.layers.experimental import preprocessing\n",
    "\n",
    "# Create data augmentation stage with horizontal flipping, rotations, zooms, etc\n",
    "data_augmentation = keras.Sequential([\n",
    "    preprocessing.RandomFlip(\"horizontal\"),\n",
    "    preprocessing.RandomRotation(0.2),\n",
    "    preprocessing.RandomZoom(0.2),\n",
    "    preprocessing.RandomHeight(0.2),\n",
    "    preprocessing.RandomWidth(0.2),\n",
    "#    preprocessing.Rescaling(1./255) # Geep for model like ResNet50V2 but EfficientNet does not need it\n",
    "], name=\"data_augmentation\")"
   ]
  },
  {
   "cell_type": "markdown",
   "id": "8ed379f1",
   "metadata": {},
   "source": [
    "### Visualize our data augmentation layer (and see what happens to our data)"
   ]
  },
  {
   "cell_type": "code",
   "execution_count": 119,
   "id": "b0a64131",
   "metadata": {},
   "outputs": [
    {
     "data": {
      "text/plain": [
       "Text(0.5, 1.0, 'The augmented random image from class: steak')"
      ]
     },
     "execution_count": 119,
     "metadata": {},
     "output_type": "execute_result"
    },
    {
     "data": {
      "image/png": "[encoded data removed]",
      "text/plain": [
       "<Figure size 432x288 with 1 Axes>"
      ]
     },
     "metadata": {
      "needs_background": "light"
     },
     "output_type": "display_data"
    },
    {
     "data": {
      "image/png": "[encoded data removed]",
      "text/plain": [
       "<Figure size 432x288 with 1 Axes>"
      ]
     },
     "metadata": {
      "needs_background": "light"
     },
     "output_type": "display_data"
    }
   ],
   "source": [
    "# View a random image and compare it to its augmented version\n",
    "import matplotlib.pyplot as plt\n",
    "import matplotlib.image as mpimg\n",
    "import os\n",
    "import random\n",
    "\n",
    "target_class = random.choice(train_data_1_percent.class_names)\n",
    "target_dir = \"data/10_food_classes_1_percent/train/\" + target_class\n",
    "random_image = random.choice(os.listdir(target_dir))\n",
    "random_image_path = target_dir + \"/\" + random_image\n",
    "\n",
    "# Read and plot in the random image\n",
    "img = mpimg.imread(random_image_path)\n",
    "plt.title(f\"The original random image from class: {target_class}\")\n",
    "plt.axis(False)\n",
    "plt.imshow(img)\n",
    "\n",
    "# Now let's plot our augmented random image\n",
    "augmented_img = data_augmentation(tf.expand_dims(img, axis=0), training=True)\n",
    "plt.figure()\n",
    "plt.imshow(tf.squeeze(augmented_img)/255.)\n",
    "plt.axis(False)\n",
    "plt.title(f\"The augmented random image from class: {target_class}\")"
   ]
  },
  {
   "cell_type": "markdown",
   "id": "4b277cd1",
   "metadata": {},
   "source": [
    "## Model 1: Feature extraction transfer learning on 1% of the data with data augmentation"
   ]
  },
  {
   "cell_type": "code",
   "execution_count": 120,
   "id": "30a5f0e6",
   "metadata": {},
   "outputs": [
    {
     "name": "stdout",
     "output_type": "stream",
     "text": [
      "Saving TensorBoard log files to: transfer_learning/1_percent_data_aug/20220718-110723\n",
      "Epoch 1/5\n",
      "3/3 [==============================] - 8s 2s/step - loss: 2.4413 - accuracy: 0.1000 - val_loss: 2.2575 - val_accuracy: 0.1813\n",
      "Epoch 2/5\n",
      "3/3 [==============================] - 2s 1s/step - loss: 2.1302 - accuracy: 0.2571 - val_loss: 2.1244 - val_accuracy: 0.2453\n",
      "Epoch 3/5\n",
      "3/3 [==============================] - 2s 1s/step - loss: 1.9863 - accuracy: 0.3286 - val_loss: 2.0256 - val_accuracy: 0.3078\n",
      "Epoch 4/5\n",
      "3/3 [==============================] - 2s 1s/step - loss: 1.8150 - accuracy: 0.4571 - val_loss: 1.9283 - val_accuracy: 0.3484\n",
      "Epoch 5/5\n",
      "3/3 [==============================] - 2s 924ms/step - loss: 1.6115 - accuracy: 0.7000 - val_loss: 1.8516 - val_accuracy: 0.4141\n"
     ]
    }
   ],
   "source": [
    "# Setup input shape and base model, freezing the base model layers\n",
    "input_shape = (224,224,3)\n",
    "base_model = tf.keras.applications.EfficientNetB0(include_top=False)\n",
    "base_model.trainable = False\n",
    "\n",
    "# Create input layer\n",
    "inputs = layers.Input(shape=input_shape, name=\"input_layer\")\n",
    "\n",
    "# Add in data augmentation Sequential model as layer\n",
    "x = data_augmentation(inputs, training=True)\n",
    "\n",
    "# Give base_model the inputs (after augmentation and don't train it)\n",
    "x = base_model(x, training=False)\n",
    "\n",
    "# Pool output features of the base model\n",
    "x = layers.GlobalAveragePooling2D(name=\"global_average_pooling_layer\")(x)\n",
    "\n",
    "# Put a dense layer on as the output\n",
    "outputs = layers.Dense(10, activation=\"softmax\", name=\"output_layer\")(x)\n",
    "\n",
    "# Make a model using the inputs and outputs\n",
    "model_1 = keras.Model(inputs, outputs)\n",
    "\n",
    "# Compile the model\n",
    "model_1.compile(loss=\"categorical_crossentropy\",\n",
    "               optimizer=tf.keras.optimizers.Adam(),\n",
    "               metrics=[\"accuracy\"])\n",
    "\n",
    "# Fit the model\n",
    "history_1_percent = model_1.fit(train_data_1_percent,\n",
    "                                epochs=5,\n",
    "                                steps_per_epoch=len(train_data_1_percent),\n",
    "                                validation_data=test_data_1_percent,\n",
    "                                validation_steps=(0.25*len(test_data_1_percent)),\n",
    "                                callbacks=[create_tensorboard_callback(dir_name=\"transfer_learning\",\n",
    "                                                                     experiment_name=\"1_percent_data_aug\")])"
   ]
  },
  {
   "cell_type": "code",
   "execution_count": 121,
   "id": "6765e1a4",
   "metadata": {},
   "outputs": [
    {
     "name": "stdout",
     "output_type": "stream",
     "text": [
      "Model: \"model_4\"\n",
      "_________________________________________________________________\n",
      " Layer (type)                Output Shape              Param #   \n",
      "=================================================================\n",
      " input_layer (InputLayer)    [(None, 224, 224, 3)]     0         \n",
      "                                                                 \n",
      " data_augmentation (Sequenti  (None, None, None, 3)    0         \n",
      " al)                                                             \n",
      "                                                                 \n",
      " efficientnetb0 (Functional)  (None, None, None, 1280)  4049571  \n",
      "                                                                 \n",
      " global_average_pooling_laye  (None, 1280)             0         \n",
      " r (GlobalAveragePooling2D)                                      \n",
      "                                                                 \n",
      " output_layer (Dense)        (None, 10)                12810     \n",
      "                                                                 \n",
      "=================================================================\n",
      "Total params: 4,062,381\n",
      "Trainable params: 12,810\n",
      "Non-trainable params: 4,049,571\n",
      "_________________________________________________________________\n"
     ]
    }
   ],
   "source": [
    "# Check out our model\n",
    "model_1.summary()"
   ]
  },
  {
   "cell_type": "code",
   "execution_count": 122,
   "id": "0a58a209",
   "metadata": {},
   "outputs": [
    {
     "name": "stdout",
     "output_type": "stream",
     "text": [
      "79/79 [==============================] - 8s 102ms/step - loss: 1.8362 - accuracy: 0.4340\n"
     ]
    },
    {
     "data": {
      "text/plain": [
       "[1.8362287282943726, 0.4339999854564667]"
      ]
     },
     "execution_count": 122,
     "metadata": {},
     "output_type": "execute_result"
    }
   ],
   "source": [
    "# Evaluate on the full test data\n",
    "model_1.evaluate(test_data_1_percent)"
   ]
  },
  {
   "cell_type": "code",
   "execution_count": 123,
   "id": "d32532ce",
   "metadata": {},
   "outputs": [
    {
     "data": {
      "image/png": "[encoded data removed]",
      "text/plain": [
       "<Figure size 432x288 with 1 Axes>"
      ]
     },
     "metadata": {
      "needs_background": "light"
     },
     "output_type": "display_data"
    },
    {
     "data": {
      "image/png": "[encoded data removed]",
      "text/plain": [
       "<Figure size 432x288 with 1 Axes>"
      ]
     },
     "metadata": {
      "needs_background": "light"
     },
     "output_type": "display_data"
    }
   ],
   "source": [
    "# How does the model with 1% of the data and data augmentation loss curves look like?\n",
    "plot_loss_curves(history_1_percent)"
   ]
  },
  {
   "cell_type": "markdown",
   "id": "4e4490f3",
   "metadata": {},
   "source": [
    "## Model 2: Feature extraction transfer learning on 10% of the data with data augmentation"
   ]
  },
  {
   "cell_type": "code",
   "execution_count": 124,
   "id": "8a78628d",
   "metadata": {},
   "outputs": [],
   "source": [
    "# Get 10% of training data of 10 classes of Food101\n",
    "#!wget https://storage.googleapis.com/ztm_tf_course/food_vision/10_food_classes_10_percent.zip\n",
    "#unzip_data(\"10_food_classes_10_precent.zip\")"
   ]
  },
  {
   "cell_type": "code",
   "execution_count": 125,
   "id": "c7abc3b9",
   "metadata": {},
   "outputs": [],
   "source": [
    "train_dir_10_percent = \"data/10_food_classes_10_percent/train\"\n",
    "test_dir = \"data/10_food_classes_10_percent/test\""
   ]
  },
  {
   "cell_type": "code",
   "execution_count": 126,
   "id": "818f28c1",
   "metadata": {},
   "outputs": [
    {
     "name": "stdout",
     "output_type": "stream",
     "text": [
      "There are 10 directories and 0 images in 'data/10_food_classes_10_percent/train'.\n",
      "There are 0 directories and 75 images in 'data/10_food_classes_10_percent/train/hamburger'.\n",
      "There are 0 directories and 75 images in 'data/10_food_classes_10_percent/train/chicken_wings'.\n",
      "There are 0 directories and 75 images in 'data/10_food_classes_10_percent/train/fried_rice'.\n",
      "There are 0 directories and 75 images in 'data/10_food_classes_10_percent/train/sushi'.\n",
      "There are 0 directories and 75 images in 'data/10_food_classes_10_percent/train/grilled_salmon'.\n",
      "There are 0 directories and 75 images in 'data/10_food_classes_10_percent/train/pizza'.\n",
      "There are 0 directories and 75 images in 'data/10_food_classes_10_percent/train/ice_cream'.\n",
      "There are 0 directories and 75 images in 'data/10_food_classes_10_percent/train/steak'.\n",
      "There are 0 directories and 75 images in 'data/10_food_classes_10_percent/train/ramen'.\n",
      "There are 0 directories and 75 images in 'data/10_food_classes_10_percent/train/chicken_curry'.\n"
     ]
    }
   ],
   "source": [
    "# How many images are in our directories\n",
    "walk_through_dir(train_dir_10_percent)"
   ]
  },
  {
   "cell_type": "code",
   "execution_count": 127,
   "id": "5f556f31",
   "metadata": {},
   "outputs": [],
   "source": [
    "import tensorflow as tf"
   ]
  },
  {
   "cell_type": "code",
   "execution_count": 128,
   "id": "4488da2d",
   "metadata": {},
   "outputs": [
    {
     "name": "stdout",
     "output_type": "stream",
     "text": [
      "Found 750 files belonging to 10 classes.\n",
      "Found 2500 files belonging to 10 classes.\n"
     ]
    }
   ],
   "source": [
    "# Set data inputs\n",
    "IMG_SIZE = (224,224)\n",
    "train_data_10_percent = tf.keras.preprocessing.image_dataset_from_directory(train_dir_10_percent,\n",
    "                                                                           label_mode=\"categorical\",\n",
    "                                                                           image_size=IMG_SIZE)\n",
    "\n",
    "test_data_10_percent = tf.keras.preprocessing.image_dataset_from_directory(test_dir,\n",
    "                                                                          label_mode=\"categorical\",\n",
    "                                                                          image_size=IMG_SIZE)"
   ]
  },
  {
   "cell_type": "code",
   "execution_count": 129,
   "id": "b5ee9d79",
   "metadata": {},
   "outputs": [],
   "source": [
    "# Create model 2 with data augmentation built in\n",
    "from tensorflow.keras import layers\n",
    "from tensorflow.keras.layers.experimental import preprocessing\n",
    "from tensorflow.keras.models import Sequential\n",
    "\n",
    "# Build data augmentation layer\n",
    "data_augmentation = Sequential([\n",
    "    preprocessing.RandomFlip(\"horizontal\"),\n",
    "    preprocessing.RandomHeight(0.2),\n",
    "    preprocessing.RandomWidth(0.2),\n",
    "    preprocessing.RandomZoom(0.2),\n",
    "    preprocessing.RandomRotation(0.2),\n",
    "#    preprocessing.Rescaling(1/255.) # if you're using a model such as ResNet \n",
    "], name=\"data_augmentation\")\n",
    "\n",
    "# Setup the input shape to our model\n",
    "input_shape = (224,224,3)\n",
    "\n",
    "# Create a frozen base model (also called the backbone)\n",
    "base_model = tf.keras.applications.EfficientNetB0(include_top=False)\n",
    "base_model.trainable = False\n",
    "\n",
    "# Create the inputs and outputs (including the layers in between)\n",
    "inputs = layers.Input(shape=input_shape, name=\"input_layer\")\n",
    "x = data_augmentation(inputs, training=True) # augment our training images (augmentation doesn't occur on test data)\n",
    "x = base_model(x, training=False) # pass augmented images to base model but keep it in inference mode, this also insures batchnorm layers don't get updated\n",
    "x = layers.GlobalAveragePooling2D(name=\"global_avarage_pooling_layer\")(x)\n",
    "outputs = layers.Dense(10, activation=\"softmax\", name=\"output_layer\")(x)\n",
    "model_2 = tf.keras.Model(inputs, outputs)\n",
    "\n",
    "# Compile model\n",
    "model_2.compile(loss=\"categorical_crossentropy\",\n",
    "               optimizer=tf.keras.optimizers.Adam(),\n",
    "               metrics=[\"accuracy\"])"
   ]
  },
  {
   "cell_type": "code",
   "execution_count": 130,
   "id": "ec69d203",
   "metadata": {},
   "outputs": [
    {
     "name": "stdout",
     "output_type": "stream",
     "text": [
      "Model: \"model_5\"\n",
      "_________________________________________________________________\n",
      " Layer (type)                Output Shape              Param #   \n",
      "=================================================================\n",
      " input_layer (InputLayer)    [(None, 224, 224, 3)]     0         \n",
      "                                                                 \n",
      " data_augmentation (Sequenti  (None, None, None, 3)    0         \n",
      " al)                                                             \n",
      "                                                                 \n",
      " efficientnetb0 (Functional)  (None, None, None, 1280)  4049571  \n",
      "                                                                 \n",
      " global_avarage_pooling_laye  (None, 1280)             0         \n",
      " r (GlobalAveragePooling2D)                                      \n",
      "                                                                 \n",
      " output_layer (Dense)        (None, 10)                12810     \n",
      "                                                                 \n",
      "=================================================================\n",
      "Total params: 4,062,381\n",
      "Trainable params: 12,810\n",
      "Non-trainable params: 4,049,571\n",
      "_________________________________________________________________\n"
     ]
    }
   ],
   "source": [
    "model_2.summary()"
   ]
  },
  {
   "cell_type": "markdown",
   "id": "41ea9d87",
   "metadata": {},
   "source": [
    "### Creating a ModelCheckpoint callback\n",
    "\n",
    "The ModelCheckpoint callback intermediately saves our model (the full model or just the weights) during training. This is useful so we can come and start where we left off."
   ]
  },
  {
   "cell_type": "code",
   "execution_count": 131,
   "id": "a9cac8d0",
   "metadata": {},
   "outputs": [],
   "source": [
    "# Set checkpoint path\n",
    "checkpoint_path = \"ten_percent_model_checkpoints_weights/checkpoints.ckpt\"\n",
    "\n",
    "# Create a ModelCheckpoint callback that saves the model's weights only\n",
    "checkpoint_callback = tf.keras.callbacks.ModelCheckpoint(filepath=checkpoint_path,\n",
    "                                                        save_weights_only=True,\n",
    "                                                        save_best_only=False,\n",
    "                                                        save_freq=\"epoch\",\n",
    "                                                        verbose=1) # save every epoch"
   ]
  },
  {
   "cell_type": "markdown",
   "id": "ca324f75",
   "metadata": {},
   "source": [
    "### Fit model 2 passing in the ModelCheckpoint callback"
   ]
  },
  {
   "cell_type": "code",
   "execution_count": 132,
   "id": "6d1f8b19",
   "metadata": {},
   "outputs": [
    {
     "name": "stdout",
     "output_type": "stream",
     "text": [
      "Saving TensorBoard log files to: transfer_learning/10_percent_data_aug/20220718-110751\n",
      "Epoch 1/5\n",
      "24/24 [==============================] - ETA: 0s - loss: 1.9783 - accuracy: 0.3720\n",
      "Epoch 1: saving model to ten_percent_model_checkpoints_weights/checkpoints.ckpt\n",
      "24/24 [==============================] - 11s 292ms/step - loss: 1.9783 - accuracy: 0.3720 - val_loss: 1.5054 - val_accuracy: 0.6672\n",
      "Epoch 2/5\n",
      "24/24 [==============================] - ETA: 0s - loss: 1.2824 - accuracy: 0.7040\n",
      "Epoch 2: saving model to ten_percent_model_checkpoints_weights/checkpoints.ckpt\n",
      "24/24 [==============================] - 5s 202ms/step - loss: 1.2824 - accuracy: 0.7040 - val_loss: 1.0928 - val_accuracy: 0.7641\n",
      "Epoch 3/5\n",
      "24/24 [==============================] - ETA: 0s - loss: 0.9759 - accuracy: 0.7787\n",
      "Epoch 3: saving model to ten_percent_model_checkpoints_weights/checkpoints.ckpt\n",
      "24/24 [==============================] - 5s 198ms/step - loss: 0.9759 - accuracy: 0.7787 - val_loss: 0.9046 - val_accuracy: 0.7969\n",
      "Epoch 4/5\n",
      "24/24 [==============================] - ETA: 0s - loss: 0.8384 - accuracy: 0.8107\n",
      "Epoch 4: saving model to ten_percent_model_checkpoints_weights/checkpoints.ckpt\n",
      "24/24 [==============================] - 4s 179ms/step - loss: 0.8384 - accuracy: 0.8107 - val_loss: 0.8088 - val_accuracy: 0.8016\n",
      "Epoch 5/5\n",
      "24/24 [==============================] - ETA: 0s - loss: 0.7286 - accuracy: 0.8187\n",
      "Epoch 5: saving model to ten_percent_model_checkpoints_weights/checkpoints.ckpt\n",
      "24/24 [==============================] - 5s 189ms/step - loss: 0.7286 - accuracy: 0.8187 - val_loss: 0.7474 - val_accuracy: 0.8125\n"
     ]
    }
   ],
   "source": [
    "# Fit the model saving checkpoints every epoch\n",
    "initial_epochs = 5\n",
    "history_10_percent_data_aug = model_2.fit(train_data_10_percent,\n",
    "                                          epochs=initial_epochs,\n",
    "                                          steps_per_epoch=len(train_data_10_percent),\n",
    "                                          validation_data=test_data,\n",
    "                                          validation_steps=(0.25 * len(test_data)),\n",
    "                                          callbacks=[create_tensorboard_callback(dir_name=\"transfer_learning\",\n",
    "                                                                                 experiment_name=\"10_percent_data_aug\"),\n",
    "                                                     checkpoint_callback])"
   ]
  },
  {
   "cell_type": "code",
   "execution_count": 133,
   "id": "91a58682",
   "metadata": {},
   "outputs": [
    {
     "name": "stdout",
     "output_type": "stream",
     "text": [
      "79/79 [==============================] - 6s 68ms/step - loss: 0.5605 - accuracy: 0.8592\n"
     ]
    },
    {
     "data": {
      "text/plain": [
       "[0.5605053901672363, 0.8592000007629395]"
      ]
     },
     "execution_count": 133,
     "metadata": {},
     "output_type": "execute_result"
    }
   ],
   "source": [
    "# What were model_0 results?\n",
    "model_0.evaluate(test_data)"
   ]
  },
  {
   "cell_type": "code",
   "execution_count": 134,
   "id": "ab717b75",
   "metadata": {},
   "outputs": [
    {
     "name": "stdout",
     "output_type": "stream",
     "text": [
      "79/79 [==============================] - 8s 102ms/step - loss: 0.7440 - accuracy: 0.8060\n"
     ]
    },
    {
     "data": {
      "text/plain": [
       "[0.7440362572669983, 0.8059999942779541]"
      ]
     },
     "execution_count": 134,
     "metadata": {},
     "output_type": "execute_result"
    }
   ],
   "source": [
    "# Check model_2 results on all test_data\n",
    "results_10_percent_data_aug = model_2.evaluate(test_data)\n",
    "results_10_percent_data_aug"
   ]
  },
  {
   "cell_type": "code",
   "execution_count": 135,
   "id": "8e9ab842",
   "metadata": {},
   "outputs": [
    {
     "data": {
      "image/png": "[encoded data removed]",
      "text/plain": [
       "<Figure size 432x288 with 1 Axes>"
      ]
     },
     "metadata": {
      "needs_background": "light"
     },
     "output_type": "display_data"
    },
    {
     "data": {
      "image/png": "[encoded data removed]",
      "text/plain": [
       "<Figure size 432x288 with 1 Axes>"
      ]
     },
     "metadata": {
      "needs_background": "light"
     },
     "output_type": "display_data"
    }
   ],
   "source": [
    "# Plot model loss curves\n",
    "plot_loss_curves(history_10_percent_data_aug)"
   ]
  },
  {
   "cell_type": "markdown",
   "id": "3bab7064",
   "metadata": {},
   "source": [
    "### Loading in checkpointed weights\n",
    "\n",
    "Loading in checkpointed weights returns a model to a specdific checkpoint"
   ]
  },
  {
   "cell_type": "code",
   "execution_count": 136,
   "id": "c0efc5d7",
   "metadata": {},
   "outputs": [
    {
     "data": {
      "text/plain": [
       "<tensorflow.python.training.tracking.util.CheckpointLoadStatus at 0x7f0f2345a610>"
      ]
     },
     "execution_count": 136,
     "metadata": {},
     "output_type": "execute_result"
    }
   ],
   "source": [
    "# Load in saved model weights and evaluate model\n",
    "model_2.load_weights(checkpoint_path)"
   ]
  },
  {
   "cell_type": "code",
   "execution_count": 137,
   "id": "71f3fca3",
   "metadata": {},
   "outputs": [
    {
     "name": "stdout",
     "output_type": "stream",
     "text": [
      "79/79 [==============================] - 8s 105ms/step - loss: 0.7354 - accuracy: 0.8228\n"
     ]
    }
   ],
   "source": [
    "# Evaluate model_2 with loaded weights\n",
    "loaded_weights_model_results = model_2.evaluate(test_data)"
   ]
  },
  {
   "cell_type": "code",
   "execution_count": 138,
   "id": "e4691a7a",
   "metadata": {},
   "outputs": [
    {
     "data": {
      "text/plain": [
       "False"
      ]
     },
     "execution_count": 138,
     "metadata": {},
     "output_type": "execute_result"
    }
   ],
   "source": [
    "# If the resutls from our previously evaluated model_2 match the loaded weights, everything has worked!\n",
    "results_10_percent_data_aug == loaded_weights_model_results"
   ]
  },
  {
   "cell_type": "code",
   "execution_count": 139,
   "id": "ef9095d2",
   "metadata": {},
   "outputs": [
    {
     "data": {
      "text/plain": [
       "[0.7440362572669983, 0.8059999942779541]"
      ]
     },
     "execution_count": 139,
     "metadata": {},
     "output_type": "execute_result"
    }
   ],
   "source": [
    "results_10_percent_data_aug"
   ]
  },
  {
   "cell_type": "code",
   "execution_count": 140,
   "id": "9ebe6125",
   "metadata": {},
   "outputs": [
    {
     "data": {
      "text/plain": [
       "[0.7354132533073425, 0.8227999806404114]"
      ]
     },
     "execution_count": 140,
     "metadata": {},
     "output_type": "execute_result"
    }
   ],
   "source": [
    "loaded_weights_model_results"
   ]
  },
  {
   "cell_type": "code",
   "execution_count": 141,
   "id": "4ff7e6b6",
   "metadata": {},
   "outputs": [
    {
     "data": {
      "text/plain": [
       "array([False, False])"
      ]
     },
     "execution_count": 141,
     "metadata": {},
     "output_type": "execute_result"
    }
   ],
   "source": [
    "# Check to see if loaded model results are very close to our previous non-loaded model results\n",
    "import numpy as np\n",
    "np.isclose(np.array(results_10_percent_data_aug), np.array(loaded_weights_model_results))"
   ]
  },
  {
   "cell_type": "code",
   "execution_count": 142,
   "id": "1b39db98",
   "metadata": {},
   "outputs": [
    {
     "name": "stdout",
     "output_type": "stream",
     "text": [
      "[ 0.008623   -0.01679999]\n"
     ]
    }
   ],
   "source": [
    "# Check the difference between the two results\n",
    "print(np.array(results_10_percent_data_aug) - np.array(loaded_weights_model_results))"
   ]
  },
  {
   "cell_type": "markdown",
   "id": "5a2d2f91",
   "metadata": {},
   "source": [
    "### Model 3: Fine-tuning an existing model on 10% of the data\n",
    "\n",
    "> **Note:** Fine-tuning usually works best *after* training a feature extraction model for a few epochs with large amounts of  custom data."
   ]
  },
  {
   "cell_type": "code",
   "execution_count": 143,
   "id": "525b17c8",
   "metadata": {},
   "outputs": [
    {
     "data": {
      "text/plain": [
       "[<keras.engine.input_layer.InputLayer at 0x7f0f235e5520>,\n",
       " <keras.engine.sequential.Sequential at 0x7f10c1adbd00>,\n",
       " <keras.engine.functional.Functional at 0x7f0f22cd0d00>,\n",
       " <keras.layers.pooling.global_average_pooling2d.GlobalAveragePooling2D at 0x7f0f22d34d00>,\n",
       " <keras.layers.core.dense.Dense at 0x7f0f22d74700>]"
      ]
     },
     "execution_count": 143,
     "metadata": {},
     "output_type": "execute_result"
    }
   ],
   "source": [
    "# Layers in loaded model\n",
    "model_2.layers"
   ]
  },
  {
   "cell_type": "code",
   "execution_count": 144,
   "id": "e2a902a2",
   "metadata": {},
   "outputs": [
    {
     "name": "stdout",
     "output_type": "stream",
     "text": [
      "<keras.engine.input_layer.InputLayer object at 0x7f0f235e5520> True\n",
      "<keras.engine.sequential.Sequential object at 0x7f10c1adbd00> True\n",
      "<keras.engine.functional.Functional object at 0x7f0f22cd0d00> False\n",
      "<keras.layers.pooling.global_average_pooling2d.GlobalAveragePooling2D object at 0x7f0f22d34d00> True\n",
      "<keras.layers.core.dense.Dense object at 0x7f0f22d74700> True\n"
     ]
    }
   ],
   "source": [
    "# Are these layers trainable?\n",
    "for layer in model_2.layers:\n",
    "    print(layer, layer.trainable)"
   ]
  },
  {
   "cell_type": "code",
   "execution_count": 145,
   "id": "5560aecb",
   "metadata": {},
   "outputs": [
    {
     "name": "stdout",
     "output_type": "stream",
     "text": [
      "0 input_6 False\n",
      "1 rescaling_5 False\n",
      "2 normalization_5 False\n",
      "3 tf.math.truediv_5 False\n",
      "4 stem_conv_pad False\n",
      "5 stem_conv False\n",
      "6 stem_bn False\n",
      "7 stem_activation False\n",
      "8 block1a_dwconv False\n",
      "9 block1a_bn False\n",
      "10 block1a_activation False\n",
      "11 block1a_se_squeeze False\n",
      "12 block1a_se_reshape False\n",
      "13 block1a_se_reduce False\n",
      "14 block1a_se_expand False\n",
      "15 block1a_se_excite False\n",
      "16 block1a_project_conv False\n",
      "17 block1a_project_bn False\n",
      "18 block2a_expand_conv False\n",
      "19 block2a_expand_bn False\n",
      "20 block2a_expand_activation False\n",
      "21 block2a_dwconv_pad False\n",
      "22 block2a_dwconv False\n",
      "23 block2a_bn False\n",
      "24 block2a_activation False\n",
      "25 block2a_se_squeeze False\n",
      "26 block2a_se_reshape False\n",
      "27 block2a_se_reduce False\n",
      "28 block2a_se_expand False\n",
      "29 block2a_se_excite False\n",
      "30 block2a_project_conv False\n",
      "31 block2a_project_bn False\n",
      "32 block2b_expand_conv False\n",
      "33 block2b_expand_bn False\n",
      "34 block2b_expand_activation False\n",
      "35 block2b_dwconv False\n",
      "36 block2b_bn False\n",
      "37 block2b_activation False\n",
      "38 block2b_se_squeeze False\n",
      "39 block2b_se_reshape False\n",
      "40 block2b_se_reduce False\n",
      "41 block2b_se_expand False\n",
      "42 block2b_se_excite False\n",
      "43 block2b_project_conv False\n",
      "44 block2b_project_bn False\n",
      "45 block2b_drop False\n",
      "46 block2b_add False\n",
      "47 block3a_expand_conv False\n",
      "48 block3a_expand_bn False\n",
      "49 block3a_expand_activation False\n",
      "50 block3a_dwconv_pad False\n",
      "51 block3a_dwconv False\n",
      "52 block3a_bn False\n",
      "53 block3a_activation False\n",
      "54 block3a_se_squeeze False\n",
      "55 block3a_se_reshape False\n",
      "56 block3a_se_reduce False\n",
      "57 block3a_se_expand False\n",
      "58 block3a_se_excite False\n",
      "59 block3a_project_conv False\n",
      "60 block3a_project_bn False\n",
      "61 block3b_expand_conv False\n",
      "62 block3b_expand_bn False\n",
      "63 block3b_expand_activation False\n",
      "64 block3b_dwconv False\n",
      "65 block3b_bn False\n",
      "66 block3b_activation False\n",
      "67 block3b_se_squeeze False\n",
      "68 block3b_se_reshape False\n",
      "69 block3b_se_reduce False\n",
      "70 block3b_se_expand False\n",
      "71 block3b_se_excite False\n",
      "72 block3b_project_conv False\n",
      "73 block3b_project_bn False\n",
      "74 block3b_drop False\n",
      "75 block3b_add False\n",
      "76 block4a_expand_conv False\n",
      "77 block4a_expand_bn False\n",
      "78 block4a_expand_activation False\n",
      "79 block4a_dwconv_pad False\n",
      "80 block4a_dwconv False\n",
      "81 block4a_bn False\n",
      "82 block4a_activation False\n",
      "83 block4a_se_squeeze False\n",
      "84 block4a_se_reshape False\n",
      "85 block4a_se_reduce False\n",
      "86 block4a_se_expand False\n",
      "87 block4a_se_excite False\n",
      "88 block4a_project_conv False\n",
      "89 block4a_project_bn False\n",
      "90 block4b_expand_conv False\n",
      "91 block4b_expand_bn False\n",
      "92 block4b_expand_activation False\n",
      "93 block4b_dwconv False\n",
      "94 block4b_bn False\n",
      "95 block4b_activation False\n",
      "96 block4b_se_squeeze False\n",
      "97 block4b_se_reshape False\n",
      "98 block4b_se_reduce False\n",
      "99 block4b_se_expand False\n",
      "100 block4b_se_excite False\n",
      "101 block4b_project_conv False\n",
      "102 block4b_project_bn False\n",
      "103 block4b_drop False\n",
      "104 block4b_add False\n",
      "105 block4c_expand_conv False\n",
      "106 block4c_expand_bn False\n",
      "107 block4c_expand_activation False\n",
      "108 block4c_dwconv False\n",
      "109 block4c_bn False\n",
      "110 block4c_activation False\n",
      "111 block4c_se_squeeze False\n",
      "112 block4c_se_reshape False\n",
      "113 block4c_se_reduce False\n",
      "114 block4c_se_expand False\n",
      "115 block4c_se_excite False\n",
      "116 block4c_project_conv False\n",
      "117 block4c_project_bn False\n",
      "118 block4c_drop False\n",
      "119 block4c_add False\n",
      "120 block5a_expand_conv False\n",
      "121 block5a_expand_bn False\n",
      "122 block5a_expand_activation False\n",
      "123 block5a_dwconv False\n",
      "124 block5a_bn False\n",
      "125 block5a_activation False\n",
      "126 block5a_se_squeeze False\n",
      "127 block5a_se_reshape False\n",
      "128 block5a_se_reduce False\n",
      "129 block5a_se_expand False\n",
      "130 block5a_se_excite False\n",
      "131 block5a_project_conv False\n",
      "132 block5a_project_bn False\n",
      "133 block5b_expand_conv False\n",
      "134 block5b_expand_bn False\n",
      "135 block5b_expand_activation False\n",
      "136 block5b_dwconv False\n",
      "137 block5b_bn False\n",
      "138 block5b_activation False\n",
      "139 block5b_se_squeeze False\n",
      "140 block5b_se_reshape False\n",
      "141 block5b_se_reduce False\n",
      "142 block5b_se_expand False\n",
      "143 block5b_se_excite False\n",
      "144 block5b_project_conv False\n",
      "145 block5b_project_bn False\n",
      "146 block5b_drop False\n",
      "147 block5b_add False\n",
      "148 block5c_expand_conv False\n",
      "149 block5c_expand_bn False\n",
      "150 block5c_expand_activation False\n",
      "151 block5c_dwconv False\n",
      "152 block5c_bn False\n",
      "153 block5c_activation False\n",
      "154 block5c_se_squeeze False\n",
      "155 block5c_se_reshape False\n",
      "156 block5c_se_reduce False\n",
      "157 block5c_se_expand False\n",
      "158 block5c_se_excite False\n",
      "159 block5c_project_conv False\n",
      "160 block5c_project_bn False\n",
      "161 block5c_drop False\n",
      "162 block5c_add False\n",
      "163 block6a_expand_conv False\n",
      "164 block6a_expand_bn False\n",
      "165 block6a_expand_activation False\n",
      "166 block6a_dwconv_pad False\n",
      "167 block6a_dwconv False\n",
      "168 block6a_bn False\n",
      "169 block6a_activation False\n",
      "170 block6a_se_squeeze False\n",
      "171 block6a_se_reshape False\n",
      "172 block6a_se_reduce False\n",
      "173 block6a_se_expand False\n",
      "174 block6a_se_excite False\n",
      "175 block6a_project_conv False\n",
      "176 block6a_project_bn False\n",
      "177 block6b_expand_conv False\n",
      "178 block6b_expand_bn False\n",
      "179 block6b_expand_activation False\n",
      "180 block6b_dwconv False\n",
      "181 block6b_bn False\n",
      "182 block6b_activation False\n",
      "183 block6b_se_squeeze False\n",
      "184 block6b_se_reshape False\n",
      "185 block6b_se_reduce False\n",
      "186 block6b_se_expand False\n",
      "187 block6b_se_excite False\n",
      "188 block6b_project_conv False\n",
      "189 block6b_project_bn False\n",
      "190 block6b_drop False\n",
      "191 block6b_add False\n",
      "192 block6c_expand_conv False\n",
      "193 block6c_expand_bn False\n",
      "194 block6c_expand_activation False\n",
      "195 block6c_dwconv False\n",
      "196 block6c_bn False\n",
      "197 block6c_activation False\n",
      "198 block6c_se_squeeze False\n",
      "199 block6c_se_reshape False\n",
      "200 block6c_se_reduce False\n",
      "201 block6c_se_expand False\n",
      "202 block6c_se_excite False\n",
      "203 block6c_project_conv False\n",
      "204 block6c_project_bn False\n",
      "205 block6c_drop False\n",
      "206 block6c_add False\n",
      "207 block6d_expand_conv False\n",
      "208 block6d_expand_bn False\n",
      "209 block6d_expand_activation False\n",
      "210 block6d_dwconv False\n",
      "211 block6d_bn False\n",
      "212 block6d_activation False\n",
      "213 block6d_se_squeeze False\n",
      "214 block6d_se_reshape False\n",
      "215 block6d_se_reduce False\n",
      "216 block6d_se_expand False\n",
      "217 block6d_se_excite False\n",
      "218 block6d_project_conv False\n",
      "219 block6d_project_bn False\n",
      "220 block6d_drop False\n",
      "221 block6d_add False\n",
      "222 block7a_expand_conv False\n",
      "223 block7a_expand_bn False\n",
      "224 block7a_expand_activation False\n",
      "225 block7a_dwconv False\n",
      "226 block7a_bn False\n",
      "227 block7a_activation False\n",
      "228 block7a_se_squeeze False\n",
      "229 block7a_se_reshape False\n",
      "230 block7a_se_reduce False\n",
      "231 block7a_se_expand False\n",
      "232 block7a_se_excite False\n",
      "233 block7a_project_conv False\n",
      "234 block7a_project_bn False\n",
      "235 top_conv False\n",
      "236 top_bn False\n",
      "237 top_activation False\n"
     ]
    }
   ],
   "source": [
    "# What layers are in aour base_model (EfficientNetB0) and are they trainable?\n",
    "for i, layer in enumerate(model_2.layers[2].layers):\n",
    "    print(i, layer.name, layer.trainable)"
   ]
  },
  {
   "cell_type": "code",
   "execution_count": 146,
   "id": "617019c6",
   "metadata": {},
   "outputs": [
    {
     "name": "stdout",
     "output_type": "stream",
     "text": [
      "0\n"
     ]
    }
   ],
   "source": [
    "# How many trainable variables are in our base model?\n",
    "print(len(model_2.layers[2].trainable_variables))"
   ]
  },
  {
   "cell_type": "code",
   "execution_count": 147,
   "id": "253eed12",
   "metadata": {},
   "outputs": [],
   "source": [
    "# To begin fine-tuning, let's start by setting the last 10 layers of our base_model.trainable = True\n",
    "base_model.trainable = True\n",
    "\n",
    "# Freeze all layers except for the last 10\n",
    "for layer in base_model.layers[:-10]:\n",
    "    layer.trainable = False\n",
    "    \n",
    "# Recompile (we have to recompile our model every time we make a change)\n",
    "model_2.compile(loss=\"categorical_crossentropy\",\n",
    "               optimizer=tf.keras.optimizers.Adam(learning_rate=0.0001), # when fine tuning you typically want to lower the learning rate by 10x*\n",
    "               metrics=[\"accuracy\"])"
   ]
  },
  {
   "cell_type": "markdown",
   "id": "f70cfa6a",
   "metadata": {},
   "source": [
    "> **Note:** When using fine-tuning it's best practice to lower your learning rate by some amount. How much? This is a hyperparameter you can tune. But a good rule of thumb is at least 10x (though different sources will claim other values). A good resource for information on this is the ULMFiT paper: https://arxiv.org/abs/1801.06146\n",
    "\n"
   ]
  },
  {
   "cell_type": "code",
   "execution_count": 148,
   "id": "111b601a",
   "metadata": {},
   "outputs": [
    {
     "name": "stdout",
     "output_type": "stream",
     "text": [
      "0 input_6 False\n",
      "1 rescaling_5 False\n",
      "2 normalization_5 False\n",
      "3 tf.math.truediv_5 False\n",
      "4 stem_conv_pad False\n",
      "5 stem_conv False\n",
      "6 stem_bn False\n",
      "7 stem_activation False\n",
      "8 block1a_dwconv False\n",
      "9 block1a_bn False\n",
      "10 block1a_activation False\n",
      "11 block1a_se_squeeze False\n",
      "12 block1a_se_reshape False\n",
      "13 block1a_se_reduce False\n",
      "14 block1a_se_expand False\n",
      "15 block1a_se_excite False\n",
      "16 block1a_project_conv False\n",
      "17 block1a_project_bn False\n",
      "18 block2a_expand_conv False\n",
      "19 block2a_expand_bn False\n",
      "20 block2a_expand_activation False\n",
      "21 block2a_dwconv_pad False\n",
      "22 block2a_dwconv False\n",
      "23 block2a_bn False\n",
      "24 block2a_activation False\n",
      "25 block2a_se_squeeze False\n",
      "26 block2a_se_reshape False\n",
      "27 block2a_se_reduce False\n",
      "28 block2a_se_expand False\n",
      "29 block2a_se_excite False\n",
      "30 block2a_project_conv False\n",
      "31 block2a_project_bn False\n",
      "32 block2b_expand_conv False\n",
      "33 block2b_expand_bn False\n",
      "34 block2b_expand_activation False\n",
      "35 block2b_dwconv False\n",
      "36 block2b_bn False\n",
      "37 block2b_activation False\n",
      "38 block2b_se_squeeze False\n",
      "39 block2b_se_reshape False\n",
      "40 block2b_se_reduce False\n",
      "41 block2b_se_expand False\n",
      "42 block2b_se_excite False\n",
      "43 block2b_project_conv False\n",
      "44 block2b_project_bn False\n",
      "45 block2b_drop False\n",
      "46 block2b_add False\n",
      "47 block3a_expand_conv False\n",
      "48 block3a_expand_bn False\n",
      "49 block3a_expand_activation False\n",
      "50 block3a_dwconv_pad False\n",
      "51 block3a_dwconv False\n",
      "52 block3a_bn False\n",
      "53 block3a_activation False\n",
      "54 block3a_se_squeeze False\n",
      "55 block3a_se_reshape False\n",
      "56 block3a_se_reduce False\n",
      "57 block3a_se_expand False\n",
      "58 block3a_se_excite False\n",
      "59 block3a_project_conv False\n",
      "60 block3a_project_bn False\n",
      "61 block3b_expand_conv False\n",
      "62 block3b_expand_bn False\n",
      "63 block3b_expand_activation False\n",
      "64 block3b_dwconv False\n",
      "65 block3b_bn False\n",
      "66 block3b_activation False\n",
      "67 block3b_se_squeeze False\n",
      "68 block3b_se_reshape False\n",
      "69 block3b_se_reduce False\n",
      "70 block3b_se_expand False\n",
      "71 block3b_se_excite False\n",
      "72 block3b_project_conv False\n",
      "73 block3b_project_bn False\n",
      "74 block3b_drop False\n",
      "75 block3b_add False\n",
      "76 block4a_expand_conv False\n",
      "77 block4a_expand_bn False\n",
      "78 block4a_expand_activation False\n",
      "79 block4a_dwconv_pad False\n",
      "80 block4a_dwconv False\n",
      "81 block4a_bn False\n",
      "82 block4a_activation False\n",
      "83 block4a_se_squeeze False\n",
      "84 block4a_se_reshape False\n",
      "85 block4a_se_reduce False\n",
      "86 block4a_se_expand False\n",
      "87 block4a_se_excite False\n",
      "88 block4a_project_conv False\n",
      "89 block4a_project_bn False\n",
      "90 block4b_expand_conv False\n",
      "91 block4b_expand_bn False\n",
      "92 block4b_expand_activation False\n",
      "93 block4b_dwconv False\n",
      "94 block4b_bn False\n",
      "95 block4b_activation False\n",
      "96 block4b_se_squeeze False\n",
      "97 block4b_se_reshape False\n",
      "98 block4b_se_reduce False\n",
      "99 block4b_se_expand False\n",
      "100 block4b_se_excite False\n",
      "101 block4b_project_conv False\n",
      "102 block4b_project_bn False\n",
      "103 block4b_drop False\n",
      "104 block4b_add False\n",
      "105 block4c_expand_conv False\n",
      "106 block4c_expand_bn False\n",
      "107 block4c_expand_activation False\n",
      "108 block4c_dwconv False\n",
      "109 block4c_bn False\n",
      "110 block4c_activation False\n",
      "111 block4c_se_squeeze False\n",
      "112 block4c_se_reshape False\n",
      "113 block4c_se_reduce False\n",
      "114 block4c_se_expand False\n",
      "115 block4c_se_excite False\n",
      "116 block4c_project_conv False\n",
      "117 block4c_project_bn False\n",
      "118 block4c_drop False\n",
      "119 block4c_add False\n",
      "120 block5a_expand_conv False\n",
      "121 block5a_expand_bn False\n",
      "122 block5a_expand_activation False\n",
      "123 block5a_dwconv False\n",
      "124 block5a_bn False\n",
      "125 block5a_activation False\n",
      "126 block5a_se_squeeze False\n",
      "127 block5a_se_reshape False\n",
      "128 block5a_se_reduce False\n",
      "129 block5a_se_expand False\n",
      "130 block5a_se_excite False\n",
      "131 block5a_project_conv False\n",
      "132 block5a_project_bn False\n",
      "133 block5b_expand_conv False\n",
      "134 block5b_expand_bn False\n",
      "135 block5b_expand_activation False\n",
      "136 block5b_dwconv False\n",
      "137 block5b_bn False\n",
      "138 block5b_activation False\n",
      "139 block5b_se_squeeze False\n",
      "140 block5b_se_reshape False\n",
      "141 block5b_se_reduce False\n",
      "142 block5b_se_expand False\n",
      "143 block5b_se_excite False\n",
      "144 block5b_project_conv False\n",
      "145 block5b_project_bn False\n",
      "146 block5b_drop False\n",
      "147 block5b_add False\n",
      "148 block5c_expand_conv False\n",
      "149 block5c_expand_bn False\n",
      "150 block5c_expand_activation False\n",
      "151 block5c_dwconv False\n",
      "152 block5c_bn False\n",
      "153 block5c_activation False\n",
      "154 block5c_se_squeeze False\n",
      "155 block5c_se_reshape False\n",
      "156 block5c_se_reduce False\n",
      "157 block5c_se_expand False\n",
      "158 block5c_se_excite False\n",
      "159 block5c_project_conv False\n",
      "160 block5c_project_bn False\n",
      "161 block5c_drop False\n",
      "162 block5c_add False\n",
      "163 block6a_expand_conv False\n",
      "164 block6a_expand_bn False\n",
      "165 block6a_expand_activation False\n",
      "166 block6a_dwconv_pad False\n",
      "167 block6a_dwconv False\n",
      "168 block6a_bn False\n",
      "169 block6a_activation False\n",
      "170 block6a_se_squeeze False\n",
      "171 block6a_se_reshape False\n",
      "172 block6a_se_reduce False\n",
      "173 block6a_se_expand False\n",
      "174 block6a_se_excite False\n",
      "175 block6a_project_conv False\n",
      "176 block6a_project_bn False\n",
      "177 block6b_expand_conv False\n",
      "178 block6b_expand_bn False\n",
      "179 block6b_expand_activation False\n",
      "180 block6b_dwconv False\n",
      "181 block6b_bn False\n",
      "182 block6b_activation False\n",
      "183 block6b_se_squeeze False\n",
      "184 block6b_se_reshape False\n",
      "185 block6b_se_reduce False\n",
      "186 block6b_se_expand False\n",
      "187 block6b_se_excite False\n",
      "188 block6b_project_conv False\n",
      "189 block6b_project_bn False\n",
      "190 block6b_drop False\n",
      "191 block6b_add False\n",
      "192 block6c_expand_conv False\n",
      "193 block6c_expand_bn False\n",
      "194 block6c_expand_activation False\n",
      "195 block6c_dwconv False\n",
      "196 block6c_bn False\n",
      "197 block6c_activation False\n",
      "198 block6c_se_squeeze False\n",
      "199 block6c_se_reshape False\n",
      "200 block6c_se_reduce False\n",
      "201 block6c_se_expand False\n",
      "202 block6c_se_excite False\n",
      "203 block6c_project_conv False\n",
      "204 block6c_project_bn False\n",
      "205 block6c_drop False\n",
      "206 block6c_add False\n",
      "207 block6d_expand_conv False\n",
      "208 block6d_expand_bn False\n",
      "209 block6d_expand_activation False\n",
      "210 block6d_dwconv False\n",
      "211 block6d_bn False\n",
      "212 block6d_activation False\n",
      "213 block6d_se_squeeze False\n",
      "214 block6d_se_reshape False\n",
      "215 block6d_se_reduce False\n",
      "216 block6d_se_expand False\n",
      "217 block6d_se_excite False\n",
      "218 block6d_project_conv False\n",
      "219 block6d_project_bn False\n",
      "220 block6d_drop False\n",
      "221 block6d_add False\n",
      "222 block7a_expand_conv False\n",
      "223 block7a_expand_bn False\n",
      "224 block7a_expand_activation False\n",
      "225 block7a_dwconv False\n",
      "226 block7a_bn False\n",
      "227 block7a_activation False\n",
      "228 block7a_se_squeeze True\n",
      "229 block7a_se_reshape True\n",
      "230 block7a_se_reduce True\n",
      "231 block7a_se_expand True\n",
      "232 block7a_se_excite True\n",
      "233 block7a_project_conv True\n",
      "234 block7a_project_bn True\n",
      "235 top_conv True\n",
      "236 top_bn True\n",
      "237 top_activation True\n"
     ]
    }
   ],
   "source": [
    "# Check which layers are tunable (trainable)\n",
    "for layer_number, layer in enumerate(model_2.layers[2].layers):\n",
    "    print(layer_number, layer.name, layer.trainable)"
   ]
  },
  {
   "cell_type": "code",
   "execution_count": 149,
   "id": "4af75d00",
   "metadata": {},
   "outputs": [
    {
     "name": "stdout",
     "output_type": "stream",
     "text": [
      "12\n"
     ]
    }
   ],
   "source": [
    "# Now we've unfrozen some of the layers closer to the top, how many trainable variables are in our base model?\n",
    "print(len(model_2.trainable_variables))"
   ]
  },
  {
   "cell_type": "code",
   "execution_count": 150,
   "id": "24784c93",
   "metadata": {},
   "outputs": [
    {
     "name": "stdout",
     "output_type": "stream",
     "text": [
      "Saving TensorBoard log files to: transfer_learning/10_percent_fine_tune_laast_10/20220718-110844\n",
      "Epoch 5/10\n",
      "24/24 [==============================] - 10s 251ms/step - loss: 0.5821 - accuracy: 0.8507 - val_loss: 0.6262 - val_accuracy: 0.8125\n",
      "Epoch 6/10\n",
      "24/24 [==============================] - 4s 175ms/step - loss: 0.4854 - accuracy: 0.8520 - val_loss: 0.5727 - val_accuracy: 0.8174\n",
      "Epoch 7/10\n",
      "24/24 [==============================] - 5s 201ms/step - loss: 0.4321 - accuracy: 0.8613 - val_loss: 0.5406 - val_accuracy: 0.8355\n",
      "Epoch 8/10\n",
      "24/24 [==============================] - 4s 178ms/step - loss: 0.3828 - accuracy: 0.8973 - val_loss: 0.5294 - val_accuracy: 0.8240\n",
      "Epoch 9/10\n",
      "24/24 [==============================] - 4s 173ms/step - loss: 0.3752 - accuracy: 0.8880 - val_loss: 0.4859 - val_accuracy: 0.8470\n",
      "Epoch 10/10\n",
      "24/24 [==============================] - 5s 194ms/step - loss: 0.3031 - accuracy: 0.9147 - val_loss: 0.5468 - val_accuracy: 0.8372\n"
     ]
    }
   ],
   "source": [
    "# Fine tune for another 5 epochs\n",
    "fine_tune_epochs = initial_epochs + 5\n",
    "\n",
    "# REfit the model (same as model_2 except with more trainable layers)\n",
    "history_fine_10_percent_data_aug = model_2.fit(train_data_10_percent,\n",
    "                                              epochs=fine_tune_epochs,\n",
    "                                              validation_data=test_data,\n",
    "                                              validation_steps=int(0.25 * len(test_data)),\n",
    "                                              initial_epoch=history_10_percent_data_aug.epoch[-1], # start training from previous last epoch\n",
    "                                              callbacks=[create_tensorboard_callback(dir_name=\"transfer_learning\",\n",
    "                                                                                    experiment_name=\"10_percent_fine_tune_last_10\")])"
   ]
  },
  {
   "cell_type": "code",
   "execution_count": 151,
   "id": "f95160b9",
   "metadata": {},
   "outputs": [
    {
     "name": "stdout",
     "output_type": "stream",
     "text": [
      "79/79 [==============================] - 8s 95ms/step - loss: 0.5305 - accuracy: 0.8256\n"
     ]
    }
   ],
   "source": [
    "# Evaluate the fine-tuned model (model_3 which is actualy model_2 fine-tuned for another 5 epochs)\n",
    "results_fine_tune_10_percent = model_2.evaluate(test_data)"
   ]
  },
  {
   "cell_type": "code",
   "execution_count": 152,
   "id": "007d9c4e",
   "metadata": {},
   "outputs": [
    {
     "data": {
      "text/plain": [
       "[0.7440362572669983, 0.8059999942779541]"
      ]
     },
     "execution_count": 152,
     "metadata": {},
     "output_type": "execute_result"
    }
   ],
   "source": [
    "results_10_percent_data_aug"
   ]
  },
  {
   "cell_type": "code",
   "execution_count": 153,
   "id": "0c662450",
   "metadata": {},
   "outputs": [
    {
     "data": {
      "image/png": "[encoded data removed]",
      "text/plain": [
       "<Figure size 432x288 with 1 Axes>"
      ]
     },
     "metadata": {
      "needs_background": "light"
     },
     "output_type": "display_data"
    },
    {
     "data": {
      "image/png": "[encoded data removed]",
      "text/plain": [
       "<Figure size 432x288 with 1 Axes>"
      ]
     },
     "metadata": {
      "needs_background": "light"
     },
     "output_type": "display_data"
    }
   ],
   "source": [
    "# Check out the loss curves of our fine-tuned model\n",
    "plot_loss_curves(history_fine_10_percent_data_aug)"
   ]
  },
  {
   "cell_type": "markdown",
   "id": "b289812b",
   "metadata": {},
   "source": [
    "The `plot_loss_curves` funciton works great with model swhich have only been fit once, however, we want something to compare one series of running `fit()` with another (e.g. before and after fine-tuning)."
   ]
  },
  {
   "cell_type": "code",
   "execution_count": 154,
   "id": "921f5db1",
   "metadata": {},
   "outputs": [],
   "source": [
    "# let's create a function to compare training histories\n",
    "def compare_historys(original_history, new_history, initial_epochs=5):\n",
    "    \"\"\"\n",
    "    Compares two TensorFlow History objects\n",
    "    \"\"\"\n",
    "    # Get originial history measurements\n",
    "    acc = original_history.history[\"accuracy\"]\n",
    "    loss = original_history.history[\"loss\"]\n",
    "    \n",
    "    val_acc = original_history.history[\"val_accuracy\"]\n",
    "    val_loss = original_history.history[\"val_loss\"]\n",
    "    \n",
    "    # Combine orignial history metrics with new_history metrics\n",
    "    total_acc = acc + new_history.history[\"accuracy\"]\n",
    "    total_loss = loss + new_history.history[\"loss\"]\n",
    "    \n",
    "    total_val_acc = val_acc + new_history.history[\"val_accuracy\"]\n",
    "    total_val_loss = val_loss + new_history.history[\"val_loss\"]\n",
    "    \n",
    "    # Make plot for accuracy\n",
    "    plt.figure(figsize=(8,8))\n",
    "    plt.subplot(2,1,1)\n",
    "    plt.plot(total_acc, label=\"Training Accuracy\")\n",
    "    plt.plot(total_val_acc, label=\"Val Accuracy\")\n",
    "    plt.plot([initial_epochs - 1, initial_epochs -1], plt.ylim(), label=\"Start Fine Tuning\")\n",
    "    plt.legend(loc=\"lower right\")\n",
    "    plt.title(\"Training and Validation Accuracy\")\n",
    "    \n",
    "    # Make plot for loss\n",
    "    plt.figure(figsize=(8,8))\n",
    "    plt.subplot(2,1,2)\n",
    "    plt.plot(total_loss, label=\"Training Loss\")\n",
    "    plt.plot(total_val_loss, label=\"Val Loss\")\n",
    "    plt.plot([initial_epochs - 1, initial_epochs -1], plt.ylim(), label=\"Start Fine Tuning\")\n",
    "    plt.legend(loc=\"upper right\")\n",
    "    plt.title(\"Training and Validation Loss\")"
   ]
  },
  {
   "cell_type": "code",
   "execution_count": 155,
   "id": "a7f440fe",
   "metadata": {},
   "outputs": [
    {
     "data": {
      "image/png": "[encoded data removed]",
      "text/plain": [
       "<Figure size 576x576 with 1 Axes>"
      ]
     },
     "metadata": {
      "needs_background": "light"
     },
     "output_type": "display_data"
    },
    {
     "data": {
      "image/png": "[encoded data removed]",
      "text/plain": [
       "<Figure size 576x576 with 1 Axes>"
      ]
     },
     "metadata": {
      "needs_background": "light"
     },
     "output_type": "display_data"
    }
   ],
   "source": [
    "compare_historys(history_10_percent_data_aug,\n",
    "                history_fine_10_percent_data_aug,\n",
    "                initial_epochs=initial_epochs)"
   ]
  },
  {
   "cell_type": "markdown",
   "id": "05663f2b",
   "metadata": {},
   "source": [
    "### Model 4: Fine-tuning an existing model on all of the data"
   ]
  },
  {
   "cell_type": "code",
   "execution_count": 73,
   "id": "dc6d3a93",
   "metadata": {},
   "outputs": [
    {
     "name": "stdout",
     "output_type": "stream",
     "text": [
      "--2022-07-18 10:23:50--  https://storage.googleapis.com/ztm_tf_course/food_vision/10_food_classes_all_data.zip\n",
      "Resolving storage.googleapis.com (storage.googleapis.com)... 142.251.36.208, 172.217.16.176, 142.251.36.176, ...\n",
      "Connecting to storage.googleapis.com (storage.googleapis.com)|142.251.36.208|:443... connected.\n",
      "HTTP request sent, awaiting response... 200 OK\n",
      "Length: 519183241 (495M) [application/zip]\n",
      "Saving to: ‘10_food_classes_all_data.zip’\n",
      "\n",
      "10_food_classes_all 100%[===================>] 495.13M  5.85MB/s    in 87s     \n",
      "\n",
      "2022-07-18 10:25:17 (5.70 MB/s) - ‘10_food_classes_all_data.zip’ saved [519183241/519183241]\n",
      "\n"
     ]
    }
   ],
   "source": [
    "# Download and unzip 10 classes of Food101 data with all images\n",
    "!wget https://storage.googleapis.com/ztm_tf_course/food_vision/10_food_classes_all_data.zip\n",
    "unzip_data(\"10_food_classes_all_data.zip\")"
   ]
  },
  {
   "cell_type": "code",
   "execution_count": 156,
   "id": "a2e0aadb",
   "metadata": {},
   "outputs": [],
   "source": [
    "# Setup training and test dirs\n",
    "train_dir_all_data = \"data/10_food_classes_all_data/train\"\n",
    "test_dir = \"data/10_food_classes_all_data/test\""
   ]
  },
  {
   "cell_type": "code",
   "execution_count": 157,
   "id": "8922527c",
   "metadata": {},
   "outputs": [
    {
     "name": "stdout",
     "output_type": "stream",
     "text": [
      "There are 2 directories and 0 images in 'data/10_food_classes_all_data/'.\n",
      "There are 10 directories and 0 images in 'data/10_food_classes_all_data/test'.\n",
      "There are 0 directories and 250 images in 'data/10_food_classes_all_data/test/hamburger'.\n",
      "There are 0 directories and 250 images in 'data/10_food_classes_all_data/test/chicken_wings'.\n",
      "There are 0 directories and 250 images in 'data/10_food_classes_all_data/test/fried_rice'.\n",
      "There are 0 directories and 250 images in 'data/10_food_classes_all_data/test/sushi'.\n",
      "There are 0 directories and 250 images in 'data/10_food_classes_all_data/test/grilled_salmon'.\n",
      "There are 0 directories and 250 images in 'data/10_food_classes_all_data/test/pizza'.\n",
      "There are 0 directories and 250 images in 'data/10_food_classes_all_data/test/ice_cream'.\n",
      "There are 0 directories and 250 images in 'data/10_food_classes_all_data/test/steak'.\n",
      "There are 0 directories and 250 images in 'data/10_food_classes_all_data/test/ramen'.\n",
      "There are 0 directories and 250 images in 'data/10_food_classes_all_data/test/chicken_curry'.\n",
      "There are 10 directories and 0 images in 'data/10_food_classes_all_data/train'.\n",
      "There are 0 directories and 750 images in 'data/10_food_classes_all_data/train/hamburger'.\n",
      "There are 0 directories and 750 images in 'data/10_food_classes_all_data/train/chicken_wings'.\n",
      "There are 0 directories and 750 images in 'data/10_food_classes_all_data/train/fried_rice'.\n",
      "There are 0 directories and 750 images in 'data/10_food_classes_all_data/train/sushi'.\n",
      "There are 0 directories and 750 images in 'data/10_food_classes_all_data/train/grilled_salmon'.\n",
      "There are 0 directories and 750 images in 'data/10_food_classes_all_data/train/pizza'.\n",
      "There are 0 directories and 750 images in 'data/10_food_classes_all_data/train/ice_cream'.\n",
      "There are 0 directories and 750 images in 'data/10_food_classes_all_data/train/steak'.\n",
      "There are 0 directories and 750 images in 'data/10_food_classes_all_data/train/ramen'.\n",
      "There are 0 directories and 750 images in 'data/10_food_classes_all_data/train/chicken_curry'.\n"
     ]
    }
   ],
   "source": [
    "# How many images are we working with now?\n",
    "walk_through_dir(\"data/10_food_classes_all_data/\")"
   ]
  },
  {
   "cell_type": "code",
   "execution_count": 158,
   "id": "c8e87fb6",
   "metadata": {},
   "outputs": [
    {
     "name": "stdout",
     "output_type": "stream",
     "text": [
      "Found 7500 files belonging to 10 classes.\n",
      "Found 2500 files belonging to 10 classes.\n"
     ]
    }
   ],
   "source": [
    "# Setup data inputs\n",
    "import tensorflow as tf\n",
    "IMG_SIZE=(224,224)\n",
    "train_data_10_classes_full = tf.keras.preprocessing.image_dataset_from_directory(train_dir_all_data,\n",
    "                                                                                label_mode=\"categorical\",\n",
    "                                                                                image_size=IMG_SIZE)\n",
    "\n",
    "test_data = tf.keras.preprocessing.image_dataset_from_directory(test_dir,\n",
    "                                                               label_mode=\"categorical\",\n",
    "                                                               image_size=IMG_SIZE)"
   ]
  },
  {
   "cell_type": "markdown",
   "id": "b494e458",
   "metadata": {},
   "source": [
    "The test dataset we've loaded in is the same as what we've been using for previous experiments (all experiments have used the same test dataset).\n",
    "\n",
    "Let's verify this..."
   ]
  },
  {
   "cell_type": "code",
   "execution_count": 159,
   "id": "e67a606c",
   "metadata": {},
   "outputs": [
    {
     "name": "stdout",
     "output_type": "stream",
     "text": [
      "79/79 [==============================] - 8s 96ms/step - loss: 0.5209 - accuracy: 0.8296\n"
     ]
    },
    {
     "data": {
      "text/plain": [
       "[0.5209246873855591, 0.8295999765396118]"
      ]
     },
     "execution_count": 159,
     "metadata": {},
     "output_type": "execute_result"
    }
   ],
   "source": [
    "# Evaluate model 2 (this is the fine-tuned on 10 percent of data version)\n",
    "model_2.evaluate(test_data)"
   ]
  },
  {
   "cell_type": "code",
   "execution_count": 160,
   "id": "f584fc4f",
   "metadata": {},
   "outputs": [
    {
     "data": {
      "text/plain": [
       "[0.5304540395736694, 0.8256000280380249]"
      ]
     },
     "execution_count": 160,
     "metadata": {},
     "output_type": "execute_result"
    }
   ],
   "source": [
    "results_fine_tune_10_percent"
   ]
  },
  {
   "cell_type": "markdown",
   "id": "3fcfa32e",
   "metadata": {},
   "source": [
    "To train a fine-tuning model (model_4) we need to revert model_2 back to its feature extraction weights."
   ]
  },
  {
   "cell_type": "code",
   "execution_count": 161,
   "id": "ad8a3ece",
   "metadata": {},
   "outputs": [
    {
     "data": {
      "text/plain": [
       "<tensorflow.python.training.tracking.util.CheckpointLoadStatus at 0x7f110a8ef070>"
      ]
     },
     "execution_count": 161,
     "metadata": {},
     "output_type": "execute_result"
    }
   ],
   "source": [
    "# Load weights from checkpoint, that way we can fine-tune from \n",
    "# the same stage the 10 percent data model was fine-tuned from\n",
    "model_2.load_weights(checkpoint_path)"
   ]
  },
  {
   "cell_type": "code",
   "execution_count": 162,
   "id": "f6c607df",
   "metadata": {},
   "outputs": [
    {
     "name": "stdout",
     "output_type": "stream",
     "text": [
      "79/79 [==============================] - 8s 101ms/step - loss: 0.7441 - accuracy: 0.8012\n"
     ]
    },
    {
     "data": {
      "text/plain": [
       "[0.7441275119781494, 0.8011999726295471]"
      ]
     },
     "execution_count": 162,
     "metadata": {},
     "output_type": "execute_result"
    }
   ],
   "source": [
    "# Let's evaluate model_2 now\n",
    "model_2.evaluate(test_data)"
   ]
  },
  {
   "cell_type": "code",
   "execution_count": 163,
   "id": "7ec59760",
   "metadata": {},
   "outputs": [
    {
     "data": {
      "text/plain": [
       "[0.7440362572669983, 0.8059999942779541]"
      ]
     },
     "execution_count": 163,
     "metadata": {},
     "output_type": "execute_result"
    }
   ],
   "source": [
    "# Check to see if our model_2 has been reverted back to feature extraction resutls\n",
    "results_10_percent_data_aug"
   ]
  },
  {
   "cell_type": "markdown",
   "id": "07040f1a",
   "metadata": {},
   "source": [
    "Alright, the previous steps might seem quite confusing but all we've done is:\n",
    "\n",
    "1. Trained a feature extraction transfer learning model for 5 epochs on 10% of the data with data augmentation (model_2) and we saved the model's weights using `ModelCheckpoint` callback.\n",
    "2. Fine-tuned the same model on the same 10% of the data for a further 5 epochs with the top 10 layers of the base model unfrozen (model_3).\n",
    "3. Saved the results and training logs each time.\n",
    "4. Reloaded the model from step 1 to do the same steps as step 2 except this time we're going to use all of the data (model_4)."
   ]
  },
  {
   "cell_type": "code",
   "execution_count": 164,
   "id": "249c8160",
   "metadata": {},
   "outputs": [
    {
     "name": "stdout",
     "output_type": "stream",
     "text": [
      "0 input_layer True\n",
      "1 data_augmentation True\n",
      "2 efficientnetb0 True\n",
      "3 global_avarage_pooling_layer True\n",
      "4 output_layer True\n"
     ]
    }
   ],
   "source": [
    "# Check which layers are tunable in the whole model\n",
    "for layer_number, layer in enumerate(model_2.layers):\n",
    "    print(layer_number, layer.name, layer.trainable)"
   ]
  },
  {
   "cell_type": "code",
   "execution_count": 165,
   "id": "5cac8ee6",
   "metadata": {},
   "outputs": [
    {
     "name": "stdout",
     "output_type": "stream",
     "text": [
      "0 input_6 False\n",
      "1 rescaling_5 False\n",
      "2 normalization_5 False\n",
      "3 tf.math.truediv_5 False\n",
      "4 stem_conv_pad False\n",
      "5 stem_conv False\n",
      "6 stem_bn False\n",
      "7 stem_activation False\n",
      "8 block1a_dwconv False\n",
      "9 block1a_bn False\n",
      "10 block1a_activation False\n",
      "11 block1a_se_squeeze False\n",
      "12 block1a_se_reshape False\n",
      "13 block1a_se_reduce False\n",
      "14 block1a_se_expand False\n",
      "15 block1a_se_excite False\n",
      "16 block1a_project_conv False\n",
      "17 block1a_project_bn False\n",
      "18 block2a_expand_conv False\n",
      "19 block2a_expand_bn False\n",
      "20 block2a_expand_activation False\n",
      "21 block2a_dwconv_pad False\n",
      "22 block2a_dwconv False\n",
      "23 block2a_bn False\n",
      "24 block2a_activation False\n",
      "25 block2a_se_squeeze False\n",
      "26 block2a_se_reshape False\n",
      "27 block2a_se_reduce False\n",
      "28 block2a_se_expand False\n",
      "29 block2a_se_excite False\n",
      "30 block2a_project_conv False\n",
      "31 block2a_project_bn False\n",
      "32 block2b_expand_conv False\n",
      "33 block2b_expand_bn False\n",
      "34 block2b_expand_activation False\n",
      "35 block2b_dwconv False\n",
      "36 block2b_bn False\n",
      "37 block2b_activation False\n",
      "38 block2b_se_squeeze False\n",
      "39 block2b_se_reshape False\n",
      "40 block2b_se_reduce False\n",
      "41 block2b_se_expand False\n",
      "42 block2b_se_excite False\n",
      "43 block2b_project_conv False\n",
      "44 block2b_project_bn False\n",
      "45 block2b_drop False\n",
      "46 block2b_add False\n",
      "47 block3a_expand_conv False\n",
      "48 block3a_expand_bn False\n",
      "49 block3a_expand_activation False\n",
      "50 block3a_dwconv_pad False\n",
      "51 block3a_dwconv False\n",
      "52 block3a_bn False\n",
      "53 block3a_activation False\n",
      "54 block3a_se_squeeze False\n",
      "55 block3a_se_reshape False\n",
      "56 block3a_se_reduce False\n",
      "57 block3a_se_expand False\n",
      "58 block3a_se_excite False\n",
      "59 block3a_project_conv False\n",
      "60 block3a_project_bn False\n",
      "61 block3b_expand_conv False\n",
      "62 block3b_expand_bn False\n",
      "63 block3b_expand_activation False\n",
      "64 block3b_dwconv False\n",
      "65 block3b_bn False\n",
      "66 block3b_activation False\n",
      "67 block3b_se_squeeze False\n",
      "68 block3b_se_reshape False\n",
      "69 block3b_se_reduce False\n",
      "70 block3b_se_expand False\n",
      "71 block3b_se_excite False\n",
      "72 block3b_project_conv False\n",
      "73 block3b_project_bn False\n",
      "74 block3b_drop False\n",
      "75 block3b_add False\n",
      "76 block4a_expand_conv False\n",
      "77 block4a_expand_bn False\n",
      "78 block4a_expand_activation False\n",
      "79 block4a_dwconv_pad False\n",
      "80 block4a_dwconv False\n",
      "81 block4a_bn False\n",
      "82 block4a_activation False\n",
      "83 block4a_se_squeeze False\n",
      "84 block4a_se_reshape False\n",
      "85 block4a_se_reduce False\n",
      "86 block4a_se_expand False\n",
      "87 block4a_se_excite False\n",
      "88 block4a_project_conv False\n",
      "89 block4a_project_bn False\n",
      "90 block4b_expand_conv False\n",
      "91 block4b_expand_bn False\n",
      "92 block4b_expand_activation False\n",
      "93 block4b_dwconv False\n",
      "94 block4b_bn False\n",
      "95 block4b_activation False\n",
      "96 block4b_se_squeeze False\n",
      "97 block4b_se_reshape False\n",
      "98 block4b_se_reduce False\n",
      "99 block4b_se_expand False\n",
      "100 block4b_se_excite False\n",
      "101 block4b_project_conv False\n",
      "102 block4b_project_bn False\n",
      "103 block4b_drop False\n",
      "104 block4b_add False\n",
      "105 block4c_expand_conv False\n",
      "106 block4c_expand_bn False\n",
      "107 block4c_expand_activation False\n",
      "108 block4c_dwconv False\n",
      "109 block4c_bn False\n",
      "110 block4c_activation False\n",
      "111 block4c_se_squeeze False\n",
      "112 block4c_se_reshape False\n",
      "113 block4c_se_reduce False\n",
      "114 block4c_se_expand False\n",
      "115 block4c_se_excite False\n",
      "116 block4c_project_conv False\n",
      "117 block4c_project_bn False\n",
      "118 block4c_drop False\n",
      "119 block4c_add False\n",
      "120 block5a_expand_conv False\n",
      "121 block5a_expand_bn False\n",
      "122 block5a_expand_activation False\n",
      "123 block5a_dwconv False\n",
      "124 block5a_bn False\n",
      "125 block5a_activation False\n",
      "126 block5a_se_squeeze False\n",
      "127 block5a_se_reshape False\n",
      "128 block5a_se_reduce False\n",
      "129 block5a_se_expand False\n",
      "130 block5a_se_excite False\n",
      "131 block5a_project_conv False\n",
      "132 block5a_project_bn False\n",
      "133 block5b_expand_conv False\n",
      "134 block5b_expand_bn False\n",
      "135 block5b_expand_activation False\n",
      "136 block5b_dwconv False\n",
      "137 block5b_bn False\n",
      "138 block5b_activation False\n",
      "139 block5b_se_squeeze False\n",
      "140 block5b_se_reshape False\n",
      "141 block5b_se_reduce False\n",
      "142 block5b_se_expand False\n",
      "143 block5b_se_excite False\n",
      "144 block5b_project_conv False\n",
      "145 block5b_project_bn False\n",
      "146 block5b_drop False\n",
      "147 block5b_add False\n",
      "148 block5c_expand_conv False\n",
      "149 block5c_expand_bn False\n",
      "150 block5c_expand_activation False\n",
      "151 block5c_dwconv False\n",
      "152 block5c_bn False\n",
      "153 block5c_activation False\n",
      "154 block5c_se_squeeze False\n",
      "155 block5c_se_reshape False\n",
      "156 block5c_se_reduce False\n",
      "157 block5c_se_expand False\n",
      "158 block5c_se_excite False\n",
      "159 block5c_project_conv False\n",
      "160 block5c_project_bn False\n",
      "161 block5c_drop False\n",
      "162 block5c_add False\n",
      "163 block6a_expand_conv False\n",
      "164 block6a_expand_bn False\n",
      "165 block6a_expand_activation False\n",
      "166 block6a_dwconv_pad False\n",
      "167 block6a_dwconv False\n",
      "168 block6a_bn False\n",
      "169 block6a_activation False\n",
      "170 block6a_se_squeeze False\n",
      "171 block6a_se_reshape False\n",
      "172 block6a_se_reduce False\n",
      "173 block6a_se_expand False\n",
      "174 block6a_se_excite False\n",
      "175 block6a_project_conv False\n",
      "176 block6a_project_bn False\n",
      "177 block6b_expand_conv False\n",
      "178 block6b_expand_bn False\n",
      "179 block6b_expand_activation False\n",
      "180 block6b_dwconv False\n",
      "181 block6b_bn False\n",
      "182 block6b_activation False\n",
      "183 block6b_se_squeeze False\n",
      "184 block6b_se_reshape False\n",
      "185 block6b_se_reduce False\n",
      "186 block6b_se_expand False\n",
      "187 block6b_se_excite False\n",
      "188 block6b_project_conv False\n",
      "189 block6b_project_bn False\n",
      "190 block6b_drop False\n",
      "191 block6b_add False\n",
      "192 block6c_expand_conv False\n",
      "193 block6c_expand_bn False\n",
      "194 block6c_expand_activation False\n",
      "195 block6c_dwconv False\n",
      "196 block6c_bn False\n",
      "197 block6c_activation False\n",
      "198 block6c_se_squeeze False\n",
      "199 block6c_se_reshape False\n",
      "200 block6c_se_reduce False\n",
      "201 block6c_se_expand False\n",
      "202 block6c_se_excite False\n",
      "203 block6c_project_conv False\n",
      "204 block6c_project_bn False\n",
      "205 block6c_drop False\n",
      "206 block6c_add False\n",
      "207 block6d_expand_conv False\n",
      "208 block6d_expand_bn False\n",
      "209 block6d_expand_activation False\n",
      "210 block6d_dwconv False\n",
      "211 block6d_bn False\n",
      "212 block6d_activation False\n",
      "213 block6d_se_squeeze False\n",
      "214 block6d_se_reshape False\n",
      "215 block6d_se_reduce False\n",
      "216 block6d_se_expand False\n",
      "217 block6d_se_excite False\n",
      "218 block6d_project_conv False\n",
      "219 block6d_project_bn False\n",
      "220 block6d_drop False\n",
      "221 block6d_add False\n",
      "222 block7a_expand_conv False\n",
      "223 block7a_expand_bn False\n",
      "224 block7a_expand_activation False\n",
      "225 block7a_dwconv False\n",
      "226 block7a_bn False\n",
      "227 block7a_activation False\n",
      "228 block7a_se_squeeze True\n",
      "229 block7a_se_reshape True\n",
      "230 block7a_se_reduce True\n",
      "231 block7a_se_expand True\n",
      "232 block7a_se_excite True\n",
      "233 block7a_project_conv True\n",
      "234 block7a_project_bn True\n",
      "235 top_conv True\n",
      "236 top_bn True\n",
      "237 top_activation True\n"
     ]
    }
   ],
   "source": [
    "# Let's drill into our base_model (efficientnetb0) and see what layers are trainable\n",
    "for layer_number, layer in enumerate(model_2.layers[2].layers):\n",
    "    print(layer_number, layer.name, layer.trainable)"
   ]
  },
  {
   "cell_type": "code",
   "execution_count": 166,
   "id": "75da392a",
   "metadata": {},
   "outputs": [],
   "source": [
    "# Compile\n",
    "model_2.compile(loss=\"categorical_crossentropy\",\n",
    "                optimizer=tf.keras.optimizers.Adam(learning_rate=0.0001),\n",
    "                metrics=[\"accuracy\"])"
   ]
  },
  {
   "cell_type": "code",
   "execution_count": 167,
   "id": "e9f418c3",
   "metadata": {},
   "outputs": [
    {
     "name": "stdout",
     "output_type": "stream",
     "text": [
      "Saving TensorBoard log files to: transfer_learning/full_10_classes_fine_tune_last_10/20220718-110941\n",
      "Epoch 5/10\n",
      "235/235 [==============================] - 61s 232ms/step - loss: 0.6565 - accuracy: 0.7960 - val_loss: 0.4293 - val_accuracy: 0.8635\n",
      "Epoch 6/10\n",
      "235/235 [==============================] - 40s 171ms/step - loss: 0.5292 - accuracy: 0.8291 - val_loss: 0.3943 - val_accuracy: 0.8783\n",
      "Epoch 7/10\n",
      "235/235 [==============================] - 44s 186ms/step - loss: 0.4723 - accuracy: 0.8483 - val_loss: 0.3453 - val_accuracy: 0.8832\n",
      "Epoch 8/10\n",
      "235/235 [==============================] - 36s 155ms/step - loss: 0.4302 - accuracy: 0.8659 - val_loss: 0.3562 - val_accuracy: 0.8865\n",
      "Epoch 9/10\n",
      "235/235 [==============================] - 24s 100ms/step - loss: 0.3938 - accuracy: 0.8745 - val_loss: 0.3085 - val_accuracy: 0.9030\n",
      "Epoch 10/10\n",
      "235/235 [==============================] - 27s 115ms/step - loss: 0.3590 - accuracy: 0.8855 - val_loss: 0.3238 - val_accuracy: 0.8947\n"
     ]
    }
   ],
   "source": [
    "# Continue to train and fine-tune the model to our data (100% of training data)\n",
    "fine_tune_epochs = initial_epochs + 5\n",
    "\n",
    "history_fine_10_classes_full = model_2.fit(train_data_10_classes_full,\n",
    "                                           epochs=fine_tune_epochs,\n",
    "                                           validation_data=test_data,\n",
    "                                           validation_steps=int(0.25 * len(test_data)),\n",
    "                                           initial_epoch=history_10_percent_data_aug.epoch[-1],\n",
    "                                           callbacks=[create_tensorboard_callback(dir_name=\"transfer_learning\",\n",
    "                                                                                  experiment_name=\"full_10_classes_fine_tune_last_10\")])"
   ]
  },
  {
   "cell_type": "markdown",
   "id": "d38d868e",
   "metadata": {},
   "source": [
    "> 🔑 **Note:** Fine-tuning generally takes longer per epoch (more layers being updated) and in the case of the model we just ran we used 10x more data than before (more patterns to find) so it makes sense training took longer."
   ]
  },
  {
   "cell_type": "code",
   "execution_count": 168,
   "id": "0e684f26",
   "metadata": {},
   "outputs": [
    {
     "name": "stdout",
     "output_type": "stream",
     "text": [
      "79/79 [==============================] - 8s 104ms/step - loss: 0.3348 - accuracy: 0.8948\n"
     ]
    },
    {
     "data": {
      "text/plain": [
       "[0.33484649658203125, 0.8948000073432922]"
      ]
     },
     "execution_count": 168,
     "metadata": {},
     "output_type": "execute_result"
    }
   ],
   "source": [
    "# Let's evaluate on all of the test data\n",
    "results_fine_tune_full_data = model_2.evaluate(test_data)\n",
    "results_fine_tune_full_data"
   ]
  },
  {
   "cell_type": "code",
   "execution_count": 169,
   "id": "387986d9",
   "metadata": {},
   "outputs": [
    {
     "data": {
      "image/png": "[encoded data removed]",
      "text/plain": [
       "<Figure size 576x576 with 1 Axes>"
      ]
     },
     "metadata": {
      "needs_background": "light"
     },
     "output_type": "display_data"
    },
    {
     "data": {
      "image/png": "[encoded data removed]",
      "text/plain": [
       "<Figure size 576x576 with 1 Axes>"
      ]
     },
     "metadata": {
      "needs_background": "light"
     },
     "output_type": "display_data"
    }
   ],
   "source": [
    "# How did fine-tuning go with more data?\n",
    "compare_historys(original_history=history_10_percent_data_aug,\n",
    "               new_history=history_fine_10_classes_full,\n",
    "               initial_epochs=5)"
   ]
  },
  {
   "cell_type": "markdown",
   "id": "c5cdf689",
   "metadata": {},
   "source": [
    "## Viewing our experiment data on TensorBoard\n",
    "\n",
    "> 🔑 **Note:** Anything you upload to TensorBoard.dev is going to be public. So if you have private data, do not upload.\n",
    "\n"
   ]
  },
  {
   "cell_type": "code",
   "execution_count": null,
   "id": "202a3b8f",
   "metadata": {},
   "outputs": [],
   "source": [
    "# View tensorboard logs of transfer learning modelling experiments (should ~4 models)\n",
    "# Upload TensorBoard dev records\n",
    "!tensorboard dev upload --logdir ./transfer_learning \\\n",
    "  --name \"Transfer Learning Experiments with 10 Food101 Classes\" \\\n",
    "  --description \"A series of different transfer learning experiments with varying amounts of data and fine-tuning.\" \\\n",
    "  --one_shot # exits the uploader once its finished uploading"
   ]
  },
  {
   "cell_type": "markdown",
   "id": "52c8aac5",
   "metadata": {},
   "source": [
    "If you need to view or delete a previous TensorBoard experiment, you can run the commands below."
   ]
  },
  {
   "cell_type": "code",
   "execution_count": 94,
   "id": "80aee856",
   "metadata": {},
   "outputs": [],
   "source": [
    "# # View all of your uploaded TensorBoard.dev experiments (public)\n",
    "# !tensorboard dev list"
   ]
  },
  {
   "cell_type": "code",
   "execution_count": 95,
   "id": "617e510b",
   "metadata": {},
   "outputs": [],
   "source": [
    "# # To delete an experiment\n",
    "# !tensorboard dev delete --experiment_id vcySzjmkRkKBLVSdAQMO8g # Change this for the experiment ID you want to delete"
   ]
  },
  {
   "cell_type": "code",
   "execution_count": null,
   "id": "fa55ffc8",
   "metadata": {},
   "outputs": [],
   "source": []
  }
 ],
 "metadata": {
  "kernelspec": {
   "display_name": "Python 3 (ipykernel)",
   "language": "python",
   "name": "python3"
  },
  "language_info": {
   "codemirror_mode": {
    "name": "ipython",
    "version": 3
   },
   "file_extension": ".py",
   "mimetype": "text/x-python",
   "name": "python",
   "nbconvert_exporter": "python",
   "pygments_lexer": "ipython3",
   "version": "3.8.13"
  }
 },
 "nbformat": 4,
 "nbformat_minor": 5
}

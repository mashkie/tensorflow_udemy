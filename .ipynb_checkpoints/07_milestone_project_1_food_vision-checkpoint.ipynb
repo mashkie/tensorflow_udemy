{
 "cells": [
  {
   "cell_type": "markdown",
   "id": "7d7f4794",
   "metadata": {},
   "source": [
    "# Milestone Pojec 1: Food Vision Big\n",
    "\n",
    "See the annotated version of this notebook on GitHub: https://github.com/mrdbourke/tensorflow-deep-learning/blob/main/07_food_vision_milestone_project_1.ipynb"
   ]
  },
  {
   "cell_type": "markdown",
   "id": "a477c47c",
   "metadata": {},
   "source": [
    "## Check GPU\n",
    "\n",
    "Google Colab offers free GPUs, however, not all of them are compatible with mixed precision training.\n",
    "\n",
    "Google Colab offer:\n",
    "* K80 (not compatible)\n",
    "* P100 (not compatible)\n",
    "* Tesla T4 (compatible)\n",
    "\n",
    "Knowing this, in order to use mixed precision training we need access to a Tesla T4 (from within Google Colab) or if we're using our own hardware, our GPU needs a score of 7.0+ (see here: https://developer.nvidia.com/cuda-gpus)"
   ]
  },
  {
   "cell_type": "code",
   "execution_count": 1,
   "id": "f510a90d",
   "metadata": {},
   "outputs": [
    {
     "name": "stdout",
     "output_type": "stream",
     "text": [
      "GPU 0: NVIDIA GeForce GTX 1080 (UUID: GPU-34485f07-7e3c-f5a2-f7d8-d14f6ccaef22)\r\n"
     ]
    }
   ],
   "source": [
    "!nvidia-smi -L"
   ]
  },
  {
   "cell_type": "markdown",
   "id": "ce66af89",
   "metadata": {},
   "source": [
    "## Get he helper functions\n",
    "\n",
    "In past modules , we've created a bunch of helper functions to do small taks required for our notebooks.\n",
    "\n",
    "Rather than rewrite all of these, we can import a script and load them in from there.\n",
    "\n",
    "The script can be found on GitHub"
   ]
  },
  {
   "cell_type": "code",
   "execution_count": 2,
   "id": "89d71948",
   "metadata": {},
   "outputs": [],
   "source": [
    "# Download helper funciton script\n",
    "# !wget https://raw.githubusercontent.com/mrdbourke/tensorflow-deep-learning/main/extras/helper_functions.py"
   ]
  },
  {
   "cell_type": "code",
   "execution_count": 3,
   "id": "9c9c5fd3",
   "metadata": {},
   "outputs": [],
   "source": [
    "# Import series of helper functions for the notebook\n",
    "from helper_functions import create_tensorboard_callback, plot_loss_curves, compare_historys"
   ]
  },
  {
   "cell_type": "markdown",
   "id": "f961195a",
   "metadata": {},
   "source": [
    "## Use TensorFlow Datasets to Download Data\n",
    "\n",
    "If you want to get an overview of TensorFlow Datasets (TFDS), read the guide: https://www.tensorflow.org/datasets/overview"
   ]
  },
  {
   "cell_type": "code",
   "execution_count": 5,
   "id": "72ee2192",
   "metadata": {},
   "outputs": [
    {
     "name": "stderr",
     "output_type": "stream",
     "text": [
      "/home/msk/anaconda3/envs/tf/lib/python3.8/site-packages/tqdm/auto.py:22: TqdmWarning: IProgress not found. Please update jupyter and ipywidgets. See https://ipywidgets.readthedocs.io/en/stable/user_install.html\n",
      "  from .autonotebook import tqdm as notebook_tqdm\n"
     ]
    }
   ],
   "source": [
    "# Get TensorFlow Datasets\n",
    "import tensorflow_datasets as tfds"
   ]
  },
  {
   "cell_type": "code",
   "execution_count": 6,
   "id": "b9e290dc",
   "metadata": {},
   "outputs": [
    {
     "name": "stderr",
     "output_type": "stream",
     "text": [
      "2022-07-19 15:05:17.983364: W tensorflow/core/platform/cloud/google_auth_provider.cc:184] All attempts to get a Google authentication bearer token failed, returning an empty token. Retrieving token from files failed with \"NOT_FOUND: Could not locate the credentials file.\". Retrieving token from GCE failed with \"FAILED_PRECONDITION: Error executing an HTTP request: libcurl code 6 meaning 'Couldn't resolve host name', error details: Could not resolve host: metadata\".\n"
     ]
    },
    {
     "name": "stdout",
     "output_type": "stream",
     "text": [
      "True\n"
     ]
    }
   ],
   "source": [
    "# List all available datasets\n",
    "datasets_list = tfds.list_builders() # get all available datasets in TFDS\n",
    "print(\"food101\" in datasets_list) # is our target dataset in the list of TFDS datasets?"
   ]
  },
  {
   "cell_type": "code",
   "execution_count": 82,
   "id": "ab086756",
   "metadata": {},
   "outputs": [],
   "source": [
    "# Load in the data (takes 5-6 minutes in Google Colab)\n",
    "(train_data, test_data), ds_info = tfds.load(name=\"food101\",\n",
    "                                            split=[\"train\", \"validation\"],\n",
    "                                            shuffle_files=True,\n",
    "                                            as_supervised=True, # data gets returned in tuple format (data,label),\n",
    "                                            with_info=True)"
   ]
  },
  {
   "cell_type": "code",
   "execution_count": 106,
   "id": "5d7988e5",
   "metadata": {},
   "outputs": [
    {
     "data": {
      "text/plain": [
       "(2368, 790)"
      ]
     },
     "execution_count": 106,
     "metadata": {},
     "output_type": "execute_result"
    }
   ],
   "source": [
    "len(train_data), len(test_data)"
   ]
  },
  {
   "cell_type": "markdown",
   "id": "0fd64262",
   "metadata": {},
   "source": [
    "## Eploring the Food101 data from TensorFlow Datasets\n",
    "\n",
    "To become one with our data, we want to find:\n",
    "* Class names\n",
    "* The shape of our input data\n",
    "* The datatype of our input data\n",
    "* What the labels look like (e.g. are thy one-hot encoded or are they label encoded)\n",
    "* Do the labels match up with the class names"
   ]
  },
  {
   "cell_type": "code",
   "execution_count": 83,
   "id": "1fb3b273",
   "metadata": {},
   "outputs": [
    {
     "data": {
      "text/plain": [
       "FeaturesDict({\n",
       "    'image': Image(shape=(None, None, 3), dtype=tf.uint8),\n",
       "    'label': ClassLabel(shape=(), dtype=tf.int64, num_classes=101),\n",
       "})"
      ]
     },
     "execution_count": 83,
     "metadata": {},
     "output_type": "execute_result"
    }
   ],
   "source": [
    "# Features of Food101 from TFDS\n",
    "ds_info.features"
   ]
  },
  {
   "cell_type": "code",
   "execution_count": 84,
   "id": "4248e640",
   "metadata": {},
   "outputs": [
    {
     "data": {
      "text/plain": [
       "['apple_pie',\n",
       " 'baby_back_ribs',\n",
       " 'baklava',\n",
       " 'beef_carpaccio',\n",
       " 'beef_tartare',\n",
       " 'beet_salad',\n",
       " 'beignets',\n",
       " 'bibimbap',\n",
       " 'bread_pudding',\n",
       " 'breakfast_burrito']"
      ]
     },
     "execution_count": 84,
     "metadata": {},
     "output_type": "execute_result"
    }
   ],
   "source": [
    "# Get the class names\n",
    "class_names = ds_info.features[\"label\"].names\n",
    "class_names[:10]"
   ]
  },
  {
   "cell_type": "code",
   "execution_count": 85,
   "id": "6caf7cc9",
   "metadata": {},
   "outputs": [],
   "source": [
    "# Take one sample of train data\n",
    "train_one_sample = train_data.take(1) # samples are in format (image_tensor, label)"
   ]
  },
  {
   "cell_type": "code",
   "execution_count": 86,
   "id": "f5e5c6a3",
   "metadata": {},
   "outputs": [
    {
     "data": {
      "text/plain": [
       "<TakeDataset element_spec=(TensorSpec(shape=(None, None, 3), dtype=tf.uint8, name=None), TensorSpec(shape=(), dtype=tf.int64, name=None))>"
      ]
     },
     "execution_count": 86,
     "metadata": {},
     "output_type": "execute_result"
    }
   ],
   "source": [
    "# What does one sample of our training dat look like?\n",
    "train_one_sample"
   ]
  },
  {
   "cell_type": "code",
   "execution_count": 87,
   "id": "7fdb91a3",
   "metadata": {},
   "outputs": [
    {
     "name": "stdout",
     "output_type": "stream",
     "text": [
      "\n",
      "    Image Shape: (512, 512, 3),\n",
      "    Image datatype: <dtype: 'uint8'>,\n",
      "    Target class from Food101 (tensor form): 43\n",
      "    Class name (str form): fried_calamari\n",
      "    \n"
     ]
    }
   ],
   "source": [
    "# Output info about our training sample\n",
    "for image, label in train_one_sample:\n",
    "    print(f\"\"\"\n",
    "    Image Shape: {image.shape},\n",
    "    Image datatype: {image.dtype},\n",
    "    Target class from Food101 (tensor form): {label}\n",
    "    Class name (str form): {class_names[label.numpy()]}\n",
    "    \"\"\")"
   ]
  },
  {
   "cell_type": "code",
   "execution_count": 88,
   "id": "894f90f3",
   "metadata": {},
   "outputs": [
    {
     "data": {
      "text/plain": [
       "<tf.Tensor: shape=(512, 512, 3), dtype=uint8, numpy=\n",
       "array([[[71, 60, 56],\n",
       "        [70, 59, 55],\n",
       "        [70, 59, 55],\n",
       "        ...,\n",
       "        [65, 60, 67],\n",
       "        [65, 60, 67],\n",
       "        [64, 59, 66]],\n",
       "\n",
       "       [[62, 51, 47],\n",
       "        [64, 53, 49],\n",
       "        [66, 55, 51],\n",
       "        ...,\n",
       "        [65, 60, 67],\n",
       "        [65, 60, 67],\n",
       "        [64, 59, 66]],\n",
       "\n",
       "       [[61, 50, 46],\n",
       "        [65, 54, 50],\n",
       "        [68, 57, 53],\n",
       "        ...,\n",
       "        [66, 61, 68],\n",
       "        [65, 60, 67],\n",
       "        [63, 58, 65]],\n",
       "\n",
       "       ...,\n",
       "\n",
       "       [[63, 64, 66],\n",
       "        [64, 65, 67],\n",
       "        [67, 67, 69],\n",
       "        ...,\n",
       "        [45, 42, 49],\n",
       "        [45, 42, 49],\n",
       "        [45, 42, 49]],\n",
       "\n",
       "       [[64, 64, 66],\n",
       "        [64, 64, 66],\n",
       "        [65, 65, 67],\n",
       "        ...,\n",
       "        [44, 41, 48],\n",
       "        [44, 41, 48],\n",
       "        [44, 41, 48]],\n",
       "\n",
       "       [[62, 62, 64],\n",
       "        [62, 62, 64],\n",
       "        [62, 62, 64],\n",
       "        ...,\n",
       "        [43, 40, 47],\n",
       "        [42, 39, 46],\n",
       "        [42, 39, 46]]], dtype=uint8)>"
      ]
     },
     "execution_count": 88,
     "metadata": {},
     "output_type": "execute_result"
    }
   ],
   "source": [
    "# What does our image tensor from TFD's Food101 look like?\n",
    "image"
   ]
  },
  {
   "cell_type": "code",
   "execution_count": 89,
   "id": "c64dfd7e",
   "metadata": {},
   "outputs": [
    {
     "data": {
      "text/plain": [
       "(<tf.Tensor: shape=(), dtype=uint8, numpy=0>,\n",
       " <tf.Tensor: shape=(), dtype=uint8, numpy=255>)"
      ]
     },
     "execution_count": 89,
     "metadata": {},
     "output_type": "execute_result"
    }
   ],
   "source": [
    "# What are the min and my values of our image tensor?\n",
    "import tensorflow as tf\n",
    "tf.reduce_min(image), tf.reduce_max(image)"
   ]
  },
  {
   "cell_type": "markdown",
   "id": "194c7a95",
   "metadata": {},
   "source": [
    "### Plot an image from TensorFlow Datasets"
   ]
  },
  {
   "cell_type": "code",
   "execution_count": 90,
   "id": "a111a4bc",
   "metadata": {},
   "outputs": [
    {
     "data": {
      "image/png": "[encoded data removed]",
      "text/plain": [
       "<Figure size 720x504 with 1 Axes>"
      ]
     },
     "metadata": {
      "needs_background": "light"
     },
     "output_type": "display_data"
    }
   ],
   "source": [
    "# Plot an image tensor\n",
    "import matplotlib.pyplot as plt\n",
    "plt.figure(figsize=(10,7))\n",
    "plt.title(class_names[label.numpy()]) # Add title to image to verify the label is associated with the right image\n",
    "plt.axis(False)\n",
    "plt.imshow(image);"
   ]
  },
  {
   "cell_type": "markdown",
   "id": "4ff782ec",
   "metadata": {},
   "source": [
    "## Create preprocessing functions for our data\n",
    "\n",
    "Neural networks perform best when data is in a certain way (e.g. batched, normalized, etc).\n",
    "\n",
    "However, not all data (including data from from TensorFlow Datasets) comes like this.\n",
    "\n",
    "So in order to get it ready for a neural network, you'll often have to write preprocessing functions and map it to your data.\n",
    "\n",
    "What we know about our data:\n",
    "\n",
    "* In `uint8` datatype\n",
    "* Comprised of all different size tensors (different sized images)\n",
    "* Not scaled (the pixel values are between 0 & 255)\n",
    "\n",
    "What we know models like:\n",
    "\n",
    "* Data in `float32` dtype (or for mixed precision `float16` and `float32`)\n",
    "* For batches, TensorFlow likes all of the tensors within a batch to be of the same size\n",
    "* Scaled (values between 0 & 1) also called normalized tensors generally perform better\n",
    "\n",
    "With these points in mind, we've got a few things we can tackle with a preprocessing function.\n",
    "\n",
    "Since we're going to be using an EfficientNetBX pretrained model from tf.keras.applications we don't need to rescale our data (these architectures have rescaling built-in).\n",
    "\n",
    "This means our functions needs to:\n",
    "\n",
    "1. Reshape our images to all the same size\n",
    "2. Convert the dtype of our image tensors from `unit8` to `float32`"
   ]
  },
  {
   "cell_type": "code",
   "execution_count": 91,
   "id": "8e72caff",
   "metadata": {},
   "outputs": [],
   "source": [
    "# Our data comes in the tuple structure: (image, label)"
   ]
  },
  {
   "cell_type": "code",
   "execution_count": 92,
   "id": "004d70bf",
   "metadata": {},
   "outputs": [],
   "source": [
    "# Make a function to preprocess our data\n",
    "def preprocess_img(image, label, img_shape=224):\n",
    "    \"\"\"\n",
    "    Converts image datatype from 'uint8' -> 'float32' and reshapes\n",
    "    imgage to [image_shape, img_shape, colour_channels]\n",
    "    \"\"\"\n",
    "    image = tf.image.resize(image, [img_shape, img_shape]) # reshape target image\n",
    "    image = tf.cast(image, tf.float32)\n",
    "    # image =  image/255. # scale image values (not required with EfficientNetBx models from tf.keras.applicaton)\n",
    "    return image, label # return (float32_image, label) tuple"
   ]
  },
  {
   "cell_type": "code",
   "execution_count": 93,
   "id": "8d09c778",
   "metadata": {},
   "outputs": [
    {
     "name": "stdout",
     "output_type": "stream",
     "text": [
      "Image before preprocessing:\n",
      " [[[71 60 56]\n",
      "  [70 59 55]\n",
      "  [70 59 55]\n",
      "  ...\n",
      "  [65 60 67]\n",
      "  [65 60 67]\n",
      "  [64 59 66]]\n",
      "\n",
      " [[62 51 47]\n",
      "  [64 53 49]\n",
      "  [66 55 51]\n",
      "  ...\n",
      "  [65 60 67]\n",
      "  [65 60 67]\n",
      "  [64 59 66]]]..., \n",
      "Shape: (512, 512, 3), \n",
      "Datatype: <dtype: 'uint8'>\n",
      "\n",
      "Image after preprocessing:\n",
      " [[[ 65.81122   54.811222  50.811222]\n",
      "  [ 73.331635  62.331635  58.331635]\n",
      "  [104.015305  89.80102   86.80102 ]\n",
      "  ...\n",
      "  [ 61.85712   59.071384  65.64286 ]\n",
      "  [ 65.        60.        67.      ]\n",
      "  [ 64.64282   59.642822  66.64282 ]]\n",
      "\n",
      " [[ 67.28571   56.285717  52.285717]\n",
      "  [ 66.47449   55.47449   51.47449 ]\n",
      "  [ 67.73979   53.525505  50.525505]\n",
      "  ...\n",
      "  [ 64.14284   61.3571    67.92857 ]\n",
      "  [ 65.93368   60.933674  67.93368 ]\n",
      "  [ 64.285645  59.285645  66.285645]]]..., \n",
      "Shape: (224, 224, 3), \n",
      "Datatype: <dtype: 'float32'>\n"
     ]
    }
   ],
   "source": [
    "# Preprocess a single sample image and check the outputs\n",
    "preprocessed_img = preprocess_img(image, label)[0]\n",
    "print(f\"Image before preprocessing:\\n {image[:2]}..., \\nShape: {image.shape}, \\nDatatype: {image.dtype}\\n\")\n",
    "print(f\"Image after preprocessing:\\n {preprocessed_img[:2]}..., \\nShape: {preprocessed_img.shape}, \\nDatatype: {preprocessed_img.dtype}\")"
   ]
  },
  {
   "cell_type": "markdown",
   "id": "66146ed8",
   "metadata": {},
   "source": [
    "## Batch & prepare datasets\n",
    "\n",
    "We're now going to make our data input pipeline run really fast.\n",
    "\n",
    "For more resources on this, I'd highly going through the following guide: https://www.tensorflow.org/guide/data_performance"
   ]
  },
  {
   "cell_type": "code",
   "execution_count": 94,
   "id": "66cc48b0",
   "metadata": {},
   "outputs": [],
   "source": [
    "# Map preprocessing function to training (and parallelize)\n",
    "train_data = train_data.map(map_func=preprocess_img, num_parallel_calls=tf.data.AUTOTUNE)\n",
    "# Shuffle train_data and turn it into batches and prefetch it (load it faster)\n",
    "train_data = train_data.shuffle(buffer_size=1000).batch(batch_size=32).prefetch(buffer_size=tf.data.AUTOTUNE)\n",
    "\n",
    "# Map preprocessing function to test data\n",
    "test_data = test_data.map(map_func=preprocess_img, num_parallel_calls=tf.data.AUTOTUNE).batch(32).prefetch(tf.data.AUTOTUNE)"
   ]
  },
  {
   "cell_type": "code",
   "execution_count": 95,
   "id": "7d845373",
   "metadata": {},
   "outputs": [
    {
     "data": {
      "text/plain": [
       "(<PrefetchDataset element_spec=(TensorSpec(shape=(None, 224, 224, 3), dtype=tf.float32, name=None), TensorSpec(shape=(None,), dtype=tf.int64, name=None))>,\n",
       " <PrefetchDataset element_spec=(TensorSpec(shape=(None, 224, 224, 3), dtype=tf.float32, name=None), TensorSpec(shape=(None,), dtype=tf.int64, name=None))>)"
      ]
     },
     "execution_count": 95,
     "metadata": {},
     "output_type": "execute_result"
    }
   ],
   "source": [
    "train_data, test_data"
   ]
  },
  {
   "cell_type": "markdown",
   "id": "a65e48d6",
   "metadata": {},
   "source": [
    "> \"Hey, TensorFlow, map this preprocessing function (`preprocess_img`) across our training dataset, then shuffle a number of elements and then batch them together and finally make sure you prepare new batches (prefetch) whilst the model is looking through (finding patterns) the current batch.\""
   ]
  },
  {
   "cell_type": "markdown",
   "id": "e389cf7b",
   "metadata": {},
   "source": [
    "## Create modelling callbacks\n",
    "\n",
    "We're going to create a couple of callbacks to help us while our model trains:\n",
    "\n",
    "* TensorBoard callback to log training results (so we can visualize them later if need be)\n",
    "* ModelCheckpoint callback to save our model's progress after feature extraction"
   ]
  },
  {
   "cell_type": "code",
   "execution_count": 103,
   "id": "6cd4b55a",
   "metadata": {},
   "outputs": [],
   "source": [
    "# Create tensorboard callback (import from helper-functions.py)\n",
    "from helper_functions import create_tensorboard_callback\n",
    "\n",
    "# Create ModelCheckpoint callback to save a model's progress during training\n",
    "checkpoint_path = \"model_chekpoints/cp.ckpt\"\n",
    "model_checkpoint = tf.keras.callbacks.ModelCheckpoint(checkpoint_path,\n",
    "                                                     monitor=\"val_accuracy\",\n",
    "                                                     save_best_only=True,\n",
    "                                                     save_weights_only=True,\n",
    "                                                     verbose=0) # don't print whether or not model is being saved"
   ]
  },
  {
   "cell_type": "markdown",
   "id": "39f1f59c",
   "metadata": {},
   "source": [
    "## Setup mixed precision training\n",
    "\n",
    "First and foremost, for a deeper understanding of mixed precision training, check out the TensorFlow guide for mixed precision: https://www.tensorflow.org/guide/mixed_precision\n",
    "\n",
    "Mixed precision utilizes a combination of float32 and float16 data types to speed up model performance."
   ]
  },
  {
   "cell_type": "code",
   "execution_count": 61,
   "id": "4e3e8747",
   "metadata": {},
   "outputs": [],
   "source": [
    "# Turn on mixed precision training (computability > 7.0)\n",
    "# from tensorflow.keras import mixed_precision\n",
    "# mixed_precision.set_global_policy(\"mixed_float16\") # set global data policy to mixed precision"
   ]
  },
  {
   "cell_type": "code",
   "execution_count": 63,
   "id": "79ad19ed",
   "metadata": {},
   "outputs": [],
   "source": [
    "# Set back to default because computeability is < 7.0\n",
    "from tensorflow.keras import mixed_precision\n",
    "mixed_precision.set_global_policy(\"float32\") # set global data policy to mixed precision"
   ]
  },
  {
   "cell_type": "code",
   "execution_count": 64,
   "id": "08e6404b",
   "metadata": {},
   "outputs": [
    {
     "data": {
      "text/plain": [
       "<Policy \"float32\">"
      ]
     },
     "execution_count": 64,
     "metadata": {},
     "output_type": "execute_result"
    }
   ],
   "source": [
    "mixed_precision.global_policy()"
   ]
  },
  {
   "cell_type": "markdown",
   "id": "02ed661b",
   "metadata": {},
   "source": [
    "## Build feature extraction model"
   ]
  },
  {
   "cell_type": "code",
   "execution_count": 97,
   "id": "46cb74d7",
   "metadata": {},
   "outputs": [],
   "source": [
    "from tensorflow.keras import layers\n",
    "from tensorflow.keras.layers.experimental import preprocessing\n",
    "\n",
    "# Create base model\n",
    "input_shape=(224,224,3)\n",
    "base_model = tf.keras.applications.EfficientNetB0(include_top=False)\n",
    "base_model.trainable = False\n",
    "\n",
    "\n",
    "# Create functional model\n",
    "inputs = layers.Input(shape=input_shape, name=\"input_layer\")\n",
    "# Note: EfficientNetBX models haverescaling built-in but if your model doesn't you can have a layer like bellow\n",
    "# x = preprocessing.Rescaling(1./255)(x)\n",
    "x = base_model(inputs, training=False) # make sure layers which should be in inference mode only stay like that\n",
    "x = layers.GlobalAveragePooling2D()(x)\n",
    "x = layers.Dense(len(class_names))(x)\n",
    "outputs = layers.Activation(\"softmax\", dtype=tf.float32, name=\"softmax_float32\")(x)\n",
    "model = tf.keras.Model(inputs, outputs)\n",
    "\n",
    "# Compile the model\n",
    "model.compile(loss=\"sparse_categorical_crossentropy\",\n",
    "              optimizer=tf.keras.optimizers.Adam(),\n",
    "              metrics=[\"accuracy\"])"
   ]
  },
  {
   "cell_type": "code",
   "execution_count": 98,
   "id": "097f88d3",
   "metadata": {},
   "outputs": [
    {
     "name": "stdout",
     "output_type": "stream",
     "text": [
      "Model: \"model_1\"\n",
      "_________________________________________________________________\n",
      " Layer (type)                Output Shape              Param #   \n",
      "=================================================================\n",
      " input_layer (InputLayer)    [(None, 224, 224, 3)]     0         \n",
      "                                                                 \n",
      " efficientnetb0 (Functional)  (None, None, None, 1280)  4049571  \n",
      "                                                                 \n",
      " global_average_pooling2d_1   (None, 1280)             0         \n",
      " (GlobalAveragePooling2D)                                        \n",
      "                                                                 \n",
      " dense_1 (Dense)             (None, 101)               129381    \n",
      "                                                                 \n",
      " softmax_float32 (Activation  (None, 101)              0         \n",
      " )                                                               \n",
      "                                                                 \n",
      "=================================================================\n",
      "Total params: 4,178,952\n",
      "Trainable params: 129,381\n",
      "Non-trainable params: 4,049,571\n",
      "_________________________________________________________________\n"
     ]
    }
   ],
   "source": [
    "model.summary()"
   ]
  },
  {
   "cell_type": "markdown",
   "id": "c35a7d67",
   "metadata": {},
   "source": [
    "## Checking layer dtype policies (are we using mixed precision?)"
   ]
  },
  {
   "cell_type": "code",
   "execution_count": 99,
   "id": "eadbb2d7",
   "metadata": {},
   "outputs": [
    {
     "name": "stdout",
     "output_type": "stream",
     "text": [
      "input_layer True float32 <Policy \"float32\">\n",
      "efficientnetb0 False float32 <Policy \"float32\">\n",
      "global_average_pooling2d_1 True float32 <Policy \"float32\">\n",
      "dense_1 True float32 <Policy \"float32\">\n",
      "softmax_float32 True float32 <Policy \"float32\">\n"
     ]
    }
   ],
   "source": [
    "# Check the dtype_policy attribute of layers in our model\n",
    "for layer in model.layers:\n",
    "    print(layer.name, layer.trainable, layer.dtype, layer.dtype_policy)"
   ]
  },
  {
   "cell_type": "markdown",
   "id": "81885291",
   "metadata": {},
   "source": [
    "Going through the above we see:\n",
    "\n",
    "* `layer.name`: the human readable name of a particular layer\n",
    "* `layer.trainable`: is the layer trainable or not? (if False, the weights are frozen)\n",
    "* `layer.dtype`: the data type a layer stores its variables in\n",
    "* `layer.dtype_policy`: the data type policy a layer computes on its variables with"
   ]
  },
  {
   "cell_type": "code",
   "execution_count": 100,
   "id": "82464d5e",
   "metadata": {},
   "outputs": [
    {
     "name": "stdout",
     "output_type": "stream",
     "text": [
      "input_2 False float32 <Policy \"float32\">\n",
      "rescaling_1 False float32 <Policy \"float32\">\n",
      "normalization_1 False float32 <Policy \"float32\">\n",
      "tf.math.truediv_1 False float32 <Policy \"float32\">\n",
      "stem_conv_pad False float32 <Policy \"float32\">\n",
      "stem_conv False float32 <Policy \"float32\">\n",
      "stem_bn False float32 <Policy \"float32\">\n",
      "stem_activation False float32 <Policy \"float32\">\n",
      "block1a_dwconv False float32 <Policy \"float32\">\n",
      "block1a_bn False float32 <Policy \"float32\">\n",
      "block1a_activation False float32 <Policy \"float32\">\n",
      "block1a_se_squeeze False float32 <Policy \"float32\">\n",
      "block1a_se_reshape False float32 <Policy \"float32\">\n",
      "block1a_se_reduce False float32 <Policy \"float32\">\n",
      "block1a_se_expand False float32 <Policy \"float32\">\n",
      "block1a_se_excite False float32 <Policy \"float32\">\n",
      "block1a_project_conv False float32 <Policy \"float32\">\n",
      "block1a_project_bn False float32 <Policy \"float32\">\n",
      "block2a_expand_conv False float32 <Policy \"float32\">\n",
      "block2a_expand_bn False float32 <Policy \"float32\">\n"
     ]
    }
   ],
   "source": [
    "# Check the dtype_policy attributes of layers in the base model\n",
    "for layer in model.layers[1].layers[:20]: # check the layers of the base model (layer at index 1 of `model`)\n",
    "  print(layer.name, layer.trainable, layer.dtype, layer.dtype_policy)"
   ]
  },
  {
   "cell_type": "code",
   "execution_count": 101,
   "id": "0c9c9294",
   "metadata": {},
   "outputs": [
    {
     "data": {
      "text/plain": [
       "<Policy \"float32\">"
      ]
     },
     "execution_count": 101,
     "metadata": {},
     "output_type": "execute_result"
    }
   ],
   "source": [
    "mixed_precision.global_policy()"
   ]
  },
  {
   "cell_type": "markdown",
   "id": "714684aa",
   "metadata": {},
   "source": [
    "## Fit the feature extraction model\n",
    "\n",
    "If our goal is to fine-tune a pretrained model, the general order of doing things is:\n",
    "\n",
    "1. Build a feature extraction model (train a couple output layers with base layers frozen)\n",
    "2. Fine-tune some of the frozen layers"
   ]
  },
  {
   "cell_type": "code",
   "execution_count": 104,
   "id": "c6a180d1",
   "metadata": {},
   "outputs": [
    {
     "name": "stdout",
     "output_type": "stream",
     "text": [
      "Saving TensorBoard log files to: training_logs/efficientnetb0_101_classes_all_data_feature_extract/20220719-183229\n",
      "Epoch 1/3\n",
      "2368/2368 [==============================] - 169s 71ms/step - loss: 1.1495 - accuracy: 0.7016 - val_loss: 1.0175 - val_accuracy: 0.7188\n",
      "Epoch 2/3\n",
      "2368/2368 [==============================] - 175s 73ms/step - loss: 1.0225 - accuracy: 0.7313 - val_loss: 0.9822 - val_accuracy: 0.7264\n",
      "Epoch 3/3\n",
      "2368/2368 [==============================] - 171s 72ms/step - loss: 0.9368 - accuracy: 0.7528 - val_loss: 0.9652 - val_accuracy: 0.7323\n"
     ]
    }
   ],
   "source": [
    "# Fit the feature extraction model with callbacks\n",
    "history_101_food_classes_feature_extract = model.fit(train_data,\n",
    "                                                    epochs=3,\n",
    "                                                    steps_per_epoch=len(train_data),\n",
    "                                                    validation_data=test_data,\n",
    "                                                    validation_steps=int(0.15 * len(test_data)),\n",
    "                                                    callbacks=[create_tensorboard_callback(dir_name=\"training_logs\",\n",
    "                                                                                          experiment_name=\"efficientnetb0_101_classes_all_data_feature_extract\"),\n",
    "                                                              model_checkpoint])"
   ]
  },
  {
   "cell_type": "code",
   "execution_count": 105,
   "id": "cd01bd47",
   "metadata": {},
   "outputs": [
    {
     "name": "stdout",
     "output_type": "stream",
     "text": [
      "790/790 [==============================] - 52s 66ms/step - loss: 0.9822 - accuracy: 0.7301\n"
     ]
    },
    {
     "data": {
      "text/plain": [
       "[0.9822210669517517, 0.7301385998725891]"
      ]
     },
     "execution_count": 105,
     "metadata": {},
     "output_type": "execute_result"
    }
   ],
   "source": [
    "# Evaluate model on whole test dataset\n",
    "results_feature_extract_model = model.evaluate(test_data)\n",
    "results_feature_extract_model"
   ]
  },
  {
   "cell_type": "markdown",
   "id": "956413c4",
   "metadata": {},
   "source": [
    "## Off to you...\n",
    "\n",
    "We've covered a lot of ground so far but since this is a milestone project, it's time for you to takeover.\n",
    "\n",
    "More specifically, you're challenge is to complete the TEMPLATE version of 07 to obtain a computer vision model (building off the one we've built in this notebook) to beat the DeepFood paper.\n",
    "\n",
    "In other words, you're going to create Food Vision Big!!!\n",
    "\n",
    "You can find the TEMPLATE notebook here: https://github.com/mrdbourke/tensorflow-deep-learning/blob/main/extras/TEMPLATE_07_food_vision_milestone_project_1.ipynb\n",
    "\n",
    "And if you get stuck, you can refer to the example version (non-template): https://github.com/mrdbourke/tensorflow-deep-learning/blob/main/07_food_vision_milestone_project_1.ipynb"
   ]
  },
  {
   "cell_type": "markdown",
   "id": "cd19b67d",
   "metadata": {},
   "source": [
    "## Load and evaluate checkpoint weights\n",
    "We can load in and evaluate our model's checkpoints by:\n",
    "\n",
    "1. Cloning our model using tf.keras.models.clone_model() to make a copy of our feature extraction model with reset weights.\n",
    "2. Calling the load_weights() method on our cloned model passing it the path to where our checkpointed weights are stored.\n",
    "3. Calling evaluate() on the cloned model with loaded weights.\n",
    "\n",
    "\n",
    "A reminder, checkpoints are helpful for when you perform an experiment such as fine-tuning your model. In the case you fine-tune your feature extraction model and find it doesn't offer any improvements, you can always revert back to the checkpointed version of your model."
   ]
  },
  {
   "cell_type": "code",
   "execution_count": null,
   "id": "d76a14ca",
   "metadata": {},
   "outputs": [],
   "source": [
    "# Clone the model we created (this resets all weights)\n",
    "cloned_model = tf.keras.models.clone_model(model)\n",
    "cloned_model.summary()"
   ]
  },
  {
   "cell_type": "code",
   "execution_count": null,
   "id": "da6ba082",
   "metadata": {},
   "outputs": [],
   "source": [
    "# Where are our checkpoints stored?\n",
    "checkpoint_path"
   ]
  },
  {
   "cell_type": "code",
   "execution_count": null,
   "id": "73576e33",
   "metadata": {},
   "outputs": [],
   "source": [
    "# Load checkpointed weights into cloned_model\n",
    "cloned_model.load_weights(checkpoint_path)"
   ]
  },
  {
   "cell_type": "markdown",
   "id": "8cd3e1a1",
   "metadata": {},
   "source": [
    "Each time you make a change to your model (including loading weights), you have to recompile."
   ]
  },
  {
   "cell_type": "code",
   "execution_count": null,
   "id": "aec92369",
   "metadata": {},
   "outputs": [],
   "source": [
    "# Compile cloned_model (with same parameters as original model)\n",
    "cloned_model.compile(loss=\"sparse_categorical_crossentropy\",\n",
    "                     optimizer=tf.keras.optimizers.Adam(),\n",
    "                     metrics=[\"accuracy\"])"
   ]
  },
  {
   "cell_type": "code",
   "execution_count": null,
   "id": "91a90019",
   "metadata": {},
   "outputs": [],
   "source": [
    "# Evalaute cloned model with loaded weights (should be same score as trained model)\n",
    "results_cloned_model_with_loaded_weights = cloned_model.evaluate(test_data)"
   ]
  },
  {
   "cell_type": "markdown",
   "id": "bd059283",
   "metadata": {},
   "source": [
    "Our cloned model with loaded weight's results should be very close to the feature extraction model's results (if the cell below errors, something went wrong)."
   ]
  },
  {
   "cell_type": "code",
   "execution_count": null,
   "id": "2f4d4387",
   "metadata": {},
   "outputs": [],
   "source": [
    "# Loaded checkpoint weights should return very similar results to checkpoint weights prior to saving\n",
    "import numpy as np\n",
    "assert np.isclose(results_feature_extract_model, results_cloned_model_with_loaded_weights).all() # check if all elements in array are close"
   ]
  },
  {
   "cell_type": "markdown",
   "id": "8b4b6166",
   "metadata": {},
   "source": [
    "Cloning the model preserves dtype_policy's of layers (but doesn't preserve weights) so if we wanted to continue fine-tuning with the cloned model, we could and it would still use the mixed precision dtype policy."
   ]
  },
  {
   "cell_type": "code",
   "execution_count": null,
   "id": "67d1b287",
   "metadata": {},
   "outputs": [],
   "source": [
    "# Check the layers in the base model and see what dtype policy they're using\n",
    "for layer in cloned_model.layers[1].layers[:20]: # check only the first 20 layers to save space\n",
    "  print(layer.name, layer.trainable, layer.dtype, layer.dtype_policy)"
   ]
  },
  {
   "cell_type": "markdown",
   "id": "64456a11",
   "metadata": {},
   "source": [
    "## Save the whole model to file\n",
    "We can also save the whole model using the `save()` method.\n",
    "\n",
    "Since our model is quite large, you might want to save it to Google Drive (if you're using Google Colab) so you can load it in for use later.\n",
    "\n",
    "> 🔑 **Note:** Saving to Google Drive requires mounting Google Drive (go to Files -> Mount Drive)."
   ]
  },
  {
   "cell_type": "code",
   "execution_count": null,
   "id": "1b4896a2",
   "metadata": {},
   "outputs": [],
   "source": [
    "# ## Saving model to Google Drive (optional)\n",
    "\n",
    "# # Create save path to drive \n",
    "# save_dir = \"drive/MyDrive/tensorflow_course/food_vision/07_efficientnetb0_feature_extract_model_mixed_precision/\"\n",
    "# # os.makedirs(save_dir) # Make directory if it doesn't exist\n",
    "\n",
    "# # Save model\n",
    "# model.save(save_dir)"
   ]
  },
  {
   "cell_type": "markdown",
   "id": "e4abd70f",
   "metadata": {},
   "source": [
    "We can also save it directly to our Google Colab instance.\n",
    "\n",
    "> 🔑 **Note:** Google Colab storage is ephemeral and your model will delete itself (along with any other saved files) when the Colab session expires."
   ]
  },
  {
   "cell_type": "code",
   "execution_count": null,
   "id": "106fc730",
   "metadata": {},
   "outputs": [],
   "source": [
    "# Save model locally (if you're using Google Colab, your saved model will Colab instance terminates)\n",
    "save_dir = \"07_efficientnetb0_feature_extract_model_mixed_precision\"\n",
    "model.save(save_dir)"
   ]
  },
  {
   "cell_type": "markdown",
   "id": "274c6b0d",
   "metadata": {},
   "source": [
    "And again, we can check whether or not our model saved correctly by loading it in and evaluating it."
   ]
  },
  {
   "cell_type": "code",
   "execution_count": null,
   "id": "9c58cfdf",
   "metadata": {},
   "outputs": [],
   "source": [
    "# Load model previously saved above\n",
    "loaded_saved_model = tf.keras.models.load_model(save_dir)"
   ]
  },
  {
   "cell_type": "markdown",
   "id": "ec4c0051",
   "metadata": {},
   "source": [
    "Loading a `SavedModel` also retains all of the underlying layers `dtype_policy` (we want them to be `\"mixed_float16\"`)."
   ]
  },
  {
   "cell_type": "code",
   "execution_count": null,
   "id": "7b5ff97c",
   "metadata": {},
   "outputs": [],
   "source": [
    "# Check the layers in the base model and see what dtype policy they're using\n",
    "for layer in loaded_saved_model.layers[1].layers[:20]: # check only the first 20 layers to save output space\n",
    "  print(layer.name, layer.trainable, layer.dtype, layer.dtype_policy)"
   ]
  },
  {
   "cell_type": "code",
   "execution_count": null,
   "id": "6fe01a2d",
   "metadata": {},
   "outputs": [],
   "source": [
    "# Check loaded model performance (this should be the same as results_feature_extract_model)\n",
    "results_loaded_saved_model = loaded_saved_model.evaluate(test_data)\n",
    "results_loaded_saved_model"
   ]
  },
  {
   "cell_type": "code",
   "execution_count": null,
   "id": "2cb63618",
   "metadata": {},
   "outputs": [],
   "source": [
    "# The loaded model's results should equal (or at least be very close) to the model's results prior to saving\n",
    "# Note: this will only work if you've instatiated results variables \n",
    "import numpy as np\n",
    "assert np.isclose(results_feature_extract_model, results_loaded_saved_model).all()"
   ]
  },
  {
   "cell_type": "markdown",
   "id": "d2318840",
   "metadata": {},
   "source": [
    "That's what we want! Our loaded model performing as it should.\n",
    "\n",
    "> 🔑 **Note:** We spent a fair bit of time making sure our model saved correctly because training on a lot of data can be time-consuming, so we want to make sure we don't have to continaully train from scratch."
   ]
  },
  {
   "cell_type": "markdown",
   "id": "fe96ab67",
   "metadata": {},
   "source": [
    "## Preparing our model's layers for fine-tuning\n",
    "\n",
    "Our feature-extraction model is showing some great promise after three epochs. But since we've got so much data, it's probably worthwhile that we see what results we can get with fine-tuning (fine-tuning usually works best when you've got quite a large amount of data).\n",
    "\n",
    "Remember our goal of beating the DeepFood paper?\n",
    "\n",
    "They were able to achieve 77.4% top-1 accuracy on Food101 over 2-3 days of training.\n",
    "\n",
    "Do you think fine-tuning will get us there?\n",
    "\n",
    "Let's find out.\n",
    "\n",
    "To start, let's load in our saved model.\n",
    "\n",
    "> 🔑 **Note:** It's worth remembering a traditional workflow for fine-tuning is to freeze a pre-trained base model and then train only the output layers for a few iterations so their weights can be updated inline with your custom data (feature extraction). And then unfreeze a number or all of the layers in the base model and continue training until the model stops improving.\n",
    "\n",
    "Like all good cooking shows, I've saved a model I prepared earlier (the feature extraction model from above) to Google Storage.\n",
    "\n",
    "We can download it to make sure we're using the same model going forward."
   ]
  },
  {
   "cell_type": "code",
   "execution_count": null,
   "id": "5209873d",
   "metadata": {},
   "outputs": [],
   "source": [
    "\n",
    "# Download the saved model from Google Storage\n",
    "!wget https://storage.googleapis.com/ztm_tf_course/food_vision/07_efficientnetb0_feature_extract_model_mixed_precision.zip "
   ]
  },
  {
   "cell_type": "code",
   "execution_count": null,
   "id": "114a78cb",
   "metadata": {},
   "outputs": [],
   "source": [
    "# Unzip the SavedModel downloaded from Google Stroage\n",
    "!mkdir downloaded_gs_model # create new dir to store downloaded feature extraction model\n",
    "!unzip 07_efficientnetb0_feature_extract_model_mixed_precision.zip -d downloaded_gs_model"
   ]
  },
  {
   "cell_type": "code",
   "execution_count": null,
   "id": "6f4bb721",
   "metadata": {},
   "outputs": [],
   "source": [
    "# Load and evaluate downloaded GS model\n",
    "loaded_gs_model = tf.keras.models.load_model(\"/content/downloaded_gs_model/07_efficientnetb0_feature_extract_model_mixed_precision\")"
   ]
  },
  {
   "cell_type": "code",
   "execution_count": null,
   "id": "a9e524e4",
   "metadata": {},
   "outputs": [],
   "source": [
    "# Get a summary of our downloaded model\n",
    "loaded_gs_model.summary()"
   ]
  },
  {
   "cell_type": "markdown",
   "id": "e4c5ec01",
   "metadata": {},
   "source": [
    "And now let's make sure our loaded model is performing as expected."
   ]
  },
  {
   "cell_type": "code",
   "execution_count": null,
   "id": "24fb760a",
   "metadata": {},
   "outputs": [],
   "source": [
    "# How does the loaded model perform?\n",
    "results_loaded_gs_model = loaded_gs_model.evaluate(test_data)\n",
    "results_loaded_gs_model"
   ]
  },
  {
   "cell_type": "markdown",
   "id": "51c331a8",
   "metadata": {},
   "source": [
    "Great, our loaded model is performing as expected.\n",
    "\n",
    "When we first created our model, we froze all of the layers in the base model by setting base_model.trainable=False but since we've loaded in our model from file, let's check whether or not the layers are trainable or not."
   ]
  },
  {
   "cell_type": "code",
   "execution_count": null,
   "id": "7e6df4ee",
   "metadata": {},
   "outputs": [],
   "source": [
    "# Are any of the layers in our model frozen?\n",
    "for layer in loaded_gs_model.layers:\n",
    "  layer.trainable = True # set all layers to trainable\n",
    "  print(layer.name, layer.trainable, layer.dtype, layer.dtype_policy) # make sure loaded model is using mixed precision dtype_policy (\"mixed_float16\")"
   ]
  },
  {
   "cell_type": "markdown",
   "id": "f2d5cd4c",
   "metadata": {},
   "source": [
    "Alright, it seems like each layer in our loaded model is trainable. But what if we got a little deeper and inspected each of the layers in our base model?\n",
    "\n",
    "> 🤔 **Question:** Which layer in the loaded model is our base model?\n",
    "\n",
    "Before saving the Functional model to file, we created it with five layers (layers below are 0-indexed):\n",
    "\n",
    "1. The input layer\n",
    "2. The pre-trained base model layer (tf.keras.applications.EfficientNetB0)\n",
    "3. The pooling layer\n",
    "4. The fully-connected (dense) layer\n",
    "5. The output softmax activation (with float32 dtype)\n",
    "\n",
    "Therefore to inspect our base model layer, we can access the layers attribute of the layer at index 1 in our model."
   ]
  },
  {
   "cell_type": "code",
   "execution_count": null,
   "id": "73af6c92",
   "metadata": {},
   "outputs": [],
   "source": [
    "# Check the layers in the base model and see what dtype policy they're using\n",
    "for layer in loaded_gs_model.layers[1].layers[:20]:\n",
    "  print(layer.name, layer.trainable, layer.dtype, layer.dtype_policy)"
   ]
  },
  {
   "cell_type": "markdown",
   "id": "ea4a54d4",
   "metadata": {},
   "source": [
    "Wonderful, it looks like each layer in our base model is trainable (unfrozen) and every layer which should be using the dtype policy \"mixed_policy16\" is using it.\n",
    "\n",
    "Since we've got so much data (750 images x 101 training classes = 75750 training images), let's keep all of our base model's layers unfrozen.\n",
    "\n",
    "> 🔑 **Note:** If you've got a small amount of data (less than 100 images per class), you may want to only unfreeze and fine-tune a small number of layers in the base model at a time. Otherwise, you risk overfitting."
   ]
  },
  {
   "cell_type": "markdown",
   "id": "657b0603",
   "metadata": {},
   "source": [
    "## A couple more callbacks\n",
    "\n",
    "We're about to start fine-tuning a deep learning model with over 200 layers using over 100,000 (75k+ training, 25K+ testing) images, which means our model's training time is probably going to be much longer than before.\n",
    "\n",
    "> 🤔 **Question:** How long does training take?\n",
    "\n",
    "It could be a couple of hours or in the case of the DeepFood paper (the baseline we're trying to beat), their best performing model took 2-3 days of training time.\n",
    "\n",
    "You will really only know how long it'll take once you start training.\n",
    "\n",
    "> 🤔 **Question:** When do you stop training?\n",
    "\n",
    "Ideally, when your model stops improving. But again, due to the nature of deep learning, it can be hard to know when exactly a model will stop improving.\n",
    "\n",
    "Luckily, there's a solution: the `EarlyStopping` callback.\n",
    "\n",
    "The `EarlyStopping` callback monitors a specified model performance metric (e.g. `val_loss`) and when it stops improving for a specified number of epochs, automatically stops training.\n",
    "\n",
    "Using the EarlyStopping callback combined with the `ModelCheckpoint` callback saving the best performing model automatically, we could keep our model training for an unlimited number of epochs until it stops improving.\n",
    "\n",
    "Let's set both of these up to monitor our model's `val_loss`."
   ]
  },
  {
   "cell_type": "code",
   "execution_count": null,
   "id": "e14c54a0",
   "metadata": {},
   "outputs": [],
   "source": [
    "# Setup EarlyStopping callback to stop training if model's val_loss doesn't improve for 3 epochs\n",
    "early_stopping = tf.keras.callbacks.EarlyStopping(monitor=\"val_loss\", # watch the val loss metric\n",
    "                                                  patience=3) # if val loss decreases for 3 epochs in a row, stop training\n",
    "\n",
    "# Create ModelCheckpoint callback to save best model during fine-tuning\n",
    "checkpoint_path = \"fine_tune_checkpoints/\"\n",
    "model_checkpoint = tf.keras.callbacks.ModelCheckpoint(checkpoint_path,\n",
    "                                                      save_best_only=True,\n",
    "                                                      monitor=\"val_loss\")"
   ]
  },
  {
   "cell_type": "markdown",
   "id": "fc46cfc6",
   "metadata": {},
   "source": [
    "Woohoo! Fine-tuning callbacks ready.\n",
    "\n",
    "If you're planning on training large models, the `ModelCheckpoint` and `EarlyStopping` are two callbacks you'll want to become very familiar with.\n",
    "\n",
    "We're almost ready to start fine-tuning our model but there's one more callback we're going to implement: ReduceLROnPlateau.\n",
    "\n",
    "Remember how the learning rate is the most important model hyperparameter you can tune? (if not, treat this as a reminder).\n",
    "\n",
    "Well, the `ReduceLROnPlateau` callback helps to tune the learning rate for you.\n",
    "\n",
    "Like the `ModelCheckpoint` and `EarlyStopping` callbacks, the `ReduceLROnPlateau` callback montiors a specified metric and when that metric stops improving, it reduces the learning rate by a specified factor (e.g. divides the learning rate by 10).\n",
    "\n",
    "> 🤔 **Question:** Why lower the learning rate?\n",
    "\n",
    "Imagine having a coin at the back of the couch and you're trying to grab with your fingers.\n",
    "\n",
    "Now think of the learning rate as the size of the movements your hand makes towards the coin.\n",
    "\n",
    "The closer you get, the smaller you want your hand movements to be, otherwise the coin will be lost.\n",
    "\n",
    "Our model's ideal performance is the equivalent of grabbing the coin. So as training goes on and our model gets closer and closer to it's ideal performance (also called **convergence**), we want the amount it learns to be less and less.\n",
    "\n",
    "To do this we'll create an instance of the `ReduceLROnPlateau` callback to monitor the validation loss just like the `EarlyStopping` callback.\n",
    "\n",
    "Once the validation loss stops improving for two or more epochs, we'll reduce the learning rate by a factor of 5 (e.g. `0.001` to `0.0002`).\n",
    "\n",
    "And to make sure the learning rate doesn't get too low (and potentially result in our model learning nothing), we'll set the minimum learning rate to `1e-7`."
   ]
  },
  {
   "cell_type": "code",
   "execution_count": null,
   "id": "5459f230",
   "metadata": {},
   "outputs": [],
   "source": [
    "# Creating learning rate reduction callback\n",
    "reduce_lr = tf.keras.callbacks.ReduceLROnPlateau(monitor=\"val_loss\",  \n",
    "                                                 factor=0.2, # multiply the learning rate by 0.2 (reduce by 5x)\n",
    "                                                 patience=2,\n",
    "                                                 verbose=1, # print out when learning rate goes down \n",
    "                                                 min_lr=1e-7)"
   ]
  },
  {
   "cell_type": "markdown",
   "id": "d19fc245",
   "metadata": {},
   "source": [
    "Learning rate reduction ready to go!\n",
    "\n",
    "Now before we start training, we've got to recompile our model.\n",
    "\n",
    "We'll use sparse categorical crossentropy as the loss and since we're fine-tuning, we'll use a 10x lower learning rate than the Adam optimizers default (`1e-4` instead of `1e-3`)."
   ]
  },
  {
   "cell_type": "code",
   "execution_count": null,
   "id": "e2d04486",
   "metadata": {},
   "outputs": [],
   "source": [
    "# Compile the model\n",
    "loaded_gs_model.compile(loss=\"sparse_categorical_crossentropy\", # sparse_categorical_crossentropy for labels that are *not* one-hot\n",
    "                        optimizer=tf.keras.optimizers.Adam(0.0001), # 10x lower learning rate than the default\n",
    "                        metrics=[\"accuracy\"])"
   ]
  },
  {
   "cell_type": "markdown",
   "id": "b1428aa7",
   "metadata": {},
   "source": [
    "Okay, model compiled.\n",
    "\n",
    "Now let's fit it on all of the data.\n",
    "\n",
    "We'll set it up to run for up to 100 epochs.\n",
    "\n",
    "Since we're going to be using the `EarlyStopping` callback, it might stop before reaching 100 epochs.\n",
    "\n",
    "> 🔑 **Note:** Running the cell below will set the model up to fine-tune all of the pre-trained weights in the base model on all of the Food101 data. Doing so with **unoptimized** data pipelines and **without** mixed precision training will take a fairly long time per epoch depending on what type of GPU you're using (about 15-20 minutes on Colab GPUs). But don't worry, **the code we've written above** will ensure it runs much faster (more like 4-5 minutes per epoch)."
   ]
  },
  {
   "cell_type": "code",
   "execution_count": null,
   "id": "536e255b",
   "metadata": {},
   "outputs": [],
   "source": [
    "# Start to fine-tune (all layers)\n",
    "history_101_food_classes_all_data_fine_tune = loaded_gs_model.fit(train_data,\n",
    "                                                        epochs=100, # fine-tune for a maximum of 100 epochs\n",
    "                                                        steps_per_epoch=len(train_data),\n",
    "                                                        validation_data=test_data,\n",
    "                                                        validation_steps=int(0.15 * len(test_data)), # validation during training on 15% of test data\n",
    "                                                        callbacks=[create_tensorboard_callback(\"training_logs\", \"efficientb0_101_classes_all_data_fine_tuning\"), # track the model training logs\n",
    "                                                                   model_checkpoint, # save only the best model during training\n",
    "                                                                   early_stopping, # stop model after X epochs of no improvements\n",
    "                                                                   reduce_lr]) # reduce the learning rate after X epochs of no improvements"
   ]
  },
  {
   "cell_type": "markdown",
   "id": "5763e783",
   "metadata": {},
   "source": [
    "> **🔑 Note:** If you didn't use mixed precision or use techniques such as prefetch() in the Batch & prepare datasets section, your model fine-tuning probably takes up to 2.5-3x longer per epoch (see the output below for an example).\n",
    "\n",
    "Results from fine-tuning 🍔👁 Food Vision Big™ on Food101 dataset using an EfficienetNetB0 backbone using a Google Colab Tesla T4 GPU."
   ]
  },
  {
   "cell_type": "markdown",
   "id": "97c3eea6",
   "metadata": {},
   "source": [
    "Example fine-tuning time for non-prefetched data as well as non-mixed precision training (~2.5-3x longer per epoch).\n",
    "\n",
    "Let's make sure we save our model before we start evaluating it."
   ]
  },
  {
   "cell_type": "code",
   "execution_count": null,
   "id": "d6e3414c",
   "metadata": {},
   "outputs": [],
   "source": [
    "# # Save model to Google Drive (optional)\n",
    "# loaded_gs_model.save(\"/content/drive/MyDrive/tensorflow_course/food_vision/07_efficientnetb0_fine_tuned_101_classes_mixed_precision/\")"
   ]
  },
  {
   "cell_type": "code",
   "execution_count": null,
   "id": "3edb80d7",
   "metadata": {},
   "outputs": [],
   "source": [
    "# Save model locally (note: if you're using Google Colab and you save your model locally, it will be deleted when your Google Colab session ends)\n",
    "loaded_gs_model.save(\"07_efficientnetb0_fine_tuned_101_classes_mixed_precision\")"
   ]
  },
  {
   "cell_type": "markdown",
   "id": "16f328c1",
   "metadata": {},
   "source": [
    "Looks like our model has gained a few performance points from fine-tuning, let's evaluate on the whole test dataset and see if managed to beat the DeepFood paper's result of 77.4% accuracy."
   ]
  },
  {
   "cell_type": "code",
   "execution_count": null,
   "id": "29ed22cf",
   "metadata": {},
   "outputs": [],
   "source": [
    "# Evaluate mixed precision trained loaded model\n",
    "results_loaded_gs_model_fine_tuned = loaded_gs_model.evaluate(test_data) \n",
    "results_loaded_gs_model_fine_tuned"
   ]
  },
  {
   "cell_type": "markdown",
   "id": "48110267",
   "metadata": {},
   "source": [
    "Woohoo!!!! It looks like our model beat the results mentioned in the DeepFood paper for Food101 (DeepFood's 77.4% top-1 accuracy versus our ~79% top-1 accuracy)."
   ]
  },
  {
   "cell_type": "markdown",
   "id": "5681e958",
   "metadata": {},
   "source": [
    "## Download fine-tuned model from Google Storage\n",
    "As mentioned before, training models can take a significant amount of time.\n",
    "\n",
    "And again, like any good cooking show, here's something we prepared earlier...\n",
    "\n",
    "It's a fine-tuned model exactly like the one we trained above but it's saved to Google Storage so it can be accessed, imported and evaluated."
   ]
  },
  {
   "cell_type": "code",
   "execution_count": null,
   "id": "f3ef299a",
   "metadata": {},
   "outputs": [],
   "source": [
    "# Download and evaluate fine-tuned model from Google Storage\n",
    "!wget https://storage.googleapis.com/ztm_tf_course/food_vision/07_efficientnetb0_fine_tuned_101_classes_mixed_precision.zip"
   ]
  },
  {
   "cell_type": "markdown",
   "id": "02953411",
   "metadata": {},
   "source": [
    "The downloaded model comes in zip format (`.zip`) so we'll unzip it into the Google Colab instance."
   ]
  },
  {
   "cell_type": "code",
   "execution_count": null,
   "id": "681304ca",
   "metadata": {},
   "outputs": [],
   "source": [
    "# Unzip fine-tuned model\n",
    "!mkdir downloaded_fine_tuned_gs_model # create separate directory for fine-tuned model downloaded from Google Storage\n",
    "!unzip /content/07_efficientnetb0_fine_tuned_101_classes_mixed_precision -d downloaded_fine_tuned_gs_model"
   ]
  },
  {
   "cell_type": "code",
   "execution_count": null,
   "id": "7886175b",
   "metadata": {},
   "outputs": [],
   "source": [
    "# Load in fine-tuned model from Google Storage and evaluate\n",
    "loaded_fine_tuned_gs_model = tf.keras.models.load_model(\"/content/downloaded_fine_tuned_gs_model/07_efficientnetb0_fine_tuned_101_classes_mixed_precision\")"
   ]
  },
  {
   "cell_type": "markdown",
   "id": "bd211ef5",
   "metadata": {},
   "source": [
    "Finally, we can evaluate our model on the test data (this requires the test_data variable to be loaded."
   ]
  },
  {
   "cell_type": "code",
   "execution_count": null,
   "id": "3eaee6a0",
   "metadata": {},
   "outputs": [],
   "source": [
    "# Note: Even if you're loading in the model from Google Storage, you will still need to load the test_data variable for this cell to work\n",
    "results_downloaded_fine_tuned_gs_model = loaded_fine_tuned_gs_model.evaluate(test_data)\n",
    "results_downloaded_fine_tuned_gs_model"
   ]
  },
  {
   "cell_type": "markdown",
   "id": "3e65c798",
   "metadata": {},
   "source": [
    "Excellent! Our saved model is performing as expected (better results than the DeepFood paper!).\n",
    "\n",
    "Congrautlations! You should be excited! You just trained a computer vision model with competitive performance to a research paper and in far less time (our model took ~20 minutes to train versus DeepFood's quoted 2-3 days).\n",
    "\n",
    "In other words, you brought Food Vision life!\n",
    "\n",
    "If you really wanted to step things up, you could try using the EfficientNetB4 model (a larger version of EfficientNetB0). At at the time of writing, the EfficientNet family has the state of the art classification results on the Food101 dataset.\n",
    "\n",
    "> 📖 **Resource:** To see which models are currently performing the best on a given dataset or problem type as well as the latest trending machine learning research, be sure to check out paperswithcode.com and sotabench.com."
   ]
  },
  {
   "cell_type": "markdown",
   "id": "7426bfbb",
   "metadata": {},
   "source": [
    "## View training results on TensorBoard\n",
    "Since we tracked our model's fine-tuning training logs using the TensorBoard callback, let's upload them and inspect them on TensorBoard.dev."
   ]
  },
  {
   "cell_type": "code",
   "execution_count": null,
   "id": "23485ca5",
   "metadata": {},
   "outputs": [],
   "source": [
    "!tensorboard dev upload --logdir ./training_logs \\\n",
    "  --name \"Fine-tuning EfficientNetB0 on all Food101 Data\" \\\n",
    "  --description \"Training results for fine-tuning EfficientNetB0 on Food101 Data with learning rate 0.0001\" \\\n",
    "  --one_shot"
   ]
  },
  {
   "cell_type": "code",
   "execution_count": null,
   "id": "fd95a84b",
   "metadata": {},
   "outputs": [],
   "source": [
    "View experiment: https://tensorboard.dev/experiment/2KINdYxgSgW2bUg7dIvevw/"
   ]
  },
  {
   "cell_type": "markdown",
   "id": "a4bfd61f",
   "metadata": {},
   "source": [
    "Viewing at our model's training curves on TensorBoard.dev, it looks like our fine-tuning model gains boost in performance but starts to overfit as training goes on.\n",
    "\n",
    "See the training curves on TensorBoard.dev here: https://tensorboard.dev/experiment/2KINdYxgSgW2bUg7dIvevw/\n",
    "\n",
    "To fix this, in future experiments, we might try things like:\n",
    "\n",
    "* A different iteration of EfficientNet (e.g. EfficientNetB4 instead of EfficientNetB0).\n",
    "* Unfreezing less layers of the base model and training them rather than unfreezing the whole base model in one go."
   ]
  },
  {
   "cell_type": "code",
   "execution_count": null,
   "id": "dc8dc1de",
   "metadata": {},
   "outputs": [],
   "source": [
    "# View past TensorBoard experiments\n",
    "!tensorboard dev list"
   ]
  },
  {
   "cell_type": "code",
   "execution_count": null,
   "id": "31374238",
   "metadata": {},
   "outputs": [],
   "source": [
    "# Delete past TensorBoard experiments\n",
    "# !tensorboard dev delete --experiment_id YOUR_EXPERIMENT_ID\n",
    "\n",
    "# Example\n",
    "!tensorboard dev delete --experiment_id OAE6KXizQZKQxDiqI3cnUQ"
   ]
  },
  {
   "cell_type": "markdown",
   "id": "980155e2",
   "metadata": {},
   "source": [
    "-----------------------------------------------------------------------------------------------------------"
   ]
  },
  {
   "cell_type": "markdown",
   "id": "dc67d413",
   "metadata": {},
   "source": [
    "## test speed of fitting with `image_dataset_from_directory`"
   ]
  },
  {
   "cell_type": "code",
   "execution_count": 107,
   "id": "ec9a65ef",
   "metadata": {},
   "outputs": [],
   "source": [
    "train_dir = \"data/output/train/\"\n",
    "test_dir = \"data/output/val/\""
   ]
  },
  {
   "cell_type": "code",
   "execution_count": 108,
   "id": "9b691b00",
   "metadata": {},
   "outputs": [
    {
     "name": "stdout",
     "output_type": "stream",
     "text": [
      "Found 80800 files belonging to 101 classes.\n",
      "Found 20200 files belonging to 101 classes.\n"
     ]
    }
   ],
   "source": [
    "# Setup data inputs\n",
    "import tensorflow as tf\n",
    "IMG_SIZE=(224,224)\n",
    "train_data_test = tf.keras.preprocessing.image_dataset_from_directory(train_dir,\n",
    "                                                                               label_mode=\"int\",\n",
    "                                                                               image_size=IMG_SIZE)\n",
    "test_data_test = tf.keras.preprocessing.image_dataset_from_directory(test_dir,\n",
    "                                                               label_mode=\"int\",\n",
    "                                                               image_size=IMG_SIZE,\n",
    "                                                               shuffle=False) # don't shuffle test data for prediction analysis"
   ]
  },
  {
   "cell_type": "code",
   "execution_count": 109,
   "id": "29f8a59e",
   "metadata": {},
   "outputs": [
    {
     "data": {
      "text/plain": [
       "(2525, 632)"
      ]
     },
     "execution_count": 109,
     "metadata": {},
     "output_type": "execute_result"
    }
   ],
   "source": [
    "len(train_data_test), len(test_data_test)"
   ]
  },
  {
   "cell_type": "code",
   "execution_count": 111,
   "id": "3413f47b",
   "metadata": {},
   "outputs": [
    {
     "name": "stdout",
     "output_type": "stream",
     "text": [
      "Epoch 1/3\n",
      "2525/2525 [==============================] - 220s 87ms/step - loss: 0.9190 - accuracy: 0.7544 - val_loss: 0.9948 - val_accuracy: 0.7281\n",
      "Epoch 2/3\n",
      "2525/2525 [==============================] - 206s 82ms/step - loss: 0.8336 - accuracy: 0.7764 - val_loss: 1.0172 - val_accuracy: 0.7261\n",
      "Epoch 3/3\n",
      "2525/2525 [==============================] - 187s 74ms/step - loss: 0.7783 - accuracy: 0.7922 - val_loss: 1.0470 - val_accuracy: 0.7154\n"
     ]
    }
   ],
   "source": [
    "input_shape=(224,224,3)\n",
    "base_model_test = tf.keras.applications.EfficientNetB0(include_top=False)\n",
    "base_model_test.trainable = False\n",
    "\n",
    "\n",
    "# Create functional model\n",
    "inputs_test = layers.Input(shape=input_shape, name=\"input_layer\")\n",
    "# Note: EfficientNetBX models haverescaling built-in but if your model doesn't you can have a layer like bellow\n",
    "# x = preprocessing.Rescaling(1./255)(x)\n",
    "y = base_model_test(inputs_test, training=False) # make sure layers which should be in inference mode only stay like that\n",
    "y = layers.GlobalAveragePooling2D()(y)\n",
    "y = layers.Dense(len(class_names))(y)\n",
    "outputs_test = layers.Activation(\"softmax\", dtype=tf.float32, name=\"softmax_float32\")(y)\n",
    "model_test = tf.keras.Model(inputs_test, outputs_test)\n",
    "\n",
    "# Compile the model\n",
    "model_test.compile(loss=\"sparse_categorical_crossentropy\",\n",
    "              optimizer=tf.keras.optimizers.Adam(),\n",
    "              metrics=[\"accuracy\"])\n",
    "\n",
    "history_test = model.fit(train_data_test,\n",
    "                          epochs=3,\n",
    "                          steps_per_epoch=len(train_data_test),\n",
    "                          validation_data=test_data_test,\n",
    "                          validation_steps=int(0.15 * len(test_data_test)))"
   ]
  }
 ],
 "metadata": {
  "kernelspec": {
   "display_name": "Python 3 (ipykernel)",
   "language": "python",
   "name": "python3"
  },
  "language_info": {
   "codemirror_mode": {
    "name": "ipython",
    "version": 3
   },
   "file_extension": ".py",
   "mimetype": "text/x-python",
   "name": "python",
   "nbconvert_exporter": "python",
   "pygments_lexer": "ipython3",
   "version": "3.8.13"
  }
 },
 "nbformat": 4,
 "nbformat_minor": 5
}

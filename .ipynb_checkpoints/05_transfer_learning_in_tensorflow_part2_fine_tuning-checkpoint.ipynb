{
 "cells": [
  {
   "cell_type": "markdown",
   "id": "db34984a",
   "metadata": {},
   "source": [
    "# Transfer Leraning with TensorFlow Part 2: Fine-tuning\n",
    "\n",
    "In the previous notebook, we covered transfer learning feature extraction, now it's time to learn about a new kind of transfer learning: fine tuning."
   ]
  },
  {
   "cell_type": "code",
   "execution_count": 1,
   "id": "8da83d27",
   "metadata": {},
   "outputs": [
    {
     "name": "stdout",
     "output_type": "stream",
     "text": [
      "Sun Jul 17 20:36:27 2022       \r\n",
      "+-----------------------------------------------------------------------------+\r\n",
      "| NVIDIA-SMI 515.48.07    Driver Version: 515.48.07    CUDA Version: 11.7     |\r\n",
      "|-------------------------------+----------------------+----------------------+\r\n",
      "| GPU  Name        Persistence-M| Bus-Id        Disp.A | Volatile Uncorr. ECC |\r\n",
      "| Fan  Temp  Perf  Pwr:Usage/Cap|         Memory-Usage | GPU-Util  Compute M. |\r\n",
      "|                               |                      |               MIG M. |\r\n",
      "|===============================+======================+======================|\r\n",
      "|   0  NVIDIA GeForce ...  Off  | 00000000:01:00.0  On |                  N/A |\r\n",
      "|  0%   61C    P0    54W / 240W |   1730MiB /  8192MiB |      8%      Default |\r\n",
      "|                               |                      |                  N/A |\r\n",
      "+-------------------------------+----------------------+----------------------+\r\n",
      "                                                                               \r\n",
      "+-----------------------------------------------------------------------------+\r\n",
      "| Processes:                                                                  |\r\n",
      "|  GPU   GI   CI        PID   Type   Process name                  GPU Memory |\r\n",
      "|        ID   ID                                                   Usage      |\r\n",
      "|=============================================================================|\r\n",
      "|    0   N/A  N/A      2731      G   /usr/lib/xorg/Xorg               1026MiB |\r\n",
      "|    0   N/A  N/A      2868      G   /usr/bin/gnome-shell              176MiB |\r\n",
      "|    0   N/A  N/A      4818      G   ...in,WebAssemblyTrapHandler      431MiB |\r\n",
      "|    0   N/A  N/A      5364      G   ...449182624609568475,131072        7MiB |\r\n",
      "+-----------------------------------------------------------------------------+\r\n"
     ]
    }
   ],
   "source": [
    "# Check if we're using a GPU\n",
    "!nvidia-smi"
   ]
  },
  {
   "cell_type": "markdown",
   "id": "cb6b9d32",
   "metadata": {},
   "source": [
    "## Creating helper functions\n",
    "\n",
    "In previous notebooks, we've created a bunch of helper functions, new we could rewrite them all, however, this is tedious.\n",
    "\n",
    "So, it's a good idea to put functions you'll want to use again in a script you can download and import into your notebooks (or elsewhere).\n",
    "\n",
    "We've done this for some of the functions we've used previously"
   ]
  },
  {
   "cell_type": "code",
   "execution_count": 2,
   "id": "fe2f056f",
   "metadata": {},
   "outputs": [
    {
     "name": "stdout",
     "output_type": "stream",
     "text": [
      "--2022-07-17 08:33:19--  https://raw.githubusercontent.com/mrdbourke/tensorflow-deep-learning/main/extras/helper_functions.py\n",
      "Resolving raw.githubusercontent.com (raw.githubusercontent.com)... 185.199.110.133, 185.199.108.133, 185.199.109.133, ...\n",
      "Connecting to raw.githubusercontent.com (raw.githubusercontent.com)|185.199.110.133|:443... connected.\n",
      "HTTP request sent, awaiting response... 200 OK\n",
      "Length: 10246 (10K) [text/plain]\n",
      "Saving to: ‘helper_functions.py.1’\n",
      "\n",
      "helper_functions.py 100%[===================>]  10.01K  --.-KB/s    in 0s      \n",
      "\n",
      "2022-07-17 08:33:19 (24.6 MB/s) - ‘helper_functions.py.1’ saved [10246/10246]\n",
      "\n"
     ]
    }
   ],
   "source": [
    "!wget https://raw.githubusercontent.com/mrdbourke/tensorflow-deep-learning/main/extras/helper_functions.py"
   ]
  },
  {
   "cell_type": "code",
   "execution_count": 2,
   "id": "cc451ad5",
   "metadata": {},
   "outputs": [],
   "source": [
    "# Import helper funcitons we're going to use in this notebook\n",
    "from helper_functions import create_tensorboard_callback, plot_loss_curves, unzip_data, walk_through_dir"
   ]
  },
  {
   "cell_type": "markdown",
   "id": "0290d6e6",
   "metadata": {},
   "source": [
    "> **Note:** If you're running this notebook in google colab, when it times out Colab will delte `helper_funcitons.py`, so you'll have to redownload it if you want access to your helper functions "
   ]
  },
  {
   "cell_type": "markdown",
   "id": "271b3844",
   "metadata": {},
   "source": [
    "## Let's et some data\n",
    "\n",
    "This time we're going to see how we can use the pretrained models within `tf.keras.applications` and apply them to our own problems (recognizing imagead of food)."
   ]
  },
  {
   "cell_type": "code",
   "execution_count": 3,
   "id": "46a90649",
   "metadata": {},
   "outputs": [],
   "source": [
    "# Get 10% of training data of 10 classes of Food101\n",
    "#!wget https://storage.googleapis.com/ztm_tf_course/food_vision/10_food_classes_10_percent.zip\n",
    "#unzip_data(\"10_food_classes_10_precent.zip\")"
   ]
  },
  {
   "cell_type": "code",
   "execution_count": 4,
   "id": "5ca37ec1",
   "metadata": {},
   "outputs": [
    {
     "name": "stdout",
     "output_type": "stream",
     "text": [
      "There are 2 directories and 0 images in 'data/10_food_classes_10_percent'.\n",
      "There are 10 directories and 0 images in 'data/10_food_classes_10_percent/test'.\n",
      "There are 0 directories and 250 images in 'data/10_food_classes_10_percent/test/hamburger'.\n",
      "There are 0 directories and 250 images in 'data/10_food_classes_10_percent/test/chicken_wings'.\n",
      "There are 0 directories and 250 images in 'data/10_food_classes_10_percent/test/fried_rice'.\n",
      "There are 0 directories and 250 images in 'data/10_food_classes_10_percent/test/sushi'.\n",
      "There are 0 directories and 250 images in 'data/10_food_classes_10_percent/test/grilled_salmon'.\n",
      "There are 0 directories and 250 images in 'data/10_food_classes_10_percent/test/pizza'.\n",
      "There are 0 directories and 250 images in 'data/10_food_classes_10_percent/test/ice_cream'.\n",
      "There are 0 directories and 250 images in 'data/10_food_classes_10_percent/test/steak'.\n",
      "There are 0 directories and 250 images in 'data/10_food_classes_10_percent/test/ramen'.\n",
      "There are 0 directories and 250 images in 'data/10_food_classes_10_percent/test/chicken_curry'.\n",
      "There are 10 directories and 0 images in 'data/10_food_classes_10_percent/train'.\n",
      "There are 0 directories and 75 images in 'data/10_food_classes_10_percent/train/hamburger'.\n",
      "There are 0 directories and 75 images in 'data/10_food_classes_10_percent/train/chicken_wings'.\n",
      "There are 0 directories and 75 images in 'data/10_food_classes_10_percent/train/fried_rice'.\n",
      "There are 0 directories and 75 images in 'data/10_food_classes_10_percent/train/sushi'.\n",
      "There are 0 directories and 75 images in 'data/10_food_classes_10_percent/train/grilled_salmon'.\n",
      "There are 0 directories and 75 images in 'data/10_food_classes_10_percent/train/pizza'.\n",
      "There are 0 directories and 75 images in 'data/10_food_classes_10_percent/train/ice_cream'.\n",
      "There are 0 directories and 75 images in 'data/10_food_classes_10_percent/train/steak'.\n",
      "There are 0 directories and 75 images in 'data/10_food_classes_10_percent/train/ramen'.\n",
      "There are 0 directories and 75 images in 'data/10_food_classes_10_percent/train/chicken_curry'.\n"
     ]
    }
   ],
   "source": [
    "# Check out how many images and subdirectories are in our dataset\n",
    "walk_through_dir(\"data/10_food_classes_10_percent\")"
   ]
  },
  {
   "cell_type": "code",
   "execution_count": 8,
   "id": "d4a1ba4e",
   "metadata": {},
   "outputs": [],
   "source": [
    "# Create training and test directory paths\n",
    "train_dir = \"data/10_food_classes_10_percent/train/\"\n",
    "test_dir = \"data/10_food_classes_10_percent/test\""
   ]
  },
  {
   "cell_type": "code",
   "execution_count": 9,
   "id": "44ae97bd",
   "metadata": {},
   "outputs": [
    {
     "name": "stdout",
     "output_type": "stream",
     "text": [
      "Found 750 files belonging to 10 classes.\n"
     ]
    },
    {
     "name": "stderr",
     "output_type": "stream",
     "text": [
      "2022-07-17 20:36:48.977271: I tensorflow/stream_executor/cuda/cuda_gpu_executor.cc:975] successful NUMA node read from SysFS had negative value (-1), but there must be at least one NUMA node, so returning NUMA node zero\n"
     ]
    },
    {
     "name": "stdout",
     "output_type": "stream",
     "text": [
      "Found 2500 files belonging to 10 classes.\n"
     ]
    },
    {
     "name": "stderr",
     "output_type": "stream",
     "text": [
      "2022-07-17 20:36:49.087036: I tensorflow/stream_executor/cuda/cuda_gpu_executor.cc:975] successful NUMA node read from SysFS had negative value (-1), but there must be at least one NUMA node, so returning NUMA node zero\n",
      "2022-07-17 20:36:49.087224: I tensorflow/stream_executor/cuda/cuda_gpu_executor.cc:975] successful NUMA node read from SysFS had negative value (-1), but there must be at least one NUMA node, so returning NUMA node zero\n",
      "2022-07-17 20:36:49.089187: I tensorflow/core/platform/cpu_feature_guard.cc:193] This TensorFlow binary is optimized with oneAPI Deep Neural Network Library (oneDNN) to use the following CPU instructions in performance-critical operations:  AVX2 FMA\n",
      "To enable them in other operations, rebuild TensorFlow with the appropriate compiler flags.\n",
      "2022-07-17 20:36:49.091143: I tensorflow/stream_executor/cuda/cuda_gpu_executor.cc:975] successful NUMA node read from SysFS had negative value (-1), but there must be at least one NUMA node, so returning NUMA node zero\n",
      "2022-07-17 20:36:49.091289: I tensorflow/stream_executor/cuda/cuda_gpu_executor.cc:975] successful NUMA node read from SysFS had negative value (-1), but there must be at least one NUMA node, so returning NUMA node zero\n",
      "2022-07-17 20:36:49.091396: I tensorflow/stream_executor/cuda/cuda_gpu_executor.cc:975] successful NUMA node read from SysFS had negative value (-1), but there must be at least one NUMA node, so returning NUMA node zero\n",
      "2022-07-17 20:36:50.009038: I tensorflow/stream_executor/cuda/cuda_gpu_executor.cc:975] successful NUMA node read from SysFS had negative value (-1), but there must be at least one NUMA node, so returning NUMA node zero\n",
      "2022-07-17 20:36:50.009226: I tensorflow/stream_executor/cuda/cuda_gpu_executor.cc:975] successful NUMA node read from SysFS had negative value (-1), but there must be at least one NUMA node, so returning NUMA node zero\n",
      "2022-07-17 20:36:50.009392: I tensorflow/stream_executor/cuda/cuda_gpu_executor.cc:975] successful NUMA node read from SysFS had negative value (-1), but there must be at least one NUMA node, so returning NUMA node zero\n",
      "2022-07-17 20:36:50.009501: I tensorflow/core/common_runtime/gpu/gpu_device.cc:1532] Created device /job:localhost/replica:0/task:0/device:GPU:0 with 5646 MB memory:  -> device: 0, name: NVIDIA GeForce GTX 1080, pci bus id: 0000:01:00.0, compute capability: 6.1\n"
     ]
    }
   ],
   "source": [
    "import tensorflow as tf\n",
    "IMG_SIZE = (224,224)\n",
    "BATCH_SIZE = 32\n",
    "train_data_10_percent = tf.keras.preprocessing.image_dataset_from_directory(directory=train_dir,\n",
    "                                                                            image_size=IMG_SIZE,\n",
    "                                                                            label_mode=\"categorical\",\n",
    "                                                                            batch_size=BATCH_SIZE)\n",
    "\n",
    "test_data = tf.keras.preprocessing.image_dataset_from_directory(directory=test_dir,\n",
    "                                                                image_size=IMG_SIZE,\n",
    "                                                                label_mode=\"categorical\",\n",
    "                                                                batch_size=BATCH_SIZE)"
   ]
  },
  {
   "cell_type": "code",
   "execution_count": 10,
   "id": "0b9e0571",
   "metadata": {},
   "outputs": [
    {
     "data": {
      "text/plain": [
       "<BatchDataset element_spec=(TensorSpec(shape=(None, 224, 224, 3), dtype=tf.float32, name=None), TensorSpec(shape=(None, 10), dtype=tf.float32, name=None))>"
      ]
     },
     "execution_count": 10,
     "metadata": {},
     "output_type": "execute_result"
    }
   ],
   "source": [
    "train_data_10_percent"
   ]
  },
  {
   "cell_type": "code",
   "execution_count": 11,
   "id": "1aae5f89",
   "metadata": {},
   "outputs": [
    {
     "data": {
      "text/plain": [
       "['chicken_curry',\n",
       " 'chicken_wings',\n",
       " 'fried_rice',\n",
       " 'grilled_salmon',\n",
       " 'hamburger',\n",
       " 'ice_cream',\n",
       " 'pizza',\n",
       " 'ramen',\n",
       " 'steak',\n",
       " 'sushi']"
      ]
     },
     "execution_count": 11,
     "metadata": {},
     "output_type": "execute_result"
    }
   ],
   "source": [
    "# Check out the class names of our dataset\n",
    "train_data_10_percent.class_names"
   ]
  },
  {
   "cell_type": "code",
   "execution_count": 12,
   "id": "c638d332",
   "metadata": {},
   "outputs": [
    {
     "name": "stdout",
     "output_type": "stream",
     "text": [
      "tf.Tensor(\n",
      "[[[[164.60715   133.60715    76.60714  ]\n",
      "   [162.93367   131.93367    76.841835 ]\n",
      "   [159.88776   126.168365   76.04082  ]\n",
      "   ...\n",
      "   [ 84.21437    21.214373   12.214373 ]\n",
      "   [ 83.5306     21.739813   12.336744 ]\n",
      "   [ 85.74494    25.744944   15.744943 ]]\n",
      "\n",
      "  [[169.94388   139.94388    77.42347  ]\n",
      "   [167.7653    137.69897    77.765305 ]\n",
      "   [161.63774   127.994896   74.5102   ]\n",
      "   ...\n",
      "   [ 84.413315   20.413311   11.413311 ]\n",
      "   [ 90.306046   26.443815   17.443815 ]\n",
      "   [ 89.54616    25.949253   16.949253 ]]\n",
      "\n",
      "  [[167.36224   138.14795    69.71939  ]\n",
      "   [165.15816   134.15816    69.85714  ]\n",
      "   [166.19388   133.55103    75.19388  ]\n",
      "   ...\n",
      "   [ 90.59697    23.168394   15.38268  ]\n",
      "   [ 96.831604   29.40303    21.617315 ]\n",
      "   [ 94.97967    27.551094   19.76538  ]]\n",
      "\n",
      "  ...\n",
      "\n",
      "  [[242.56633   218.56633   182.99486  ]\n",
      "   [240.15816   216.15816   182.04591  ]\n",
      "   [239.78572   214.78572   183.95409  ]\n",
      "   ...\n",
      "   [203.29596   148.7756     74.607254 ]\n",
      "   [189.51527   139.65816    69.44389  ]\n",
      "   [216.13792   171.2808    109.85224  ]]\n",
      "\n",
      "  [[241.26529   217.26529   179.26529  ]\n",
      "   [239.92346   215.92346   179.92346  ]\n",
      "   [238.0153    213.0153    182.22958  ]\n",
      "   ...\n",
      "   [188.41856   142.82162    69.418434 ]\n",
      "   [186.40823   136.54091    63.47457  ]\n",
      "   [202.81104   153.7396     86.928375 ]]\n",
      "\n",
      "  [[238.71425   215.71425   174.71425  ]\n",
      "   [238.83163   214.83163   178.68878  ]\n",
      "   [238.29082   213.21428   182.65819  ]\n",
      "   ...\n",
      "   [177.23979   136.52042    65.7448   ]\n",
      "   [187.16325   139.09181    63.09182  ]\n",
      "   [186.58183   133.22466    62.765457 ]]]\n",
      "\n",
      "\n",
      " [[[253.82652   236.37245   253.69897  ]\n",
      "   [253.57143   239.        253.90306  ]\n",
      "   [253.29082   243.06633   254.08163  ]\n",
      "   ...\n",
      "   [220.44383   173.80104   177.0153   ]\n",
      "   [241.0051    196.31126   199.1939   ]\n",
      "   [248.61252   209.19931   210.19931  ]]\n",
      "\n",
      "  [[242.2398    224.71428   242.85715  ]\n",
      "   [241.13264   227.06633   242.06633  ]\n",
      "   [242.91327   231.2857    245.07143  ]\n",
      "   ...\n",
      "   [221.17326   174.53047   177.74474  ]\n",
      "   [215.43373   170.64806   173.57661  ]\n",
      "   [233.8575    193.8575    193.8575   ]]\n",
      "\n",
      "  [[245.93367   232.71428   245.71428  ]\n",
      "   [246.5       235.92857   245.7857   ]\n",
      "   [246.83673   239.2857    247.92856  ]\n",
      "   ...\n",
      "   [227.83646   181.19366   183.79057  ]\n",
      "   [203.45923   159.40314   160.81639  ]\n",
      "   [219.52065   179.52065   179.52065  ]]\n",
      "\n",
      "  ...\n",
      "\n",
      "  [[165.6071    163.3928    188.03569  ]\n",
      "   [156.43367   155.79079   182.2908   ]\n",
      "   [151.597     151.02557   182.02557  ]\n",
      "   ...\n",
      "   [185.44891   136.44891   129.44891  ]\n",
      "   [181.30095   136.28564   131.87242  ]\n",
      "   [180.27025   136.27025   133.69884  ]]\n",
      "\n",
      "  [[161.67346   158.67346   187.53064  ]\n",
      "   [154.41325   151.41325   180.40306  ]\n",
      "   [155.99998   155.42856   186.42856  ]\n",
      "   ...\n",
      "   [179.72429   130.52533   124.586655 ]\n",
      "   [180.64792   132.98973   131.19899  ]\n",
      "   [176.59668   132.59668   133.45386  ]]\n",
      "\n",
      "  [[158.07655   155.07655   186.07655  ]\n",
      "   [151.12756   148.12756   179.12756  ]\n",
      "   [146.26534   145.47961   177.90819  ]\n",
      "   ...\n",
      "   [179.43863   130.22437   124.36731  ]\n",
      "   [177.81119   129.95407   130.09695  ]\n",
      "   [177.4437    132.4437    136.7294   ]]]\n",
      "\n",
      "\n",
      " [[[247.58673   190.41327   107.28572  ]\n",
      "   [246.42857   190.42857   107.428566 ]\n",
      "   [243.92856   187.93878   106.86224  ]\n",
      "   ...\n",
      "   [ 78.153046   40.020443   19.872469 ]\n",
      "   [ 81.42858    45.81124    22.448982 ]\n",
      "   [ 78.90302    45.744873   18.846853 ]]\n",
      "\n",
      "  [[243.80612   190.54591   108.63776  ]\n",
      "   [243.2755    190.        109.85714  ]\n",
      "   [238.30101   186.7143    107.88776  ]\n",
      "   ...\n",
      "   [ 90.02545    44.795906   16.36731  ]\n",
      "   [ 85.642845   42.142883   15.076518 ]\n",
      "   [ 88.29079    45.78578    16.54595  ]]\n",
      "\n",
      "  [[248.06123   198.4949    120.70408  ]\n",
      "   [248.85715   200.07143   123.28571  ]\n",
      "   [244.23979   196.40816   120.668365 ]\n",
      "   ...\n",
      "   [135.45892    80.26506    40.719166 ]\n",
      "   [119.153015   64.20916    25.438766 ]\n",
      "   [110.285614   56.999897   19.35704  ]]\n",
      "\n",
      "  ...\n",
      "\n",
      "  [[248.35715   244.35715   235.35715  ]\n",
      "   [247.9847    243.9847    234.9847   ]\n",
      "   [248.95407   244.95407   235.95407  ]\n",
      "   ...\n",
      "   [240.87755   232.73982   213.69392  ]\n",
      "   [241.05614   233.57147   217.55623  ]\n",
      "   [242.        233.78574   220.35721  ]]\n",
      "\n",
      "  [[246.7143    242.7143    233.7143   ]\n",
      "   [248.07144   244.07144   235.07144  ]\n",
      "   [247.07144   243.07144   234.07144  ]\n",
      "   ...\n",
      "   [242.14282   234.65816   218.64291  ]\n",
      "   [242.92856   234.79077   224.06635  ]\n",
      "   [242.92856   235.92856   226.07144  ]]\n",
      "\n",
      "  [[247.15811   243.15811   234.15811  ]\n",
      "   [249.31116   245.31116   236.31116  ]\n",
      "   [246.8571    242.8571    233.8571   ]\n",
      "   ...\n",
      "   [243.20927   234.99501   222.12778  ]\n",
      "   [242.7858    235.7858    226.592    ]\n",
      "   [243.71436   236.71436   230.71436  ]]]\n",
      "\n",
      "\n",
      " ...\n",
      "\n",
      "\n",
      " [[[165.35715    73.35714    78.35714  ]\n",
      "   [166.         74.         79.       ]\n",
      "   [167.07652    75.07653    80.07653  ]\n",
      "   ...\n",
      "   [ 41.          5.         33.       ]\n",
      "   [ 38.954075    3.9540732  33.954075 ]\n",
      "   [ 38.          3.         33.       ]]\n",
      "\n",
      "  [[163.07143    72.07143    77.07143  ]\n",
      "   [163.07143    72.07143    77.07143  ]\n",
      "   [163.08673    72.08673    77.08673  ]\n",
      "   ...\n",
      "   [ 39.27039     5.2703876  32.27039  ]\n",
      "   [ 38.066326    4.066325   31.066326 ]\n",
      "   [ 38.          3.         33.       ]]\n",
      "\n",
      "  [[161.64796    73.29082    77.07653  ]\n",
      "   [161.57143    73.21429    77.       ]\n",
      "   [160.57143    72.         76.765305 ]\n",
      "   ...\n",
      "   [ 38.16835     5.0459137  31.908173 ]\n",
      "   [ 36.92856     3.9285583  30.928558 ]\n",
      "   [ 36.          3.         30.       ]]\n",
      "\n",
      "  ...\n",
      "\n",
      "  [[ 48.923477   29.923477   51.923477 ]\n",
      "   [ 49.51535    30.729612   52.729614 ]\n",
      "   [ 49.168373   31.168373   53.168373 ]\n",
      "   ...\n",
      "   [ 39.95409     8.168355   28.525562 ]\n",
      "   [ 42.          8.         32.       ]\n",
      "   [ 41.          7.         31.       ]]\n",
      "\n",
      "  [[ 50.739815   31.739813   53.739815 ]\n",
      "   [ 51.13778    32.13778    54.13778  ]\n",
      "   [ 51.928596   33.142883   55.142883 ]\n",
      "   ...\n",
      "   [ 40.785736    9.         29.357208 ]\n",
      "   [ 42.07144     8.071442   32.07144  ]\n",
      "   [ 42.          8.         32.       ]]\n",
      "\n",
      "  [[ 55.357178   33.357178   56.357178 ]\n",
      "   [ 54.331665   35.331665   57.331665 ]\n",
      "   [ 55.14289    36.357178   58.357178 ]\n",
      "   ...\n",
      "   [ 41.          9.214264   29.571472 ]\n",
      "   [ 43.          9.         33.       ]\n",
      "   [ 42.229603    8.229602   32.229603 ]]]\n",
      "\n",
      "\n",
      " [[[101.29656    94.29656    52.296555 ]\n",
      "   [103.40306    95.40306    59.331635 ]\n",
      "   [108.793365   99.57908    71.00765  ]\n",
      "   ...\n",
      "   [ 23.508623   26.017248   10.491376 ]\n",
      "   [ 26.42412    29.42412    11.079085 ]\n",
      "   [ 26.348179   29.348179   10.34818  ]]\n",
      "\n",
      "  [[107.63872   100.60141    58.71333  ]\n",
      "   [107.411354   99.411354   63.339924 ]\n",
      "   [112.61097   103.40912    74.72163  ]\n",
      "   ...\n",
      "   [ 19.495556   21.495556    7.5535927]\n",
      "   [ 24.972921   27.919033   11.080701 ]\n",
      "   [ 28.904657   31.904657   14.904657 ]]\n",
      "\n",
      "  [[109.8616    101.946106   62.692604 ]\n",
      "   [116.69101   108.69101    72.61958  ]\n",
      "   [118.625     109.625      79.05357  ]\n",
      "   ...\n",
      "   [ 13.25895    15.25895     2.2589502]\n",
      "   [ 20.687538   22.704443    9.362587 ]\n",
      "   [ 25.83039    28.067      13.357178 ]]\n",
      "\n",
      "  ...\n",
      "\n",
      "  [[245.24979   221.77652   169.30325  ]\n",
      "   [224.1391    201.1391    150.52298  ]\n",
      "   [216.066     194.28027   146.90842  ]\n",
      "   ...\n",
      "   [ 79.132034   44.76017    17.13203  ]\n",
      "   [ 77.39484    42.921574   15.394839 ]\n",
      "   [ 84.72072    50.24745    23.484083 ]]\n",
      "\n",
      "  [[242.84352   217.84352   163.84352  ]\n",
      "   [226.63414   203.49957   151.35672  ]\n",
      "   [219.05782   197.2721    148.70067  ]\n",
      "   ...\n",
      "   [ 78.6564     43.08493    16.656403 ]\n",
      "   [ 78.83325    42.833252   16.833254 ]\n",
      "   [ 83.11325    47.11325    21.11325  ]]\n",
      "\n",
      "  [[177.35495   149.80836    99.58165  ]\n",
      "   [212.65846   189.44418   139.46524  ]\n",
      "   [237.23772   215.96063   169.66663  ]\n",
      "   ...\n",
      "   [ 78.71442    45.35721    17.92868  ]\n",
      "   [ 82.45406    46.454067   20.454065 ]\n",
      "   [ 74.48675    38.486748   12.486747 ]]]\n",
      "\n",
      "\n",
      " [[[ 56.070312   57.070312   43.070312 ]\n",
      "   [ 57.928574   58.928574   44.928574 ]\n",
      "   [ 59.         60.         46.       ]\n",
      "   ...\n",
      "   [120.08594   141.19531   157.86719  ]\n",
      "   [120.109375  141.21875   157.89062  ]\n",
      "   [119.681885  140.79126   157.46313  ]]\n",
      "\n",
      "  [[ 56.760044   57.760044   43.760044 ]\n",
      "   [ 57.928574   58.928574   44.928574 ]\n",
      "   [ 59.         60.         46.       ]\n",
      "   ...\n",
      "   [121.11386   143.11386   157.11386  ]\n",
      "   [121.328125  143.32812   157.32812  ]\n",
      "   [120.328125  142.32812   156.32812  ]]\n",
      "\n",
      "  [[ 57.         57.453125   44.546875 ]\n",
      "   [ 57.928574   58.3817     45.47545  ]\n",
      "   [ 59.117188   59.570312   46.664062 ]\n",
      "   ...\n",
      "   [122.99666   143.35603   157.90291  ]\n",
      "   [123.09375   143.45312   158.       ]\n",
      "   [122.4453    142.80467   157.35155  ]]\n",
      "\n",
      "  ...\n",
      "\n",
      "  [[ 95.62054    92.9096     92.41741  ]\n",
      "   [ 89.22991    86.21429    87.21429  ]\n",
      "   [ 83.45089    79.810265   83.35714  ]\n",
      "   ...\n",
      "   [154.        142.        128.       ]\n",
      "   [153.        141.        127.       ]\n",
      "   [152.        140.        126.       ]]\n",
      "\n",
      "  [[ 96.71429    92.71429    91.71429  ]\n",
      "   [ 88.16629    86.21429    87.07031  ]\n",
      "   [ 82.35714    80.35714    82.30134  ]\n",
      "   ...\n",
      "   [154.        142.        128.       ]\n",
      "   [152.952     140.952     126.952    ]\n",
      "   [152.        140.        126.       ]]\n",
      "\n",
      "  [[ 94.67857    91.82366    92.60491  ]\n",
      "   [ 87.31585    85.32366    86.300224 ]\n",
      "   [ 79.685265   79.466515   79.622765 ]\n",
      "   ...\n",
      "   [153.80917   141.80917   127.80917  ]\n",
      "   [151.14731   139.14731   125.02005  ]\n",
      "   [150.53687   138.53687   122.755615 ]]]], shape=(32, 224, 224, 3), dtype=float32) tf.Tensor(\n",
      "[[0. 0. 0. 0. 0. 0. 1. 0. 0. 0.]\n",
      " [0. 1. 0. 0. 0. 0. 0. 0. 0. 0.]\n",
      " [0. 1. 0. 0. 0. 0. 0. 0. 0. 0.]\n",
      " [0. 1. 0. 0. 0. 0. 0. 0. 0. 0.]\n",
      " [0. 0. 0. 0. 1. 0. 0. 0. 0. 0.]\n",
      " [0. 0. 0. 0. 1. 0. 0. 0. 0. 0.]\n",
      " [0. 0. 0. 0. 0. 0. 0. 0. 1. 0.]\n",
      " [0. 0. 0. 0. 0. 1. 0. 0. 0. 0.]\n",
      " [0. 0. 0. 0. 0. 0. 0. 1. 0. 0.]\n",
      " [0. 0. 0. 0. 1. 0. 0. 0. 0. 0.]\n",
      " [0. 0. 0. 0. 0. 0. 0. 1. 0. 0.]\n",
      " [0. 0. 0. 0. 0. 0. 0. 0. 1. 0.]\n",
      " [0. 0. 1. 0. 0. 0. 0. 0. 0. 0.]\n",
      " [0. 0. 0. 0. 0. 0. 1. 0. 0. 0.]\n",
      " [0. 0. 0. 0. 0. 0. 0. 1. 0. 0.]\n",
      " [0. 0. 0. 0. 0. 0. 0. 1. 0. 0.]\n",
      " [1. 0. 0. 0. 0. 0. 0. 0. 0. 0.]\n",
      " [0. 0. 0. 1. 0. 0. 0. 0. 0. 0.]\n",
      " [0. 1. 0. 0. 0. 0. 0. 0. 0. 0.]\n",
      " [0. 0. 0. 0. 0. 0. 0. 1. 0. 0.]\n",
      " [0. 0. 0. 1. 0. 0. 0. 0. 0. 0.]\n",
      " [0. 0. 1. 0. 0. 0. 0. 0. 0. 0.]\n",
      " [0. 0. 0. 0. 0. 0. 0. 0. 0. 1.]\n",
      " [0. 0. 0. 0. 1. 0. 0. 0. 0. 0.]\n",
      " [0. 0. 0. 0. 0. 0. 0. 1. 0. 0.]\n",
      " [0. 1. 0. 0. 0. 0. 0. 0. 0. 0.]\n",
      " [0. 1. 0. 0. 0. 0. 0. 0. 0. 0.]\n",
      " [0. 0. 0. 0. 0. 0. 1. 0. 0. 0.]\n",
      " [1. 0. 0. 0. 0. 0. 0. 0. 0. 0.]\n",
      " [0. 0. 0. 0. 0. 0. 0. 1. 0. 0.]\n",
      " [0. 0. 0. 0. 0. 0. 0. 0. 0. 1.]\n",
      " [0. 0. 0. 0. 0. 1. 0. 0. 0. 0.]], shape=(32, 10), dtype=float32)\n"
     ]
    }
   ],
   "source": [
    "# See an example of a batch of data\n",
    "for images, labels in train_data_10_percent.take(1):\n",
    "    print(images, labels)"
   ]
  },
  {
   "cell_type": "markdown",
   "id": "2982719c",
   "metadata": {},
   "source": [
    "## Model 0: Building a trainfer learning feature extraction model using the Keras Functinoal API\n",
    "\n",
    "The sequential API is straight-forward, it runs our layers in sequential order.\n",
    "\n",
    "But the functional API gives us more flexibility with our models."
   ]
  },
  {
   "cell_type": "code",
   "execution_count": 13,
   "id": "736487f7",
   "metadata": {},
   "outputs": [
    {
     "name": "stdout",
     "output_type": "stream",
     "text": [
      "Shape after passing inputs through base model: (None, 7, 7, 1280)\n",
      "Shape after GlobalAveragePooling2D: (None, 1280)\n",
      "Saving TensorBoard log files to: transfer_learning/10_percent_feature_extraction/20220717-203657\n",
      "Epoch 1/5\n"
     ]
    },
    {
     "name": "stderr",
     "output_type": "stream",
     "text": [
      "2022-07-17 20:37:02.501852: I tensorflow/stream_executor/cuda/cuda_dnn.cc:384] Loaded cuDNN version 8301\n"
     ]
    },
    {
     "name": "stdout",
     "output_type": "stream",
     "text": [
      "24/24 [==============================] - 10s 169ms/step - loss: 1.8773 - accuracy: 0.4253 - val_loss: 1.3196 - val_accuracy: 0.7303\n",
      "Epoch 2/5\n",
      "24/24 [==============================] - 3s 138ms/step - loss: 1.0687 - accuracy: 0.7800 - val_loss: 0.8835 - val_accuracy: 0.8174\n",
      "Epoch 3/5\n",
      "24/24 [==============================] - 3s 137ms/step - loss: 0.7800 - accuracy: 0.8280 - val_loss: 0.7004 - val_accuracy: 0.8553\n",
      "Epoch 4/5\n",
      "24/24 [==============================] - 3s 137ms/step - loss: 0.6237 - accuracy: 0.8693 - val_loss: 0.6151 - val_accuracy: 0.8651\n",
      "Epoch 5/5\n",
      "24/24 [==============================] - 3s 140ms/step - loss: 0.5272 - accuracy: 0.8987 - val_loss: 0.5440 - val_accuracy: 0.8701\n"
     ]
    }
   ],
   "source": [
    "# 1. Create base model with tf.keras.applications\n",
    "base_model = tf.keras.applications.EfficientNetB0(include_top=False)\n",
    "\n",
    "# 2. Freeze the base model (so the underlying pre-trained patterns aren't updated during training)\n",
    "base_model.trainable = False\n",
    "\n",
    "# 3. Create inputs into our model\n",
    "inputs = tf.keras.layers.Input(shape=(224,224,3), name=\"input_layer\")\n",
    "\n",
    "# 4. If using a model like ResNet50V2 you will need to normalize inputs (you don't have to for EfficinetNet)\n",
    "# x = tf.keras.layers.experimental.preprocessing.Rescaling(1./255)(inputs)\n",
    "\n",
    "# 5. Pass the inputs to the base_model\n",
    "x = base_model(inputs)\n",
    "print(f\"Shape after passing inputs through base model: {x.shape}\")\n",
    "\n",
    "# 6. AVerage pool the outputs of the base model (aggregate all the most important information, reduce number of computation)\n",
    "x = tf.keras.layers.GlobalAveragePooling2D(name=\"global_average_pooling_layer\")(x)\n",
    "print(f\"Shape after GlobalAveragePooling2D: {x.shape}\")\n",
    "\n",
    "# 7. Create the output activation layer\n",
    "outputs = tf.keras.layers.Dense(10, activation=\"softmax\", name=\"output_layer\")(x)\n",
    "\n",
    "\n",
    "# 8. Combine the inputs with the outputs into a model\n",
    "model_0 = tf.keras.Model(inputs, outputs)\n",
    "\n",
    "# 9. Compile the model\n",
    "model_0.compile(loss=\"categorical_crossentropy\",\n",
    "               optimizer=tf.keras.optimizers.Adam(),\n",
    "               metrics=[\"accuracy\"])\n",
    "\n",
    "\n",
    "# 10. Fit the model and save its history\n",
    "history_10_percent = model_0.fit(train_data_10_percent,\n",
    "                       steps_per_epoch=len(train_data_10_percent),\n",
    "                       epochs=5,\n",
    "                       validation_data=test_data,\n",
    "                       validation_steps=int(0.25* len(test_data)),\n",
    "                        callbacks=[create_tensorboard_callback(dir_name=\"transfer_learning\",\n",
    "                                                               experiment_name=\"10_percent_feature_extraction\")])\n"
   ]
  },
  {
   "cell_type": "code",
   "execution_count": 14,
   "id": "bef04a48",
   "metadata": {},
   "outputs": [
    {
     "name": "stdout",
     "output_type": "stream",
     "text": [
      "79/79 [==============================] - 6s 72ms/step - loss: 0.5537 - accuracy: 0.8624\n"
     ]
    },
    {
     "data": {
      "text/plain": [
       "[0.5537213683128357, 0.8623999953269958]"
      ]
     },
     "execution_count": 14,
     "metadata": {},
     "output_type": "execute_result"
    }
   ],
   "source": [
    "# Evaluate on the full test dataset\n",
    "model_0.evaluate(test_data)"
   ]
  },
  {
   "cell_type": "code",
   "execution_count": 15,
   "id": "00cca31d",
   "metadata": {},
   "outputs": [
    {
     "name": "stdout",
     "output_type": "stream",
     "text": [
      "0 input_1\n",
      "1 rescaling\n",
      "2 normalization\n",
      "3 tf.math.truediv\n",
      "4 stem_conv_pad\n",
      "5 stem_conv\n",
      "6 stem_bn\n",
      "7 stem_activation\n",
      "8 block1a_dwconv\n",
      "9 block1a_bn\n",
      "10 block1a_activation\n",
      "11 block1a_se_squeeze\n",
      "12 block1a_se_reshape\n",
      "13 block1a_se_reduce\n",
      "14 block1a_se_expand\n",
      "15 block1a_se_excite\n",
      "16 block1a_project_conv\n",
      "17 block1a_project_bn\n",
      "18 block2a_expand_conv\n",
      "19 block2a_expand_bn\n",
      "20 block2a_expand_activation\n",
      "21 block2a_dwconv_pad\n",
      "22 block2a_dwconv\n",
      "23 block2a_bn\n",
      "24 block2a_activation\n",
      "25 block2a_se_squeeze\n",
      "26 block2a_se_reshape\n",
      "27 block2a_se_reduce\n",
      "28 block2a_se_expand\n",
      "29 block2a_se_excite\n",
      "30 block2a_project_conv\n",
      "31 block2a_project_bn\n",
      "32 block2b_expand_conv\n",
      "33 block2b_expand_bn\n",
      "34 block2b_expand_activation\n",
      "35 block2b_dwconv\n",
      "36 block2b_bn\n",
      "37 block2b_activation\n",
      "38 block2b_se_squeeze\n",
      "39 block2b_se_reshape\n",
      "40 block2b_se_reduce\n",
      "41 block2b_se_expand\n",
      "42 block2b_se_excite\n",
      "43 block2b_project_conv\n",
      "44 block2b_project_bn\n",
      "45 block2b_drop\n",
      "46 block2b_add\n",
      "47 block3a_expand_conv\n",
      "48 block3a_expand_bn\n",
      "49 block3a_expand_activation\n",
      "50 block3a_dwconv_pad\n",
      "51 block3a_dwconv\n",
      "52 block3a_bn\n",
      "53 block3a_activation\n",
      "54 block3a_se_squeeze\n",
      "55 block3a_se_reshape\n",
      "56 block3a_se_reduce\n",
      "57 block3a_se_expand\n",
      "58 block3a_se_excite\n",
      "59 block3a_project_conv\n",
      "60 block3a_project_bn\n",
      "61 block3b_expand_conv\n",
      "62 block3b_expand_bn\n",
      "63 block3b_expand_activation\n",
      "64 block3b_dwconv\n",
      "65 block3b_bn\n",
      "66 block3b_activation\n",
      "67 block3b_se_squeeze\n",
      "68 block3b_se_reshape\n",
      "69 block3b_se_reduce\n",
      "70 block3b_se_expand\n",
      "71 block3b_se_excite\n",
      "72 block3b_project_conv\n",
      "73 block3b_project_bn\n",
      "74 block3b_drop\n",
      "75 block3b_add\n",
      "76 block4a_expand_conv\n",
      "77 block4a_expand_bn\n",
      "78 block4a_expand_activation\n",
      "79 block4a_dwconv_pad\n",
      "80 block4a_dwconv\n",
      "81 block4a_bn\n",
      "82 block4a_activation\n",
      "83 block4a_se_squeeze\n",
      "84 block4a_se_reshape\n",
      "85 block4a_se_reduce\n",
      "86 block4a_se_expand\n",
      "87 block4a_se_excite\n",
      "88 block4a_project_conv\n",
      "89 block4a_project_bn\n",
      "90 block4b_expand_conv\n",
      "91 block4b_expand_bn\n",
      "92 block4b_expand_activation\n",
      "93 block4b_dwconv\n",
      "94 block4b_bn\n",
      "95 block4b_activation\n",
      "96 block4b_se_squeeze\n",
      "97 block4b_se_reshape\n",
      "98 block4b_se_reduce\n",
      "99 block4b_se_expand\n",
      "100 block4b_se_excite\n",
      "101 block4b_project_conv\n",
      "102 block4b_project_bn\n",
      "103 block4b_drop\n",
      "104 block4b_add\n",
      "105 block4c_expand_conv\n",
      "106 block4c_expand_bn\n",
      "107 block4c_expand_activation\n",
      "108 block4c_dwconv\n",
      "109 block4c_bn\n",
      "110 block4c_activation\n",
      "111 block4c_se_squeeze\n",
      "112 block4c_se_reshape\n",
      "113 block4c_se_reduce\n",
      "114 block4c_se_expand\n",
      "115 block4c_se_excite\n",
      "116 block4c_project_conv\n",
      "117 block4c_project_bn\n",
      "118 block4c_drop\n",
      "119 block4c_add\n",
      "120 block5a_expand_conv\n",
      "121 block5a_expand_bn\n",
      "122 block5a_expand_activation\n",
      "123 block5a_dwconv\n",
      "124 block5a_bn\n",
      "125 block5a_activation\n",
      "126 block5a_se_squeeze\n",
      "127 block5a_se_reshape\n",
      "128 block5a_se_reduce\n",
      "129 block5a_se_expand\n",
      "130 block5a_se_excite\n",
      "131 block5a_project_conv\n",
      "132 block5a_project_bn\n",
      "133 block5b_expand_conv\n",
      "134 block5b_expand_bn\n",
      "135 block5b_expand_activation\n",
      "136 block5b_dwconv\n",
      "137 block5b_bn\n",
      "138 block5b_activation\n",
      "139 block5b_se_squeeze\n",
      "140 block5b_se_reshape\n",
      "141 block5b_se_reduce\n",
      "142 block5b_se_expand\n",
      "143 block5b_se_excite\n",
      "144 block5b_project_conv\n",
      "145 block5b_project_bn\n",
      "146 block5b_drop\n",
      "147 block5b_add\n",
      "148 block5c_expand_conv\n",
      "149 block5c_expand_bn\n",
      "150 block5c_expand_activation\n",
      "151 block5c_dwconv\n",
      "152 block5c_bn\n",
      "153 block5c_activation\n",
      "154 block5c_se_squeeze\n",
      "155 block5c_se_reshape\n",
      "156 block5c_se_reduce\n",
      "157 block5c_se_expand\n",
      "158 block5c_se_excite\n",
      "159 block5c_project_conv\n",
      "160 block5c_project_bn\n",
      "161 block5c_drop\n",
      "162 block5c_add\n",
      "163 block6a_expand_conv\n",
      "164 block6a_expand_bn\n",
      "165 block6a_expand_activation\n",
      "166 block6a_dwconv_pad\n",
      "167 block6a_dwconv\n",
      "168 block6a_bn\n",
      "169 block6a_activation\n",
      "170 block6a_se_squeeze\n",
      "171 block6a_se_reshape\n",
      "172 block6a_se_reduce\n",
      "173 block6a_se_expand\n",
      "174 block6a_se_excite\n",
      "175 block6a_project_conv\n",
      "176 block6a_project_bn\n",
      "177 block6b_expand_conv\n",
      "178 block6b_expand_bn\n",
      "179 block6b_expand_activation\n",
      "180 block6b_dwconv\n",
      "181 block6b_bn\n",
      "182 block6b_activation\n",
      "183 block6b_se_squeeze\n",
      "184 block6b_se_reshape\n",
      "185 block6b_se_reduce\n",
      "186 block6b_se_expand\n",
      "187 block6b_se_excite\n",
      "188 block6b_project_conv\n",
      "189 block6b_project_bn\n",
      "190 block6b_drop\n",
      "191 block6b_add\n",
      "192 block6c_expand_conv\n",
      "193 block6c_expand_bn\n",
      "194 block6c_expand_activation\n",
      "195 block6c_dwconv\n",
      "196 block6c_bn\n",
      "197 block6c_activation\n",
      "198 block6c_se_squeeze\n",
      "199 block6c_se_reshape\n",
      "200 block6c_se_reduce\n",
      "201 block6c_se_expand\n",
      "202 block6c_se_excite\n",
      "203 block6c_project_conv\n",
      "204 block6c_project_bn\n",
      "205 block6c_drop\n",
      "206 block6c_add\n",
      "207 block6d_expand_conv\n",
      "208 block6d_expand_bn\n",
      "209 block6d_expand_activation\n",
      "210 block6d_dwconv\n",
      "211 block6d_bn\n",
      "212 block6d_activation\n",
      "213 block6d_se_squeeze\n",
      "214 block6d_se_reshape\n",
      "215 block6d_se_reduce\n",
      "216 block6d_se_expand\n",
      "217 block6d_se_excite\n",
      "218 block6d_project_conv\n",
      "219 block6d_project_bn\n",
      "220 block6d_drop\n",
      "221 block6d_add\n",
      "222 block7a_expand_conv\n",
      "223 block7a_expand_bn\n",
      "224 block7a_expand_activation\n",
      "225 block7a_dwconv\n",
      "226 block7a_bn\n",
      "227 block7a_activation\n",
      "228 block7a_se_squeeze\n",
      "229 block7a_se_reshape\n",
      "230 block7a_se_reduce\n",
      "231 block7a_se_expand\n",
      "232 block7a_se_excite\n",
      "233 block7a_project_conv\n",
      "234 block7a_project_bn\n",
      "235 top_conv\n",
      "236 top_bn\n",
      "237 top_activation\n"
     ]
    }
   ],
   "source": [
    "# Check the layers in our base model\n",
    "for layer_number, layer in enumerate(base_model.layers):\n",
    "    print(layer_number, layer.name)"
   ]
  },
  {
   "cell_type": "code",
   "execution_count": 16,
   "id": "47ad86c1",
   "metadata": {},
   "outputs": [
    {
     "name": "stdout",
     "output_type": "stream",
     "text": [
      "Model: \"efficientnetb0\"\n",
      "__________________________________________________________________________________________________\n",
      " Layer (type)                   Output Shape         Param #     Connected to                     \n",
      "==================================================================================================\n",
      " input_1 (InputLayer)           [(None, None, None,  0           []                               \n",
      "                                 3)]                                                              \n",
      "                                                                                                  \n",
      " rescaling (Rescaling)          (None, None, None,   0           ['input_1[0][0]']                \n",
      "                                3)                                                                \n",
      "                                                                                                  \n",
      " normalization (Normalization)  (None, None, None,   7           ['rescaling[0][0]']              \n",
      "                                3)                                                                \n",
      "                                                                                                  \n",
      " tf.math.truediv (TFOpLambda)   (None, None, None,   0           ['normalization[0][0]']          \n",
      "                                3)                                                                \n",
      "                                                                                                  \n",
      " stem_conv_pad (ZeroPadding2D)  (None, None, None,   0           ['tf.math.truediv[0][0]']        \n",
      "                                3)                                                                \n",
      "                                                                                                  \n",
      " stem_conv (Conv2D)             (None, None, None,   864         ['stem_conv_pad[0][0]']          \n",
      "                                32)                                                               \n",
      "                                                                                                  \n",
      " stem_bn (BatchNormalization)   (None, None, None,   128         ['stem_conv[0][0]']              \n",
      "                                32)                                                               \n",
      "                                                                                                  \n",
      " stem_activation (Activation)   (None, None, None,   0           ['stem_bn[0][0]']                \n",
      "                                32)                                                               \n",
      "                                                                                                  \n",
      " block1a_dwconv (DepthwiseConv2  (None, None, None,   288        ['stem_activation[0][0]']        \n",
      " D)                             32)                                                               \n",
      "                                                                                                  \n",
      " block1a_bn (BatchNormalization  (None, None, None,   128        ['block1a_dwconv[0][0]']         \n",
      " )                              32)                                                               \n",
      "                                                                                                  \n",
      " block1a_activation (Activation  (None, None, None,   0          ['block1a_bn[0][0]']             \n",
      " )                              32)                                                               \n",
      "                                                                                                  \n",
      " block1a_se_squeeze (GlobalAver  (None, 32)          0           ['block1a_activation[0][0]']     \n",
      " agePooling2D)                                                                                    \n",
      "                                                                                                  \n",
      " block1a_se_reshape (Reshape)   (None, 1, 1, 32)     0           ['block1a_se_squeeze[0][0]']     \n",
      "                                                                                                  \n",
      " block1a_se_reduce (Conv2D)     (None, 1, 1, 8)      264         ['block1a_se_reshape[0][0]']     \n",
      "                                                                                                  \n",
      " block1a_se_expand (Conv2D)     (None, 1, 1, 32)     288         ['block1a_se_reduce[0][0]']      \n",
      "                                                                                                  \n",
      " block1a_se_excite (Multiply)   (None, None, None,   0           ['block1a_activation[0][0]',     \n",
      "                                32)                               'block1a_se_expand[0][0]']      \n",
      "                                                                                                  \n",
      " block1a_project_conv (Conv2D)  (None, None, None,   512         ['block1a_se_excite[0][0]']      \n",
      "                                16)                                                               \n",
      "                                                                                                  \n",
      " block1a_project_bn (BatchNorma  (None, None, None,   64         ['block1a_project_conv[0][0]']   \n",
      " lization)                      16)                                                               \n",
      "                                                                                                  \n",
      " block2a_expand_conv (Conv2D)   (None, None, None,   1536        ['block1a_project_bn[0][0]']     \n",
      "                                96)                                                               \n",
      "                                                                                                  \n",
      " block2a_expand_bn (BatchNormal  (None, None, None,   384        ['block2a_expand_conv[0][0]']    \n",
      " ization)                       96)                                                               \n",
      "                                                                                                  \n",
      " block2a_expand_activation (Act  (None, None, None,   0          ['block2a_expand_bn[0][0]']      \n",
      " ivation)                       96)                                                               \n",
      "                                                                                                  \n",
      " block2a_dwconv_pad (ZeroPaddin  (None, None, None,   0          ['block2a_expand_activation[0][0]\n",
      " g2D)                           96)                              ']                               \n",
      "                                                                                                  \n",
      " block2a_dwconv (DepthwiseConv2  (None, None, None,   864        ['block2a_dwconv_pad[0][0]']     \n",
      " D)                             96)                                                               \n",
      "                                                                                                  \n",
      " block2a_bn (BatchNormalization  (None, None, None,   384        ['block2a_dwconv[0][0]']         \n",
      " )                              96)                                                               \n",
      "                                                                                                  \n",
      " block2a_activation (Activation  (None, None, None,   0          ['block2a_bn[0][0]']             \n",
      " )                              96)                                                               \n",
      "                                                                                                  \n",
      " block2a_se_squeeze (GlobalAver  (None, 96)          0           ['block2a_activation[0][0]']     \n",
      " agePooling2D)                                                                                    \n",
      "                                                                                                  \n",
      " block2a_se_reshape (Reshape)   (None, 1, 1, 96)     0           ['block2a_se_squeeze[0][0]']     \n",
      "                                                                                                  \n",
      " block2a_se_reduce (Conv2D)     (None, 1, 1, 4)      388         ['block2a_se_reshape[0][0]']     \n",
      "                                                                                                  \n",
      " block2a_se_expand (Conv2D)     (None, 1, 1, 96)     480         ['block2a_se_reduce[0][0]']      \n"
     ]
    },
    {
     "name": "stdout",
     "output_type": "stream",
     "text": [
      "                                                                                                  \n",
      " block2a_se_excite (Multiply)   (None, None, None,   0           ['block2a_activation[0][0]',     \n",
      "                                96)                               'block2a_se_expand[0][0]']      \n",
      "                                                                                                  \n",
      " block2a_project_conv (Conv2D)  (None, None, None,   2304        ['block2a_se_excite[0][0]']      \n",
      "                                24)                                                               \n",
      "                                                                                                  \n",
      " block2a_project_bn (BatchNorma  (None, None, None,   96         ['block2a_project_conv[0][0]']   \n",
      " lization)                      24)                                                               \n",
      "                                                                                                  \n",
      " block2b_expand_conv (Conv2D)   (None, None, None,   3456        ['block2a_project_bn[0][0]']     \n",
      "                                144)                                                              \n",
      "                                                                                                  \n",
      " block2b_expand_bn (BatchNormal  (None, None, None,   576        ['block2b_expand_conv[0][0]']    \n",
      " ization)                       144)                                                              \n",
      "                                                                                                  \n",
      " block2b_expand_activation (Act  (None, None, None,   0          ['block2b_expand_bn[0][0]']      \n",
      " ivation)                       144)                                                              \n",
      "                                                                                                  \n",
      " block2b_dwconv (DepthwiseConv2  (None, None, None,   1296       ['block2b_expand_activation[0][0]\n",
      " D)                             144)                             ']                               \n",
      "                                                                                                  \n",
      " block2b_bn (BatchNormalization  (None, None, None,   576        ['block2b_dwconv[0][0]']         \n",
      " )                              144)                                                              \n",
      "                                                                                                  \n",
      " block2b_activation (Activation  (None, None, None,   0          ['block2b_bn[0][0]']             \n",
      " )                              144)                                                              \n",
      "                                                                                                  \n",
      " block2b_se_squeeze (GlobalAver  (None, 144)         0           ['block2b_activation[0][0]']     \n",
      " agePooling2D)                                                                                    \n",
      "                                                                                                  \n",
      " block2b_se_reshape (Reshape)   (None, 1, 1, 144)    0           ['block2b_se_squeeze[0][0]']     \n",
      "                                                                                                  \n",
      " block2b_se_reduce (Conv2D)     (None, 1, 1, 6)      870         ['block2b_se_reshape[0][0]']     \n",
      "                                                                                                  \n",
      " block2b_se_expand (Conv2D)     (None, 1, 1, 144)    1008        ['block2b_se_reduce[0][0]']      \n",
      "                                                                                                  \n",
      " block2b_se_excite (Multiply)   (None, None, None,   0           ['block2b_activation[0][0]',     \n",
      "                                144)                              'block2b_se_expand[0][0]']      \n",
      "                                                                                                  \n",
      " block2b_project_conv (Conv2D)  (None, None, None,   3456        ['block2b_se_excite[0][0]']      \n",
      "                                24)                                                               \n",
      "                                                                                                  \n",
      " block2b_project_bn (BatchNorma  (None, None, None,   96         ['block2b_project_conv[0][0]']   \n",
      " lization)                      24)                                                               \n",
      "                                                                                                  \n",
      " block2b_drop (Dropout)         (None, None, None,   0           ['block2b_project_bn[0][0]']     \n",
      "                                24)                                                               \n",
      "                                                                                                  \n",
      " block2b_add (Add)              (None, None, None,   0           ['block2b_drop[0][0]',           \n",
      "                                24)                               'block2a_project_bn[0][0]']     \n",
      "                                                                                                  \n",
      " block3a_expand_conv (Conv2D)   (None, None, None,   3456        ['block2b_add[0][0]']            \n",
      "                                144)                                                              \n",
      "                                                                                                  \n",
      " block3a_expand_bn (BatchNormal  (None, None, None,   576        ['block3a_expand_conv[0][0]']    \n",
      " ization)                       144)                                                              \n",
      "                                                                                                  \n",
      " block3a_expand_activation (Act  (None, None, None,   0          ['block3a_expand_bn[0][0]']      \n",
      " ivation)                       144)                                                              \n",
      "                                                                                                  \n",
      " block3a_dwconv_pad (ZeroPaddin  (None, None, None,   0          ['block3a_expand_activation[0][0]\n",
      " g2D)                           144)                             ']                               \n",
      "                                                                                                  \n",
      " block3a_dwconv (DepthwiseConv2  (None, None, None,   3600       ['block3a_dwconv_pad[0][0]']     \n",
      " D)                             144)                                                              \n",
      "                                                                                                  \n",
      " block3a_bn (BatchNormalization  (None, None, None,   576        ['block3a_dwconv[0][0]']         \n",
      " )                              144)                                                              \n",
      "                                                                                                  \n",
      " block3a_activation (Activation  (None, None, None,   0          ['block3a_bn[0][0]']             \n",
      " )                              144)                                                              \n",
      "                                                                                                  \n",
      " block3a_se_squeeze (GlobalAver  (None, 144)         0           ['block3a_activation[0][0]']     \n",
      " agePooling2D)                                                                                    \n",
      "                                                                                                  \n",
      " block3a_se_reshape (Reshape)   (None, 1, 1, 144)    0           ['block3a_se_squeeze[0][0]']     \n",
      "                                                                                                  \n",
      " block3a_se_reduce (Conv2D)     (None, 1, 1, 6)      870         ['block3a_se_reshape[0][0]']     \n",
      "                                                                                                  \n",
      " block3a_se_expand (Conv2D)     (None, 1, 1, 144)    1008        ['block3a_se_reduce[0][0]']      \n",
      "                                                                                                  \n",
      " block3a_se_excite (Multiply)   (None, None, None,   0           ['block3a_activation[0][0]',     \n"
     ]
    },
    {
     "name": "stdout",
     "output_type": "stream",
     "text": [
      "                                144)                              'block3a_se_expand[0][0]']      \n",
      "                                                                                                  \n",
      " block3a_project_conv (Conv2D)  (None, None, None,   5760        ['block3a_se_excite[0][0]']      \n",
      "                                40)                                                               \n",
      "                                                                                                  \n",
      " block3a_project_bn (BatchNorma  (None, None, None,   160        ['block3a_project_conv[0][0]']   \n",
      " lization)                      40)                                                               \n",
      "                                                                                                  \n",
      " block3b_expand_conv (Conv2D)   (None, None, None,   9600        ['block3a_project_bn[0][0]']     \n",
      "                                240)                                                              \n",
      "                                                                                                  \n",
      " block3b_expand_bn (BatchNormal  (None, None, None,   960        ['block3b_expand_conv[0][0]']    \n",
      " ization)                       240)                                                              \n",
      "                                                                                                  \n",
      " block3b_expand_activation (Act  (None, None, None,   0          ['block3b_expand_bn[0][0]']      \n",
      " ivation)                       240)                                                              \n",
      "                                                                                                  \n",
      " block3b_dwconv (DepthwiseConv2  (None, None, None,   6000       ['block3b_expand_activation[0][0]\n",
      " D)                             240)                             ']                               \n",
      "                                                                                                  \n",
      " block3b_bn (BatchNormalization  (None, None, None,   960        ['block3b_dwconv[0][0]']         \n",
      " )                              240)                                                              \n",
      "                                                                                                  \n",
      " block3b_activation (Activation  (None, None, None,   0          ['block3b_bn[0][0]']             \n",
      " )                              240)                                                              \n",
      "                                                                                                  \n",
      " block3b_se_squeeze (GlobalAver  (None, 240)         0           ['block3b_activation[0][0]']     \n",
      " agePooling2D)                                                                                    \n",
      "                                                                                                  \n",
      " block3b_se_reshape (Reshape)   (None, 1, 1, 240)    0           ['block3b_se_squeeze[0][0]']     \n",
      "                                                                                                  \n",
      " block3b_se_reduce (Conv2D)     (None, 1, 1, 10)     2410        ['block3b_se_reshape[0][0]']     \n",
      "                                                                                                  \n",
      " block3b_se_expand (Conv2D)     (None, 1, 1, 240)    2640        ['block3b_se_reduce[0][0]']      \n",
      "                                                                                                  \n",
      " block3b_se_excite (Multiply)   (None, None, None,   0           ['block3b_activation[0][0]',     \n",
      "                                240)                              'block3b_se_expand[0][0]']      \n",
      "                                                                                                  \n",
      " block3b_project_conv (Conv2D)  (None, None, None,   9600        ['block3b_se_excite[0][0]']      \n",
      "                                40)                                                               \n",
      "                                                                                                  \n",
      " block3b_project_bn (BatchNorma  (None, None, None,   160        ['block3b_project_conv[0][0]']   \n",
      " lization)                      40)                                                               \n",
      "                                                                                                  \n",
      " block3b_drop (Dropout)         (None, None, None,   0           ['block3b_project_bn[0][0]']     \n",
      "                                40)                                                               \n",
      "                                                                                                  \n",
      " block3b_add (Add)              (None, None, None,   0           ['block3b_drop[0][0]',           \n",
      "                                40)                               'block3a_project_bn[0][0]']     \n",
      "                                                                                                  \n",
      " block4a_expand_conv (Conv2D)   (None, None, None,   9600        ['block3b_add[0][0]']            \n",
      "                                240)                                                              \n",
      "                                                                                                  \n",
      " block4a_expand_bn (BatchNormal  (None, None, None,   960        ['block4a_expand_conv[0][0]']    \n",
      " ization)                       240)                                                              \n",
      "                                                                                                  \n",
      " block4a_expand_activation (Act  (None, None, None,   0          ['block4a_expand_bn[0][0]']      \n",
      " ivation)                       240)                                                              \n",
      "                                                                                                  \n",
      " block4a_dwconv_pad (ZeroPaddin  (None, None, None,   0          ['block4a_expand_activation[0][0]\n",
      " g2D)                           240)                             ']                               \n",
      "                                                                                                  \n",
      " block4a_dwconv (DepthwiseConv2  (None, None, None,   2160       ['block4a_dwconv_pad[0][0]']     \n",
      " D)                             240)                                                              \n",
      "                                                                                                  \n",
      " block4a_bn (BatchNormalization  (None, None, None,   960        ['block4a_dwconv[0][0]']         \n",
      " )                              240)                                                              \n",
      "                                                                                                  \n",
      " block4a_activation (Activation  (None, None, None,   0          ['block4a_bn[0][0]']             \n",
      " )                              240)                                                              \n",
      "                                                                                                  \n",
      " block4a_se_squeeze (GlobalAver  (None, 240)         0           ['block4a_activation[0][0]']     \n",
      " agePooling2D)                                                                                    \n",
      "                                                                                                  \n",
      " block4a_se_reshape (Reshape)   (None, 1, 1, 240)    0           ['block4a_se_squeeze[0][0]']     \n",
      "                                                                                                  \n",
      " block4a_se_reduce (Conv2D)     (None, 1, 1, 10)     2410        ['block4a_se_reshape[0][0]']     \n",
      "                                                                                                  \n",
      " block4a_se_expand (Conv2D)     (None, 1, 1, 240)    2640        ['block4a_se_reduce[0][0]']      \n",
      "                                                                                                  \n",
      " block4a_se_excite (Multiply)   (None, None, None,   0           ['block4a_activation[0][0]',     \n",
      "                                240)                              'block4a_se_expand[0][0]']      \n",
      "                                                                                                  \n"
     ]
    },
    {
     "name": "stdout",
     "output_type": "stream",
     "text": [
      " block4a_project_conv (Conv2D)  (None, None, None,   19200       ['block4a_se_excite[0][0]']      \n",
      "                                80)                                                               \n",
      "                                                                                                  \n",
      " block4a_project_bn (BatchNorma  (None, None, None,   320        ['block4a_project_conv[0][0]']   \n",
      " lization)                      80)                                                               \n",
      "                                                                                                  \n",
      " block4b_expand_conv (Conv2D)   (None, None, None,   38400       ['block4a_project_bn[0][0]']     \n",
      "                                480)                                                              \n",
      "                                                                                                  \n",
      " block4b_expand_bn (BatchNormal  (None, None, None,   1920       ['block4b_expand_conv[0][0]']    \n",
      " ization)                       480)                                                              \n",
      "                                                                                                  \n",
      " block4b_expand_activation (Act  (None, None, None,   0          ['block4b_expand_bn[0][0]']      \n",
      " ivation)                       480)                                                              \n",
      "                                                                                                  \n",
      " block4b_dwconv (DepthwiseConv2  (None, None, None,   4320       ['block4b_expand_activation[0][0]\n",
      " D)                             480)                             ']                               \n",
      "                                                                                                  \n",
      " block4b_bn (BatchNormalization  (None, None, None,   1920       ['block4b_dwconv[0][0]']         \n",
      " )                              480)                                                              \n",
      "                                                                                                  \n",
      " block4b_activation (Activation  (None, None, None,   0          ['block4b_bn[0][0]']             \n",
      " )                              480)                                                              \n",
      "                                                                                                  \n",
      " block4b_se_squeeze (GlobalAver  (None, 480)         0           ['block4b_activation[0][0]']     \n",
      " agePooling2D)                                                                                    \n",
      "                                                                                                  \n",
      " block4b_se_reshape (Reshape)   (None, 1, 1, 480)    0           ['block4b_se_squeeze[0][0]']     \n",
      "                                                                                                  \n",
      " block4b_se_reduce (Conv2D)     (None, 1, 1, 20)     9620        ['block4b_se_reshape[0][0]']     \n",
      "                                                                                                  \n",
      " block4b_se_expand (Conv2D)     (None, 1, 1, 480)    10080       ['block4b_se_reduce[0][0]']      \n",
      "                                                                                                  \n",
      " block4b_se_excite (Multiply)   (None, None, None,   0           ['block4b_activation[0][0]',     \n",
      "                                480)                              'block4b_se_expand[0][0]']      \n",
      "                                                                                                  \n",
      " block4b_project_conv (Conv2D)  (None, None, None,   38400       ['block4b_se_excite[0][0]']      \n",
      "                                80)                                                               \n",
      "                                                                                                  \n",
      " block4b_project_bn (BatchNorma  (None, None, None,   320        ['block4b_project_conv[0][0]']   \n",
      " lization)                      80)                                                               \n",
      "                                                                                                  \n",
      " block4b_drop (Dropout)         (None, None, None,   0           ['block4b_project_bn[0][0]']     \n",
      "                                80)                                                               \n",
      "                                                                                                  \n",
      " block4b_add (Add)              (None, None, None,   0           ['block4b_drop[0][0]',           \n",
      "                                80)                               'block4a_project_bn[0][0]']     \n",
      "                                                                                                  \n",
      " block4c_expand_conv (Conv2D)   (None, None, None,   38400       ['block4b_add[0][0]']            \n",
      "                                480)                                                              \n",
      "                                                                                                  \n",
      " block4c_expand_bn (BatchNormal  (None, None, None,   1920       ['block4c_expand_conv[0][0]']    \n",
      " ization)                       480)                                                              \n",
      "                                                                                                  \n",
      " block4c_expand_activation (Act  (None, None, None,   0          ['block4c_expand_bn[0][0]']      \n",
      " ivation)                       480)                                                              \n",
      "                                                                                                  \n",
      " block4c_dwconv (DepthwiseConv2  (None, None, None,   4320       ['block4c_expand_activation[0][0]\n",
      " D)                             480)                             ']                               \n",
      "                                                                                                  \n",
      " block4c_bn (BatchNormalization  (None, None, None,   1920       ['block4c_dwconv[0][0]']         \n",
      " )                              480)                                                              \n",
      "                                                                                                  \n",
      " block4c_activation (Activation  (None, None, None,   0          ['block4c_bn[0][0]']             \n",
      " )                              480)                                                              \n",
      "                                                                                                  \n",
      " block4c_se_squeeze (GlobalAver  (None, 480)         0           ['block4c_activation[0][0]']     \n",
      " agePooling2D)                                                                                    \n",
      "                                                                                                  \n",
      " block4c_se_reshape (Reshape)   (None, 1, 1, 480)    0           ['block4c_se_squeeze[0][0]']     \n",
      "                                                                                                  \n",
      " block4c_se_reduce (Conv2D)     (None, 1, 1, 20)     9620        ['block4c_se_reshape[0][0]']     \n",
      "                                                                                                  \n",
      " block4c_se_expand (Conv2D)     (None, 1, 1, 480)    10080       ['block4c_se_reduce[0][0]']      \n",
      "                                                                                                  \n",
      " block4c_se_excite (Multiply)   (None, None, None,   0           ['block4c_activation[0][0]',     \n",
      "                                480)                              'block4c_se_expand[0][0]']      \n",
      "                                                                                                  \n",
      " block4c_project_conv (Conv2D)  (None, None, None,   38400       ['block4c_se_excite[0][0]']      \n",
      "                                80)                                                               \n",
      "                                                                                                  \n",
      " block4c_project_bn (BatchNorma  (None, None, None,   320        ['block4c_project_conv[0][0]']   \n",
      " lization)                      80)                                                               \n"
     ]
    },
    {
     "name": "stdout",
     "output_type": "stream",
     "text": [
      "                                                                                                  \n",
      " block4c_drop (Dropout)         (None, None, None,   0           ['block4c_project_bn[0][0]']     \n",
      "                                80)                                                               \n",
      "                                                                                                  \n",
      " block4c_add (Add)              (None, None, None,   0           ['block4c_drop[0][0]',           \n",
      "                                80)                               'block4b_add[0][0]']            \n",
      "                                                                                                  \n",
      " block5a_expand_conv (Conv2D)   (None, None, None,   38400       ['block4c_add[0][0]']            \n",
      "                                480)                                                              \n",
      "                                                                                                  \n",
      " block5a_expand_bn (BatchNormal  (None, None, None,   1920       ['block5a_expand_conv[0][0]']    \n",
      " ization)                       480)                                                              \n",
      "                                                                                                  \n",
      " block5a_expand_activation (Act  (None, None, None,   0          ['block5a_expand_bn[0][0]']      \n",
      " ivation)                       480)                                                              \n",
      "                                                                                                  \n",
      " block5a_dwconv (DepthwiseConv2  (None, None, None,   12000      ['block5a_expand_activation[0][0]\n",
      " D)                             480)                             ']                               \n",
      "                                                                                                  \n",
      " block5a_bn (BatchNormalization  (None, None, None,   1920       ['block5a_dwconv[0][0]']         \n",
      " )                              480)                                                              \n",
      "                                                                                                  \n",
      " block5a_activation (Activation  (None, None, None,   0          ['block5a_bn[0][0]']             \n",
      " )                              480)                                                              \n",
      "                                                                                                  \n",
      " block5a_se_squeeze (GlobalAver  (None, 480)         0           ['block5a_activation[0][0]']     \n",
      " agePooling2D)                                                                                    \n",
      "                                                                                                  \n",
      " block5a_se_reshape (Reshape)   (None, 1, 1, 480)    0           ['block5a_se_squeeze[0][0]']     \n",
      "                                                                                                  \n",
      " block5a_se_reduce (Conv2D)     (None, 1, 1, 20)     9620        ['block5a_se_reshape[0][0]']     \n",
      "                                                                                                  \n",
      " block5a_se_expand (Conv2D)     (None, 1, 1, 480)    10080       ['block5a_se_reduce[0][0]']      \n",
      "                                                                                                  \n",
      " block5a_se_excite (Multiply)   (None, None, None,   0           ['block5a_activation[0][0]',     \n",
      "                                480)                              'block5a_se_expand[0][0]']      \n",
      "                                                                                                  \n",
      " block5a_project_conv (Conv2D)  (None, None, None,   53760       ['block5a_se_excite[0][0]']      \n",
      "                                112)                                                              \n",
      "                                                                                                  \n",
      " block5a_project_bn (BatchNorma  (None, None, None,   448        ['block5a_project_conv[0][0]']   \n",
      " lization)                      112)                                                              \n",
      "                                                                                                  \n",
      " block5b_expand_conv (Conv2D)   (None, None, None,   75264       ['block5a_project_bn[0][0]']     \n",
      "                                672)                                                              \n",
      "                                                                                                  \n",
      " block5b_expand_bn (BatchNormal  (None, None, None,   2688       ['block5b_expand_conv[0][0]']    \n",
      " ization)                       672)                                                              \n",
      "                                                                                                  \n",
      " block5b_expand_activation (Act  (None, None, None,   0          ['block5b_expand_bn[0][0]']      \n",
      " ivation)                       672)                                                              \n",
      "                                                                                                  \n",
      " block5b_dwconv (DepthwiseConv2  (None, None, None,   16800      ['block5b_expand_activation[0][0]\n",
      " D)                             672)                             ']                               \n",
      "                                                                                                  \n",
      " block5b_bn (BatchNormalization  (None, None, None,   2688       ['block5b_dwconv[0][0]']         \n",
      " )                              672)                                                              \n",
      "                                                                                                  \n",
      " block5b_activation (Activation  (None, None, None,   0          ['block5b_bn[0][0]']             \n",
      " )                              672)                                                              \n",
      "                                                                                                  \n",
      " block5b_se_squeeze (GlobalAver  (None, 672)         0           ['block5b_activation[0][0]']     \n",
      " agePooling2D)                                                                                    \n",
      "                                                                                                  \n",
      " block5b_se_reshape (Reshape)   (None, 1, 1, 672)    0           ['block5b_se_squeeze[0][0]']     \n",
      "                                                                                                  \n",
      " block5b_se_reduce (Conv2D)     (None, 1, 1, 28)     18844       ['block5b_se_reshape[0][0]']     \n",
      "                                                                                                  \n",
      " block5b_se_expand (Conv2D)     (None, 1, 1, 672)    19488       ['block5b_se_reduce[0][0]']      \n",
      "                                                                                                  \n",
      " block5b_se_excite (Multiply)   (None, None, None,   0           ['block5b_activation[0][0]',     \n",
      "                                672)                              'block5b_se_expand[0][0]']      \n",
      "                                                                                                  \n",
      " block5b_project_conv (Conv2D)  (None, None, None,   75264       ['block5b_se_excite[0][0]']      \n",
      "                                112)                                                              \n",
      "                                                                                                  \n",
      " block5b_project_bn (BatchNorma  (None, None, None,   448        ['block5b_project_conv[0][0]']   \n",
      " lization)                      112)                                                              \n",
      "                                                                                                  \n",
      " block5b_drop (Dropout)         (None, None, None,   0           ['block5b_project_bn[0][0]']     \n",
      "                                112)                                                              \n",
      "                                                                                                  \n",
      " block5b_add (Add)              (None, None, None,   0           ['block5b_drop[0][0]',           \n"
     ]
    },
    {
     "name": "stdout",
     "output_type": "stream",
     "text": [
      "                                112)                              'block5a_project_bn[0][0]']     \n",
      "                                                                                                  \n",
      " block5c_expand_conv (Conv2D)   (None, None, None,   75264       ['block5b_add[0][0]']            \n",
      "                                672)                                                              \n",
      "                                                                                                  \n",
      " block5c_expand_bn (BatchNormal  (None, None, None,   2688       ['block5c_expand_conv[0][0]']    \n",
      " ization)                       672)                                                              \n",
      "                                                                                                  \n",
      " block5c_expand_activation (Act  (None, None, None,   0          ['block5c_expand_bn[0][0]']      \n",
      " ivation)                       672)                                                              \n",
      "                                                                                                  \n",
      " block5c_dwconv (DepthwiseConv2  (None, None, None,   16800      ['block5c_expand_activation[0][0]\n",
      " D)                             672)                             ']                               \n",
      "                                                                                                  \n",
      " block5c_bn (BatchNormalization  (None, None, None,   2688       ['block5c_dwconv[0][0]']         \n",
      " )                              672)                                                              \n",
      "                                                                                                  \n",
      " block5c_activation (Activation  (None, None, None,   0          ['block5c_bn[0][0]']             \n",
      " )                              672)                                                              \n",
      "                                                                                                  \n",
      " block5c_se_squeeze (GlobalAver  (None, 672)         0           ['block5c_activation[0][0]']     \n",
      " agePooling2D)                                                                                    \n",
      "                                                                                                  \n",
      " block5c_se_reshape (Reshape)   (None, 1, 1, 672)    0           ['block5c_se_squeeze[0][0]']     \n",
      "                                                                                                  \n",
      " block5c_se_reduce (Conv2D)     (None, 1, 1, 28)     18844       ['block5c_se_reshape[0][0]']     \n",
      "                                                                                                  \n",
      " block5c_se_expand (Conv2D)     (None, 1, 1, 672)    19488       ['block5c_se_reduce[0][0]']      \n",
      "                                                                                                  \n",
      " block5c_se_excite (Multiply)   (None, None, None,   0           ['block5c_activation[0][0]',     \n",
      "                                672)                              'block5c_se_expand[0][0]']      \n",
      "                                                                                                  \n",
      " block5c_project_conv (Conv2D)  (None, None, None,   75264       ['block5c_se_excite[0][0]']      \n",
      "                                112)                                                              \n",
      "                                                                                                  \n",
      " block5c_project_bn (BatchNorma  (None, None, None,   448        ['block5c_project_conv[0][0]']   \n",
      " lization)                      112)                                                              \n",
      "                                                                                                  \n",
      " block5c_drop (Dropout)         (None, None, None,   0           ['block5c_project_bn[0][0]']     \n",
      "                                112)                                                              \n",
      "                                                                                                  \n",
      " block5c_add (Add)              (None, None, None,   0           ['block5c_drop[0][0]',           \n",
      "                                112)                              'block5b_add[0][0]']            \n",
      "                                                                                                  \n",
      " block6a_expand_conv (Conv2D)   (None, None, None,   75264       ['block5c_add[0][0]']            \n",
      "                                672)                                                              \n",
      "                                                                                                  \n",
      " block6a_expand_bn (BatchNormal  (None, None, None,   2688       ['block6a_expand_conv[0][0]']    \n",
      " ization)                       672)                                                              \n",
      "                                                                                                  \n",
      " block6a_expand_activation (Act  (None, None, None,   0          ['block6a_expand_bn[0][0]']      \n",
      " ivation)                       672)                                                              \n",
      "                                                                                                  \n",
      " block6a_dwconv_pad (ZeroPaddin  (None, None, None,   0          ['block6a_expand_activation[0][0]\n",
      " g2D)                           672)                             ']                               \n",
      "                                                                                                  \n",
      " block6a_dwconv (DepthwiseConv2  (None, None, None,   16800      ['block6a_dwconv_pad[0][0]']     \n",
      " D)                             672)                                                              \n",
      "                                                                                                  \n",
      " block6a_bn (BatchNormalization  (None, None, None,   2688       ['block6a_dwconv[0][0]']         \n",
      " )                              672)                                                              \n",
      "                                                                                                  \n",
      " block6a_activation (Activation  (None, None, None,   0          ['block6a_bn[0][0]']             \n",
      " )                              672)                                                              \n",
      "                                                                                                  \n",
      " block6a_se_squeeze (GlobalAver  (None, 672)         0           ['block6a_activation[0][0]']     \n",
      " agePooling2D)                                                                                    \n",
      "                                                                                                  \n",
      " block6a_se_reshape (Reshape)   (None, 1, 1, 672)    0           ['block6a_se_squeeze[0][0]']     \n",
      "                                                                                                  \n",
      " block6a_se_reduce (Conv2D)     (None, 1, 1, 28)     18844       ['block6a_se_reshape[0][0]']     \n",
      "                                                                                                  \n",
      " block6a_se_expand (Conv2D)     (None, 1, 1, 672)    19488       ['block6a_se_reduce[0][0]']      \n",
      "                                                                                                  \n",
      " block6a_se_excite (Multiply)   (None, None, None,   0           ['block6a_activation[0][0]',     \n",
      "                                672)                              'block6a_se_expand[0][0]']      \n",
      "                                                                                                  \n",
      " block6a_project_conv (Conv2D)  (None, None, None,   129024      ['block6a_se_excite[0][0]']      \n",
      "                                192)                                                              \n",
      "                                                                                                  \n",
      " block6a_project_bn (BatchNorma  (None, None, None,   768        ['block6a_project_conv[0][0]']   \n",
      " lization)                      192)                                                              \n",
      "                                                                                                  \n"
     ]
    },
    {
     "name": "stdout",
     "output_type": "stream",
     "text": [
      " block6b_expand_conv (Conv2D)   (None, None, None,   221184      ['block6a_project_bn[0][0]']     \n",
      "                                1152)                                                             \n",
      "                                                                                                  \n",
      " block6b_expand_bn (BatchNormal  (None, None, None,   4608       ['block6b_expand_conv[0][0]']    \n",
      " ization)                       1152)                                                             \n",
      "                                                                                                  \n",
      " block6b_expand_activation (Act  (None, None, None,   0          ['block6b_expand_bn[0][0]']      \n",
      " ivation)                       1152)                                                             \n",
      "                                                                                                  \n",
      " block6b_dwconv (DepthwiseConv2  (None, None, None,   28800      ['block6b_expand_activation[0][0]\n",
      " D)                             1152)                            ']                               \n",
      "                                                                                                  \n",
      " block6b_bn (BatchNormalization  (None, None, None,   4608       ['block6b_dwconv[0][0]']         \n",
      " )                              1152)                                                             \n",
      "                                                                                                  \n",
      " block6b_activation (Activation  (None, None, None,   0          ['block6b_bn[0][0]']             \n",
      " )                              1152)                                                             \n",
      "                                                                                                  \n",
      " block6b_se_squeeze (GlobalAver  (None, 1152)        0           ['block6b_activation[0][0]']     \n",
      " agePooling2D)                                                                                    \n",
      "                                                                                                  \n",
      " block6b_se_reshape (Reshape)   (None, 1, 1, 1152)   0           ['block6b_se_squeeze[0][0]']     \n",
      "                                                                                                  \n",
      " block6b_se_reduce (Conv2D)     (None, 1, 1, 48)     55344       ['block6b_se_reshape[0][0]']     \n",
      "                                                                                                  \n",
      " block6b_se_expand (Conv2D)     (None, 1, 1, 1152)   56448       ['block6b_se_reduce[0][0]']      \n",
      "                                                                                                  \n",
      " block6b_se_excite (Multiply)   (None, None, None,   0           ['block6b_activation[0][0]',     \n",
      "                                1152)                             'block6b_se_expand[0][0]']      \n",
      "                                                                                                  \n",
      " block6b_project_conv (Conv2D)  (None, None, None,   221184      ['block6b_se_excite[0][0]']      \n",
      "                                192)                                                              \n",
      "                                                                                                  \n",
      " block6b_project_bn (BatchNorma  (None, None, None,   768        ['block6b_project_conv[0][0]']   \n",
      " lization)                      192)                                                              \n",
      "                                                                                                  \n",
      " block6b_drop (Dropout)         (None, None, None,   0           ['block6b_project_bn[0][0]']     \n",
      "                                192)                                                              \n",
      "                                                                                                  \n",
      " block6b_add (Add)              (None, None, None,   0           ['block6b_drop[0][0]',           \n",
      "                                192)                              'block6a_project_bn[0][0]']     \n",
      "                                                                                                  \n",
      " block6c_expand_conv (Conv2D)   (None, None, None,   221184      ['block6b_add[0][0]']            \n",
      "                                1152)                                                             \n",
      "                                                                                                  \n",
      " block6c_expand_bn (BatchNormal  (None, None, None,   4608       ['block6c_expand_conv[0][0]']    \n",
      " ization)                       1152)                                                             \n",
      "                                                                                                  \n",
      " block6c_expand_activation (Act  (None, None, None,   0          ['block6c_expand_bn[0][0]']      \n",
      " ivation)                       1152)                                                             \n",
      "                                                                                                  \n",
      " block6c_dwconv (DepthwiseConv2  (None, None, None,   28800      ['block6c_expand_activation[0][0]\n",
      " D)                             1152)                            ']                               \n",
      "                                                                                                  \n",
      " block6c_bn (BatchNormalization  (None, None, None,   4608       ['block6c_dwconv[0][0]']         \n",
      " )                              1152)                                                             \n",
      "                                                                                                  \n",
      " block6c_activation (Activation  (None, None, None,   0          ['block6c_bn[0][0]']             \n",
      " )                              1152)                                                             \n",
      "                                                                                                  \n",
      " block6c_se_squeeze (GlobalAver  (None, 1152)        0           ['block6c_activation[0][0]']     \n",
      " agePooling2D)                                                                                    \n",
      "                                                                                                  \n",
      " block6c_se_reshape (Reshape)   (None, 1, 1, 1152)   0           ['block6c_se_squeeze[0][0]']     \n",
      "                                                                                                  \n",
      " block6c_se_reduce (Conv2D)     (None, 1, 1, 48)     55344       ['block6c_se_reshape[0][0]']     \n",
      "                                                                                                  \n",
      " block6c_se_expand (Conv2D)     (None, 1, 1, 1152)   56448       ['block6c_se_reduce[0][0]']      \n",
      "                                                                                                  \n",
      " block6c_se_excite (Multiply)   (None, None, None,   0           ['block6c_activation[0][0]',     \n",
      "                                1152)                             'block6c_se_expand[0][0]']      \n",
      "                                                                                                  \n",
      " block6c_project_conv (Conv2D)  (None, None, None,   221184      ['block6c_se_excite[0][0]']      \n",
      "                                192)                                                              \n",
      "                                                                                                  \n",
      " block6c_project_bn (BatchNorma  (None, None, None,   768        ['block6c_project_conv[0][0]']   \n",
      " lization)                      192)                                                              \n",
      "                                                                                                  \n",
      " block6c_drop (Dropout)         (None, None, None,   0           ['block6c_project_bn[0][0]']     \n",
      "                                192)                                                              \n",
      "                                                                                                  \n",
      " block6c_add (Add)              (None, None, None,   0           ['block6c_drop[0][0]',           \n",
      "                                192)                              'block6b_add[0][0]']            \n"
     ]
    },
    {
     "name": "stdout",
     "output_type": "stream",
     "text": [
      "                                                                                                  \n",
      " block6d_expand_conv (Conv2D)   (None, None, None,   221184      ['block6c_add[0][0]']            \n",
      "                                1152)                                                             \n",
      "                                                                                                  \n",
      " block6d_expand_bn (BatchNormal  (None, None, None,   4608       ['block6d_expand_conv[0][0]']    \n",
      " ization)                       1152)                                                             \n",
      "                                                                                                  \n",
      " block6d_expand_activation (Act  (None, None, None,   0          ['block6d_expand_bn[0][0]']      \n",
      " ivation)                       1152)                                                             \n",
      "                                                                                                  \n",
      " block6d_dwconv (DepthwiseConv2  (None, None, None,   28800      ['block6d_expand_activation[0][0]\n",
      " D)                             1152)                            ']                               \n",
      "                                                                                                  \n",
      " block6d_bn (BatchNormalization  (None, None, None,   4608       ['block6d_dwconv[0][0]']         \n",
      " )                              1152)                                                             \n",
      "                                                                                                  \n",
      " block6d_activation (Activation  (None, None, None,   0          ['block6d_bn[0][0]']             \n",
      " )                              1152)                                                             \n",
      "                                                                                                  \n",
      " block6d_se_squeeze (GlobalAver  (None, 1152)        0           ['block6d_activation[0][0]']     \n",
      " agePooling2D)                                                                                    \n",
      "                                                                                                  \n",
      " block6d_se_reshape (Reshape)   (None, 1, 1, 1152)   0           ['block6d_se_squeeze[0][0]']     \n",
      "                                                                                                  \n",
      " block6d_se_reduce (Conv2D)     (None, 1, 1, 48)     55344       ['block6d_se_reshape[0][0]']     \n",
      "                                                                                                  \n",
      " block6d_se_expand (Conv2D)     (None, 1, 1, 1152)   56448       ['block6d_se_reduce[0][0]']      \n",
      "                                                                                                  \n",
      " block6d_se_excite (Multiply)   (None, None, None,   0           ['block6d_activation[0][0]',     \n",
      "                                1152)                             'block6d_se_expand[0][0]']      \n",
      "                                                                                                  \n",
      " block6d_project_conv (Conv2D)  (None, None, None,   221184      ['block6d_se_excite[0][0]']      \n",
      "                                192)                                                              \n",
      "                                                                                                  \n",
      " block6d_project_bn (BatchNorma  (None, None, None,   768        ['block6d_project_conv[0][0]']   \n",
      " lization)                      192)                                                              \n",
      "                                                                                                  \n",
      " block6d_drop (Dropout)         (None, None, None,   0           ['block6d_project_bn[0][0]']     \n",
      "                                192)                                                              \n",
      "                                                                                                  \n",
      " block6d_add (Add)              (None, None, None,   0           ['block6d_drop[0][0]',           \n",
      "                                192)                              'block6c_add[0][0]']            \n",
      "                                                                                                  \n",
      " block7a_expand_conv (Conv2D)   (None, None, None,   221184      ['block6d_add[0][0]']            \n",
      "                                1152)                                                             \n",
      "                                                                                                  \n",
      " block7a_expand_bn (BatchNormal  (None, None, None,   4608       ['block7a_expand_conv[0][0]']    \n",
      " ization)                       1152)                                                             \n",
      "                                                                                                  \n",
      " block7a_expand_activation (Act  (None, None, None,   0          ['block7a_expand_bn[0][0]']      \n",
      " ivation)                       1152)                                                             \n",
      "                                                                                                  \n",
      " block7a_dwconv (DepthwiseConv2  (None, None, None,   10368      ['block7a_expand_activation[0][0]\n",
      " D)                             1152)                            ']                               \n",
      "                                                                                                  \n",
      " block7a_bn (BatchNormalization  (None, None, None,   4608       ['block7a_dwconv[0][0]']         \n",
      " )                              1152)                                                             \n",
      "                                                                                                  \n",
      " block7a_activation (Activation  (None, None, None,   0          ['block7a_bn[0][0]']             \n",
      " )                              1152)                                                             \n",
      "                                                                                                  \n",
      " block7a_se_squeeze (GlobalAver  (None, 1152)        0           ['block7a_activation[0][0]']     \n",
      " agePooling2D)                                                                                    \n",
      "                                                                                                  \n",
      " block7a_se_reshape (Reshape)   (None, 1, 1, 1152)   0           ['block7a_se_squeeze[0][0]']     \n",
      "                                                                                                  \n",
      " block7a_se_reduce (Conv2D)     (None, 1, 1, 48)     55344       ['block7a_se_reshape[0][0]']     \n",
      "                                                                                                  \n",
      " block7a_se_expand (Conv2D)     (None, 1, 1, 1152)   56448       ['block7a_se_reduce[0][0]']      \n",
      "                                                                                                  \n",
      " block7a_se_excite (Multiply)   (None, None, None,   0           ['block7a_activation[0][0]',     \n",
      "                                1152)                             'block7a_se_expand[0][0]']      \n",
      "                                                                                                  \n",
      " block7a_project_conv (Conv2D)  (None, None, None,   368640      ['block7a_se_excite[0][0]']      \n",
      "                                320)                                                              \n",
      "                                                                                                  \n",
      " block7a_project_bn (BatchNorma  (None, None, None,   1280       ['block7a_project_conv[0][0]']   \n",
      " lization)                      320)                                                              \n",
      "                                                                                                  \n",
      " top_conv (Conv2D)              (None, None, None,   409600      ['block7a_project_bn[0][0]']     \n",
      "                                1280)                                                             \n",
      "                                                                                                  \n",
      " top_bn (BatchNormalization)    (None, None, None,   5120        ['top_conv[0][0]']               \n"
     ]
    },
    {
     "name": "stdout",
     "output_type": "stream",
     "text": [
      "                                1280)                                                             \n",
      "                                                                                                  \n",
      " top_activation (Activation)    (None, None, None,   0           ['top_bn[0][0]']                 \n",
      "                                1280)                                                             \n",
      "                                                                                                  \n",
      "==================================================================================================\n",
      "Total params: 4,049,571\n",
      "Trainable params: 0\n",
      "Non-trainable params: 4,049,571\n",
      "__________________________________________________________________________________________________\n"
     ]
    }
   ],
   "source": [
    "# How about we get a summary of the base model?\n",
    "\n",
    "base_model.summary()"
   ]
  },
  {
   "cell_type": "code",
   "execution_count": 17,
   "id": "7b4d57d3",
   "metadata": {},
   "outputs": [
    {
     "name": "stdout",
     "output_type": "stream",
     "text": [
      "Model: \"model\"\n",
      "_________________________________________________________________\n",
      " Layer (type)                Output Shape              Param #   \n",
      "=================================================================\n",
      " input_layer (InputLayer)    [(None, 224, 224, 3)]     0         \n",
      "                                                                 \n",
      " efficientnetb0 (Functional)  (None, None, None, 1280)  4049571  \n",
      "                                                                 \n",
      " global_average_pooling_laye  (None, 1280)             0         \n",
      " r (GlobalAveragePooling2D)                                      \n",
      "                                                                 \n",
      " output_layer (Dense)        (None, 10)                12810     \n",
      "                                                                 \n",
      "=================================================================\n",
      "Total params: 4,062,381\n",
      "Trainable params: 12,810\n",
      "Non-trainable params: 4,049,571\n",
      "_________________________________________________________________\n"
     ]
    }
   ],
   "source": [
    "# How about a summary of our whole model?\n",
    "model_0.summary()"
   ]
  },
  {
   "cell_type": "code",
   "execution_count": 18,
   "id": "d4606727",
   "metadata": {},
   "outputs": [
    {
     "data": {
      "image/png": "[encoded data removed]",
      "text/plain": [
       "<Figure size 432x288 with 1 Axes>"
      ]
     },
     "metadata": {
      "needs_background": "light"
     },
     "output_type": "display_data"
    },
    {
     "data": {
      "image/png": "[encoded data removed]",
      "text/plain": [
       "<Figure size 432x288 with 1 Axes>"
      ]
     },
     "metadata": {
      "needs_background": "light"
     },
     "output_type": "display_data"
    }
   ],
   "source": [
    "# Check out our model's training curves\n",
    "plot_loss_curves(history_10_percent)"
   ]
  },
  {
   "cell_type": "markdown",
   "id": "d972fa9e",
   "metadata": {},
   "source": [
    "## Getting a feature vector from a trained model\n",
    "\n",
    "Let's demonstrate the Global Average Pooling 2D layer...\n",
    "\n",
    "We have a tensor after our model goes through `base_model` of shape (None, 7, 7, 1280).\n",
    "\n",
    "But then it passes through GlobalAveragePooling2D, it turns into (None, 1280).\n",
    "\n",
    "Let's use a similar shaped tensor of (1,4,4,3) and pass it to GlobalAveragePooling2D."
   ]
  },
  {
   "cell_type": "code",
   "execution_count": 19,
   "id": "a7c9c051",
   "metadata": {},
   "outputs": [
    {
     "name": "stdout",
     "output_type": "stream",
     "text": [
      "Random input tensor: \n",
      "[[[[ 0.3274685  -0.8426258   0.3194337 ]\n",
      "   [-1.4075519  -2.3880599  -1.0392479 ]\n",
      "   [-0.5573232   0.539707    1.6994323 ]\n",
      "   [ 0.28893656 -1.5066116  -0.2645474 ]]\n",
      "\n",
      "  [[-0.59722406 -1.9171132  -0.62044144]\n",
      "   [ 0.8504023  -0.40604794 -3.0258412 ]\n",
      "   [ 0.9058464   0.29855987 -0.22561555]\n",
      "   [-0.7616443  -1.8917141  -0.93847126]]\n",
      "\n",
      "  [[ 0.77852213 -0.47338897  0.97772694]\n",
      "   [ 0.24694404  0.20573747 -0.5256233 ]\n",
      "   [ 0.32410017  0.02545409 -0.10638497]\n",
      "   [-0.6369475   1.1603122   0.2507359 ]]\n",
      "\n",
      "  [[-0.41728503  0.4012578  -1.4145443 ]\n",
      "   [-0.5931857  -1.6617213   0.33567193]\n",
      "   [ 0.10815629  0.23479682 -0.56668764]\n",
      "   [-0.35819843  0.88698614  0.52744764]]]]\n",
      "\n",
      "2D global average pooled random tensor:\n",
      " [[-0.09368646 -0.45840448 -0.2885598 ]]\n",
      "\n",
      "Shape of input tensor: (1, 4, 4, 3)\n",
      "Shape of Global average Pooled 2D tensor: (1, 3)\n"
     ]
    }
   ],
   "source": [
    "# Define the input shape\n",
    "input_shape = (1,4,4,3)\n",
    "\n",
    "# Create a random tensor\n",
    "tf.random.set_seed(42)\n",
    "input_tensor = tf.random.normal(input_shape)\n",
    "print(f\"Random input tensor: \\n{input_tensor}\\n\")\n",
    "\n",
    "# Pass the random tensor through a global average pooling 2D layer\n",
    "global_average_pooled_tensor = tf.keras.layers.GlobalAveragePooling2D()(input_tensor)\n",
    "print(f\"2D global average pooled random tensor:\\n {global_average_pooled_tensor}\\n\")\n",
    "\n",
    "# Check the shape of the fidderent tensors\n",
    "print(f\"Shape of input tensor: {input_tensor.shape}\")\n",
    "print(f\"Shape of Global average Pooled 2D tensor: {global_average_pooled_tensor.shape}\")"
   ]
  },
  {
   "cell_type": "code",
   "execution_count": 20,
   "id": "66fa0764",
   "metadata": {},
   "outputs": [
    {
     "data": {
      "text/plain": [
       "<tf.Tensor: shape=(1, 3), dtype=float32, numpy=array([[-0.09368646, -0.45840448, -0.2885598 ]], dtype=float32)>"
      ]
     },
     "execution_count": 20,
     "metadata": {},
     "output_type": "execute_result"
    }
   ],
   "source": [
    "# Let's replicate the GlobalAveragePool2D layer\n",
    "tf.reduce_mean(input_tensor, axis=[1,2])"
   ]
  },
  {
   "cell_type": "code",
   "execution_count": 21,
   "id": "8b8ea693",
   "metadata": {},
   "outputs": [
    {
     "name": "stdout",
     "output_type": "stream",
     "text": [
      "2D global max pooled random tensor: \n",
      "[[0.9058464 1.1603122 1.6994323]]\n",
      "\n",
      "Shape of global max pooled tensor: \n",
      " (1, 3)\n",
      "\n"
     ]
    }
   ],
   "source": [
    "# GlobalMaxPool2D\n",
    "global_max_pooled_tensor = tf.keras.layers.GlobalMaxPool2D()(input_tensor)\n",
    "print(f\"2D global max pooled random tensor: \\n{global_max_pooled_tensor}\\n\")\n",
    "print(f\"Shape of global max pooled tensor: \\n {global_max_pooled_tensor.shape}\\n\")"
   ]
  },
  {
   "cell_type": "code",
   "execution_count": 22,
   "id": "66e07cc3",
   "metadata": {},
   "outputs": [
    {
     "data": {
      "text/plain": [
       "<tf.Tensor: shape=(1, 3), dtype=float32, numpy=array([[0.9058464, 1.1603122, 1.6994323]], dtype=float32)>"
      ]
     },
     "execution_count": 22,
     "metadata": {},
     "output_type": "execute_result"
    }
   ],
   "source": [
    "tf.reduce_max(input_tensor, axis=[1,2])"
   ]
  },
  {
   "cell_type": "markdown",
   "id": "ce13a1f9",
   "metadata": {},
   "source": [
    "> 🔑 **Note:** One of the reasons feature extraction transfer learning is named how it is is because what often happens is pretrained model outputs a feature vector (a long tensor of numbers which represents the learned representation of the model on a particular sample, in our case, this is the output of the `tf.keras.layers.GlobalAveragePooling2D()` layer) which can then be used to extract patterns out of for our own specifc problem."
   ]
  },
  {
   "cell_type": "markdown",
   "id": "6e7693ec",
   "metadata": {},
   "source": [
    "## Running a series of transfer learning erxperiments\n",
    "\n",
    "We've seen the incredible results transfer learning can get with only 10% of the training data, but how does it go with 1% of the training data... how about we set up a bunch of experiments to find out:\n",
    "\n",
    "1. `model_1` - use feature extraction transfer learning with 1% of the training data with data augmentation\n",
    "2. `model_2` - use feature extraction transfer learning with 10% of the training data with data augmentation\n",
    "3. `model_3` - use fine-tuning transfer learning on 10% of the training data with data augmentation\n",
    "4. `model_4` - use fine-tuning transfer learning on 100% of the training data with data augmentation\n",
    "\n",
    "> 🔑 **Note:** throughout all experiments the same test dataset will be used to evaluate our model... this ensures consistency across evaluation metrics."
   ]
  },
  {
   "cell_type": "markdown",
   "id": "8c924d46",
   "metadata": {},
   "source": [
    "### Getting and preprocessing data for model_1"
   ]
  },
  {
   "cell_type": "code",
   "execution_count": 38,
   "id": "7e91f2e9",
   "metadata": {},
   "outputs": [
    {
     "name": "stdout",
     "output_type": "stream",
     "text": [
      "--2022-07-17 10:44:31--  https://storage.googleapis.com/ztm_tf_course/food_vision/10_food_classes_1_percent.zip\n",
      "Resolving storage.googleapis.com (storage.googleapis.com)... 172.217.16.176, 142.251.36.240, 142.251.36.176, ...\n",
      "Connecting to storage.googleapis.com (storage.googleapis.com)|172.217.16.176|:443... connected.\n",
      "HTTP request sent, awaiting response... 200 OK\n",
      "Length: 133612354 (127M) [application/zip]\n",
      "Saving to: ‘10_food_classes_1_percent.zip’\n",
      "\n",
      "10_food_classes_1_p 100%[===================>] 127.42M  6.25MB/s    in 21s     \n",
      "\n",
      "2022-07-17 10:44:52 (6.15 MB/s) - ‘10_food_classes_1_percent.zip’ saved [133612354/133612354]\n",
      "\n",
      "mv: cannot move '10_food_classes_1_percent.zip' to '/data': Permission denied\n",
      "mv: cannot move '10_food_classes_1_percent' to '/data': Permission denied\n"
     ]
    }
   ],
   "source": [
    "# Download and unzip data - preprocessed from Food101\n",
    "!wget https://storage.googleapis.com/ztm_tf_course/food_vision/10_food_classes_1_percent.zip\n",
    "    \n",
    "unzip_data(\"10_food_classes_1_percent.zip\")"
   ]
  },
  {
   "cell_type": "code",
   "execution_count": 23,
   "id": "826c6754",
   "metadata": {},
   "outputs": [],
   "source": [
    "# Create training and test dirs\n",
    "train_dir_1_percent = \"data/10_food_classes_1_percent/train\"\n",
    "test_dir_1_percent = \"data/10_food_classes_1_percent/test\""
   ]
  },
  {
   "cell_type": "code",
   "execution_count": 24,
   "id": "bc4c5737",
   "metadata": {},
   "outputs": [
    {
     "name": "stdout",
     "output_type": "stream",
     "text": [
      "There are 2 directories and 0 images in 'data/10_food_classes_1_percent'.\n",
      "There are 10 directories and 0 images in 'data/10_food_classes_1_percent/test'.\n",
      "There are 0 directories and 250 images in 'data/10_food_classes_1_percent/test/hamburger'.\n",
      "There are 0 directories and 250 images in 'data/10_food_classes_1_percent/test/chicken_wings'.\n",
      "There are 0 directories and 250 images in 'data/10_food_classes_1_percent/test/fried_rice'.\n",
      "There are 0 directories and 250 images in 'data/10_food_classes_1_percent/test/sushi'.\n",
      "There are 0 directories and 250 images in 'data/10_food_classes_1_percent/test/grilled_salmon'.\n",
      "There are 0 directories and 250 images in 'data/10_food_classes_1_percent/test/pizza'.\n",
      "There are 0 directories and 250 images in 'data/10_food_classes_1_percent/test/ice_cream'.\n",
      "There are 0 directories and 250 images in 'data/10_food_classes_1_percent/test/steak'.\n",
      "There are 0 directories and 250 images in 'data/10_food_classes_1_percent/test/ramen'.\n",
      "There are 0 directories and 250 images in 'data/10_food_classes_1_percent/test/chicken_curry'.\n",
      "There are 10 directories and 0 images in 'data/10_food_classes_1_percent/train'.\n",
      "There are 0 directories and 7 images in 'data/10_food_classes_1_percent/train/hamburger'.\n",
      "There are 0 directories and 7 images in 'data/10_food_classes_1_percent/train/chicken_wings'.\n",
      "There are 0 directories and 7 images in 'data/10_food_classes_1_percent/train/fried_rice'.\n",
      "There are 0 directories and 7 images in 'data/10_food_classes_1_percent/train/sushi'.\n",
      "There are 0 directories and 7 images in 'data/10_food_classes_1_percent/train/grilled_salmon'.\n",
      "There are 0 directories and 7 images in 'data/10_food_classes_1_percent/train/pizza'.\n",
      "There are 0 directories and 7 images in 'data/10_food_classes_1_percent/train/ice_cream'.\n",
      "There are 0 directories and 7 images in 'data/10_food_classes_1_percent/train/steak'.\n",
      "There are 0 directories and 7 images in 'data/10_food_classes_1_percent/train/ramen'.\n",
      "There are 0 directories and 7 images in 'data/10_food_classes_1_percent/train/chicken_curry'.\n"
     ]
    }
   ],
   "source": [
    "# How many images are we working with?\n",
    "walk_through_dir(\"data/10_food_classes_1_percent\")"
   ]
  },
  {
   "cell_type": "code",
   "execution_count": 25,
   "id": "d5060252",
   "metadata": {},
   "outputs": [
    {
     "name": "stdout",
     "output_type": "stream",
     "text": [
      "Found 70 files belonging to 10 classes.\n",
      "Found 2500 files belonging to 10 classes.\n"
     ]
    }
   ],
   "source": [
    "# Set up data loaders\n",
    "IMG_SIZE=(224,224)\n",
    "BATCH_SIZE=32\n",
    "train_data_1_percent = tf.keras.preprocessing.image_dataset_from_directory(train_dir_1_percent,\n",
    "                                                                          label_mode=\"categorical\",\n",
    "                                                                          image_size=IMG_SIZE,\n",
    "                                                                          batch_size=BATCH_SIZE) # default\n",
    "\n",
    "test_data_1_percent = tf.keras.preprocessing.image_dataset_from_directory(test_dir_1_percent,\n",
    "                                                                         label_mode=\"categorical\",\n",
    "                                                                         image_size=IMG_SIZE,\n",
    "                                                                         batch_size=BATCH_SIZE)"
   ]
  },
  {
   "cell_type": "markdown",
   "id": "90857286",
   "metadata": {},
   "source": [
    "## Adding data augmentation right into the model\n",
    "\n",
    "To add data augmentation right into our model, we can use the layers inside:\n",
    "\n",
    "* `tf.keras.layers.experimental.preprocessing()`\n",
    "\n",
    "We can see the benefits of doing this within the TensorFlow DAta augmentation documentation\n",
    "\n",
    "Off the top of our heads, after reading the docs, the benefits of using data augmentation inside the model are:\n",
    "\n",
    "* Preprocessing of images (augmenting them) happens on the GPU (much faster) rather than the CPU\n",
    "* Image data augmentation only happen during trainig, so we can still export our whole model and use it elsewhere."
   ]
  },
  {
   "cell_type": "code",
   "execution_count": 29,
   "id": "7c25ad7e",
   "metadata": {},
   "outputs": [],
   "source": [
    "import tensorflow as tf\n",
    "from tensorflow import keras\n",
    "from tensorflow.keras import layers\n",
    "from tensorflow.keras.layers.experimental import preprocessing\n",
    "\n",
    "# Create data augmentation stage with horizontal flipping, rotations, zooms, etc\n",
    "data_augmentation = keras.Sequential([\n",
    "    preprocessing.RandomFlip(\"horizontal\"),\n",
    "    preprocessing.RandomRotation(0.2),\n",
    "    preprocessing.RandomZoom(0.2),\n",
    "    preprocessing.RandomHeight(0.2),\n",
    "    preprocessing.RandomWidth(0.2),\n",
    "#    preprocessing.Rescaling(1./255) # Geep for model like ResNet50V2 but EfficientNet does not need it\n",
    "], name=\"data_augmentation\")"
   ]
  },
  {
   "cell_type": "markdown",
   "id": "8ed379f1",
   "metadata": {},
   "source": [
    "### Visualize our data augmentation layer (and see what happens to our data)"
   ]
  },
  {
   "cell_type": "code",
   "execution_count": 41,
   "id": "b0a64131",
   "metadata": {},
   "outputs": [
    {
     "data": {
      "text/plain": [
       "Text(0.5, 1.0, 'The augmented random image from class: chicken_wings')"
      ]
     },
     "execution_count": 41,
     "metadata": {},
     "output_type": "execute_result"
    },
    {
     "data": {
      "image/png": "[encoded data removed]",
      "text/plain": [
       "<Figure size 432x288 with 1 Axes>"
      ]
     },
     "metadata": {
      "needs_background": "light"
     },
     "output_type": "display_data"
    },
    {
     "data": {
      "image/png": "[encoded data removed]",
      "text/plain": [
       "<Figure size 432x288 with 1 Axes>"
      ]
     },
     "metadata": {
      "needs_background": "light"
     },
     "output_type": "display_data"
    }
   ],
   "source": [
    "# View a random image and compare it to its augmented version\n",
    "import matplotlib.pyplot as plt\n",
    "import matplotlib.image as mpimg\n",
    "import os\n",
    "import random\n",
    "\n",
    "target_class = random.choice(train_data_1_percent.class_names)\n",
    "target_dir = \"data/10_food_classes_1_percent/train/\" + target_class\n",
    "random_image = random.choice(os.listdir(target_dir))\n",
    "random_image_path = target_dir + \"/\" + random_image\n",
    "\n",
    "# Read and plot in the random image\n",
    "img = mpimg.imread(random_image_path)\n",
    "plt.title(f\"The original random image from class: {target_class}\")\n",
    "plt.axis(False)\n",
    "plt.imshow(img)\n",
    "\n",
    "# Now let's plot our augmented random image\n",
    "augmented_img = data_augmentation(tf.expand_dims(img, axis=0), training=True)\n",
    "plt.figure()\n",
    "plt.imshow(tf.squeeze(augmented_img)/255.)\n",
    "plt.axis(False)\n",
    "plt.title(f\"The augmented random image from class: {target_class}\")"
   ]
  },
  {
   "cell_type": "markdown",
   "id": "4b277cd1",
   "metadata": {},
   "source": [
    "## Model 1: Feature extraction transfer learning on 1% of the data with data augmentation"
   ]
  },
  {
   "cell_type": "code",
   "execution_count": 47,
   "id": "30a5f0e6",
   "metadata": {},
   "outputs": [
    {
     "name": "stdout",
     "output_type": "stream",
     "text": [
      "Saving TensorBoard log files to: transfer_learning/1_percent_data_aug/20220717-214142\n",
      "Epoch 1/5\n",
      "3/3 [==============================] - 9s 2s/step - loss: 2.3928 - accuracy: 0.1143 - val_loss: 2.2340 - val_accuracy: 0.1891\n",
      "Epoch 2/5\n",
      "3/3 [==============================] - 3s 2s/step - loss: 2.0828 - accuracy: 0.2857 - val_loss: 2.1193 - val_accuracy: 0.2438\n",
      "Epoch 3/5\n",
      "3/3 [==============================] - 4s 2s/step - loss: 1.9497 - accuracy: 0.4429 - val_loss: 2.0300 - val_accuracy: 0.3063\n",
      "Epoch 4/5\n",
      "3/3 [==============================] - 3s 2s/step - loss: 1.7799 - accuracy: 0.4857 - val_loss: 1.9431 - val_accuracy: 0.3313\n",
      "Epoch 5/5\n",
      "3/3 [==============================] - 3s 1s/step - loss: 1.6188 - accuracy: 0.6143 - val_loss: 1.8522 - val_accuracy: 0.3750\n"
     ]
    }
   ],
   "source": [
    "# Setup input shape and base model, freezing the base model layers\n",
    "input_shape = (224,224,3)\n",
    "base_model = tf.keras.applications.EfficientNetB0(include_top=False)\n",
    "base_model.trainable = False\n",
    "\n",
    "# Create input layer\n",
    "inputs = layers.Input(shape=input_shape, name=\"input_layer\")\n",
    "\n",
    "# Add in data augmentation Sequential model as layer\n",
    "x = data_augmentation(inputs, training=True)\n",
    "\n",
    "# Give base_model the inputs (after augmentation and don't train it)\n",
    "x = base_model(x, training=False)\n",
    "\n",
    "# Pool output features of the base model\n",
    "x = layers.GlobalAveragePooling2D(name=\"global_average_pooling_layer\")(x)\n",
    "\n",
    "# Put a dense layer on as the output\n",
    "outputs = layers.Dense(10, activation=\"softmax\", name=\"output_layer\")(x)\n",
    "\n",
    "# Make a model using the inputs and outputs\n",
    "model_1 = keras.Model(inputs, outputs)\n",
    "\n",
    "# Compile the model\n",
    "model_1.compile(loss=\"categorical_crossentropy\",\n",
    "               optimizer=tf.keras.optimizers.Adam(),\n",
    "               metrics=[\"accuracy\"])\n",
    "\n",
    "# Fit the model\n",
    "history_1_percent = model_1.fit(train_data_1_percent,\n",
    "                                epochs=5,\n",
    "                                steps_per_epoch=len(train_data_1_percent),\n",
    "                                validation_data=test_data_1_percent,\n",
    "                                validation_steps=(0.25*len(test_data_1_percent)),\n",
    "                                callbacks=[create_tensorboard_callback(dir_name=\"transfer_learning\",\n",
    "                                                                     experiment_name=\"1_percent_data_aug\")])"
   ]
  },
  {
   "cell_type": "code",
   "execution_count": 48,
   "id": "6765e1a4",
   "metadata": {},
   "outputs": [
    {
     "name": "stdout",
     "output_type": "stream",
     "text": [
      "Model: \"model_4\"\n",
      "_________________________________________________________________\n",
      " Layer (type)                Output Shape              Param #   \n",
      "=================================================================\n",
      " input_layer (InputLayer)    [(None, 224, 224, 3)]     0         \n",
      "                                                                 \n",
      " data_augmentation (Sequenti  (None, None, None, 3)    0         \n",
      " al)                                                             \n",
      "                                                                 \n",
      " efficientnetb0 (Functional)  (None, None, None, 1280)  4049571  \n",
      "                                                                 \n",
      " global_average_pooling_laye  (None, 1280)             0         \n",
      " r (GlobalAveragePooling2D)                                      \n",
      "                                                                 \n",
      " output_layer (Dense)        (None, 10)                12810     \n",
      "                                                                 \n",
      "=================================================================\n",
      "Total params: 4,062,381\n",
      "Trainable params: 12,810\n",
      "Non-trainable params: 4,049,571\n",
      "_________________________________________________________________\n"
     ]
    }
   ],
   "source": [
    "# Check out our model\n",
    "model_1.summary()"
   ]
  },
  {
   "cell_type": "code",
   "execution_count": 49,
   "id": "0a58a209",
   "metadata": {},
   "outputs": [
    {
     "name": "stdout",
     "output_type": "stream",
     "text": [
      "79/79 [==============================] - 10s 126ms/step - loss: 1.8184 - accuracy: 0.4316\n"
     ]
    },
    {
     "data": {
      "text/plain": [
       "[1.8184380531311035, 0.43160000443458557]"
      ]
     },
     "execution_count": 49,
     "metadata": {},
     "output_type": "execute_result"
    }
   ],
   "source": [
    "# Evaluate on the full test data\n",
    "model_1.evaluate(test_data_1_percent)"
   ]
  },
  {
   "cell_type": "code",
   "execution_count": 50,
   "id": "d32532ce",
   "metadata": {},
   "outputs": [
    {
     "data": {
      "image/png": "[encoded data removed]",
      "text/plain": [
       "<Figure size 432x288 with 1 Axes>"
      ]
     },
     "metadata": {
      "needs_background": "light"
     },
     "output_type": "display_data"
    },
    {
     "data": {
      "image/png": "[encoded data removed]",
      "text/plain": [
       "<Figure size 432x288 with 1 Axes>"
      ]
     },
     "metadata": {
      "needs_background": "light"
     },
     "output_type": "display_data"
    }
   ],
   "source": [
    "# How does the model with 1% of the data and data augmentation loss curves look like?\n",
    "plot_loss_curves(history_1_percent)"
   ]
  },
  {
   "cell_type": "markdown",
   "id": "4e4490f3",
   "metadata": {},
   "source": [
    "## Model 2: Feature extraction transfer learning on 10% of the data with data augmentation"
   ]
  },
  {
   "cell_type": "code",
   "execution_count": 51,
   "id": "8a78628d",
   "metadata": {},
   "outputs": [],
   "source": [
    "# Get 10% of training data of 10 classes of Food101\n",
    "#!wget https://storage.googleapis.com/ztm_tf_course/food_vision/10_food_classes_10_percent.zip\n",
    "#unzip_data(\"10_food_classes_10_precent.zip\")"
   ]
  },
  {
   "cell_type": "code",
   "execution_count": 52,
   "id": "c7abc3b9",
   "metadata": {},
   "outputs": [],
   "source": [
    "train_dir_10_percent = \"data/10_food_classes_10_percent/train\"\n",
    "test_dir = \"data/10_food_classes_10_percent/test\""
   ]
  },
  {
   "cell_type": "code",
   "execution_count": 56,
   "id": "818f28c1",
   "metadata": {},
   "outputs": [
    {
     "name": "stdout",
     "output_type": "stream",
     "text": [
      "There are 10 directories and 0 images in 'data/10_food_classes_10_percent/train'.\n",
      "There are 0 directories and 75 images in 'data/10_food_classes_10_percent/train/hamburger'.\n",
      "There are 0 directories and 75 images in 'data/10_food_classes_10_percent/train/chicken_wings'.\n",
      "There are 0 directories and 75 images in 'data/10_food_classes_10_percent/train/fried_rice'.\n",
      "There are 0 directories and 75 images in 'data/10_food_classes_10_percent/train/sushi'.\n",
      "There are 0 directories and 75 images in 'data/10_food_classes_10_percent/train/grilled_salmon'.\n",
      "There are 0 directories and 75 images in 'data/10_food_classes_10_percent/train/pizza'.\n",
      "There are 0 directories and 75 images in 'data/10_food_classes_10_percent/train/ice_cream'.\n",
      "There are 0 directories and 75 images in 'data/10_food_classes_10_percent/train/steak'.\n",
      "There are 0 directories and 75 images in 'data/10_food_classes_10_percent/train/ramen'.\n",
      "There are 0 directories and 75 images in 'data/10_food_classes_10_percent/train/chicken_curry'.\n"
     ]
    }
   ],
   "source": [
    "# How many images are in our directories\n",
    "walk_through_dir(train_dir_10_percent)"
   ]
  },
  {
   "cell_type": "code",
   "execution_count": 53,
   "id": "5f556f31",
   "metadata": {},
   "outputs": [],
   "source": [
    "import tensorflow as tf"
   ]
  },
  {
   "cell_type": "code",
   "execution_count": 54,
   "id": "4488da2d",
   "metadata": {},
   "outputs": [
    {
     "name": "stdout",
     "output_type": "stream",
     "text": [
      "Found 750 files belonging to 10 classes.\n",
      "Found 2500 files belonging to 10 classes.\n"
     ]
    }
   ],
   "source": [
    "# Set data inputs\n",
    "IMG_SIZE = (224,224)\n",
    "train_data_10_percent = tf.keras.preprocessing.image_dataset_from_directory(train_dir_10_percent,\n",
    "                                                                           label_mode=\"categorical\",\n",
    "                                                                           image_size=IMG_SIZE)\n",
    "\n",
    "test_data_10_percent = tf.keras.preprocessing.image_dataset_from_directory(test_dir,\n",
    "                                                                          label_mode=\"categorical\",\n",
    "                                                                          image_size=IMG_SIZE)"
   ]
  },
  {
   "cell_type": "code",
   "execution_count": 103,
   "id": "b5ee9d79",
   "metadata": {},
   "outputs": [],
   "source": [
    "# Create model 2 with data augmentation built in\n",
    "from tensorflow.keras import layers\n",
    "from tensorflow.keras.layers.experimental import preprocessing\n",
    "from tensorflow.keras.models import Sequential\n",
    "\n",
    "# Build data augmentation layer\n",
    "data_augmentation = Sequential([\n",
    "    preprocessing.RandomFlip(\"horizontal\"),\n",
    "    preprocessing.RandomHeight(0.2),\n",
    "    preprocessing.RandomWidth(0.2),\n",
    "    preprocessing.RandomZoom(0.2),\n",
    "    preprocessing.RandomRotation(0.2),\n",
    "#    preprocessing.Rescaling(1/255.) # if you're using a model such as ResNet \n",
    "], name=\"data_augmentation\")\n",
    "\n",
    "# Setup the input shape to our model\n",
    "input_shape = (224,224,3)\n",
    "\n",
    "# Create a frozen base model (also called the backbone)\n",
    "base_model = tf.keras.applications.EfficientNetB0(include_top=False)\n",
    "base_model.trainable = False\n",
    "\n",
    "# Create the inputs and outputs (including the layers in between)\n",
    "inputs = layers.Input(shape=input_shape, name=\"input_layer\")\n",
    "x = data_augmentation(inputs, training=True) # augment our training images (augmentation doesn't occur on test data)\n",
    "x = base_model(x, training=False) # pass augmented images to base model but keep it in inference mode, this also insures batchnorm layers don't get updated\n",
    "x = layers.GlobalAveragePooling2D(name=\"global_avarage_pooling_layer\")(x)\n",
    "outputs = layers.Dense(10, activation=\"softmax\", name=\"output_layer\")(x)\n",
    "model_2 = tf.keras.Model(inputs, outputs)\n",
    "\n",
    "# Compile model\n",
    "model_2.compile(loss=\"categorical_crossentropy\",\n",
    "               optimizer=tf.keras.optimizers.Adam(),\n",
    "               metrics=[\"accuracy\"])"
   ]
  },
  {
   "cell_type": "code",
   "execution_count": 104,
   "id": "ec69d203",
   "metadata": {},
   "outputs": [
    {
     "name": "stdout",
     "output_type": "stream",
     "text": [
      "Model: \"model_7\"\n",
      "_________________________________________________________________\n",
      " Layer (type)                Output Shape              Param #   \n",
      "=================================================================\n",
      " input_layer (InputLayer)    [(None, 224, 224, 3)]     0         \n",
      "                                                                 \n",
      " data_augmentation (Sequenti  (None, None, None, 3)    0         \n",
      " al)                                                             \n",
      "                                                                 \n",
      " efficientnetb0 (Functional)  (None, None, None, 1280)  4049571  \n",
      "                                                                 \n",
      " global_avarage_pooling_laye  (None, 1280)             0         \n",
      " r (GlobalAveragePooling2D)                                      \n",
      "                                                                 \n",
      " output_layer (Dense)        (None, 10)                12810     \n",
      "                                                                 \n",
      "=================================================================\n",
      "Total params: 4,062,381\n",
      "Trainable params: 12,810\n",
      "Non-trainable params: 4,049,571\n",
      "_________________________________________________________________\n"
     ]
    }
   ],
   "source": [
    "model_2.summary()"
   ]
  },
  {
   "cell_type": "markdown",
   "id": "41ea9d87",
   "metadata": {},
   "source": [
    "### Creating a ModelCheckpoint callback\n",
    "\n",
    "The ModelCheckpoint callback intermediately saves our model (the full model or just the weights) during training. This is useful so we can come and start where we left off."
   ]
  },
  {
   "cell_type": "code",
   "execution_count": 105,
   "id": "a9cac8d0",
   "metadata": {},
   "outputs": [],
   "source": [
    "# Set checkpoint path\n",
    "checkpoint_path = \"ten_percent_model_checkpoints_weights/checkpoints.ckpt\"\n",
    "\n",
    "# Create a ModelCheckpoint callback that saves the model's weights only\n",
    "checkpoint_callback = tf.keras.callbacks.ModelCheckpoint(filepath=checkpoint_path,\n",
    "                                                        save_weights_only=True,\n",
    "                                                        save_best_only=False,\n",
    "                                                        save_freq=\"epoch\",\n",
    "                                                        verbose=1) # save every epoch"
   ]
  },
  {
   "cell_type": "markdown",
   "id": "ca324f75",
   "metadata": {},
   "source": [
    "### Fit model 2 passing in the ModelCheckpoint callback"
   ]
  },
  {
   "cell_type": "code",
   "execution_count": 106,
   "id": "6d1f8b19",
   "metadata": {},
   "outputs": [
    {
     "name": "stdout",
     "output_type": "stream",
     "text": [
      "Saving TensorBoard log files to: transfer_learning/10_percent_data_aug/20220717-224851\n",
      "Epoch 1/5\n",
      "24/24 [==============================] - ETA: 0s - loss: 1.9314 - accuracy: 0.3853\n",
      "Epoch 1: saving model to ten_percent_model_checkpoints_weights/checkpoints.ckpt\n",
      "24/24 [==============================] - 12s 289ms/step - loss: 1.9314 - accuracy: 0.3853 - val_loss: 1.4769 - val_accuracy: 0.6844\n",
      "Epoch 2/5\n",
      "24/24 [==============================] - ETA: 0s - loss: 1.2638 - accuracy: 0.7213\n",
      "Epoch 2: saving model to ten_percent_model_checkpoints_weights/checkpoints.ckpt\n",
      "24/24 [==============================] - 5s 224ms/step - loss: 1.2638 - accuracy: 0.7213 - val_loss: 1.0799 - val_accuracy: 0.7484\n",
      "Epoch 3/5\n",
      "24/24 [==============================] - ETA: 0s - loss: 0.9639 - accuracy: 0.7747\n",
      "Epoch 3: saving model to ten_percent_model_checkpoints_weights/checkpoints.ckpt\n",
      "24/24 [==============================] - 6s 239ms/step - loss: 0.9639 - accuracy: 0.7747 - val_loss: 0.9208 - val_accuracy: 0.7484\n",
      "Epoch 4/5\n",
      "24/24 [==============================] - ETA: 0s - loss: 0.8116 - accuracy: 0.7973\n",
      "Epoch 4: saving model to ten_percent_model_checkpoints_weights/checkpoints.ckpt\n",
      "24/24 [==============================] - 6s 233ms/step - loss: 0.8116 - accuracy: 0.7973 - val_loss: 0.8297 - val_accuracy: 0.7828\n",
      "Epoch 5/5\n",
      "24/24 [==============================] - ETA: 0s - loss: 0.7107 - accuracy: 0.8400\n",
      "Epoch 5: saving model to ten_percent_model_checkpoints_weights/checkpoints.ckpt\n",
      "24/24 [==============================] - 5s 211ms/step - loss: 0.7107 - accuracy: 0.8400 - val_loss: 0.7326 - val_accuracy: 0.8031\n"
     ]
    }
   ],
   "source": [
    "# Fit the model saving checkpoints every epoch\n",
    "initial_epochs = 5\n",
    "history_10_percent_data_aug = model_2.fit(train_data_10_percent,\n",
    "                                          epochs=initial_epochs,\n",
    "                                          steps_per_epoch=len(train_data_10_percent),\n",
    "                                          validation_data=test_data,\n",
    "                                          validation_steps=(0.25 * len(test_data)),\n",
    "                                          callbacks=[create_tensorboard_callback(dir_name=\"transfer_learning\",\n",
    "                                                                                 experiment_name=\"10_percent_data_aug\"),\n",
    "                                                     checkpoint_callback])"
   ]
  },
  {
   "cell_type": "code",
   "execution_count": 107,
   "id": "91a58682",
   "metadata": {},
   "outputs": [
    {
     "name": "stdout",
     "output_type": "stream",
     "text": [
      "79/79 [==============================] - 6s 75ms/step - loss: 0.5537 - accuracy: 0.8624\n"
     ]
    },
    {
     "data": {
      "text/plain": [
       "[0.5537214875221252, 0.8623999953269958]"
      ]
     },
     "execution_count": 107,
     "metadata": {},
     "output_type": "execute_result"
    }
   ],
   "source": [
    "# What were model_0 results?\n",
    "model_0.evaluate(test_data)"
   ]
  },
  {
   "cell_type": "code",
   "execution_count": 108,
   "id": "ab717b75",
   "metadata": {},
   "outputs": [
    {
     "name": "stdout",
     "output_type": "stream",
     "text": [
      "79/79 [==============================] - 9s 111ms/step - loss: 0.7412 - accuracy: 0.8008\n"
     ]
    },
    {
     "data": {
      "text/plain": [
       "[0.7411983609199524, 0.8008000254631042]"
      ]
     },
     "execution_count": 108,
     "metadata": {},
     "output_type": "execute_result"
    }
   ],
   "source": [
    "# Check model_2 results on all test_data\n",
    "results_10_percent_data_aug = model_2.evaluate(test_data)\n",
    "results_10_percent_data_aug"
   ]
  },
  {
   "cell_type": "code",
   "execution_count": 109,
   "id": "8e9ab842",
   "metadata": {},
   "outputs": [
    {
     "data": {
      "image/png": "[encoded data removed]",
      "text/plain": [
       "<Figure size 432x288 with 1 Axes>"
      ]
     },
     "metadata": {
      "needs_background": "light"
     },
     "output_type": "display_data"
    },
    {
     "data": {
      "image/png": "[encoded data removed]",
      "text/plain": [
       "<Figure size 432x288 with 1 Axes>"
      ]
     },
     "metadata": {
      "needs_background": "light"
     },
     "output_type": "display_data"
    }
   ],
   "source": [
    "# Plot model loss curves\n",
    "plot_loss_curves(history_10_percent_data_aug)"
   ]
  },
  {
   "cell_type": "markdown",
   "id": "3bab7064",
   "metadata": {},
   "source": [
    "### Loading in checkpointed weights\n",
    "\n",
    "Loading in checkpointed weights returns a model to a specdific checkpoint"
   ]
  },
  {
   "cell_type": "code",
   "execution_count": 110,
   "id": "c0efc5d7",
   "metadata": {},
   "outputs": [
    {
     "data": {
      "text/plain": [
       "<tensorflow.python.training.tracking.util.CheckpointLoadStatus at 0x7f1f6ffd9e20>"
      ]
     },
     "execution_count": 110,
     "metadata": {},
     "output_type": "execute_result"
    }
   ],
   "source": [
    "# Load in saved model weights and evaluate model\n",
    "model_2.load_weights(checkpoint_path)"
   ]
  },
  {
   "cell_type": "code",
   "execution_count": 111,
   "id": "71f3fca3",
   "metadata": {},
   "outputs": [
    {
     "name": "stdout",
     "output_type": "stream",
     "text": [
      "79/79 [==============================] - 10s 125ms/step - loss: 0.7485 - accuracy: 0.8004\n"
     ]
    }
   ],
   "source": [
    "# Evaluate model_2 with loaded weights\n",
    "loaded_weights_model_results = model_2.evaluate(test_data)"
   ]
  },
  {
   "cell_type": "code",
   "execution_count": 112,
   "id": "e4691a7a",
   "metadata": {},
   "outputs": [
    {
     "data": {
      "text/plain": [
       "False"
      ]
     },
     "execution_count": 112,
     "metadata": {},
     "output_type": "execute_result"
    }
   ],
   "source": [
    "# If the resutls from our previously evaluated model_2 match the loaded weights, everything has worked!\n",
    "results_10_percent_data_aug == loaded_weights_model_results"
   ]
  },
  {
   "cell_type": "code",
   "execution_count": 113,
   "id": "ef9095d2",
   "metadata": {},
   "outputs": [
    {
     "data": {
      "text/plain": [
       "[0.7411983609199524, 0.8008000254631042]"
      ]
     },
     "execution_count": 113,
     "metadata": {},
     "output_type": "execute_result"
    }
   ],
   "source": [
    "results_10_percent_data_aug"
   ]
  },
  {
   "cell_type": "code",
   "execution_count": 114,
   "id": "9ebe6125",
   "metadata": {},
   "outputs": [
    {
     "data": {
      "text/plain": [
       "[0.7485080361366272, 0.8004000186920166]"
      ]
     },
     "execution_count": 114,
     "metadata": {},
     "output_type": "execute_result"
    }
   ],
   "source": [
    "loaded_weights_model_results"
   ]
  },
  {
   "cell_type": "code",
   "execution_count": 115,
   "id": "4ff7e6b6",
   "metadata": {},
   "outputs": [
    {
     "data": {
      "text/plain": [
       "array([False, False])"
      ]
     },
     "execution_count": 115,
     "metadata": {},
     "output_type": "execute_result"
    }
   ],
   "source": [
    "# Check to see if loaded model results are very close to our previous non-loaded model results\n",
    "import numpy as np\n",
    "np.isclose(np.array(results_10_percent_data_aug), np.array(loaded_weights_model_results))"
   ]
  },
  {
   "cell_type": "code",
   "execution_count": 116,
   "id": "1b39db98",
   "metadata": {},
   "outputs": [
    {
     "name": "stdout",
     "output_type": "stream",
     "text": [
      "[-0.00730968  0.00040001]\n"
     ]
    }
   ],
   "source": [
    "# Check the difference between the two results\n",
    "print(np.array(results_10_percent_data_aug) - np.array(loaded_weights_model_results))"
   ]
  },
  {
   "cell_type": "code",
   "execution_count": null,
   "id": "57c7a867",
   "metadata": {},
   "outputs": [],
   "source": []
  }
 ],
 "metadata": {
  "kernelspec": {
   "display_name": "Python 3 (ipykernel)",
   "language": "python",
   "name": "python3"
  },
  "language_info": {
   "codemirror_mode": {
    "name": "ipython",
    "version": 3
   },
   "file_extension": ".py",
   "mimetype": "text/x-python",
   "name": "python",
   "nbconvert_exporter": "python",
   "pygments_lexer": "ipython3",
   "version": "3.8.13"
  }
 },
 "nbformat": 4,
 "nbformat_minor": 5
}

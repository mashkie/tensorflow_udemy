{
 "cells": [
  {
   "cell_type": "markdown",
   "metadata": {
    "id": "QLTA_u0UnLuQ",
    "pycharm": {
     "name": "#%% md\n"
    }
   },
   "source": [
    "# Transfer Learning with TensorFlow Part 1: Feature Extraction\n",
    "\n",
    "Transfer learning is leveraging a working model's existing architecture and learned patterns for our own problem.\n",
    "\n",
    "\n",
    "There are two main benefits:\n",
    "1. Can leverage an existing neural network architecture proven to work on problems similar to our own.\n",
    "2. Can leverage a working neural network architecture which has already learned patterns on similar data to our own, then we can adapt those patterns to our own data"
   ]
  },
  {
   "cell_type": "code",
   "execution_count": 1,
   "metadata": {
    "pycharm": {
     "name": "#%%\n"
    }
   },
   "outputs": [
    {
     "name": "stdout",
     "output_type": "stream",
     "text": [
      "2.9.1\n"
     ]
    }
   ],
   "source": [
    "import tensorflow as tf\n",
    "\n",
    "print(tf.__version__)"
   ]
  },
  {
   "cell_type": "code",
   "execution_count": 2,
   "metadata": {
    "colab": {
     "base_uri": "https://localhost:8080/"
    },
    "id": "Itcmz3ZV5PZ7",
    "outputId": "b18c2017-f0cd-44dd-b4b7-f34b22e40cce",
    "pycharm": {
     "name": "#%%\n"
    }
   },
   "outputs": [
    {
     "name": "stdout",
     "output_type": "stream",
     "text": [
      "Sat Jul 16 14:00:31 2022       \r\n",
      "+-----------------------------------------------------------------------------+\r\n",
      "| NVIDIA-SMI 515.48.07    Driver Version: 515.48.07    CUDA Version: 11.7     |\r\n",
      "|-------------------------------+----------------------+----------------------+\r\n",
      "| GPU  Name        Persistence-M| Bus-Id        Disp.A | Volatile Uncorr. ECC |\r\n",
      "| Fan  Temp  Perf  Pwr:Usage/Cap|         Memory-Usage | GPU-Util  Compute M. |\r\n",
      "|                               |                      |               MIG M. |\r\n",
      "|===============================+======================+======================|\r\n",
      "|   0  NVIDIA GeForce ...  Off  | 00000000:01:00.0  On |                  N/A |\r\n",
      "|  0%   59C    P2    46W / 240W |   2150MiB /  8192MiB |     10%      Default |\r\n",
      "|                               |                      |                  N/A |\r\n",
      "+-------------------------------+----------------------+----------------------+\r\n",
      "                                                                               \r\n",
      "+-----------------------------------------------------------------------------+\r\n",
      "| Processes:                                                                  |\r\n",
      "|  GPU   GI   CI        PID   Type   Process name                  GPU Memory |\r\n",
      "|        ID   ID                                                   Usage      |\r\n",
      "|=============================================================================|\r\n",
      "|    0   N/A  N/A      2091      G   /usr/lib/xorg/Xorg               1311MiB |\r\n",
      "|    0   N/A  N/A      2219      G   /usr/bin/gnome-shell              190MiB |\r\n",
      "|    0   N/A  N/A     34619      G   ...AAAAAAAAA= --shared-files       24MiB |\r\n",
      "|    0   N/A  N/A     34647      G   ...in,WebAssemblyTrapHandler      436MiB |\r\n",
      "|    0   N/A  N/A     35395      G   ...332652475665283810,131072       48MiB |\r\n",
      "+-----------------------------------------------------------------------------+\r\n"
     ]
    }
   ],
   "source": [
    "# Are we using a GPU?\n",
    "!nvidia-smi"
   ]
  },
  {
   "cell_type": "markdown",
   "metadata": {
    "id": "O3nOxaFf5eRH",
    "pycharm": {
     "name": "#%% md\n"
    }
   },
   "source": [
    "## Downloading and becoming one with the data"
   ]
  },
  {
   "cell_type": "code",
   "execution_count": 3,
   "metadata": {
    "colab": {
     "base_uri": "https://localhost:8080/"
    },
    "id": "6MWRV5fp_QS2",
    "outputId": "694d4480-7c86-4d01-fbcf-3284a3585a9e",
    "pycharm": {
     "name": "#%%\n"
    }
   },
   "outputs": [
    {
     "name": "stdout",
     "output_type": "stream",
     "text": [
      "--2022-07-16 14:00:33--  https://storage.googleapis.com/ztm_tf_course/food_vision/10_food_classes_10_percent.zip\n",
      "Resolving storage.googleapis.com (storage.googleapis.com)... 172.217.16.176, 142.251.36.240, 142.251.36.176, ...\n",
      "Connecting to storage.googleapis.com (storage.googleapis.com)|172.217.16.176|:443... connected.\n",
      "HTTP request sent, awaiting response... 200 OK\n",
      "Length: 168546183 (161M) [application/zip]\n",
      "Saving to: ‘10_food_classes_10_percent.zip.1’\n",
      "\n",
      "10_food_classes_10_ 100%[===================>] 160.74M  5.39MB/s    in 27s     \n",
      "\n",
      "2022-07-16 14:01:01 (5.96 MB/s) - ‘10_food_classes_10_percent.zip.1’ saved [168546183/168546183]\n",
      "\n"
     ]
    }
   ],
   "source": [
    "# Get data (10% of 10 food classes from Food101)\n",
    "import zipfile\n",
    "\n",
    "# Download the data\n",
    "!wget https://storage.googleapis.com/ztm_tf_course/food_vision/10_food_classes_10_percent.zip\n",
    "\n",
    "# Unzip the downloaded file\n",
    "zip_ref = zipfile.ZipFile(\"10_food_classes_10_percent.zip\")\n",
    "zip_ref.extractall()\n",
    "zip_ref.close()"
   ]
  },
  {
   "cell_type": "code",
   "execution_count": 4,
   "metadata": {
    "colab": {
     "base_uri": "https://localhost:8080/"
    },
    "id": "G0B283D9_sIi",
    "outputId": "c1a7dba7-f890-4ae3-91cb-d000db392aaf",
    "pycharm": {
     "name": "#%%\n"
    }
   },
   "outputs": [
    {
     "name": "stdout",
     "output_type": "stream",
     "text": [
      "There are 2 directories and 0 images in '10_food_classes_10_percent'.\n",
      "There are 10 directories and 0 images in '10_food_classes_10_percent/test'.\n",
      "There are 0 directories and 250 images in '10_food_classes_10_percent/test/hamburger'.\n",
      "There are 0 directories and 250 images in '10_food_classes_10_percent/test/chicken_wings'.\n",
      "There are 0 directories and 250 images in '10_food_classes_10_percent/test/fried_rice'.\n",
      "There are 0 directories and 250 images in '10_food_classes_10_percent/test/sushi'.\n",
      "There are 0 directories and 250 images in '10_food_classes_10_percent/test/grilled_salmon'.\n",
      "There are 0 directories and 250 images in '10_food_classes_10_percent/test/pizza'.\n",
      "There are 0 directories and 250 images in '10_food_classes_10_percent/test/ice_cream'.\n",
      "There are 0 directories and 250 images in '10_food_classes_10_percent/test/steak'.\n",
      "There are 0 directories and 250 images in '10_food_classes_10_percent/test/ramen'.\n",
      "There are 0 directories and 250 images in '10_food_classes_10_percent/test/chicken_curry'.\n",
      "There are 10 directories and 0 images in '10_food_classes_10_percent/train'.\n",
      "There are 0 directories and 75 images in '10_food_classes_10_percent/train/hamburger'.\n",
      "There are 0 directories and 75 images in '10_food_classes_10_percent/train/chicken_wings'.\n",
      "There are 0 directories and 75 images in '10_food_classes_10_percent/train/fried_rice'.\n",
      "There are 0 directories and 75 images in '10_food_classes_10_percent/train/sushi'.\n",
      "There are 0 directories and 75 images in '10_food_classes_10_percent/train/grilled_salmon'.\n",
      "There are 0 directories and 75 images in '10_food_classes_10_percent/train/pizza'.\n",
      "There are 0 directories and 75 images in '10_food_classes_10_percent/train/ice_cream'.\n",
      "There are 0 directories and 75 images in '10_food_classes_10_percent/train/steak'.\n",
      "There are 0 directories and 75 images in '10_food_classes_10_percent/train/ramen'.\n",
      "There are 0 directories and 75 images in '10_food_classes_10_percent/train/chicken_curry'.\n"
     ]
    }
   ],
   "source": [
    "# How many images in each folder?\n",
    "import os\n",
    "\n",
    "# Walk through 10 percent data directory and list number of files\n",
    "for dirpath, dirnames, filenames in os.walk(\"10_food_classes_10_percent\"):\n",
    "  print(f\"There are {len(dirnames)} directories and {len(filenames)} images in '{dirpath}'.\")"
   ]
  },
  {
   "cell_type": "markdown",
   "metadata": {
    "id": "VCZT-QqTATB4",
    "pycharm": {
     "name": "#%% md\n"
    }
   },
   "source": [
    "## Creating data loader (preparing the data)\n",
    "\n",
    "We'll use the `ImageDataGenerator` class to load in ourimages in batches."
   ]
  },
  {
   "cell_type": "code",
   "execution_count": 5,
   "metadata": {
    "colab": {
     "base_uri": "https://localhost:8080/"
    },
    "id": "vjtdxKGGA4j8",
    "outputId": "57079b9a-0685-4cab-b544-2a8cc07f4940",
    "pycharm": {
     "name": "#%%\n"
    }
   },
   "outputs": [
    {
     "name": "stdout",
     "output_type": "stream",
     "text": [
      "Training images:\n",
      "Found 750 images belonging to 10 classes.\n",
      "Testing images:\n",
      "Found 2500 images belonging to 10 classes.\n"
     ]
    }
   ],
   "source": [
    "# Setup data inputs\n",
    "from tensorflow.keras.preprocessing.image import ImageDataGenerator\n",
    "\n",
    "IMAGE_SHAPE = (224,224)\n",
    "BATCH_SIZE = 32\n",
    "\n",
    "train_dir = \"10_food_classes_10_percent/train/\"\n",
    "test_dir = \"10_food_classes_10_percent/test/\"\n",
    "\n",
    "train_datagen = ImageDataGenerator(rescale=1/255.)\n",
    "test_datagen = ImageDataGenerator(rescale=1/255.)\n",
    "\n",
    "print(\"Training images:\")\n",
    "train_data_10_percent  =train_datagen.flow_from_directory(train_dir,\n",
    "                                                          target_size=IMAGE_SHAPE,\n",
    "                                                          batch_size=BATCH_SIZE,\n",
    "                                                          class_mode=\"categorical\")\n",
    "\n",
    "print(\"Testing images:\")\n",
    "test_data = test_datagen.flow_from_directory(test_dir,\n",
    "                                             target_size=IMAGE_SHAPE,\n",
    "                                             batch_size=BATCH_SIZE,\n",
    "                                             class_mode=\"categorical\")"
   ]
  },
  {
   "cell_type": "markdown",
   "metadata": {
    "id": "z8vbwrcSBxUH",
    "pycharm": {
     "name": "#%% md\n"
    }
   },
   "source": [
    "## Setting up callbacks (things to run whilst our model trains)\n",
    "\n",
    "Callbacks are extra functionality you can add to your models to be performed during or after training. Some of the most popular callbacks:\n",
    "\n",
    "* Tracking experiments with the TensorBoard callback\n",
    "* Model checkpoint with the ModelCheckpoint callback\n",
    "* Stopping a model from training (before it trains too long and overfits) with the Early Stopping callback"
   ]
  },
  {
   "cell_type": "code",
   "execution_count": 6,
   "metadata": {
    "id": "SIfi4LZiCRYU",
    "pycharm": {
     "name": "#%%\n"
    }
   },
   "outputs": [],
   "source": [
    "# Create TensorBoard callback (functionized because we need to create a new one for each model)\n",
    "import datetime\n",
    "\n",
    "def create_tensorboard_callback(dir_name, experiment_name):\n",
    "  log_dir = dir_name + \"/\" + experiment_name + \"/\" + datetime.datetime.now().strftime(\"%Y%m%d-%H%M%S\")\n",
    "  tensorboard_callback = tf.keras.callbacks.TensorBoard(log_dir=log_dir)\n",
    "  print(f\"Saving TensorBoard log files to: {log_dir}\")\n",
    "  return tensorboard_callback"
   ]
  },
  {
   "cell_type": "markdown",
   "metadata": {
    "id": "4Gd5cuSuEmcU",
    "pycharm": {
     "name": "#%% md\n"
    }
   },
   "source": [
    "## Creating models using TensorFlow Hub\n",
    "\n",
    "In the past we used TensorFlow to create our own models layer by layer from scratch.\n",
    "\n",
    "Now we're going to do a similar process, except the majority of our model's layers are going to come from TensorFlow Hub.\n",
    "\n",
    "We can access pretrained models on: https://tfhub.dev/\n",
    "\n",
    "Browsing the TensorFlow Hub page and sorting for image classification, we found the following feature vector model link: https://tfhub.dev/tensorflow/efficientnet/b0/feature-vector/1"
   ]
  },
  {
   "cell_type": "code",
   "execution_count": 7,
   "metadata": {
    "id": "4PfmZhlfE4dh",
    "pycharm": {
     "name": "#%%\n"
    }
   },
   "outputs": [],
   "source": [
    "# Let's compare the following two models\n",
    "resnet_url = \"https://tfhub.dev/google/imagenet/resnet_v2_50/feature_vector/4\"\n",
    "\n",
    "efficientnet_url = \"https://tfhub.dev/tensorflow/efficientnet/b0/feature-vector/1\""
   ]
  },
  {
   "cell_type": "code",
   "execution_count": 8,
   "metadata": {
    "id": "orKgSqdGMwQw",
    "pycharm": {
     "name": "#%%\n"
    }
   },
   "outputs": [],
   "source": [
    "# Import dependencies\n",
    "import tensorflow as tf\n",
    "import tensorflow_hub as hub\n",
    "from tensorflow.keras import layers"
   ]
  },
  {
   "cell_type": "code",
   "execution_count": 9,
   "metadata": {
    "id": "NmBIYkfzjWRv",
    "pycharm": {
     "name": "#%%\n"
    }
   },
   "outputs": [],
   "source": [
    "# Let's make a create_model() function to create a model from a URL\n",
    "def create_model(model_url, num_classes=10):\n",
    "  \"\"\"\n",
    "  Takes a TensorFlow Hub URL and creates a Keras Sequential model with it.\n",
    "\n",
    "  Args:\n",
    "    model_url (str): A TensorFlow Hub feature extraction URL.\n",
    "    num_calsses (int): Number of output neurons in the output layers,\n",
    "      should be ewual to number of target classes, default 10.\n",
    "\n",
    "  Returns:\n",
    "    An uncompile Keras SEquential model with model_url as feature extractor\n",
    "    layer and Dense output layer with num_classes output neurons\n",
    "  \"\"\"\n",
    "  # Download the pretrained model and save it as a Keras layer\n",
    "  feature_extractor_layer = hub.KerasLayer(model_url, \n",
    "                                     trainable=False, # freeze the already learned patterns\n",
    "                                     name=\"feature_extraction_layer\",\n",
    "                                     input_shape=IMAGE_SHAPE + (3,))\n",
    "  \n",
    "  # Create our own model\n",
    "  model = tf.keras.Sequential([\n",
    "                               feature_extractor_layer,\n",
    "                               layers.Dense(num_classes, activation=\"softmax\", name=\"output_layer\")\n",
    "                               ])\n",
    "  return model"
   ]
  },
  {
   "cell_type": "markdown",
   "metadata": {
    "id": "PHrq9a9_lDKR",
    "pycharm": {
     "name": "#%% md\n"
    }
   },
   "source": [
    "### Creating and testing ResNet TensorFlow Hub Feature Extraction model"
   ]
  },
  {
   "cell_type": "code",
   "execution_count": 10,
   "metadata": {
    "id": "ZfloHinWk_Pq",
    "pycharm": {
     "name": "#%%\n"
    }
   },
   "outputs": [
    {
     "name": "stderr",
     "output_type": "stream",
     "text": [
      "2022-07-16 14:01:02.348035: I tensorflow/stream_executor/cuda/cuda_gpu_executor.cc:975] successful NUMA node read from SysFS had negative value (-1), but there must be at least one NUMA node, so returning NUMA node zero\n",
      "2022-07-16 14:01:02.375454: I tensorflow/stream_executor/cuda/cuda_gpu_executor.cc:975] successful NUMA node read from SysFS had negative value (-1), but there must be at least one NUMA node, so returning NUMA node zero\n",
      "2022-07-16 14:01:02.375608: I tensorflow/stream_executor/cuda/cuda_gpu_executor.cc:975] successful NUMA node read from SysFS had negative value (-1), but there must be at least one NUMA node, so returning NUMA node zero\n",
      "2022-07-16 14:01:02.376130: I tensorflow/core/platform/cpu_feature_guard.cc:193] This TensorFlow binary is optimized with oneAPI Deep Neural Network Library (oneDNN) to use the following CPU instructions in performance-critical operations:  AVX2 FMA\n",
      "To enable them in other operations, rebuild TensorFlow with the appropriate compiler flags.\n",
      "2022-07-16 14:01:02.376426: I tensorflow/stream_executor/cuda/cuda_gpu_executor.cc:975] successful NUMA node read from SysFS had negative value (-1), but there must be at least one NUMA node, so returning NUMA node zero\n",
      "2022-07-16 14:01:02.376543: I tensorflow/stream_executor/cuda/cuda_gpu_executor.cc:975] successful NUMA node read from SysFS had negative value (-1), but there must be at least one NUMA node, so returning NUMA node zero\n",
      "2022-07-16 14:01:02.376643: I tensorflow/stream_executor/cuda/cuda_gpu_executor.cc:975] successful NUMA node read from SysFS had negative value (-1), but there must be at least one NUMA node, so returning NUMA node zero\n",
      "2022-07-16 14:01:02.757293: I tensorflow/stream_executor/cuda/cuda_gpu_executor.cc:975] successful NUMA node read from SysFS had negative value (-1), but there must be at least one NUMA node, so returning NUMA node zero\n",
      "2022-07-16 14:01:02.757434: I tensorflow/stream_executor/cuda/cuda_gpu_executor.cc:975] successful NUMA node read from SysFS had negative value (-1), but there must be at least one NUMA node, so returning NUMA node zero\n",
      "2022-07-16 14:01:02.757539: I tensorflow/stream_executor/cuda/cuda_gpu_executor.cc:975] successful NUMA node read from SysFS had negative value (-1), but there must be at least one NUMA node, so returning NUMA node zero\n",
      "2022-07-16 14:01:02.757623: I tensorflow/core/common_runtime/gpu/gpu_device.cc:1532] Created device /job:localhost/replica:0/task:0/device:GPU:0 with 5221 MB memory:  -> device: 0, name: NVIDIA GeForce GTX 1080, pci bus id: 0000:01:00.0, compute capability: 6.1\n"
     ]
    }
   ],
   "source": [
    "# Create Resnet model\n",
    "resnet_model = create_model(resnet_url,\n",
    "                            num_classes=train_data_10_percent.num_classes)"
   ]
  },
  {
   "cell_type": "code",
   "execution_count": 11,
   "metadata": {
    "id": "G8egtm7Om5s5",
    "pycharm": {
     "name": "#%%\n"
    }
   },
   "outputs": [],
   "source": [
    "# Compile our renet model\n",
    "resnet_model.compile(loss=\"categorical_crossentropy\",\n",
    "                     optimizer=tf.keras.optimizers.Adam(),\n",
    "                     metrics=[\"accuracy\"])"
   ]
  },
  {
   "cell_type": "code",
   "execution_count": 12,
   "metadata": {
    "colab": {
     "base_uri": "https://localhost:8080/",
     "height": 408
    },
    "id": "ZFDqFwzhnGZW",
    "outputId": "243093d4-5bb1-4aae-bc93-3c5a590200c7",
    "pycharm": {
     "name": "#%%\n"
    }
   },
   "outputs": [
    {
     "name": "stdout",
     "output_type": "stream",
     "text": [
      "Saving TensorBoard log files to: tensorflow_hub/resnet50V2/20220716-140104\n",
      "Epoch 1/5\n"
     ]
    },
    {
     "name": "stderr",
     "output_type": "stream",
     "text": [
      "2022-07-16 14:01:07.248297: I tensorflow/stream_executor/cuda/cuda_dnn.cc:384] Loaded cuDNN version 8301\n"
     ]
    },
    {
     "name": "stdout",
     "output_type": "stream",
     "text": [
      "24/24 [==============================] - 15s 486ms/step - loss: 2.0654 - accuracy: 0.3280 - val_loss: 1.3413 - val_accuracy: 0.5488\n",
      "Epoch 2/5\n",
      "24/24 [==============================] - 10s 432ms/step - loss: 0.9863 - accuracy: 0.7147 - val_loss: 0.8733 - val_accuracy: 0.7240\n",
      "Epoch 3/5\n",
      "24/24 [==============================] - 10s 425ms/step - loss: 0.6593 - accuracy: 0.8320 - val_loss: 0.7625 - val_accuracy: 0.7556\n",
      "Epoch 4/5\n",
      "24/24 [==============================] - 10s 427ms/step - loss: 0.4987 - accuracy: 0.8827 - val_loss: 0.7109 - val_accuracy: 0.7692\n",
      "Epoch 5/5\n",
      "24/24 [==============================] - 10s 429ms/step - loss: 0.4034 - accuracy: 0.9027 - val_loss: 0.6733 - val_accuracy: 0.7832\n"
     ]
    }
   ],
   "source": [
    "# Fit the model\n",
    "resnet_history = resnet_model.fit(train_data_10_percent,\n",
    "                                  epochs=5,\n",
    "                                  steps_per_epoch=len(train_data_10_percent),\n",
    "                                  validation_data=test_data,\n",
    "                                  validation_steps=len(test_data),\n",
    "                                  callbacks=[create_tensorboard_callback(dir_name=\"tensorflow_hub\",experiment_name=\"resnet50V2\")])"
   ]
  },
  {
   "cell_type": "code",
   "execution_count": 13,
   "metadata": {
    "colab": {
     "base_uri": "https://localhost:8080/"
    },
    "id": "3aUdt2uLlT64",
    "outputId": "cabf9b29-e127-4258-ed16-d1a895ec481d",
    "pycharm": {
     "name": "#%%\n"
    }
   },
   "outputs": [
    {
     "name": "stdout",
     "output_type": "stream",
     "text": [
      "Model: \"sequential\"\n",
      "_________________________________________________________________\n",
      " Layer (type)                Output Shape              Param #   \n",
      "=================================================================\n",
      " feature_extraction_layer (K  (None, 2048)             23564800  \n",
      " erasLayer)                                                      \n",
      "                                                                 \n",
      " output_layer (Dense)        (None, 10)                20490     \n",
      "                                                                 \n",
      "=================================================================\n",
      "Total params: 23,585,290\n",
      "Trainable params: 20,490\n",
      "Non-trainable params: 23,564,800\n",
      "_________________________________________________________________\n"
     ]
    }
   ],
   "source": [
    "resnet_model.summary()"
   ]
  },
  {
   "cell_type": "markdown",
   "metadata": {
    "pycharm": {
     "name": "#%% md\n"
    }
   },
   "source": [
    "Wow!\n",
    "\n",
    "That is incredible. Our tranfer learning feature extractor model out performed ALL of the previous models we built by hand... (substantially) and in a quicker training time AND with only 10% of the training examples"
   ]
  },
  {
   "cell_type": "code",
   "execution_count": 14,
   "metadata": {
    "pycharm": {
     "name": "#%%\n"
    }
   },
   "outputs": [],
   "source": [
    "# Let's create a function to plot our loss curves...\n",
    "# Tibit: you could put a function like this into a script called \"helper.py\" and import it when you need it...\n",
    "import matplotlib.pyplot as plt\n",
    "\n",
    "# Plot the validation and training curves\n",
    "def plot_loss_curves(history):\n",
    "    \"\"\"\n",
    "    Retruns separate loss curves for training and validation metrics.\n",
    "    \n",
    "    Args:\n",
    "        history: tensorflow history object\n",
    "    Returns:\n",
    "        Plots of training/validation loss and accuracy metrics.\n",
    "    \"\"\"\n",
    "    loss = history.history[\"loss\"]\n",
    "    val_loss = history.history[\"val_loss\"]\n",
    "    \n",
    "    accuracy = history.history[\"accuracy\"]\n",
    "    val_accuracy = history.history[\"val_accuracy\"]\n",
    "    \n",
    "    epochs = range(len(history.history[\"loss\"]))\n",
    "    \n",
    "    # Plot loss\n",
    "    plt.plot(epochs, loss, label=\"training_loss\")\n",
    "    plt.plot(epochs, val_loss, label=\"val_loss\")\n",
    "    plt.title(\"Loss\")\n",
    "    plt.xlabel(\"Epochs\")\n",
    "    plt.legend()\n",
    "    \n",
    "    # Plot accuracy\n",
    "    plt.figure()\n",
    "    plt.plot(epochs, accuracy, label=\"training_accuracy\")\n",
    "    plt.plot(epochs, val_accuracy, label=\"val_accuracy\")\n",
    "    plt.title(\"Accuracy\")\n",
    "    plt.xlabel(\"Epochs\")\n",
    "    plt.legend();"
   ]
  },
  {
   "cell_type": "code",
   "execution_count": 15,
   "metadata": {
    "pycharm": {
     "name": "#%%\n"
    }
   },
   "outputs": [
    {
     "data": {
      "image/png": "[encoded data removed]",
      "text/plain": [
       "<Figure size 432x288 with 1 Axes>"
      ]
     },
     "metadata": {
      "needs_background": "light"
     },
     "output_type": "display_data"
    },
    {
     "data": {
      "image/png": "[encoded data removed]",
      "text/plain": [
       "<Figure size 432x288 with 1 Axes>"
      ]
     },
     "metadata": {
      "needs_background": "light"
     },
     "output_type": "display_data"
    }
   ],
   "source": [
    "plot_loss_curves(resnet_history)"
   ]
  },
  {
   "cell_type": "code",
   "execution_count": null,
   "outputs": [],
   "source": [
    "### Creating and testing EfficientNetB0 TensorFlow Hub Feature EXtraction model"
   ],
   "metadata": {
    "collapsed": false,
    "pycharm": {
     "name": "#%%\n"
    }
   }
  },
  {
   "cell_type": "code",
   "execution_count": null,
   "outputs": [],
   "source": [
    "efficientnet_mode = create_model()"
   ],
   "metadata": {
    "collapsed": false,
    "pycharm": {
     "name": "#%%\n"
    }
   }
  },
  {
   "cell_type": "code",
   "execution_count": null,
   "metadata": {},
   "outputs": [],
   "source": [
    "efficientnet_mode = create_model()"
   ]
  }
 ],
 "metadata": {
  "accelerator": "GPU",
  "colab": {
   "collapsed_sections": [],
   "name": "04-transfer-learning-in-tensorflow-part-1-feature-extraction.ipynb",
   "provenance": []
  },
  "gpuClass": "standard",
  "kernelspec": {
   "display_name": "Python 3 (ipykernel)",
   "language": "python",
   "name": "python3"
  },
  "language_info": {
   "codemirror_mode": {
    "name": "ipython",
    "version": 3
   },
   "file_extension": ".py",
   "mimetype": "text/x-python",
   "name": "python",
   "nbconvert_exporter": "python",
   "pygments_lexer": "ipython3",
   "version": "3.8.13"
  }
 },
 "nbformat": 4,
 "nbformat_minor": 4
}